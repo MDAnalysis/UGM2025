{
 "cells": [
  {
   "cell_type": "markdown",
   "id": "e8edb3f8",
   "metadata": {},
   "source": [
    "# Parametrizing Small Molecules with OpenFF\n",
    "\n",
    "This is the first of two jupyter notebooks on handling force fields using [Open Force Field's](https://openforcefield.org/) software, and subsequent molecular dynamics and analysis. This notebook describes the parametrization of small molecules, while the second notebook (`protein_ligand_complex_parametrization_and_md.ipynb`) will take you through parametrizing a protein-ligand complex, running molecular dynamics, and performing some analysis of pose stability and interactions.\n",
    "\n",
    "### Prerequisites\n",
    "\n",
    " - Basic knowledge of Python\n",
    " - Basic familiarity with molecular mechanics force fields and molecular dynamics simulations\n",
    "\n",
    "### The Plan\n",
    "\n",
    "| Action | Software|\n",
    "|--|--|\n",
    "| [Load and inspect a force field](#loading_ff) | OpenFF Toolkit\n",
    "| [Create a representation of your chemical system](#topology) | OpenFF Toolkit\n",
    "| [Parametrize your system and run a quick simulation](#interchange) | OpenFF Interchange, OpenMM\n",
    "| [Rapidly assign partial charges with a graph neural network model](#gnn_charges) | OpenFF Toolkit, OpenFF NAGL Models\n",
    "| [Review what you've learnt](#summary) | \n",
    "| [Check out other OpenFF tutorials](#further_materials) | \n",
    " \n",
    "### Jupyter Cheat Sheet\n",
    "\n",
    "- To run the currently highlighted cell and move focus to the next cell, hold <kbd>&#x21E7; Shift</kbd> and press <kbd>&#x23ce; Enter</kbd>;\n",
    "- To run the currently highlighted cell and keep focus in the same cell, hold <kbd>&#x21E7; Ctrl</kbd> and press <kbd>&#x23ce; Enter</kbd>;\n",
    "- To get help for a specific function, place the cursor within the function's brackets, hold <kbd>&#x21E7; Shift</kbd>, and press <kbd>&#x21E5; Tab</kbd>;\n",
    "\n",
    "### Acknowledgements\n",
    "\n",
    "Most of this material was adapted from the [2025 CCPBioSim Workshop Open Force Field Sessions](https://github.com/openforcefield/ccpbiosim-2025#) created by Matt Thompson, Jeff Wagner, and Finlay Clark.\n",
    "\n"
   ]
  },
  {
   "cell_type": "markdown",
   "id": "32c4b5c9",
   "metadata": {},
   "source": [
    "<a id=\"loading_ff\"></a>\n",
    "## 1. Force fields are specified in `.offxml` files and can be loaded with the `ForceField` class\n",
    "\n",
    "OpenFF's force fields use the The SMIRKS Native Open Force Field (SMIRNOFF) [specification](https://openforcefield.github.io/standards/standards/smirnoff/) and are conventionally encoded in `.offxml` files. The spec fully describes the contents of a SMIRNOFF force field, how parameters should be applied, and several other important usage details. You could implement a SMIRNOFF engine in your own code, but conveniently the OpenFF Toolkit already provides this and a handful of utilities. Let's load up the latest OpenFF small molecule force field, OpenFF 2.2.1, and inspect its contents! This force field shares the code name \"Sage\" with all other force fields with the same major version number (2.x.x)."
   ]
  },
  {
   "cell_type": "code",
   "execution_count": null,
   "id": "bed5518d",
   "metadata": {
    "execution": {
     "iopub.execute_input": "2025-10-09T15:20:43.708862Z",
     "iopub.status.busy": "2025-10-09T15:20:43.708775Z",
     "iopub.status.idle": "2025-10-09T15:20:46.431678Z",
     "shell.execute_reply": "2025-10-09T15:20:46.431010Z"
    }
   },
   "outputs": [],
   "source": [
    "from openff.toolkit import ForceField\n",
    "\n",
    "sage = ForceField(\"openff-2.2.1.offxml\")\n",
    "sage"
   ]
  },
  {
   "cell_type": "markdown",
   "id": "52c754d3",
   "metadata": {},
   "source": [
    "If you'd like to see the raw file on disk that's being parsed, [here's the file on GitHub](https://github.com/openforcefield/openff-forcefields/blob/main/openforcefields/offxml/openff-2.2.1.offxml)."
   ]
  },
  {
   "cell_type": "markdown",
   "id": "c5868377",
   "metadata": {},
   "source": [
    "Each section of a force field is stored in memory within `ParameterHandler` objects, which can be looked up with brackets (just like looking up values in a dictionary):"
   ]
  },
  {
   "cell_type": "code",
   "execution_count": null,
   "id": "7a2b7d90",
   "metadata": {
    "execution": {
     "iopub.execute_input": "2025-10-09T15:20:46.433447Z",
     "iopub.status.busy": "2025-10-09T15:20:46.433126Z",
     "iopub.status.idle": "2025-10-09T15:20:46.439029Z",
     "shell.execute_reply": "2025-10-09T15:20:46.438690Z"
    }
   },
   "outputs": [],
   "source": [
    "print(sage.registered_parameter_handlers)\n",
    "\n",
    "vdw_handler = sage[\"vdW\"]\n",
    "vdw_handler"
   ]
  },
  {
   "cell_type": "markdown",
   "id": "b20e6b8c",
   "metadata": {},
   "source": [
    "Each `ParameterHandler` in turn stores a list of parameters in its `.parameters` attribute, in addition to some information specific to its portion of the potential energy function:"
   ]
  },
  {
   "cell_type": "code",
   "execution_count": null,
   "id": "a523da9e",
   "metadata": {
    "execution": {
     "iopub.execute_input": "2025-10-09T15:20:46.440134Z",
     "iopub.status.busy": "2025-10-09T15:20:46.439993Z",
     "iopub.status.idle": "2025-10-09T15:20:46.445976Z",
     "shell.execute_reply": "2025-10-09T15:20:46.445652Z"
    }
   },
   "outputs": [],
   "source": [
    "print(f\"vdw_handler cutoff: {vdw_handler.cutoff}\")\n",
    "print(f\"vdw_handler combining rules: {vdw_handler.combining_rules}\")\n",
    "print(f\"vdw_handler scale14: {vdw_handler.scale14}\")\n",
    "print(f\"vdw_handler parameters: {vdw_handler.parameters}\")"
   ]
  },
  {
   "cell_type": "markdown",
   "id": "92dd8cb2",
   "metadata": {},
   "source": [
    "From here you can inspect all the way down to individual parameters, which are stored in custom objects (in this case, `vdWType`). Let's look at the type with id `n16`, which looks like a generic carbon with four bonded neighbors:"
   ]
  },
  {
   "cell_type": "code",
   "execution_count": null,
   "id": "9ce55a28",
   "metadata": {
    "execution": {
     "iopub.execute_input": "2025-10-09T15:20:46.447114Z",
     "iopub.status.busy": "2025-10-09T15:20:46.446978Z",
     "iopub.status.idle": "2025-10-09T15:20:46.449690Z",
     "shell.execute_reply": "2025-10-09T15:20:46.449394Z"
    }
   },
   "outputs": [],
   "source": [
    "vdw_type = vdw_handler.parameters[15]\n",
    "vdw_type"
   ]
  },
  {
   "cell_type": "markdown",
   "id": "31338f27",
   "metadata": {},
   "source": [
    "Note that the type contains both the physical parameters (sigma and epsilon, for a conventional 12-6 Lennard-Jones potential), but also an associated SMIRKS pattern. This particular SMIRKS pattern is fairly simple, but some can get much more complex.\n",
    "\n",
    "The toolkit uses these SMIRKS patterns and direct chemical perception to assign parameters to particular atoms (or bonds, angles, etc.).\n",
    "\n",
    "We'll use OpenFF 2.2.1 for the remainder of this tutorial, but you can learn more about this and other SMIRNOFF force fields below:\n",
    "<details>\n",
    "  <summary><b>Click here to learn about available and planned SMIRNOFF force fields</b></summary>\n",
    "\n",
    "# Existing force fields\n",
    "\n",
    "## From OpenFF\n",
    "\n",
    "### smirnoff99Frosst\n",
    "\n",
    "This [force field](https://github.com/openforcefield/smirnoff99Frosst) is mostly a historical artifact today. It is the first SMIRNOFF force field, dating back to 2016. It is based on Merck-Frosst's [parm@frosst](http://www.ccl.net/cca/data/parm_at_Frosst/) and an old AMBER force field, parm99, which predates GAFF.\n",
    "\n",
    "It is not recommended for general use today, but you might see it in papers that compare the performance of different force fields.\n",
    "\n",
    "### Parsley\n",
    "\n",
    "The Parsley line of force fields (`openff-1.y.z.offxml`) was OpenFF's [first full force field release](https://openforcefield.org/community/news/general/introducing-openforcefield-1.0/). Based on `smirnoff99Frosst`, these force fields are primarily re-fits of valence parameters using a large number of QM structures pulled from QCArchive. The first version was 1.0.0 and subsequent re-fits produced versions 1.1.0, 1.2.0, and 1.3.0. More detail is provided in an [associated paper](https://pubs.acs.org/doi/10.1021/acs.jctc.1c00571).\n",
    "\n",
    "### Sage\n",
    "\n",
    "The Sage line of force fields (`openff-2.y.z.offxml`) continued the process of fitting to more (and more diverse) QM datasets, but also included a re-fit of the Lennard-Jones parameters. Small molecule geometries and energies [improved, in general,](https://openforcefield.org/community/news/general/sage2.0.0-release/) significantly over Parsley. These improvements notably transferred to protein-ligand binding free energies despite Sage not being specifically fit to them. For more, see the [associated paper](https://pubs.acs.org/doi/10.1021/acs.jctc.3c00039).\n",
    "\n",
    "[Subsequent releases](https://github.com/openforcefield/openff-forcefields/releases) used different fitting procedures and tweaks to parameter typing to improve performance and address issues with several specific chemistries. The latest release, **Sage 2.2.1 (`openff-2.2.1.offxml`) is the recommended force field for small molecule studies.**\n",
    "\n",
    "## Ports\n",
    "\n",
    "### Water models\n",
    "\n",
    "OpenFF has ported [several existing water models](https://github.com/openforcefield/openff-forcefields/blob/main/docs/water-models.md) to SMIRNOFF format, including:\n",
    "\n",
    "- TIP3P\n",
    "- TIP3P-FB\n",
    "- TIP4P-FB\n",
    "- OPC\n",
    "- OPC3\n",
    "\n",
    "Existing main-line OpenFF force fields are fit against TIP3P water, so use of others is not (currently) recommended. This might change in the future, or OpenFF might even fit a new water model in a future release.\n",
    "\n",
    "## ff14SB\n",
    "\n",
    "OpenFF, in collaboration with Dave Cerutti of the Amber community, created a port of [ff14SB](https://pubs.acs.org/doi/10.1021/acs.jctc.5b00255), a popular Amber protein force field. There are some small numerical differences with how improper torsions are evaluated, but all other terms reproduce a canonical Amber source to high accuracy. **This is the only protein force field currently in SMIRONOFF (`.offxml`) format** and therefore the current recommendation for use with proteins. Primarily for technical reasons, porting other Amber force fields is not planned.\n",
    "\n",
    "## Non-main-line force fields\n",
    "\n",
    "### SMIRNOFF plugins\n",
    "\n",
    "https://github.com/openforcefield/smirnoff-plugins\n",
    "\n",
    "https://github.com/jthorton/de-forcefields\n",
    "\n",
    "# Future force fields\n",
    "\n",
    "## From OpenFF\n",
    "\n",
    "### Rosemary\n",
    "A future line of force fields from OpenFF (code name \"Rosemary\", starting with `openff-3.0.0.offxml`) is intended to handle small molecules and biopolymers in a _self-consistent_ manner. The first release is expected to handle proteins, but future versions  may cover nucleic acids. The performance, depending on the metrics used, is hoped to be comparable with existing Amber-family protein force fields.\n",
    "\n",
    "There is no specific release date planned for Rosemary, but it may be available in 2026 (a beta release candidate may also be publically available prior to the full release).\n",
    "\n",
    "### Graph net charge assignment\n",
    "\n",
    "TODO: UPDAATE AND MENTION 2.3\n",
    "\n",
    "The Sage 2.3.0 release is expected imminently and will include graph-convolutional neutral network (GCNN)-based charge assignment using [NAGL](https://github.com/openforcefield/openff-nagl) by default. The charge model is trained to reproduce AM1-BCC charges without the typical $O(N^3)$ scaling, making it suitable for large (>> 100 atoms) molecules). The [second release candidate](https://github.com/openforcefield/openff-forcefields/blob/main/openforcefields/offxml/openff-2.3.0-rc2.offxml) (which may or may not become the final version) is already available for you to try!\n",
    "\n",
    "### Virtual sites\n",
    "\n",
    "Another release from OpenFF may include some virtual site parameters with off-center charges. No release date is planned, but the most of the supporting infrastructure is currently in place and some early studies have shown promise for better representing electrostatics of chemistries such as halogens and aromatic nitrogens.\n",
    "\n",
    "## From you!\n",
    "\n",
    "Anybody can write a SMIRNOFF force field! This workshop doesn't have time to cover force field _fitting_, but there are plenty of freely-available tools used today that can re-fit existing force fields or generate something new from the ground up. Once you've fit a new force field, a small Python package can distribute it in a way that the toolkit can [automatically load](https://docs.openforcefield.org/projects/toolkit/en/stable/faq.html#how-can-i-distribute-my-own-force-fields-in-smirnoff-format)!\n",
    "</details>"
   ]
  },
  {
   "cell_type": "markdown",
   "id": "18bc3a6b",
   "metadata": {},
   "source": [
    "<a id=\"topology\"></a>\n",
    "## 2. The `Topology` class represents a chemical system containing one or more `Molecule`s\n",
    "\n",
    "Now we've loaded our desired force field (OpenFF 2.2.1), we need to specify the chemical system we want to assign force field parameters to (\"parametrize\"). Our system will be represented by a `Topology`, which we will build from one or more `Molecule`s. \n",
    "\n",
    "As a simple example, let's build a `Topology` containing an small molecule with some features which illustrate how parameters are applied according to SMIRKS matches. We'll use the crotonate anion, but you could draw any molecule you like and convert it to a SMILES string using tools like ChemDraw and [MolView](https://molview.org/)."
   ]
  },
  {
   "cell_type": "code",
   "execution_count": null,
   "id": "0e845d1c",
   "metadata": {
    "execution": {
     "iopub.execute_input": "2025-10-09T15:20:46.450689Z",
     "iopub.status.busy": "2025-10-09T15:20:46.450555Z",
     "iopub.status.idle": "2025-10-09T15:20:46.479257Z",
     "shell.execute_reply": "2025-10-09T15:20:46.478935Z"
    }
   },
   "outputs": [],
   "source": [
    "from openff.toolkit import Molecule, Topology\n",
    "\n",
    "molecule = Molecule.from_smiles(\"C/C=C/C(=O)[O-]\")\n",
    "molecule"
   ]
  },
  {
   "cell_type": "markdown",
   "id": "0f26debc",
   "metadata": {},
   "source": [
    "We can also visualise our molecule in 3D using NGLView, but only after generating 3D coordinates with `generate_conformers`:"
   ]
  },
  {
   "cell_type": "code",
   "execution_count": null,
   "id": "99414ab2",
   "metadata": {
    "execution": {
     "iopub.execute_input": "2025-10-09T15:20:46.480313Z",
     "iopub.status.busy": "2025-10-09T15:20:46.480200Z",
     "iopub.status.idle": "2025-10-09T15:20:46.505936Z",
     "shell.execute_reply": "2025-10-09T15:20:46.505626Z"
    }
   },
   "outputs": [],
   "source": [
    "molecule.generate_conformers(n_conformers=1)\n",
    "molecule.visualize(backend=\"nglview\")"
   ]
  },
  {
   "cell_type": "markdown",
   "id": "8b8cd0d8",
   "metadata": {},
   "source": [
    "<div class=\"alert alert-warning\" style=\"max-width: 700px; margin-left: auto; margin-right: auto;\">\n",
    "    ⚠️ Be careful when creating molecules from SMILES with undefined stereochemistry. By default, an `UndefinedStereochemistryError` will be raised, but this can be downgraded to a warning by setting the <code>allow_undefined_stereo=True</code>. This will create a molecule with undefined stereochemistry, which might lead to incorrect parametrization or surprising conformer generation. See the <a href=\"https://docs.openforcefield.org/en/latest/faq.html\">\"I'm getting stereochemistry errors when loading a molecule from a SMILES string\" FAQ</a> for more details.\n",
    "</div>"
   ]
  },
  {
   "cell_type": "markdown",
   "id": "2073e744",
   "metadata": {},
   "source": [
    "Topologies can always be assembled by constructing individual molecules and adding them together; these methods are for making common operations easier.\n",
    "\n",
    "To convert a single `Molecule` to a `Topology`, you can use either `Molecule.to_topology()` or `Topology.from_molecules`"
   ]
  },
  {
   "cell_type": "code",
   "execution_count": null,
   "id": "41a8488c",
   "metadata": {
    "execution": {
     "iopub.execute_input": "2025-10-09T15:20:46.507641Z",
     "iopub.status.busy": "2025-10-09T15:20:46.507530Z",
     "iopub.status.idle": "2025-10-09T15:20:46.509772Z",
     "shell.execute_reply": "2025-10-09T15:20:46.509322Z"
    }
   },
   "outputs": [],
   "source": [
    "topology = molecule.to_topology()\n",
    "\n",
    "# Or, equivalently:\n",
    "topology = Topology.from_molecules(molecules=[molecule])"
   ]
  },
  {
   "cell_type": "markdown",
   "id": "aa4e2d80",
   "metadata": {},
   "source": [
    "From here we can add as many other molecules as we wish. For example, we can create a water molecule and add it to a topology 100 times."
   ]
  },
  {
   "cell_type": "code",
   "execution_count": null,
   "id": "7853e2ff",
   "metadata": {
    "execution": {
     "iopub.execute_input": "2025-10-09T15:20:46.511374Z",
     "iopub.status.busy": "2025-10-09T15:20:46.511208Z",
     "iopub.status.idle": "2025-10-09T15:20:46.520695Z",
     "shell.execute_reply": "2025-10-09T15:20:46.520434Z"
    }
   },
   "outputs": [],
   "source": [
    "water = Molecule.from_smiles(\"O\")\n",
    "topology_with_water = Topology(topology)\n",
    "\n",
    "for index in range(100):\n",
    "    topology_with_water.add_molecule(water)\n",
    "\n",
    "topology_with_water.n_molecules"
   ]
  },
  {
   "cell_type": "markdown",
   "id": "7d62444c",
   "metadata": {},
   "source": [
    "<div class=\"alert alert-info\" style=\"max-width: 500px; margin-left: auto; margin-right: auto;\">\n",
    "    ℹ️ Positions are <i>optional</i> in <code>Molecule</code> (any by extension <code>Topology</code>) objects, so visualizing this topology in 3D doesn't make sense. Using it in a simulation would requiring assigning positions using a tool like Packmol or PDBFixer. Running simulations will be discussed later.\n",
    "</div>"
   ]
  },
  {
   "cell_type": "markdown",
   "id": "330be40f",
   "metadata": {},
   "source": [
    "Keeping in mind that topologies are just collections of molecules, we can look up individual molecules by index in the `Topology.molecule()` function."
   ]
  },
  {
   "cell_type": "code",
   "execution_count": null,
   "id": "d4179c58",
   "metadata": {
    "execution": {
     "iopub.execute_input": "2025-10-09T15:20:46.521646Z",
     "iopub.status.busy": "2025-10-09T15:20:46.521558Z",
     "iopub.status.idle": "2025-10-09T15:20:46.524359Z",
     "shell.execute_reply": "2025-10-09T15:20:46.524106Z"
    }
   },
   "outputs": [],
   "source": [
    "topology_with_water.molecule(0), topology_with_water.molecule(1), topology_with_water.molecule(-1)"
   ]
  },
  {
   "cell_type": "markdown",
   "id": "50956de1",
   "metadata": {},
   "source": [
    "<div class=\"alert alert-success\" style=\"max-width: 500px; margin-left: auto; margin-right: auto; border-left: 6px solid #5cb85c; background-color: #f1fff1;\">\n",
    "    ✏️ <b>Exercise:</b> Build a <code>Topology</code> containing an MCL-1 ligand. Create the <code>Molecule</code> from an SDF file  (take a look at the docstring of <code>Molecule</code> to see how this can be done). Also, see <a href=\"https://docs.openforcefield.org/projects/toolkit/en/stable/users/molecule_cookbook.html\">Molecule cookbook</a> for all the ways to make a <code>Molecule</code>. The crystallographic MCL-1 ligand from PDB ID 6o6f is provided at <code>../structures/606f_ligand.sdf</code>.\n",
    "</div>\n"
   ]
  },
  {
   "cell_type": "code",
   "execution_count": null,
   "id": "4673ba20",
   "metadata": {
    "execution": {
     "iopub.execute_input": "2025-10-09T15:20:46.525200Z",
     "iopub.status.busy": "2025-10-09T15:20:46.525111Z",
     "iopub.status.idle": "2025-10-09T15:20:46.541355Z",
     "shell.execute_reply": "2025-10-09T15:20:46.540944Z"
    }
   },
   "outputs": [],
   "source": [
    "# Inspect the Molecule docstring\n",
    "Molecule?"
   ]
  },
  {
   "cell_type": "code",
   "execution_count": null,
   "id": "c2da3ebc",
   "metadata": {
    "execution": {
     "iopub.execute_input": "2025-10-09T15:20:46.542730Z",
     "iopub.status.busy": "2025-10-09T15:20:46.542628Z",
     "iopub.status.idle": "2025-10-09T15:20:46.544436Z",
     "shell.execute_reply": "2025-10-09T15:20:46.544108Z"
    }
   },
   "outputs": [],
   "source": [
    "# Build your topology here... TODO: Come up with a specific challenge?"
   ]
  },
  {
   "cell_type": "markdown",
   "id": "6bfee733",
   "metadata": {},
   "source": [
    "<a id=\"interchange\"></a>\n",
    "## 3. `Interchange` objects contain fully parametrized systems with all the information needed to start a simulation\n",
    "\n",
    "Now that we've specified our force field and our chemical system using classes from the OpenFF Tools package (`ForceField`, `Molecule`, and `Topology`), we want to apply our force field to our chemical topologies (parametrization).\n",
    "\n",
    "To do this, we'll use the `Interchange` class from the [OpenFF Interchange](https://github.com/openforcefield/openff-interchange) package, which stores a fully-parametrized molecular system and provides methods to write out simulation-ready input files for a number of software packages. They key objective of Interchange is to provide an intermediate inspectable state after parametrization and before conversion to an engine-specific format. \n",
    "\n",
    "<img src=\"./figures/interchange.png\" alt=\"Interchange diagram\" style=\"width:100%; display:block; margin-left:auto; margin-right:auto;\" />\n",
    "\n",
    "For most users, an `Interchange` forms the bridge between the OpenFF ecosystem and their simulation software of choice. The current focus is applying SMIRNOFF force fields to chemical topologies and exporting the result to engines preferred by our users. In order of stability, OpenMM, GROMACS, Amber, and LAMMPS are supported. Future development may include support for CHARMM and other engines.\n",
    "\n",
    "Below is a summary of how data flows through a workflow utilising OpenFF tools, including where Interchange sits in the flow."
   ]
  },
  {
   "cell_type": "markdown",
   "id": "ddde1c2a",
   "metadata": {},
   "source": [
    "<img src=\"./figures/openff_flowchart.png\" alt=\"Description of image\" style=\"max-width: 1000px; display: block; margin-left: auto; margin-right: auto;\" />"
   ]
  },
  {
   "cell_type": "markdown",
   "id": "6f18a5ed",
   "metadata": {},
   "source": [
    "First, let's recreate our `molecule` and `topology` in case you overwrote them during the previous exercises:"
   ]
  },
  {
   "cell_type": "code",
   "execution_count": null,
   "id": "9aa92727",
   "metadata": {
    "execution": {
     "iopub.execute_input": "2025-10-09T15:20:46.545376Z",
     "iopub.status.busy": "2025-10-09T15:20:46.545280Z",
     "iopub.status.idle": "2025-10-09T15:20:46.549678Z",
     "shell.execute_reply": "2025-10-09T15:20:46.549370Z"
    }
   },
   "outputs": [],
   "source": [
    "molecule = Molecule.from_smiles(\"C/C=C/C(=O)[O-]\")\n",
    "topology = molecule.to_topology()"
   ]
  },
  {
   "cell_type": "markdown",
   "id": "f667215a",
   "metadata": {},
   "source": [
    "An `Interchange` is most commonly constructed via the `Interchange.from_smirnoff()` class method. This method takes a SMIRNOFF force field and applies it to a molecular topology. \n",
    "\n"
   ]
  },
  {
   "cell_type": "code",
   "execution_count": null,
   "id": "128f1060",
   "metadata": {
    "execution": {
     "iopub.execute_input": "2025-10-09T15:20:46.550562Z",
     "iopub.status.busy": "2025-10-09T15:20:46.550463Z",
     "iopub.status.idle": "2025-10-09T15:20:46.633355Z",
     "shell.execute_reply": "2025-10-09T15:20:46.632951Z"
    }
   },
   "outputs": [],
   "source": [
    "from openff.interchange import Interchange\n",
    "\n",
    "Interchange.from_smirnoff?"
   ]
  },
  {
   "cell_type": "code",
   "execution_count": null,
   "id": "120ecf49",
   "metadata": {
    "execution": {
     "iopub.execute_input": "2025-10-09T15:20:46.635096Z",
     "iopub.status.busy": "2025-10-09T15:20:46.634877Z",
     "iopub.status.idle": "2025-10-09T15:20:47.497252Z",
     "shell.execute_reply": "2025-10-09T15:20:47.496971Z"
    }
   },
   "outputs": [],
   "source": [
    "interchange = Interchange.from_smirnoff(\n",
    "    force_field=sage,\n",
    "    topology=topology,\n",
    ")\n",
    "interchange"
   ]
  },
  {
   "cell_type": "markdown",
   "id": "64dbbff8",
   "metadata": {},
   "source": [
    "<div class=\"alert alert-info\" style=\"max-width: 700px; margin-left: auto; margin-right: auto;\">\n",
    "    ℹ️ <code>ForceField.create_interchange(topology)</code> and <code>Interchange.from_smirnoff(force_field, topology)</code> do the same thing - one just wraps the other. You can use whichever, and interpret them as substitutes of one another.\n",
    "</div>"
   ]
  },
  {
   "cell_type": "markdown",
   "id": "efccb7d6",
   "metadata": {},
   "source": [
    "An `Interchange` object stores all information known about a system; this includes its chemistry, how that chemistry is represented by a force field, and how the system is organized in 3D space. It has five components:\n",
    "\n",
    "1. **Topology**: Stores chemical information, such as connectivity and formal charges, independently of force field\n",
    "1. **Collections**: Maps the chemical information to force field parameters. The force field itself is not directly stored\n",
    "1. **Positions** (optional): Cartesian co-ordinates of atoms\n",
    "1. **Box vectors** (optional): Periodicity information\n",
    "1. **Velocities** (optional): Cartesian velocities of atoms\n",
    "\n",
    "Let's inspect each of these.\n",
    "\n",
    "The `Interchange.topology` attribute carries an object of the same type provided by the toolkit and therefore provides the same API. (In the future this may change)."
   ]
  },
  {
   "cell_type": "code",
   "execution_count": null,
   "id": "3bc285b0",
   "metadata": {
    "execution": {
     "iopub.execute_input": "2025-10-09T15:20:47.498383Z",
     "iopub.status.busy": "2025-10-09T15:20:47.498275Z",
     "iopub.status.idle": "2025-10-09T15:20:47.501188Z",
     "shell.execute_reply": "2025-10-09T15:20:47.500931Z"
    }
   },
   "outputs": [],
   "source": [
    "(\n",
    "    interchange.topology.n_atoms,\n",
    "    interchange.topology.n_bonds,\n",
    "    interchange.topology.molecule(0).to_smiles(),\n",
    ")"
   ]
  },
  {
   "cell_type": "markdown",
   "id": "3d412428",
   "metadata": {},
   "source": [
    "The `Interchange.collections` attribute carries a dictionary mapping handler names to `SMIRNOFFCollection` objects. These carry the physical parameters derived from applying the force field to the topology."
   ]
  },
  {
   "cell_type": "code",
   "execution_count": null,
   "id": "840d7952",
   "metadata": {
    "execution": {
     "iopub.execute_input": "2025-10-09T15:20:47.502081Z",
     "iopub.status.busy": "2025-10-09T15:20:47.501982Z",
     "iopub.status.idle": "2025-10-09T15:20:47.504446Z",
     "shell.execute_reply": "2025-10-09T15:20:47.504195Z"
    }
   },
   "outputs": [],
   "source": [
    "[(key, value) for key, value in interchange.collections.items()]"
   ]
  },
  {
   "cell_type": "markdown",
   "id": "188fa2d8",
   "metadata": {},
   "source": [
    "Note that each `SMIRNOFFCollection` specifies an algebraic expression which is used to compute the potential energy."
   ]
  },
  {
   "cell_type": "markdown",
   "id": "a5d1cdd1",
   "metadata": {},
   "source": [
    "Let's quickly visualize this molecule with atom indices -- this is helpful for looking up particular parameters."
   ]
  },
  {
   "cell_type": "code",
   "execution_count": null,
   "id": "b5412fb8",
   "metadata": {
    "execution": {
     "iopub.execute_input": "2025-10-09T15:20:47.505331Z",
     "iopub.status.busy": "2025-10-09T15:20:47.505235Z",
     "iopub.status.idle": "2025-10-09T15:20:47.511294Z",
     "shell.execute_reply": "2025-10-09T15:20:47.511041Z"
    }
   },
   "outputs": [],
   "source": [
    "from rdkit.Chem import Draw\n",
    "from openff.toolkit.topology import Molecule\n",
    "from IPython.display import SVG\n",
    "\n",
    "\n",
    "def mol_with_atom_index(molecule: Molecule, width: int = 300, height: int = 300) -> str:\n",
    "    molecule_copy = Molecule(molecule)\n",
    "    molecule_copy._conformers = None\n",
    "\n",
    "    rdmol = molecule_copy.to_rdkit()\n",
    "\n",
    "    # Build labels like \"C:0\", \"C:1\", \"C:2\", ...\n",
    "    atom_labels = {\n",
    "        atom.GetIdx(): f\"{atom.GetSymbol()}:{atom.GetIdx()}\"\n",
    "        for atom in rdmol.GetAtoms()\n",
    "    }\n",
    "\n",
    "    drawer = Draw.MolDraw2DSVG(width, height)\n",
    "    opts = drawer.drawOptions()\n",
    "    for idx, label in atom_labels.items():\n",
    "        opts.atomLabels[idx] = label\n",
    "\n",
    "    Draw.rdMolDraw2D.PrepareAndDrawMolecule(drawer, rdmol)\n",
    "    drawer.FinishDrawing()\n",
    "    return drawer.GetDrawingText()\n",
    "\n",
    "\n",
    "SVG(mol_with_atom_index(molecule))"
   ]
  },
  {
   "cell_type": "markdown",
   "id": "cf3513f3",
   "metadata": {},
   "source": [
    "The `key_map` attribute of a `SMIRNOFFCollection` maps a `TopologyKey` (such as a `BondKey`) to a `PotentialKey`, which identifies unique parameters:"
   ]
  },
  {
   "cell_type": "code",
   "execution_count": null,
   "id": "6ab456c5",
   "metadata": {
    "execution": {
     "iopub.execute_input": "2025-10-09T15:20:47.512154Z",
     "iopub.status.busy": "2025-10-09T15:20:47.512058Z",
     "iopub.status.idle": "2025-10-09T15:20:47.514278Z",
     "shell.execute_reply": "2025-10-09T15:20:47.514033Z"
    }
   },
   "outputs": [],
   "source": [
    "collection = interchange.collections[\"Bonds\"]\n",
    "collection.key_map"
   ]
  },
  {
   "cell_type": "markdown",
   "id": "c1603b89",
   "metadata": {},
   "source": [
    "We can see that the C=C bond (indices (1,2)) is associated with a potential key with the SMIRKS pattern `[#6X3:1]=[#6X3:2]` (specifying any two carbons bonded to 3 atoms connected by a double bond). Note that the (1,0) C-C bond is matched by the SMRIKS `[#6X3:1]-[#6X3:2]`, which specifies the atoms in the same way, showing that the parameters have been assigned by directly using information about the bond. This contrasts to traditional atom typing approaches, where information about the bond would be implicitly encoded in the atom types used to assign the parameters. Another example of this \"direct chemical perception\" is the assignment of the carboxylate carbon-oxygen bond parameters, which only match (triply-connected carbon) - (singly-connnected oxygen) bonds when the carbon is bonded to another singly-connected oxygen.\n",
    "\n",
    "To see the actual parmeters specified for this bond, we can look up the `Potential` objects using the `PotentialKey`s."
   ]
  },
  {
   "cell_type": "code",
   "execution_count": null,
   "id": "71cf89a1",
   "metadata": {
    "execution": {
     "iopub.execute_input": "2025-10-09T15:20:47.515156Z",
     "iopub.status.busy": "2025-10-09T15:20:47.515061Z",
     "iopub.status.idle": "2025-10-09T15:20:47.517294Z",
     "shell.execute_reply": "2025-10-09T15:20:47.517042Z"
    }
   },
   "outputs": [],
   "source": [
    "for topology_key, potential_key in collection.key_map.items():\n",
    "    potential = collection.potentials[potential_key]\n",
    "    print(f\"{topology_key} -> {potential}\")"
   ]
  },
  {
   "cell_type": "markdown",
   "id": "c3b6ed56",
   "metadata": {},
   "source": [
    "So our C=C bond (indices (1,2)) has a force constant of 904 kcal mol<sup>-1</sup> Å<sup>-2</sup> and an equilibrium bond length of 1.37 Å. Note that the [`ForceField.label_molecules`](https://docs.openforcefield.org/projects/toolkit/en/stable/api/generated/openff.toolkit.typing.engines.smirnoff.ForceField.html#openff.toolkit.typing.engines.smirnoff.ForceField.label_molecules) method is also useful for checking which parameters will be applied to your molecule."
   ]
  },
  {
   "cell_type": "markdown",
   "id": "4d849db9",
   "metadata": {},
   "source": [
    "<div class=\"alert alert-success\" style=\"max-width: 500px; margin-left: auto; margin-right: auto; border-left: 6px solid #5cb85c; background-color: #f1fff1;\">\n",
    "    ✏️ <b>Exercise:</b> Have a look at the \"Angles\", \"ProperTorsions\", and \"ImproperTorsions\" applied. Where are the \"ImproperTorsions\" applied and why?\n",
    "</div>"
   ]
  },
  {
   "cell_type": "code",
   "execution_count": null,
   "id": "d11c4ced",
   "metadata": {
    "execution": {
     "iopub.execute_input": "2025-10-09T15:20:47.518198Z",
     "iopub.status.busy": "2025-10-09T15:20:47.518102Z",
     "iopub.status.idle": "2025-10-09T15:20:47.519617Z",
     "shell.execute_reply": "2025-10-09T15:20:47.519362Z"
    }
   },
   "outputs": [],
   "source": [
    "# Inspect the other bonded parameters..."
   ]
  },
  {
   "cell_type": "markdown",
   "id": "9bd75d41",
   "metadata": {},
   "source": [
    "<div class=\"alert alert-success\" style=\"max-width: 500px; margin-left: auto; margin-right: auto; border-left: 6px solid #5cb85c; background-color: #f1fff1;\">\n",
    "    ✏️ <b>Exercise:</b> Change the molecule from the anion to the neutral form by adding a hydrogen to the SMILES. How does this affect the bond strengths of the two carboxyl oxygens?\n",
    "</div>"
   ]
  },
  {
   "cell_type": "code",
   "execution_count": null,
   "id": "2fc49bda",
   "metadata": {
    "execution": {
     "iopub.execute_input": "2025-10-09T15:20:47.520438Z",
     "iopub.status.busy": "2025-10-09T15:20:47.520341Z",
     "iopub.status.idle": "2025-10-09T15:20:47.521771Z",
     "shell.execute_reply": "2025-10-09T15:20:47.521555Z"
    }
   },
   "outputs": [],
   "source": [
    "# Inspect the carboxyl oxygen bond parameters after making the molecule netural...\n"
   ]
  },
  {
   "cell_type": "markdown",
   "id": "8a554cc3",
   "metadata": {},
   "source": [
    "Finally, `interchange.box` and `interchange.velocities` are `None`, although `interchange.positions` is populated because we passed a topology with a molecule that had a defined conformer, so `from_smirnoff` set atomic positions from this information:"
   ]
  },
  {
   "cell_type": "code",
   "execution_count": null,
   "id": "7a37d633",
   "metadata": {
    "execution": {
     "iopub.execute_input": "2025-10-09T15:20:47.522530Z",
     "iopub.status.busy": "2025-10-09T15:20:47.522434Z",
     "iopub.status.idle": "2025-10-09T15:20:47.524376Z",
     "shell.execute_reply": "2025-10-09T15:20:47.524153Z"
    }
   },
   "outputs": [],
   "source": [
    "interchange.positions, interchange.box, interchange.velocities"
   ]
  },
  {
   "cell_type": "markdown",
   "id": "e51a5d4f",
   "metadata": {},
   "source": [
    "An `Interchange` handles all the information required to run a simulation and allows us to export input files for our engine of choice (OpenMM, GROMACS, LAMMPS, and Amber are all supported)! Let's run a simulation.\n",
    "\n",
    "Note that since the `Interchange` only contains crontonate and has no box vectors, this would correspond to a vacuum simulation.  We can use [`PACKMOL`](https://m3g.github.io/packmol/) to generate initial positions for a box of water and our solute. Let's use neutral crotonoic acid as our solute so we don't have to worry about neutralising the box."
   ]
  },
  {
   "cell_type": "code",
   "execution_count": null,
   "id": "01120d8e",
   "metadata": {
    "execution": {
     "iopub.execute_input": "2025-10-09T15:20:47.525219Z",
     "iopub.status.busy": "2025-10-09T15:20:47.525125Z",
     "iopub.status.idle": "2025-10-09T15:20:49.196015Z",
     "shell.execute_reply": "2025-10-09T15:20:49.195730Z"
    }
   },
   "outputs": [],
   "source": [
    "from openff.interchange.components._packmol import UNIT_CUBE, pack_box\n",
    "from openff.toolkit import unit\n",
    "\n",
    "water = Molecule.from_mapped_smiles(\"[H:2][O:1][H:3]\")\n",
    "solute = Molecule.from_smiles(\"C/C=C/C(=O)[OH]\") # neutral crotonoic acid\n",
    "\n",
    "# Naming the residue is not needed to parameterize the system or run the simulation, but makes visualization easier\n",
    "for atom in water.atoms:\n",
    "    atom.metadata[\"residue_name\"] = \"HOH\"\n",
    "\n",
    "# Generate initial positions using OpenFF's PACKMOL interface. Note that\n",
    "# using a cubic box is a simple but inefficient choice -- a rhombic\n",
    "# dodecahedron that provides the same solute separation has only ~ 71 % of\n",
    "# the volume.\n",
    "topology = pack_box(\n",
    "    molecules=[solute, water],\n",
    "    number_of_copies=[1, 1000],\n",
    "    box_vectors=3.5 * UNIT_CUBE * unit.nanometer,\n",
    ")\n",
    "\n",
    "# Parametrize with Sage, which contains parameters for TIP3P water\n",
    "interchange = Interchange.from_smirnoff(force_field=sage, topology=topology)\n",
    "interchange.topology.n_atoms, interchange.box, interchange.positions.shape"
   ]
  },
  {
   "cell_type": "markdown",
   "id": "582012ea",
   "metadata": {},
   "source": [
    "At this point, we could easily export input files for our simulation engine of choice. For example, for Amber:"
   ]
  },
  {
   "cell_type": "code",
   "execution_count": null,
   "id": "bf9814df",
   "metadata": {
    "execution": {
     "iopub.execute_input": "2025-10-09T15:20:49.198340Z",
     "iopub.status.busy": "2025-10-09T15:20:49.198240Z",
     "iopub.status.idle": "2025-10-09T15:20:49.280813Z",
     "shell.execute_reply": "2025-10-09T15:20:49.280546Z"
    }
   },
   "outputs": [],
   "source": [
    "import os\n",
    "os.makedirs(\"outputs\", exist_ok=True)\n",
    "interchange.to_amber(prefix=\"outputs/ligand\")"
   ]
  },
  {
   "cell_type": "code",
   "execution_count": null,
   "id": "1ef9879a",
   "metadata": {
    "execution": {
     "iopub.execute_input": "2025-10-09T15:20:49.283242Z",
     "iopub.status.busy": "2025-10-09T15:20:49.283148Z",
     "iopub.status.idle": "2025-10-09T15:20:49.423766Z",
     "shell.execute_reply": "2025-10-09T15:20:49.422315Z"
    }
   },
   "outputs": [],
   "source": [
    "# Check the new files\n",
    "! ls"
   ]
  },
  {
   "cell_type": "markdown",
   "id": "212385e0",
   "metadata": {},
   "source": [
    "Here, we'll export to OpenMM and run a short simulation directly from the noteboook. We can create an OpenMM `Simulation` object from the `Interchange` and run for a specified wall clock time using `runForClockTime` (the simluation time will depend on how quickly it runs on your machine). We keep the volume ($V$), number of particles ($N$), and average temperature ($T$) (using the LangevinMiddleIntegrator) constant and the simulation corresponds to the $NVT$ ensemble."
   ]
  },
  {
   "cell_type": "code",
   "execution_count": null,
   "id": "e3483c17",
   "metadata": {
    "execution": {
     "iopub.execute_input": "2025-10-09T15:20:49.427518Z",
     "iopub.status.busy": "2025-10-09T15:20:49.427366Z",
     "iopub.status.idle": "2025-10-09T15:21:00.384657Z",
     "shell.execute_reply": "2025-10-09T15:21:00.384235Z"
    }
   },
   "outputs": [],
   "source": [
    "import openmm\n",
    "import openmm.unit\n",
    "from openff.interchange import Interchange\n",
    "\n",
    "def run_openmm(\n",
    "    interchange: Interchange,\n",
    "    reporter_frequency: int = 50, # Decrease this to save more frames!\n",
    "    trajectory_name: str = \"outputs/small_mol_solvated.dcd\",\n",
    "):\n",
    "    simulation = interchange.to_openmm_simulation(\n",
    "        integrator=openmm.LangevinMiddleIntegrator(\n",
    "            300 * openmm.unit.kelvin,\n",
    "            1 / openmm.unit.picosecond,\n",
    "            0.002 * openmm.unit.picoseconds,\n",
    "        ),\n",
    "    )\n",
    "\n",
    "    dcd_reporter = openmm.app.DCDReporter(trajectory_name, reporter_frequency)\n",
    "    simulation.reporters.append(dcd_reporter)\n",
    "\n",
    "    simulation.context.setVelocitiesToTemperature(300 * openmm.unit.kelvin)\n",
    "    simulation.runForClockTime(10 * openmm.unit.second)\n",
    "\n",
    "\n",
    "run_openmm(interchange)"
   ]
  },
  {
   "cell_type": "code",
   "execution_count": null,
   "id": "8062c4d9",
   "metadata": {},
   "outputs": [],
   "source": [
    "import MDAnalysis as mda\n",
    "import nglview\n",
    "\n",
    "def visualise_traj(\n",
    "    topology: Topology, dcd_filename: str = \"outputs/small_mol_solvated.dcd\"\n",
    ") -> nglview.NGLWidget:\n",
    "    \"\"\"Visualise a trajectory using nglview.\"\"\"\n",
    "    universe = mda.Universe(\n",
    "        topology.to_openmm(),\n",
    "        dcd_filename,\n",
    "    )\n",
    "    print(f\"There are {len(universe.trajectory)} frames.\")\n",
    "\n",
    "    view = nglview.show_mdanalysis(universe)\n",
    "    view.add_representation(\"licorice\", selection=\"resname water\")\n",
    "\n",
    "    return view\n",
    "\n",
    "visualise_traj(interchange.topology)"
   ]
  },
  {
   "cell_type": "markdown",
   "id": "cafe7a15",
   "metadata": {},
   "source": [
    "<div class=\"alert alert-success\" style=\"max-width: 500px; margin-left: auto; margin-right: auto; border-left: 6px solid #5cb85c; background-color: #f1fff1;\">\n",
    "    ✏️ <b>Exercise:</b> (Only complete this if you have time -- otherwise proceed to section 4.) Create an Interchange object for an MCL-1 ligand. Inspect the parameters assigned and run short simulation as above.\n",
    "</div>"
   ]
  },
  {
   "cell_type": "markdown",
   "id": "7dc471a0",
   "metadata": {},
   "source": [
    "<a id=\"gnn_charges\"></a>\n",
    "## 4. Graph Neural Networks Allow Fast Assignment of Partial Charges\n",
    "\n",
    "You might notice that [Sage](https://github.com/openforcefield/openff-forcefields/blob/main/openforcefields/offxml/openff-2.2.1.offxml) doesn't contain tabulated charges for most atomic environments in the way it does for all other terms in the force field. Instead, it specifies:\n",
    "```\n",
    "<ToolkitAM1BCC version=\"0.3\"></ToolkitAM1BCC>\n",
    "```\n",
    "which means that partial charges will be calculated using the common AM1-BCC method. Charges from a semi-empirical quantum chemistry calculation (Austin Model 1) are corrected (bond charge correction) to approximate charges obtained by fitting to the electrostatic potential at the HF/6-31G* level (see [Jakalian et al.](https://onlinelibrary.wiley.com/doi/10.1002/(SICI)1096-987X(20000130)21:2%3C132::AID-JCC5%3E3.0.CO;2-P)). Unfortunately, AM1-BCC scales 𝒪(N<sup>2</sup>) in the number of atoms N, making it prohibitively slow for large molecules and biopolymers.\n",
    "\n",
    "Methods which assign partial charges using graph neural networks offer rapid assignment with better scaling. They also offer the possibility of going beyond traditionally affordable QM levels of theory by training to quickly reproduce charges from expensive calculations. For example, [EspalomaCharge](https://pubs.acs.org/doi/full/10.1021/acs.jpca.4c01287) is fit to AM1-BCC charges and offers 𝒪(N<sup>2</sup>) scaling, while [Adams et al.](https://chemrxiv.org/engage/chemrxiv/article-details/6839c94c3ba0887c33d2cd8e) trained models to reproduce atoms-in-molecules charges and electrostatic potentials obtained at a high level of theory. Here, we'll use OpenFF's [AshGC](https://zenodo.org/records/15770227/files/AshGC_methods_2025-06-30.pdf?download=1) model, which is trained to reproduce AM1-BCC charges."
   ]
  },
  {
   "cell_type": "markdown",
   "id": "ede41aef",
   "metadata": {},
   "source": [
    "<div class=\"alert alert-warning\" style=\"max-width: 700px; margin-left: auto; margin-right: auto;\">\n",
    "    ⚠️ OpenFF 2.2.1 has not been explicitly trained and validated with AshGC charges. However, the 2.3.0 release will be, and is expected imminently. AshGC charges will be used as default and will be specified in the <code>.offxml</code> file, so there will be no need to call <code>Molecule.assign_partial_charges</code> as shown below.\n",
    "</div>"
   ]
  },
  {
   "cell_type": "code",
   "execution_count": null,
   "id": "3aa6d94d",
   "metadata": {
    "execution": {
     "iopub.execute_input": "2025-10-09T15:21:00.386049Z",
     "iopub.status.busy": "2025-10-09T15:21:00.385758Z",
     "iopub.status.idle": "2025-10-09T15:21:01.488255Z",
     "shell.execute_reply": "2025-10-09T15:21:01.487304Z"
    }
   },
   "outputs": [],
   "source": [
    "from openff.toolkit import Molecule, ForceField\n",
    "from openff.toolkit.utils.nagl_wrapper import NAGLToolkitWrapper\n",
    "\n",
    "# Disable RDKit warnings to avoid misleading NAGL warnings\n",
    "# (see https://github.com/openforcefield/openff-nagl/issues/198)\n",
    "from rdkit import RDLogger\n",
    "RDLogger.DisableLog('rdApp.*')   \n",
    "\n",
    "# OpenFF NAGL store models as PyTorch files.\n",
    "ASH_GC_MODEL = \"openff-gnn-am1bcc-0.1.0-rc.3.pt\"\n",
    "molecule = Molecule(\"../structures/6o6f_ligand.sdf\")"
   ]
  },
  {
   "cell_type": "code",
   "execution_count": null,
   "id": "e0646ac8",
   "metadata": {
    "execution": {
     "iopub.execute_input": "2025-10-09T15:21:01.492129Z",
     "iopub.status.busy": "2025-10-09T15:21:01.491979Z",
     "iopub.status.idle": "2025-10-09T15:21:01.498775Z",
     "shell.execute_reply": "2025-10-09T15:21:01.498442Z"
    }
   },
   "outputs": [],
   "source": [
    "molecule.assign_partial_charges?"
   ]
  },
  {
   "cell_type": "markdown",
   "id": "7fee80b9",
   "metadata": {},
   "source": [
    "First, let's assign charges the traditional way with AM1-BCC and check how long this takes..."
   ]
  },
  {
   "cell_type": "code",
   "execution_count": null,
   "id": "d7cf1985",
   "metadata": {
    "execution": {
     "iopub.execute_input": "2025-10-09T15:21:01.499992Z",
     "iopub.status.busy": "2025-10-09T15:21:01.499872Z",
     "iopub.status.idle": "2025-10-09T15:21:28.692233Z",
     "shell.execute_reply": "2025-10-09T15:21:28.691778Z"
    }
   },
   "outputs": [],
   "source": [
    "%%time\n",
    "molecule_am1bcc = Molecule(molecule)\n",
    "molecule_am1bcc.assign_partial_charges(\n",
    "    partial_charge_method=\"am1bcc\",\n",
    ")"
   ]
  },
  {
   "cell_type": "markdown",
   "id": "d751d584",
   "metadata": {},
   "source": [
    "Now, let's try AshGC"
   ]
  },
  {
   "cell_type": "code",
   "execution_count": null,
   "id": "2a12fd84",
   "metadata": {
    "execution": {
     "iopub.execute_input": "2025-10-09T15:21:28.693481Z",
     "iopub.status.busy": "2025-10-09T15:21:28.693368Z",
     "iopub.status.idle": "2025-10-09T15:21:30.016990Z",
     "shell.execute_reply": "2025-10-09T15:21:30.016633Z"
    }
   },
   "outputs": [],
   "source": [
    "%%time\n",
    "molecule_ashgc = Molecule(molecule)\n",
    "molecule_ashgc.assign_partial_charges(\n",
    "    partial_charge_method=ASH_GC_MODEL,\n",
    "    toolkit_registry=NAGLToolkitWrapper(),\n",
    ")"
   ]
  },
  {
   "cell_type": "markdown",
   "id": "39515e35",
   "metadata": {},
   "source": [
    "Finally, let's create an `Interchange` with our AshGC charges, making sure to specify `charge_from_molecules` so that we don't replace them with `AM1BCC` charges:"
   ]
  },
  {
   "cell_type": "code",
   "execution_count": null,
   "id": "a81cf535",
   "metadata": {
    "execution": {
     "iopub.execute_input": "2025-10-09T15:21:30.018680Z",
     "iopub.status.busy": "2025-10-09T15:21:30.018523Z",
     "iopub.status.idle": "2025-10-09T15:21:30.070775Z",
     "shell.execute_reply": "2025-10-09T15:21:30.070474Z"
    }
   },
   "outputs": [],
   "source": [
    "# normally when we call `ForceField.create_interchange` or `ForceField.create_openmm_system`, the toolkit will call\n",
    "# AMBERTools or OEChem to assign partial charges, since that's what's in the force field file. A future OpenFF release\n",
    "# which uses NAGL for charge assignment will encode this instruction in the force field file itself, but until that we\n",
    "# can use the `charge_from_molecules` argument to tell it to use the charges that we just assigned# for more, see:\n",
    "# https://docs.openforcefield.org/projects/toolkit/en/stable/api/generated/openff.toolkit.typing.engines.smirnoff.ForceField.html#openff.toolkit.typing.engines.smirnoff.ForceField.create_openmm_system\n",
    "interchange = sage.create_interchange(\n",
    "    molecule_ashgc.to_topology(),\n",
    "    charge_from_molecules=[molecule_ashgc],\n",
    ")"
   ]
  },
  {
   "cell_type": "markdown",
   "id": "e18fe6a2",
   "metadata": {},
   "source": [
    "<div class=\"alert alert-success\" style=\"max-width: 500px; margin-left: auto; margin-right: auto; border-left: 6px solid #5cb85c; background-color: #f1fff1;\">\n",
    "    ✏️ <b>Exercise:</b> Compare the charges obtained with AM1-BCC and AshGC by looking at the <code>Molecule.partial_charges</code> attribute. How big are these differences on average? What is the largest difference? Which atom are these on? The <code>np.max</code> function may be useful.\n",
    "</div>"
   ]
  },
  {
   "cell_type": "code",
   "execution_count": null,
   "id": "8add64c6",
   "metadata": {
    "execution": {
     "iopub.execute_input": "2025-10-09T15:21:30.072193Z",
     "iopub.status.busy": "2025-10-09T15:21:30.072052Z",
     "iopub.status.idle": "2025-10-09T15:21:30.074497Z",
     "shell.execute_reply": "2025-10-09T15:21:30.074218Z"
    }
   },
   "outputs": [],
   "source": [
    "# Compare charges assigned with AM1-BCC and AshGC..."
   ]
  },
  {
   "cell_type": "markdown",
   "id": "a0bc891f",
   "metadata": {},
   "source": [
    "<a id=\"summary\"></a>\n",
    "## 5. Conclusions\n",
    "\n",
    "* The `ForceField` class from the OpenFF Toolkit allows force fields to be easily loaded and inspected.\n",
    "* The `Molecule` and `Topology` classes from the OpenFF Toolkit allow us to represent a chemical system, independently from the force field.\n",
    "* The `Interchange` class from OpenFF Interchange handles fully parametrized systems with all the information required to start a simulation. Exporting to the simulation engine of your choice is simple, and we can easily run a simulation with OpenMM without leaving the notebook!\n",
    "* Graph neural networks can provide fast and high-quality conformer-independent partial charges."
   ]
  },
  {
   "cell_type": "markdown",
   "id": "b0ce0bd8",
   "metadata": {},
   "source": [
    "<a id=\"further_materials\"></a>\n",
    "## 6. There's Lots More to OpenFF!\n",
    "\n",
    "A variety of example notebooks for OpenFF software are provided [here](https://docs.openforcefield.org/en/latest/examples.html). A few which are particularly relevant are:\n",
    "\n",
    "- [Compute conformer energies for a small molecule](https://docs.openforcefield.org/en/latest/examples/openforcefield/openff-toolkit/conformer_energies/conformer_energies.html)\n",
    "- [Modifying a SMIRNOFF force field](https://docs.openforcefield.org/en/latest/examples/openforcefield/openff-toolkit/forcefield_modification/forcefield_modification.html)\n",
    "- [Inspect parameters assigned to specific molecules](https://docs.openforcefield.org/en/latest/examples/openforcefield/openff-toolkit/inspect_assigned_parameters/inspect_assigned_parameters.html)"
   ]
  },
  {
   "cell_type": "markdown",
   "id": "a8c25ae8",
   "metadata": {},
   "source": [
    "<div class=\"alert alert-success\" style=\"max-width: 500px; margin-left: auto; margin-right: auto; border-left: 6px solid #5cb85c; background-color: #f1fff1;\">\n",
    "    ✏️ <b>Extra Exercises:</b> Based on the above tutorials, can you:\n",
    "            <ul>\n",
    "            <li>Generate several conformers for one of your MCL-1 ligands and compute their relative energies using OpenFF 2.2.1?</li>\n",
    "            <li>Modify OpenFF 2.2.1 to change some of the parameters applied to one of your MCL-1 ligands? Minimise the ligand with this new force field and see how your changes influence the conformation.</li>\n",
    "            <li>Analyse which parameters are shared and which are only applied to one or few molecules for a set of MCL-1 ligands?</li>\n",
    "            </ul>\n",
    "</div>"
   ]
  }
 ],
 "metadata": {
  "kernelspec": {
   "display_name": "openff-env",
   "language": "python",
   "name": "python3"
  },
  "language_info": {
   "codemirror_mode": {
    "name": "ipython",
    "version": 3
   },
   "file_extension": ".py",
   "mimetype": "text/x-python",
   "name": "python",
   "nbconvert_exporter": "python",
   "pygments_lexer": "ipython3",
   "version": "3.12.12"
  },
  "widgets": {
   "application/vnd.jupyter.widget-state+json": {
    "state": {
     "0ac3586aec614c8bb1ebf0fd396f5500": {
      "model_module": "@jupyter-widgets/controls",
      "model_module_version": "2.0.0",
      "model_name": "PlayModel",
      "state": {
       "_dom_classes": [],
       "_model_module": "@jupyter-widgets/controls",
       "_model_module_version": "2.0.0",
       "_model_name": "PlayModel",
       "_view_count": null,
       "_view_module": "@jupyter-widgets/controls",
       "_view_module_version": "2.0.0",
       "_view_name": "PlayView",
       "description": "",
       "description_allow_html": false,
       "disabled": false,
       "interval": 100,
       "layout": "IPY_MODEL_1e1e13bbf5b1418a82368a16c225f1be",
       "max": 0,
       "min": 0,
       "playing": false,
       "repeat": false,
       "show_repeat": true,
       "step": 1,
       "style": "IPY_MODEL_c46054fece2c4e24b32be7f751f102f0",
       "tabbable": null,
       "tooltip": null,
       "value": 0
      }
     },
     "106410de44a04ddda191d50cfc147c6a": {
      "model_module": "@jupyter-widgets/base",
      "model_module_version": "2.0.0",
      "model_name": "LayoutModel",
      "state": {
       "_model_module": "@jupyter-widgets/base",
       "_model_module_version": "2.0.0",
       "_model_name": "LayoutModel",
       "_view_count": null,
       "_view_module": "@jupyter-widgets/base",
       "_view_module_version": "2.0.0",
       "_view_name": "LayoutView",
       "align_content": null,
       "align_items": null,
       "align_self": null,
       "border_bottom": null,
       "border_left": null,
       "border_right": null,
       "border_top": null,
       "bottom": null,
       "display": null,
       "flex": null,
       "flex_flow": null,
       "grid_area": null,
       "grid_auto_columns": null,
       "grid_auto_flow": null,
       "grid_auto_rows": null,
       "grid_column": null,
       "grid_gap": null,
       "grid_row": null,
       "grid_template_areas": null,
       "grid_template_columns": null,
       "grid_template_rows": null,
       "height": null,
       "justify_content": null,
       "justify_items": null,
       "left": null,
       "margin": null,
       "max_height": null,
       "max_width": null,
       "min_height": null,
       "min_width": null,
       "object_fit": null,
       "object_position": null,
       "order": null,
       "overflow": null,
       "padding": null,
       "right": null,
       "top": null,
       "visibility": null,
       "width": null
      }
     },
     "1260df18e486494396b5cdafafeb9619": {
      "model_module": "@jupyter-widgets/controls",
      "model_module_version": "2.0.0",
      "model_name": "LinkModel",
      "state": {
       "_model_module": "@jupyter-widgets/controls",
       "_model_module_version": "2.0.0",
       "_model_name": "LinkModel",
       "_view_count": null,
       "_view_module": "@jupyter-widgets/controls",
       "_view_module_version": "2.0.0",
       "_view_name": null,
       "source": [
        "IPY_MODEL_49fe50ba84b143308d77ef4bbcf73151",
        "value"
       ],
       "target": [
        "IPY_MODEL_9b335ef6e4494b91a676a3297ab909d2",
        "frame"
       ]
      }
     },
     "142f1b52b87d487da4be8916848066f6": {
      "model_module": "@jupyter-widgets/base",
      "model_module_version": "2.0.0",
      "model_name": "LayoutModel",
      "state": {
       "_model_module": "@jupyter-widgets/base",
       "_model_module_version": "2.0.0",
       "_model_name": "LayoutModel",
       "_view_count": null,
       "_view_module": "@jupyter-widgets/base",
       "_view_module_version": "2.0.0",
       "_view_name": "LayoutView",
       "align_content": null,
       "align_items": null,
       "align_self": null,
       "border_bottom": null,
       "border_left": null,
       "border_right": null,
       "border_top": null,
       "bottom": null,
       "display": null,
       "flex": null,
       "flex_flow": null,
       "grid_area": null,
       "grid_auto_columns": null,
       "grid_auto_flow": null,
       "grid_auto_rows": null,
       "grid_column": null,
       "grid_gap": null,
       "grid_row": null,
       "grid_template_areas": null,
       "grid_template_columns": null,
       "grid_template_rows": null,
       "height": null,
       "justify_content": null,
       "justify_items": null,
       "left": null,
       "margin": null,
       "max_height": null,
       "max_width": null,
       "min_height": null,
       "min_width": null,
       "object_fit": null,
       "object_position": null,
       "order": null,
       "overflow": null,
       "padding": null,
       "right": null,
       "top": null,
       "visibility": null,
       "width": null
      }
     },
     "1a4abe66567f49b0b085126889b6f9af": {
      "model_module": "@jupyter-widgets/controls",
      "model_module_version": "2.0.0",
      "model_name": "DescriptionStyleModel",
      "state": {
       "_model_module": "@jupyter-widgets/controls",
       "_model_module_version": "2.0.0",
       "_model_name": "DescriptionStyleModel",
       "_view_count": null,
       "_view_module": "@jupyter-widgets/base",
       "_view_module_version": "2.0.0",
       "_view_name": "StyleView",
       "description_width": ""
      }
     },
     "1e1e13bbf5b1418a82368a16c225f1be": {
      "model_module": "@jupyter-widgets/base",
      "model_module_version": "2.0.0",
      "model_name": "LayoutModel",
      "state": {
       "_model_module": "@jupyter-widgets/base",
       "_model_module_version": "2.0.0",
       "_model_name": "LayoutModel",
       "_view_count": null,
       "_view_module": "@jupyter-widgets/base",
       "_view_module_version": "2.0.0",
       "_view_name": "LayoutView",
       "align_content": null,
       "align_items": null,
       "align_self": null,
       "border_bottom": null,
       "border_left": null,
       "border_right": null,
       "border_top": null,
       "bottom": null,
       "display": null,
       "flex": null,
       "flex_flow": null,
       "grid_area": null,
       "grid_auto_columns": null,
       "grid_auto_flow": null,
       "grid_auto_rows": null,
       "grid_column": null,
       "grid_gap": null,
       "grid_row": null,
       "grid_template_areas": null,
       "grid_template_columns": null,
       "grid_template_rows": null,
       "height": null,
       "justify_content": null,
       "justify_items": null,
       "left": null,
       "margin": null,
       "max_height": null,
       "max_width": null,
       "min_height": null,
       "min_width": null,
       "object_fit": null,
       "object_position": null,
       "order": null,
       "overflow": null,
       "padding": null,
       "right": null,
       "top": null,
       "visibility": null,
       "width": null
      }
     },
     "1f365c73c2ab4a9cbc9d02121460c3b7": {
      "model_module": "@jupyter-widgets/controls",
      "model_module_version": "2.0.0",
      "model_name": "ButtonStyleModel",
      "state": {
       "_model_module": "@jupyter-widgets/controls",
       "_model_module_version": "2.0.0",
       "_model_name": "ButtonStyleModel",
       "_view_count": null,
       "_view_module": "@jupyter-widgets/base",
       "_view_module_version": "2.0.0",
       "_view_name": "StyleView",
       "button_color": null,
       "font_family": null,
       "font_size": null,
       "font_style": null,
       "font_variant": null,
       "font_weight": null,
       "text_color": null,
       "text_decoration": null
      }
     },
     "204aac85dfc647a5a79db0231569195e": {
      "model_module": "@jupyter-widgets/controls",
      "model_module_version": "2.0.0",
      "model_name": "LinkModel",
      "state": {
       "_model_module": "@jupyter-widgets/controls",
       "_model_module_version": "2.0.0",
       "_model_name": "LinkModel",
       "_view_count": null,
       "_view_module": "@jupyter-widgets/controls",
       "_view_module_version": "2.0.0",
       "_view_name": null,
       "source": [
        "IPY_MODEL_49fe50ba84b143308d77ef4bbcf73151",
        "value"
       ],
       "target": [
        "IPY_MODEL_c3af32cfd8874e25bb31edf9a2072e3b",
        "value"
       ]
      }
     },
     "23509534eab24e1d871e6240ce7aad95": {
      "model_module": "@jupyter-widgets/base",
      "model_module_version": "2.0.0",
      "model_name": "LayoutModel",
      "state": {
       "_model_module": "@jupyter-widgets/base",
       "_model_module_version": "2.0.0",
       "_model_name": "LayoutModel",
       "_view_count": null,
       "_view_module": "@jupyter-widgets/base",
       "_view_module_version": "2.0.0",
       "_view_name": "LayoutView",
       "align_content": null,
       "align_items": null,
       "align_self": null,
       "border_bottom": null,
       "border_left": null,
       "border_right": null,
       "border_top": null,
       "bottom": null,
       "display": null,
       "flex": null,
       "flex_flow": null,
       "grid_area": null,
       "grid_auto_columns": null,
       "grid_auto_flow": null,
       "grid_auto_rows": null,
       "grid_column": null,
       "grid_gap": null,
       "grid_row": null,
       "grid_template_areas": null,
       "grid_template_columns": null,
       "grid_template_rows": null,
       "height": null,
       "justify_content": null,
       "justify_items": null,
       "left": null,
       "margin": null,
       "max_height": null,
       "max_width": null,
       "min_height": null,
       "min_width": null,
       "object_fit": null,
       "object_position": null,
       "order": null,
       "overflow": null,
       "padding": null,
       "right": null,
       "top": null,
       "visibility": null,
       "width": "34px"
      }
     },
     "2445d838641140548b6893c3ea3c8e48": {
      "model_module": "@jupyter-widgets/controls",
      "model_module_version": "2.0.0",
      "model_name": "ButtonModel",
      "state": {
       "_dom_classes": [],
       "_model_module": "@jupyter-widgets/controls",
       "_model_module_version": "2.0.0",
       "_model_name": "ButtonModel",
       "_view_count": null,
       "_view_module": "@jupyter-widgets/controls",
       "_view_module_version": "2.0.0",
       "_view_name": "ButtonView",
       "button_style": "",
       "description": "",
       "disabled": false,
       "icon": "compress",
       "layout": "IPY_MODEL_23509534eab24e1d871e6240ce7aad95",
       "style": "IPY_MODEL_1f365c73c2ab4a9cbc9d02121460c3b7",
       "tabbable": null,
       "tooltip": null
      }
     },
     "271bafa3975c4fad92c20a0ae49134fe": {
      "model_module": "@jupyter-widgets/controls",
      "model_module_version": "2.0.0",
      "model_name": "IntSliderModel",
      "state": {
       "_dom_classes": [],
       "_model_module": "@jupyter-widgets/controls",
       "_model_module_version": "2.0.0",
       "_model_name": "IntSliderModel",
       "_view_count": null,
       "_view_module": "@jupyter-widgets/controls",
       "_view_module_version": "2.0.0",
       "_view_name": "IntSliderView",
       "behavior": "drag-tap",
       "continuous_update": true,
       "description": "",
       "description_allow_html": false,
       "disabled": false,
       "layout": "IPY_MODEL_4586c09643d84ac4b5e26db3f0d8e709",
       "max": 0,
       "min": 0,
       "orientation": "horizontal",
       "readout": true,
       "readout_format": "d",
       "step": 1,
       "style": "IPY_MODEL_5442dac1ca504d81a1b4e9166371391b",
       "tabbable": null,
       "tooltip": null,
       "value": 0
      }
     },
     "281d724a989c486eb416b2a03887f945": {
      "model_module": "nglview-js-widgets",
      "model_module_version": "3.1.4",
      "model_name": "ColormakerRegistryModel",
      "state": {
       "_dom_classes": [],
       "_model_module": "nglview-js-widgets",
       "_model_module_version": "3.1.4",
       "_model_name": "ColormakerRegistryModel",
       "_msg_ar": [],
       "_msg_q": [],
       "_ready": false,
       "_view_count": null,
       "_view_module": "nglview-js-widgets",
       "_view_module_version": "3.1.4",
       "_view_name": "ColormakerRegistryView",
       "layout": "IPY_MODEL_9f9f5896f1354c0395670ef95e596cb2",
       "tabbable": null,
       "tooltip": null
      }
     },
     "390d23cb73454428af51a512769d4e0a": {
      "model_module": "@jupyter-widgets/base",
      "model_module_version": "2.0.0",
      "model_name": "LayoutModel",
      "state": {
       "_model_module": "@jupyter-widgets/base",
       "_model_module_version": "2.0.0",
       "_model_name": "LayoutModel",
       "_view_count": null,
       "_view_module": "@jupyter-widgets/base",
       "_view_module_version": "2.0.0",
       "_view_name": "LayoutView",
       "align_content": null,
       "align_items": null,
       "align_self": null,
       "border_bottom": null,
       "border_left": null,
       "border_right": null,
       "border_top": null,
       "bottom": null,
       "display": null,
       "flex": null,
       "flex_flow": null,
       "grid_area": null,
       "grid_auto_columns": null,
       "grid_auto_flow": null,
       "grid_auto_rows": null,
       "grid_column": null,
       "grid_gap": null,
       "grid_row": null,
       "grid_template_areas": null,
       "grid_template_columns": null,
       "grid_template_rows": null,
       "height": null,
       "justify_content": null,
       "justify_items": null,
       "left": null,
       "margin": null,
       "max_height": null,
       "max_width": null,
       "min_height": null,
       "min_width": null,
       "object_fit": null,
       "object_position": null,
       "order": null,
       "overflow": null,
       "padding": null,
       "right": null,
       "top": null,
       "visibility": null,
       "width": null
      }
     },
     "3ce9b6a4f3c74ba2a51137c09c4f47b8": {
      "model_module": "nglview-js-widgets",
      "model_module_version": "3.1.4",
      "model_name": "NGLModel",
      "state": {
       "_camera_orientation": [],
       "_camera_str": "orthographic",
       "_dom_classes": [],
       "_gui_theme": null,
       "_ibtn_fullscreen": null,
       "_igui": null,
       "_iplayer": null,
       "_model_module": "nglview-js-widgets",
       "_model_module_version": "3.1.4",
       "_model_name": "NGLModel",
       "_ngl_color_dict": {},
       "_ngl_coordinate_resource": {},
       "_ngl_full_stage_parameters": {},
       "_ngl_msg_archive": [],
       "_ngl_original_stage_parameters": {},
       "_ngl_repr_dict": {},
       "_ngl_serialize": false,
       "_ngl_version": "",
       "_ngl_view_id": [],
       "_player_dict": {},
       "_scene_position": {},
       "_scene_rotation": {},
       "_synced_model_ids": [],
       "_synced_repr_model_ids": [],
       "_view_count": null,
       "_view_height": "",
       "_view_module": "nglview-js-widgets",
       "_view_module_version": "3.1.4",
       "_view_name": "NGLView",
       "_view_width": "",
       "background": "white",
       "frame": 0,
       "gui_style": null,
       "layout": "IPY_MODEL_390d23cb73454428af51a512769d4e0a",
       "max_frame": 0,
       "n_components": 0,
       "picked": {},
       "tabbable": null,
       "tooltip": null
      }
     },
     "43c716952e3f4dbe8c68f3eb8818fb5d": {
      "model_module": "@jupyter-widgets/controls",
      "model_module_version": "2.0.0",
      "model_name": "HBoxModel",
      "state": {
       "_dom_classes": [],
       "_model_module": "@jupyter-widgets/controls",
       "_model_module_version": "2.0.0",
       "_model_name": "HBoxModel",
       "_view_count": null,
       "_view_module": "@jupyter-widgets/controls",
       "_view_module_version": "2.0.0",
       "_view_name": "HBoxView",
       "box_style": "",
       "children": [
        "IPY_MODEL_49fe50ba84b143308d77ef4bbcf73151",
        "IPY_MODEL_c3af32cfd8874e25bb31edf9a2072e3b"
       ],
       "layout": "IPY_MODEL_46dfcce4b37a40ed95ccd468b189907b",
       "tabbable": null,
       "tooltip": null
      }
     },
     "4586c09643d84ac4b5e26db3f0d8e709": {
      "model_module": "@jupyter-widgets/base",
      "model_module_version": "2.0.0",
      "model_name": "LayoutModel",
      "state": {
       "_model_module": "@jupyter-widgets/base",
       "_model_module_version": "2.0.0",
       "_model_name": "LayoutModel",
       "_view_count": null,
       "_view_module": "@jupyter-widgets/base",
       "_view_module_version": "2.0.0",
       "_view_name": "LayoutView",
       "align_content": null,
       "align_items": null,
       "align_self": null,
       "border_bottom": null,
       "border_left": null,
       "border_right": null,
       "border_top": null,
       "bottom": null,
       "display": null,
       "flex": null,
       "flex_flow": null,
       "grid_area": null,
       "grid_auto_columns": null,
       "grid_auto_flow": null,
       "grid_auto_rows": null,
       "grid_column": null,
       "grid_gap": null,
       "grid_row": null,
       "grid_template_areas": null,
       "grid_template_columns": null,
       "grid_template_rows": null,
       "height": null,
       "justify_content": null,
       "justify_items": null,
       "left": null,
       "margin": null,
       "max_height": null,
       "max_width": null,
       "min_height": null,
       "min_width": null,
       "object_fit": null,
       "object_position": null,
       "order": null,
       "overflow": null,
       "padding": null,
       "right": null,
       "top": null,
       "visibility": null,
       "width": null
      }
     },
     "4589eb1e5bdf4480b659f96f602fe0ae": {
      "model_module": "@jupyter-widgets/controls",
      "model_module_version": "2.0.0",
      "model_name": "LinkModel",
      "state": {
       "_model_module": "@jupyter-widgets/controls",
       "_model_module_version": "2.0.0",
       "_model_name": "LinkModel",
       "_view_count": null,
       "_view_module": "@jupyter-widgets/controls",
       "_view_module_version": "2.0.0",
       "_view_name": null,
       "source": [
        "IPY_MODEL_271bafa3975c4fad92c20a0ae49134fe",
        "max"
       ],
       "target": [
        "IPY_MODEL_5dc717eb42ba471f9ae8d71714fd9c13",
        "max_frame"
       ]
      }
     },
     "46dfcce4b37a40ed95ccd468b189907b": {
      "model_module": "@jupyter-widgets/base",
      "model_module_version": "2.0.0",
      "model_name": "LayoutModel",
      "state": {
       "_model_module": "@jupyter-widgets/base",
       "_model_module_version": "2.0.0",
       "_model_name": "LayoutModel",
       "_view_count": null,
       "_view_module": "@jupyter-widgets/base",
       "_view_module_version": "2.0.0",
       "_view_name": "LayoutView",
       "align_content": null,
       "align_items": null,
       "align_self": null,
       "border_bottom": null,
       "border_left": null,
       "border_right": null,
       "border_top": null,
       "bottom": null,
       "display": null,
       "flex": null,
       "flex_flow": null,
       "grid_area": null,
       "grid_auto_columns": null,
       "grid_auto_flow": null,
       "grid_auto_rows": null,
       "grid_column": null,
       "grid_gap": null,
       "grid_row": null,
       "grid_template_areas": null,
       "grid_template_columns": null,
       "grid_template_rows": null,
       "height": null,
       "justify_content": null,
       "justify_items": null,
       "left": null,
       "margin": null,
       "max_height": null,
       "max_width": null,
       "min_height": null,
       "min_width": null,
       "object_fit": null,
       "object_position": null,
       "order": null,
       "overflow": null,
       "padding": null,
       "right": null,
       "top": null,
       "visibility": null,
       "width": null
      }
     },
     "49e5961a955b46079fd42cccfddd6235": {
      "model_module": "@jupyter-widgets/controls",
      "model_module_version": "2.0.0",
      "model_name": "ButtonStyleModel",
      "state": {
       "_model_module": "@jupyter-widgets/controls",
       "_model_module_version": "2.0.0",
       "_model_name": "ButtonStyleModel",
       "_view_count": null,
       "_view_module": "@jupyter-widgets/base",
       "_view_module_version": "2.0.0",
       "_view_name": "StyleView",
       "button_color": null,
       "font_family": null,
       "font_size": null,
       "font_style": null,
       "font_variant": null,
       "font_weight": null,
       "text_color": null,
       "text_decoration": null
      }
     },
     "49fe50ba84b143308d77ef4bbcf73151": {
      "model_module": "@jupyter-widgets/controls",
      "model_module_version": "2.0.0",
      "model_name": "PlayModel",
      "state": {
       "_dom_classes": [],
       "_model_module": "@jupyter-widgets/controls",
       "_model_module_version": "2.0.0",
       "_model_name": "PlayModel",
       "_view_count": null,
       "_view_module": "@jupyter-widgets/controls",
       "_view_module_version": "2.0.0",
       "_view_name": "PlayView",
       "description": "",
       "description_allow_html": false,
       "disabled": false,
       "interval": 100,
       "layout": "IPY_MODEL_e4742c927d5946579ce566c477badd4e",
       "max": 70,
       "min": 0,
       "playing": false,
       "repeat": false,
       "show_repeat": true,
       "step": 1,
       "style": "IPY_MODEL_1a4abe66567f49b0b085126889b6f9af",
       "tabbable": null,
       "tooltip": null,
       "value": 0
      }
     },
     "50fd6b47e6dc4f9a918b5e19b5aac8e5": {
      "model_module": "@jupyter-widgets/controls",
      "model_module_version": "2.0.0",
      "model_name": "LinkModel",
      "state": {
       "_model_module": "@jupyter-widgets/controls",
       "_model_module_version": "2.0.0",
       "_model_name": "LinkModel",
       "_view_count": null,
       "_view_module": "@jupyter-widgets/controls",
       "_view_module_version": "2.0.0",
       "_view_name": null,
       "source": [
        "IPY_MODEL_c3af32cfd8874e25bb31edf9a2072e3b",
        "max"
       ],
       "target": [
        "IPY_MODEL_9b335ef6e4494b91a676a3297ab909d2",
        "max_frame"
       ]
      }
     },
     "5442dac1ca504d81a1b4e9166371391b": {
      "model_module": "@jupyter-widgets/controls",
      "model_module_version": "2.0.0",
      "model_name": "SliderStyleModel",
      "state": {
       "_model_module": "@jupyter-widgets/controls",
       "_model_module_version": "2.0.0",
       "_model_name": "SliderStyleModel",
       "_view_count": null,
       "_view_module": "@jupyter-widgets/base",
       "_view_module_version": "2.0.0",
       "_view_name": "StyleView",
       "description_width": "",
       "handle_color": null
      }
     },
     "5dc717eb42ba471f9ae8d71714fd9c13": {
      "model_module": "nglview-js-widgets",
      "model_module_version": "3.1.4",
      "model_name": "NGLModel",
      "state": {
       "_camera_orientation": [],
       "_camera_str": "orthographic",
       "_dom_classes": [],
       "_gui_theme": null,
       "_ibtn_fullscreen": "IPY_MODEL_f56a4185cd5240acaca585bb39e5f6e6",
       "_igui": null,
       "_iplayer": "IPY_MODEL_6ae46f76affe4455a2e2a5fe89e85452",
       "_model_module": "nglview-js-widgets",
       "_model_module_version": "3.1.4",
       "_model_name": "NGLModel",
       "_ngl_color_dict": {},
       "_ngl_coordinate_resource": {},
       "_ngl_full_stage_parameters": {},
       "_ngl_msg_archive": [
        {
         "args": [
          {
           "binary": false,
           "data": "HETATM    1  C1  UNL     1      -1.693  -0.345   0.238  1.00  0.00           C  \nHETATM    2  C2  UNL     1      -0.258  -0.497  -0.138  1.00  0.00           C  \nHETATM    3  C3  UNL     1       0.521   0.525   0.173  1.00  0.00           C  \nHETATM    4  C4  UNL     1       1.923   0.396  -0.186  1.00  0.00           C  \nHETATM    5  O1  UNL     1       2.480  -0.581  -0.761  1.00  0.00           O  \nHETATM    6  O2  UNL     1       2.898   1.357   0.055  1.00  0.00           O1-\nHETATM    7  H1  UNL     1      -1.845   0.396   1.031  1.00  0.00           H  \nHETATM    8  H2  UNL     1      -2.247   0.051  -0.662  1.00  0.00           H  \nHETATM    9  H3  UNL     1      -2.129  -1.358   0.478  1.00  0.00           H  \nHETATM   10  H4  UNL     1       0.091  -1.386  -0.628  1.00  0.00           H  \nHETATM   11  H5  UNL     1       0.260   1.439   0.655  1.00  0.00           H  \nCONECT    1    2    7    8    9\nCONECT    2    3    3   10\nCONECT    3    4   11\nCONECT    4    5    5    6\nEND\n",
           "type": "blob"
          }
         ],
         "kwargs": {
          "defaultRepresentation": true,
          "ext": "pdb",
          "name": "<openff.toolkit.utils._viz.MoleculeNGLViewTrajectory object at 0x7a5ed36684a0>"
         },
         "methodName": "loadFile",
         "reconstruc_color_scheme": false,
         "target": "Stage",
         "type": "call_method"
        },
        {
         "args": [],
         "component_index": 0,
         "kwargs": {},
         "methodName": "removeAllRepresentations",
         "reconstruc_color_scheme": false,
         "target": "compList",
         "type": "call_method"
        },
        {
         "args": [
          "licorice"
         ],
         "component_index": 0,
         "kwargs": {
          "multipleBond": true,
          "radius": 0.25,
          "sele": "*"
         },
         "methodName": "addRepresentation",
         "reconstruc_color_scheme": false,
         "target": "compList",
         "type": "call_method"
        }
       ],
       "_ngl_original_stage_parameters": {},
       "_ngl_repr_dict": {},
       "_ngl_serialize": false,
       "_ngl_version": "",
       "_ngl_view_id": [],
       "_player_dict": {},
       "_scene_position": {},
       "_scene_rotation": {},
       "_synced_model_ids": [],
       "_synced_repr_model_ids": [],
       "_view_count": null,
       "_view_height": "",
       "_view_module": "nglview-js-widgets",
       "_view_module_version": "3.1.4",
       "_view_name": "NGLView",
       "_view_width": "",
       "background": "white",
       "frame": 0,
       "gui_style": null,
       "layout": "IPY_MODEL_cfab51842fb640d7a634a68025466412",
       "max_frame": 0,
       "n_components": 0,
       "picked": {},
       "tabbable": null,
       "tooltip": null
      }
     },
     "6270a1e3d0cf4bb2be31abc967abaaca": {
      "model_module": "@jupyter-widgets/controls",
      "model_module_version": "2.0.0",
      "model_name": "SliderStyleModel",
      "state": {
       "_model_module": "@jupyter-widgets/controls",
       "_model_module_version": "2.0.0",
       "_model_name": "SliderStyleModel",
       "_view_count": null,
       "_view_module": "@jupyter-widgets/base",
       "_view_module_version": "2.0.0",
       "_view_name": "StyleView",
       "description_width": "",
       "handle_color": null
      }
     },
     "64d6e9481b154d769287dee2971b37ed": {
      "model_module": "@jupyter-widgets/controls",
      "model_module_version": "2.0.0",
      "model_name": "LinkModel",
      "state": {
       "_model_module": "@jupyter-widgets/controls",
       "_model_module_version": "2.0.0",
       "_model_name": "LinkModel",
       "_view_count": null,
       "_view_module": "@jupyter-widgets/controls",
       "_view_module_version": "2.0.0",
       "_view_name": null,
       "source": [
        "IPY_MODEL_49fe50ba84b143308d77ef4bbcf73151",
        "max"
       ],
       "target": [
        "IPY_MODEL_9b335ef6e4494b91a676a3297ab909d2",
        "max_frame"
       ]
      }
     },
     "6ae46f76affe4455a2e2a5fe89e85452": {
      "model_module": "@jupyter-widgets/controls",
      "model_module_version": "2.0.0",
      "model_name": "HBoxModel",
      "state": {
       "_dom_classes": [],
       "_model_module": "@jupyter-widgets/controls",
       "_model_module_version": "2.0.0",
       "_model_name": "HBoxModel",
       "_view_count": null,
       "_view_module": "@jupyter-widgets/controls",
       "_view_module_version": "2.0.0",
       "_view_name": "HBoxView",
       "box_style": "",
       "children": [
        "IPY_MODEL_0ac3586aec614c8bb1ebf0fd396f5500",
        "IPY_MODEL_271bafa3975c4fad92c20a0ae49134fe"
       ],
       "layout": "IPY_MODEL_fd598bdf07394f039ff0eff4607c33d1",
       "tabbable": null,
       "tooltip": null
      }
     },
     "715ffa4c225148e0a31832e1c7ff52b0": {
      "model_module": "@jupyter-widgets/base",
      "model_module_version": "2.0.0",
      "model_name": "LayoutModel",
      "state": {
       "_model_module": "@jupyter-widgets/base",
       "_model_module_version": "2.0.0",
       "_model_name": "LayoutModel",
       "_view_count": null,
       "_view_module": "@jupyter-widgets/base",
       "_view_module_version": "2.0.0",
       "_view_name": "LayoutView",
       "align_content": null,
       "align_items": null,
       "align_self": null,
       "border_bottom": null,
       "border_left": null,
       "border_right": null,
       "border_top": null,
       "bottom": null,
       "display": null,
       "flex": null,
       "flex_flow": null,
       "grid_area": null,
       "grid_auto_columns": null,
       "grid_auto_flow": null,
       "grid_auto_rows": null,
       "grid_column": null,
       "grid_gap": null,
       "grid_row": null,
       "grid_template_areas": null,
       "grid_template_columns": null,
       "grid_template_rows": null,
       "height": null,
       "justify_content": null,
       "justify_items": null,
       "left": null,
       "margin": null,
       "max_height": null,
       "max_width": null,
       "min_height": null,
       "min_width": null,
       "object_fit": null,
       "object_position": null,
       "order": null,
       "overflow": null,
       "padding": null,
       "right": null,
       "top": null,
       "visibility": null,
       "width": null
      }
     },
     "7715fce7ed5d4027b632b9886132e676": {
      "model_module": "@jupyter-widgets/base",
      "model_module_version": "2.0.0",
      "model_name": "LayoutModel",
      "state": {
       "_model_module": "@jupyter-widgets/base",
       "_model_module_version": "2.0.0",
       "_model_name": "LayoutModel",
       "_view_count": null,
       "_view_module": "@jupyter-widgets/base",
       "_view_module_version": "2.0.0",
       "_view_name": "LayoutView",
       "align_content": null,
       "align_items": null,
       "align_self": null,
       "border_bottom": null,
       "border_left": null,
       "border_right": null,
       "border_top": null,
       "bottom": null,
       "display": null,
       "flex": null,
       "flex_flow": null,
       "grid_area": null,
       "grid_auto_columns": null,
       "grid_auto_flow": null,
       "grid_auto_rows": null,
       "grid_column": null,
       "grid_gap": null,
       "grid_row": null,
       "grid_template_areas": null,
       "grid_template_columns": null,
       "grid_template_rows": null,
       "height": null,
       "justify_content": null,
       "justify_items": null,
       "left": null,
       "margin": null,
       "max_height": null,
       "max_width": null,
       "min_height": null,
       "min_width": null,
       "object_fit": null,
       "object_position": null,
       "order": null,
       "overflow": null,
       "padding": null,
       "right": null,
       "top": null,
       "visibility": null,
       "width": "34px"
      }
     },
     "9143b4be1bf44a59928b89f99e3f916b": {
      "buffers": [
       {
        "data": "",
        "encoding": "base64",
        "path": [
         "value"
        ]
       }
      ],
      "model_module": "@jupyter-widgets/controls",
      "model_module_version": "2.0.0",
      "model_name": "ImageModel",
      "state": {
       "_dom_classes": [],
       "_model_module": "@jupyter-widgets/controls",
       "_model_module_version": "2.0.0",
       "_model_name": "ImageModel",
       "_view_count": null,
       "_view_module": "@jupyter-widgets/controls",
       "_view_module_version": "2.0.0",
       "_view_name": "ImageView",
       "format": "png",
       "height": "",
       "layout": "IPY_MODEL_106410de44a04ddda191d50cfc147c6a",
       "tabbable": null,
       "tooltip": null,
       "width": "900.0"
      }
     },
     "9b335ef6e4494b91a676a3297ab909d2": {
      "model_module": "nglview-js-widgets",
      "model_module_version": "3.1.4",
      "model_name": "NGLModel",
      "state": {
       "_camera_orientation": [],
       "_camera_str": "orthographic",
       "_dom_classes": [],
       "_gui_theme": null,
       "_ibtn_fullscreen": "IPY_MODEL_2445d838641140548b6893c3ea3c8e48",
       "_igui": null,
       "_iplayer": "IPY_MODEL_43c716952e3f4dbe8c68f3eb8818fb5d",
       "_model_module": "nglview-js-widgets",
       "_model_module_version": "3.1.4",
       "_model_name": "NGLModel",
       "_ngl_color_dict": {},
       "_ngl_coordinate_resource": {},
       "_ngl_full_stage_parameters": {},
       "_ngl_msg_archive": [
        {
         "args": [
          {
           "binary": false,
           "data": "REMARK   1 CREATED WITH MDTraj 1.11.0, 2025-10-09\nCRYST1   35.000   35.000   35.000  90.00  90.00  90.00 P 1           1 \nATOM      1  C1x UNK X   0      -0.170   3.614   1.858  1.00  0.00           C  \nATOM      2  C2x UNK X   0       0.949   3.150   2.783  1.00  0.00           C  \nATOM      3  C3x UNK X   0       1.106   1.783   2.810  1.00  0.00           C  \nATOM      4  C4x UNK X   0       2.099   1.124   3.632  1.00  0.00           C  \nATOM      5  O1x UNK X   0       2.281  -0.081   3.517  1.00  0.00           O  \nATOM      6  O2x UNK X   0       2.788   1.742   4.635  1.00  0.00           O  \nATOM      7  H1x UNK X   0       0.136   4.343   1.101  1.00  0.00           H  \nATOM      8  H2x UNK X   0      -0.564   2.813   1.226  1.00  0.00           H  \nATOM      9  H3x UNK X   0      -0.901   4.150   2.469  1.00  0.00           H  \nATOM     10  H4x UNK X   0       1.621   3.828   3.301  1.00  0.00           H  \nATOM     11  H5x UNK X   0       0.463   1.182   2.173  1.00  0.00           H  \nATOM     12  H6x UNK X   0       3.502   1.185   4.997  1.00  0.00           H  \nTER      13      UNK X   0\nATOM     14  O1x HOH X   0      34.721   9.913   8.876  1.00  0.00           O  \nATOM     15  H1x HOH X   0      34.781   9.200   9.512  1.00  0.00           H  \nATOM     16  H2x HOH X   0      35.109   9.555   8.077  1.00  0.00           H  \nTER      17      HOH X   0\nATOM     18  O1x HOH X   0      31.949  17.126   0.980  1.00  0.00           O  \nATOM     19  H1x HOH X   0      32.147  17.656   1.752  1.00  0.00           H  \nATOM     20  H2x HOH X   0      32.110  16.225   1.260  1.00  0.00           H  \nTER      21      HOH X   0\nATOM     22  O1x HOH X   0      26.009  10.874  31.059  1.00  0.00           O  \nATOM     23  H1x HOH X   0      26.366  11.246  31.865  1.00  0.00           H  \nATOM     24  H2x HOH X   0      26.647  10.210  30.798  1.00  0.00           H  \nTER      25      HOH X   0\nATOM     26  O1x HOH X   0       7.285   6.543  10.322  1.00  0.00           O  \nATOM     27  H1x HOH X   0       6.558   6.520   9.699  1.00  0.00           H  \nATOM     28  H2x HOH X   0       7.091   5.841  10.943  1.00  0.00           H  \nTER      29      HOH X   0\nATOM     30  O1x HOH X   0       6.809   8.600  20.528  1.00  0.00           O  \nATOM     31  H1x HOH X   0       5.873   8.800  20.542  1.00  0.00           H  \nATOM     32  H2x HOH X   0       6.852   7.649  20.631  1.00  0.00           H  \nTER      33      HOH X   0\nATOM     34  O1x HOH X   0      31.569   2.941   4.796  1.00  0.00           O  \nATOM     35  H1x HOH X   0      31.291   2.079   5.104  1.00  0.00           H  \nATOM     36  H2x HOH X   0      31.348   2.946   3.864  1.00  0.00           H  \nTER      37      HOH X   0\nATOM     38  O1x HOH X   0       0.994  12.128  25.533  1.00  0.00           O  \nATOM     39  H1x HOH X   0       0.203  11.591  25.574  1.00  0.00           H  \nATOM     40  H2x HOH X   0       1.102  12.465  26.422  1.00  0.00           H  \nTER      41      HOH X   0\nATOM     42  O1x HOH X   0      30.943   4.181  15.221  1.00  0.00           O  \nATOM     43  H1x HOH X   0      30.033   4.091  14.936  1.00  0.00           H  \nATOM     44  H2x HOH X   0      31.254   4.974  14.784  1.00  0.00           H  \nTER      45      HOH X   0\nATOM     46  O1x HOH X   0      26.552   9.086   5.360  1.00  0.00           O  \nATOM     47  H1x HOH X   0      26.661   9.925   5.806  1.00  0.00           H  \nATOM     48  H2x HOH X   0      26.015   9.289   4.594  1.00  0.00           H  \nTER      49      HOH X   0\nATOM     50  O1x HOH X   0       2.313  15.029   7.270  1.00  0.00           O  \nATOM     51  H1x HOH X   0       1.452  15.400   7.463  1.00  0.00           H  \nATOM     52  H2x HOH X   0       2.846  15.250   8.034  1.00  0.00           H  \nTER      53      HOH X   0\nATOM     54  O1x HOH X   0       2.649   6.890  31.280  1.00  0.00           O  \nATOM     55  H1x HOH X   0       1.892   6.463  31.682  1.00  0.00           H  \nATOM     56  H2x HOH X   0       3.333   6.844  31.949  1.00  0.00           H  \nTER      57      HOH X   0\nATOM     58  O1x HOH X   0      18.304  21.235  17.314  1.00  0.00           O  \nATOM     59  H1x HOH X   0      18.657  20.395  17.020  1.00  0.00           H  \nATOM     60  H2x HOH X   0      18.210  21.750  16.513  1.00  0.00           H  \nTER      61      HOH X   0\nATOM     62  O1x HOH X   0       5.653  17.349  33.299  1.00  0.00           O  \nATOM     63  H1x HOH X   0       6.375  17.135  32.708  1.00  0.00           H  \nATOM     64  H2x HOH X   0       4.866  17.085  32.823  1.00  0.00           H  \nTER      65      HOH X   0\nATOM     66  O1x HOH X   0      29.117  22.450  14.665  1.00  0.00           O  \nATOM     67  H1x HOH X   0      28.786  22.880  15.453  1.00  0.00           H  \nATOM     68  H2x HOH X   0      28.678  22.902  13.944  1.00  0.00           H  \nTER      69      HOH X   0\nATOM     70  O1x HOH X   0      35.082  34.707  25.126  1.00  0.00           O  \nATOM     71  H1x HOH X   0      35.557  33.878  25.178  1.00  0.00           H  \nATOM     72  H2x HOH X   0      34.162  34.464  25.228  1.00  0.00           H  \nTER      73      HOH X   0\nATOM     74  O1x HOH X   0      16.527  12.791  15.997  1.00  0.00           O  \nATOM     75  H1x HOH X   0      16.022  12.035  15.696  1.00  0.00           H  \nATOM     76  H2x HOH X   0      16.957  13.121  15.209  1.00  0.00           H  \nTER      77      HOH X   0\nATOM     78  O1x HOH X   0       4.914  25.791  10.394  1.00  0.00           O  \nATOM     79  H1x HOH X   0       4.170  26.193   9.947  1.00  0.00           H  \nATOM     80  H2x HOH X   0       5.519  25.558   9.689  1.00  0.00           H  \nTER      81      HOH X   0\nATOM     82  O1x HOH X   0      13.033   3.622  28.151  1.00  0.00           O  \nATOM     83  H1x HOH X   0      12.402   3.004  27.783  1.00  0.00           H  \nATOM     84  H2x HOH X   0      13.219   3.283  29.027  1.00  0.00           H  \nTER      85      HOH X   0\nATOM     86  O1x HOH X   0       0.792   4.790  13.549  1.00  0.00           O  \nATOM     87  H1x HOH X   0       1.491   4.280  13.959  1.00  0.00           H  \nATOM     88  H2x HOH X   0       1.073   4.897  12.641  1.00  0.00           H  \nTER      89      HOH X   0\nATOM     90  O1x HOH X   0      15.698  14.968  18.748  1.00  0.00           O  \nATOM     91  H1x HOH X   0      16.030  14.678  17.899  1.00  0.00           H  \nATOM     92  H2x HOH X   0      15.012  14.337  18.966  1.00  0.00           H  \nTER      93      HOH X   0\nATOM     94  O1x HOH X   0       6.490  31.119  18.795  1.00  0.00           O  \nATOM     95  H1x HOH X   0       6.315  30.198  18.990  1.00  0.00           H  \nATOM     96  H2x HOH X   0       6.789  31.487  19.627  1.00  0.00           H  \nTER      97      HOH X   0\nATOM     98  O1x HOH X   0      28.546   5.538  13.976  1.00  0.00           O  \nATOM     99  H1x HOH X   0      28.936   6.019  13.246  1.00  0.00           H  \nATOM    100  H2x HOH X   0      27.847   5.020  13.576  1.00  0.00           H  \nTER     101      HOH X   0\nATOM    102  O1x HOH X   0      31.916  33.419  28.267  1.00  0.00           O  \nATOM    103  H1x HOH X   0      31.372  33.434  29.055  1.00  0.00           H  \nATOM    104  H2x HOH X   0      32.781  33.152  28.578  1.00  0.00           H  \nTER     105      HOH X   0\nATOM    106  O1x HOH X   0      19.528  20.514  20.954  1.00  0.00           O  \nATOM    107  H1x HOH X   0      20.003  21.338  20.850  1.00  0.00           H  \nATOM    108  H2x HOH X   0      19.482  20.381  21.900  1.00  0.00           H  \nTER     109      HOH X   0\nATOM    110  O1x HOH X   0       7.108  19.195  10.684  1.00  0.00           O  \nATOM    111  H1x HOH X   0       6.807  18.521  11.293  1.00  0.00           H  \nATOM    112  H2x HOH X   0       7.170  19.989  11.216  1.00  0.00           H  \nTER     113      HOH X   0\nATOM    114  O1x HOH X   0      16.731  23.326  12.762  1.00  0.00           O  \nATOM    115  H1x HOH X   0      16.778  22.781  13.548  1.00  0.00           H  \nATOM    116  H2x HOH X   0      15.794  23.459  12.618  1.00  0.00           H  \nTER     117      HOH X   0\nATOM    118  O1x HOH X   0       1.382  26.806   0.725  1.00  0.00           O  \nATOM    119  H1x HOH X   0       0.975  26.115   1.246  1.00  0.00           H  \nATOM    120  H2x HOH X   0       1.157  26.589  -0.180  1.00  0.00           H  \nTER     121      HOH X   0\nATOM    122  O1x HOH X   0       5.983   6.651  17.399  1.00  0.00           O  \nATOM    123  H1x HOH X   0       5.459   5.853  17.334  1.00  0.00           H  \nATOM    124  H2x HOH X   0       5.660   7.088  18.187  1.00  0.00           H  \nTER     125      HOH X   0\nATOM    126  O1x HOH X   0      32.635  17.120  11.466  1.00  0.00           O  \nATOM    127  H1x HOH X   0      33.357  17.707  11.691  1.00  0.00           H  \nATOM    128  H2x HOH X   0      32.272  16.853  12.310  1.00  0.00           H  \nTER     129      HOH X   0\nATOM    130  O1x HOH X   0      27.624  10.858  33.329  1.00  0.00           O  \nATOM    131  H1x HOH X   0      27.133  11.225  34.064  1.00  0.00           H  \nATOM    132  H2x HOH X   0      28.001  10.048  33.673  1.00  0.00           H  \nTER     133      HOH X   0\nATOM    134  O1x HOH X   0       5.481  16.168  15.901  1.00  0.00           O  \nATOM    135  H1x HOH X   0       6.425  16.013  15.871  1.00  0.00           H  \nATOM    136  H2x HOH X   0       5.092  15.311  15.723  1.00  0.00           H  \nTER     137      HOH X   0\nATOM    138  O1x HOH X   0      18.352  26.551  21.104  1.00  0.00           O  \nATOM    139  H1x HOH X   0      17.412  26.668  20.970  1.00  0.00           H  \nATOM    140  H2x HOH X   0      18.726  26.585  20.224  1.00  0.00           H  \nTER     141      HOH X   0\nATOM    142  O1x HOH X   0      26.139  18.523  32.575  1.00  0.00           O  \nATOM    143  H1x HOH X   0      25.310  18.166  32.256  1.00  0.00           H  \nATOM    144  H2x HOH X   0      26.810  18.041  32.093  1.00  0.00           H  \nTER     145      HOH X   0\nATOM    146  O1x HOH X   0      33.514  10.470  27.589  1.00  0.00           O  \nATOM    147  H1x HOH X   0      32.915  11.081  27.160  1.00  0.00           H  \nATOM    148  H2x HOH X   0      32.996  10.080  28.293  1.00  0.00           H  \nTER     149      HOH X   0\nATOM    150  O1x HOH X   0      29.500  22.237  20.793  1.00  0.00           O  \nATOM    151  H1x HOH X   0      30.058  22.186  20.018  1.00  0.00           H  \nATOM    152  H2x HOH X   0      30.095  22.090  21.528  1.00  0.00           H  \nTER     153      HOH X   0\nATOM    154  O1x HOH X   0       2.335  15.591  25.337  1.00  0.00           O  \nATOM    155  H1x HOH X   0       1.725  15.390  26.047  1.00  0.00           H  \nATOM    156  H2x HOH X   0       1.786  15.633  24.554  1.00  0.00           H  \nTER     157      HOH X   0\nATOM    158  O1x HOH X   0       5.220  13.697  32.750  1.00  0.00           O  \nATOM    159  H1x HOH X   0       5.638  14.158  33.478  1.00  0.00           H  \nATOM    160  H2x HOH X   0       5.756  12.915  32.621  1.00  0.00           H  \nTER     161      HOH X   0\nATOM    162  O1x HOH X   0      27.350  18.195   3.175  1.00  0.00           O  \nATOM    163  H1x HOH X   0      26.439  18.010   3.404  1.00  0.00           H  \nATOM    164  H2x HOH X   0      27.313  19.019   2.689  1.00  0.00           H  \nTER     165      HOH X   0\nATOM    166  O1x HOH X   0      10.966  11.363  17.661  1.00  0.00           O  \nATOM    167  H1x HOH X   0      10.808  11.195  16.732  1.00  0.00           H  \nATOM    168  H2x HOH X   0      10.234  10.939  18.109  1.00  0.00           H  \nTER     169      HOH X   0\nATOM    170  O1x HOH X   0      24.983  27.920  34.260  1.00  0.00           O  \nATOM    171  H1x HOH X   0      24.883  27.710  35.189  1.00  0.00           H  \nATOM    172  H2x HOH X   0      24.148  27.668  33.866  1.00  0.00           H  \nTER     173      HOH X   0\nATOM    174  O1x HOH X   0       4.397   8.030  15.176  1.00  0.00           O  \nATOM    175  H1x HOH X   0       5.059   7.982  15.866  1.00  0.00           H  \nATOM    176  H2x HOH X   0       4.111   7.124  15.055  1.00  0.00           H  \nTER     177      HOH X   0\nATOM    178  O1x HOH X   0       5.254  31.124  12.839  1.00  0.00           O  \nATOM    179  H1x HOH X   0       4.402  31.518  12.654  1.00  0.00           H  \nATOM    180  H2x HOH X   0       5.355  31.207  13.788  1.00  0.00           H  \nTER     181      HOH X   0\nATOM    182  O1x HOH X   0      12.398  29.771  13.362  1.00  0.00           O  \nATOM    183  H1x HOH X   0      12.790  29.957  14.215  1.00  0.00           H  \nATOM    184  H2x HOH X   0      11.470  29.633  13.550  1.00  0.00           H  \nTER     185      HOH X   0\nATOM    186  O1x HOH X   0      24.611   1.639   1.536  1.00  0.00           O  \nATOM    187  H1x HOH X   0      24.266   0.767   1.343  1.00  0.00           H  \nATOM    188  H2x HOH X   0      23.862   2.120   1.888  1.00  0.00           H  \nTER     189      HOH X   0\nATOM    190  O1x HOH X   0      27.868  11.186  22.250  1.00  0.00           O  \nATOM    191  H1x HOH X   0      27.348  11.555  21.535  1.00  0.00           H  \nATOM    192  H2x HOH X   0      28.776  11.332  21.985  1.00  0.00           H  \nTER     193      HOH X   0\nATOM    194  O1x HOH X   0       1.964   4.162  23.300  1.00  0.00           O  \nATOM    195  H1x HOH X   0       1.899   4.727  24.070  1.00  0.00           H  \nATOM    196  H2x HOH X   0       1.132   4.282  22.842  1.00  0.00           H  \nTER     197      HOH X   0\nATOM    198  O1x HOH X   0      31.887   0.762  26.544  1.00  0.00           O  \nATOM    199  H1x HOH X   0      32.129   0.100  27.191  1.00  0.00           H  \nATOM    200  H2x HOH X   0      31.533   1.485  27.061  1.00  0.00           H  \nTER     201      HOH X   0\nATOM    202  O1x HOH X   0       9.701  11.802  26.294  1.00  0.00           O  \nATOM    203  H1x HOH X   0      10.353  11.921  25.604  1.00  0.00           H  \nATOM    204  H2x HOH X   0       8.864  11.989  25.869  1.00  0.00           H  \nTER     205      HOH X   0\nATOM    206  O1x HOH X   0      15.428   3.139  26.468  1.00  0.00           O  \nATOM    207  H1x HOH X   0      14.878   3.260  27.243  1.00  0.00           H  \nATOM    208  H2x HOH X   0      15.499   2.190  26.370  1.00  0.00           H  \nTER     209      HOH X   0\nATOM    210  O1x HOH X   0      33.731  29.315   4.905  1.00  0.00           O  \nATOM    211  H1x HOH X   0      32.807  29.407   5.136  1.00  0.00           H  \nATOM    212  H2x HOH X   0      34.171  29.146   5.738  1.00  0.00           H  \nTER     213      HOH X   0\nATOM    214  O1x HOH X   0       8.361   3.864  29.559  1.00  0.00           O  \nATOM    215  H1x HOH X   0       8.233   4.075  30.484  1.00  0.00           H  \nATOM    216  H2x HOH X   0       8.551   4.707  29.145  1.00  0.00           H  \nTER     217      HOH X   0\nATOM    218  O1x HOH X   0      12.607  27.369  30.310  1.00  0.00           O  \nATOM    219  H1x HOH X   0      11.971  27.487  29.605  1.00  0.00           H  \nATOM    220  H2x HOH X   0      13.417  27.120  29.864  1.00  0.00           H  \nTER     221      HOH X   0\nATOM    222  O1x HOH X   0      14.974  23.817  16.639  1.00  0.00           O  \nATOM    223  H1x HOH X   0      15.303  24.669  16.352  1.00  0.00           H  \nATOM    224  H2x HOH X   0      15.639  23.496  17.248  1.00  0.00           H  \nTER     225      HOH X   0\nATOM    226  O1x HOH X   0       7.546   7.369   0.089  1.00  0.00           O  \nATOM    227  H1x HOH X   0       7.924   8.141  -0.331  1.00  0.00           H  \nATOM    228  H2x HOH X   0       7.811   7.441   1.006  1.00  0.00           H  \nTER     229      HOH X   0\nATOM    230  O1x HOH X   0       7.486  27.217   5.801  1.00  0.00           O  \nATOM    231  H1x HOH X   0       8.126  27.670   6.350  1.00  0.00           H  \nATOM    232  H2x HOH X   0       7.868  27.235   4.923  1.00  0.00           H  \nTER     233      HOH X   0\nATOM    234  O1x HOH X   0      24.127  33.857  16.839  1.00  0.00           O  \nATOM    235  H1x HOH X   0      24.452  34.749  16.711  1.00  0.00           H  \nATOM    236  H2x HOH X   0      23.229  33.971  17.150  1.00  0.00           H  \nTER     237      HOH X   0\nATOM    238  O1x HOH X   0      26.929  26.206  26.906  1.00  0.00           O  \nATOM    239  H1x HOH X   0      26.092  26.637  27.076  1.00  0.00           H  \nATOM    240  H2x HOH X   0      26.852  25.878  26.010  1.00  0.00           H  \nTER     241      HOH X   0\nATOM    242  O1x HOH X   0      22.159  24.421  17.321  1.00  0.00           O  \nATOM    243  H1x HOH X   0      22.174  25.122  17.973  1.00  0.00           H  \nATOM    244  H2x HOH X   0      23.051  24.073  17.322  1.00  0.00           H  \nTER     245      HOH X   0\nATOM    246  O1x HOH X   0      30.243   8.122  16.436  1.00  0.00           O  \nATOM    247  H1x HOH X   0      30.228   8.782  17.130  1.00  0.00           H  \nATOM    248  H2x HOH X   0      29.345   7.792  16.399  1.00  0.00           H  \nTER     249      HOH X   0\nATOM    250  O1x HOH X   0      26.185   2.653  23.526  1.00  0.00           O  \nATOM    251  H1x HOH X   0      25.474   2.059  23.287  1.00  0.00           H  \nATOM    252  H2x HOH X   0      26.743   2.685  22.748  1.00  0.00           H  \nTER     253      HOH X   0\nATOM    254  O1x HOH X   0      20.391  32.333  30.152  1.00  0.00           O  \nATOM    255  H1x HOH X   0      19.519  32.575  30.463  1.00  0.00           H  \nATOM    256  H2x HOH X   0      20.249  32.017  29.260  1.00  0.00           H  \nTER     257      HOH X   0\nATOM    258  O1x HOH X   0       4.264  32.390  20.939  1.00  0.00           O  \nATOM    259  H1x HOH X   0       5.200  32.587  20.897  1.00  0.00           H  \nATOM    260  H2x HOH X   0       3.920  32.997  21.594  1.00  0.00           H  \nTER     261      HOH X   0\nATOM    262  O1x HOH X   0       5.049   1.064  30.893  1.00  0.00           O  \nATOM    263  H1x HOH X   0       4.694   1.589  31.611  1.00  0.00           H  \nATOM    264  H2x HOH X   0       5.754   0.555  31.294  1.00  0.00           H  \nTER     265      HOH X   0\nATOM    266  O1x HOH X   0      24.106  10.415   6.782  1.00  0.00           O  \nATOM    267  H1x HOH X   0      24.002   9.537   6.414  1.00  0.00           H  \nATOM    268  H2x HOH X   0      24.034  10.289   7.728  1.00  0.00           H  \nTER     269      HOH X   0\nATOM    270  O1x HOH X   0       6.881   1.893  18.514  1.00  0.00           O  \nATOM    271  H1x HOH X   0       7.461   2.087  17.778  1.00  0.00           H  \nATOM    272  H2x HOH X   0       6.317   1.188  18.196  1.00  0.00           H  \nTER     273      HOH X   0\nATOM    274  O1x HOH X   0      16.722  23.064  18.794  1.00  0.00           O  \nATOM    275  H1x HOH X   0      17.230  23.857  18.967  1.00  0.00           H  \nATOM    276  H2x HOH X   0      17.350  22.457  18.402  1.00  0.00           H  \nTER     277      HOH X   0\nATOM    278  O1x HOH X   0       0.928  16.748  14.366  1.00  0.00           O  \nATOM    279  H1x HOH X   0       1.423  17.075  15.117  1.00  0.00           H  \nATOM    280  H2x HOH X   0       1.583  16.318  13.816  1.00  0.00           H  \nTER     281      HOH X   0\nATOM    282  O1x HOH X   0      11.796   0.336   9.576  1.00  0.00           O  \nATOM    283  H1x HOH X   0      11.334   0.081  10.374  1.00  0.00           H  \nATOM    284  H2x HOH X   0      12.667   0.598   9.876  1.00  0.00           H  \nTER     285      HOH X   0\nATOM    286  O1x HOH X   0       0.739  12.544  13.118  1.00  0.00           O  \nATOM    287  H1x HOH X   0       1.116  12.239  12.292  1.00  0.00           H  \nATOM    288  H2x HOH X   0      -0.157  12.793  12.894  1.00  0.00           H  \nTER     289      HOH X   0\nATOM    290  O1x HOH X   0      14.247   7.616  15.103  1.00  0.00           O  \nATOM    291  H1x HOH X   0      13.965   6.710  15.223  1.00  0.00           H  \nATOM    292  H2x HOH X   0      14.398   7.941  15.991  1.00  0.00           H  \nTER     293      HOH X   0\nATOM    294  O1x HOH X   0      10.716   3.168   7.975  1.00  0.00           O  \nATOM    295  H1x HOH X   0      10.881   3.906   8.562  1.00  0.00           H  \nATOM    296  H2x HOH X   0      11.530   2.665   7.989  1.00  0.00           H  \nTER     297      HOH X   0\nATOM    298  O1x HOH X   0      34.073  23.668  29.215  1.00  0.00           O  \nATOM    299  H1x HOH X   0      34.534  23.324  28.450  1.00  0.00           H  \nATOM    300  H2x HOH X   0      34.734  23.682  29.907  1.00  0.00           H  \nTER     301      HOH X   0\nATOM    302  O1x HOH X   0      30.477   6.208   3.791  1.00  0.00           O  \nATOM    303  H1x HOH X   0      31.155   6.527   3.195  1.00  0.00           H  \nATOM    304  H2x HOH X   0      30.887   5.477   4.253  1.00  0.00           H  \nTER     305      HOH X   0\nATOM    306  O1x HOH X   0      26.125   4.640  -0.037  1.00  0.00           O  \nATOM    307  H1x HOH X   0      25.386   4.232   0.414  1.00  0.00           H  \nATOM    308  H2x HOH X   0      25.970   5.580   0.051  1.00  0.00           H  \nTER     309      HOH X   0\nATOM    310  O1x HOH X   0      11.983  28.649  20.878  1.00  0.00           O  \nATOM    311  H1x HOH X   0      11.117  28.402  20.552  1.00  0.00           H  \nATOM    312  H2x HOH X   0      12.214  27.954  21.494  1.00  0.00           H  \nTER     313      HOH X   0\nATOM    314  O1x HOH X   0      13.873  30.984  18.832  1.00  0.00           O  \nATOM    315  H1x HOH X   0      14.250  31.864  18.813  1.00  0.00           H  \nATOM    316  H2x HOH X   0      13.091  31.047  18.283  1.00  0.00           H  \nTER     317      HOH X   0\nATOM    318  O1x HOH X   0      13.312   7.002   2.136  1.00  0.00           O  \nATOM    319  H1x HOH X   0      13.168   6.109   2.449  1.00  0.00           H  \nATOM    320  H2x HOH X   0      13.348   6.918   1.183  1.00  0.00           H  \nTER     321      HOH X   0\nATOM    322  O1x HOH X   0      28.855  26.038  34.671  1.00  0.00           O  \nATOM    323  H1x HOH X   0      29.221  26.244  33.811  1.00  0.00           H  \nATOM    324  H2x HOH X   0      29.552  25.559  35.120  1.00  0.00           H  \nTER     325      HOH X   0\nATOM    326  O1x HOH X   0       1.137  11.817  22.678  1.00  0.00           O  \nATOM    327  H1x HOH X   0       1.961  11.899  22.198  1.00  0.00           H  \nATOM    328  H2x HOH X   0       1.362  12.038  23.582  1.00  0.00           H  \nTER     329      HOH X   0\nATOM    330  O1x HOH X   0       3.023  34.202   8.833  1.00  0.00           O  \nATOM    331  H1x HOH X   0       2.891  34.940   8.237  1.00  0.00           H  \nATOM    332  H2x HOH X   0       3.835  33.793   8.533  1.00  0.00           H  \nTER     333      HOH X   0\nATOM    334  O1x HOH X   0       6.327   7.882  26.244  1.00  0.00           O  \nATOM    335  H1x HOH X   0       6.364   6.977  26.552  1.00  0.00           H  \nATOM    336  H2x HOH X   0       5.527   7.925  25.720  1.00  0.00           H  \nTER     337      HOH X   0\nATOM    338  O1x HOH X   0       8.246  24.446  25.903  1.00  0.00           O  \nATOM    339  H1x HOH X   0       8.504  24.573  26.816  1.00  0.00           H  \nATOM    340  H2x HOH X   0       8.255  25.326  25.527  1.00  0.00           H  \nTER     341      HOH X   0\nATOM    342  O1x HOH X   0      19.311   1.768   6.305  1.00  0.00           O  \nATOM    343  H1x HOH X   0      20.052   1.234   6.019  1.00  0.00           H  \nATOM    344  H2x HOH X   0      18.721   1.150   6.736  1.00  0.00           H  \nTER     345      HOH X   0\nATOM    346  O1x HOH X   0       0.949   9.182  13.295  1.00  0.00           O  \nATOM    347  H1x HOH X   0       1.865   9.412  13.455  1.00  0.00           H  \nATOM    348  H2x HOH X   0       0.631   9.863  12.703  1.00  0.00           H  \nTER     349      HOH X   0\nATOM    350  O1x HOH X   0      23.379  11.366  30.172  1.00  0.00           O  \nATOM    351  H1x HOH X   0      22.923  12.206  30.230  1.00  0.00           H  \nATOM    352  H2x HOH X   0      24.307  11.592  30.237  1.00  0.00           H  \nTER     353      HOH X   0\nATOM    354  O1x HOH X   0      26.370  22.184  26.859  1.00  0.00           O  \nATOM    355  H1x HOH X   0      26.040  21.350  27.193  1.00  0.00           H  \nATOM    356  H2x HOH X   0      27.118  22.389  27.420  1.00  0.00           H  \nTER     357      HOH X   0\nATOM    358  O1x HOH X   0       7.099   0.442  22.642  1.00  0.00           O  \nATOM    359  H1x HOH X   0       6.326   0.796  22.203  1.00  0.00           H  \nATOM    360  H2x HOH X   0       7.508   1.201  23.057  1.00  0.00           H  \nTER     361      HOH X   0\nATOM    362  O1x HOH X   0      16.463  18.626   7.619  1.00  0.00           O  \nATOM    363  H1x HOH X   0      17.041  17.863   7.599  1.00  0.00           H  \nATOM    364  H2x HOH X   0      16.952  19.310   7.162  1.00  0.00           H  \nTER     365      HOH X   0\nATOM    366  O1x HOH X   0       0.697  32.515   8.637  1.00  0.00           O  \nATOM    367  H1x HOH X   0       1.311  32.162   7.994  1.00  0.00           H  \nATOM    368  H2x HOH X   0       1.130  33.297   8.980  1.00  0.00           H  \nTER     369      HOH X   0\nATOM    370  O1x HOH X   0       8.311  15.256  17.205  1.00  0.00           O  \nATOM    371  H1x HOH X   0       9.218  14.974  17.086  1.00  0.00           H  \nATOM    372  H2x HOH X   0       8.347  15.879  17.931  1.00  0.00           H  \nTER     373      HOH X   0\nATOM    374  O1x HOH X   0       8.531   1.623   7.686  1.00  0.00           O  \nATOM    375  H1x HOH X   0       9.435   1.912   7.810  1.00  0.00           H  \nATOM    376  H2x HOH X   0       8.608   0.728   7.355  1.00  0.00           H  \nTER     377      HOH X   0\nATOM    378  O1x HOH X   0       7.270   2.250  15.697  1.00  0.00           O  \nATOM    379  H1x HOH X   0       6.768   2.070  14.902  1.00  0.00           H  \nATOM    380  H2x HOH X   0       7.927   1.555  15.729  1.00  0.00           H  \nTER     381      HOH X   0\nATOM    382  O1x HOH X   0      13.945  18.710   8.687  1.00  0.00           O  \nATOM    383  H1x HOH X   0      14.818  18.792   8.303  1.00  0.00           H  \nATOM    384  H2x HOH X   0      13.417  18.307   7.998  1.00  0.00           H  \nTER     385      HOH X   0\nATOM    386  O1x HOH X   0      32.160  21.608  20.552  1.00  0.00           O  \nATOM    387  H1x HOH X   0      32.547  21.503  19.683  1.00  0.00           H  \nATOM    388  H2x HOH X   0      32.744  22.217  21.004  1.00  0.00           H  \nTER     389      HOH X   0\nATOM    390  O1x HOH X   0      27.010  25.932  21.088  1.00  0.00           O  \nATOM    391  H1x HOH X   0      27.965  25.931  21.161  1.00  0.00           H  \nATOM    392  H2x HOH X   0      26.723  26.594  21.717  1.00  0.00           H  \nTER     393      HOH X   0\nATOM    394  O1x HOH X   0       7.798   4.374   7.771  1.00  0.00           O  \nATOM    395  H1x HOH X   0       8.026   3.444   7.755  1.00  0.00           H  \nATOM    396  H2x HOH X   0       8.503   4.786   8.270  1.00  0.00           H  \nTER     397      HOH X   0\nATOM    398  O1x HOH X   0      23.004  18.258  25.537  1.00  0.00           O  \nATOM    399  H1x HOH X   0      22.828  18.834  24.793  1.00  0.00           H  \nATOM    400  H2x HOH X   0      23.846  18.559  25.880  1.00  0.00           H  \nTER     401      HOH X   0\nATOM    402  O1x HOH X   0      18.176   3.107   9.341  1.00  0.00           O  \nATOM    403  H1x HOH X   0      19.086   3.337   9.153  1.00  0.00           H  \nATOM    404  H2x HOH X   0      18.060   2.243   8.946  1.00  0.00           H  \nTER     405      HOH X   0\nATOM    406  O1x HOH X   0       5.055   7.347   1.675  1.00  0.00           O  \nATOM    407  H1x HOH X   0       5.230   7.036   0.786  1.00  0.00           H  \nATOM    408  H2x HOH X   0       5.799   7.032   2.189  1.00  0.00           H  \nTER     409      HOH X   0\nATOM    410  O1x HOH X   0      10.993   9.677   9.237  1.00  0.00           O  \nATOM    411  H1x HOH X   0      11.500   8.915   9.517  1.00  0.00           H  \nATOM    412  H2x HOH X   0      11.647  10.293   8.908  1.00  0.00           H  \nTER     413      HOH X   0\nATOM    414  O1x HOH X   0      13.013   1.516  13.428  1.00  0.00           O  \nATOM    415  H1x HOH X   0      12.427   0.797  13.192  1.00  0.00           H  \nATOM    416  H2x HOH X   0      13.710   1.483  12.772  1.00  0.00           H  \nTER     417      HOH X   0\nATOM    418  O1x HOH X   0      32.940  33.225  22.551  1.00  0.00           O  \nATOM    419  H1x HOH X   0      32.995  33.134  21.600  1.00  0.00           H  \nATOM    420  H2x HOH X   0      33.670  33.801  22.779  1.00  0.00           H  \nTER     421      HOH X   0\nATOM    422  O1x HOH X   0       6.827  32.347  21.701  1.00  0.00           O  \nATOM    423  H1x HOH X   0       6.477  31.622  22.217  1.00  0.00           H  \nATOM    424  H2x HOH X   0       7.084  33.002  22.351  1.00  0.00           H  \nTER     425      HOH X   0\nATOM    426  O1x HOH X   0       6.220   1.781   9.538  1.00  0.00           O  \nATOM    427  H1x HOH X   0       6.896   1.591   8.887  1.00  0.00           H  \nATOM    428  H2x HOH X   0       5.660   2.435   9.118  1.00  0.00           H  \nTER     429      HOH X   0\nATOM    430  O1x HOH X   0       8.691  33.063  16.144  1.00  0.00           O  \nATOM    431  H1x HOH X   0       8.756  32.192  16.536  1.00  0.00           H  \nATOM    432  H2x HOH X   0       9.363  33.579  16.590  1.00  0.00           H  \nTER     433      HOH X   0\nATOM    434  O1x HOH X   0      11.004  16.935  28.345  1.00  0.00           O  \nATOM    435  H1x HOH X   0      10.756  17.139  27.443  1.00  0.00           H  \nATOM    436  H2x HOH X   0      11.572  17.659  28.607  1.00  0.00           H  \nTER     437      HOH X   0\nATOM    438  O1x HOH X   0      17.293   3.301   1.749  1.00  0.00           O  \nATOM    439  H1x HOH X   0      17.897   2.823   2.316  1.00  0.00           H  \nATOM    440  H2x HOH X   0      16.993   4.036   2.283  1.00  0.00           H  \nTER     441      HOH X   0\nATOM    442  O1x HOH X   0       8.220  32.539   3.120  1.00  0.00           O  \nATOM    443  H1x HOH X   0       8.543  33.403   3.376  1.00  0.00           H  \nATOM    444  H2x HOH X   0       8.946  32.145   2.636  1.00  0.00           H  \nTER     445      HOH X   0\nATOM    446  O1x HOH X   0      22.296  24.303   3.095  1.00  0.00           O  \nATOM    447  H1x HOH X   0      23.025  23.912   2.614  1.00  0.00           H  \nATOM    448  H2x HOH X   0      22.009  25.032   2.546  1.00  0.00           H  \nTER     449      HOH X   0\nATOM    450  O1x HOH X   0      20.562  10.861  12.553  1.00  0.00           O  \nATOM    451  H1x HOH X   0      20.545  11.735  12.161  1.00  0.00           H  \nATOM    452  H2x HOH X   0      20.550  10.263  11.806  1.00  0.00           H  \nTER     453      HOH X   0\nATOM    454  O1x HOH X   0      28.648  26.624  11.185  1.00  0.00           O  \nATOM    455  H1x HOH X   0      28.181  26.188  10.473  1.00  0.00           H  \nATOM    456  H2x HOH X   0      28.255  27.495  11.233  1.00  0.00           H  \nTER     457      HOH X   0\nATOM    458  O1x HOH X   0      33.995   1.977   5.843  1.00  0.00           O  \nATOM    459  H1x HOH X   0      33.392   2.335   5.193  1.00  0.00           H  \nATOM    460  H2x HOH X   0      33.852   1.031   5.808  1.00  0.00           H  \nTER     461      HOH X   0\nATOM    462  O1x HOH X   0      25.751   5.058  27.411  1.00  0.00           O  \nATOM    463  H1x HOH X   0      25.217   5.380  28.137  1.00  0.00           H  \nATOM    464  H2x HOH X   0      26.072   5.850  26.979  1.00  0.00           H  \nTER     465      HOH X   0\nATOM    466  O1x HOH X   0       2.626  25.169  22.592  1.00  0.00           O  \nATOM    467  H1x HOH X   0       3.020  25.628  23.333  1.00  0.00           H  \nATOM    468  H2x HOH X   0       1.742  24.951  22.887  1.00  0.00           H  \nTER     469      HOH X   0\nATOM    470  O1x HOH X   0      15.596  17.611  26.731  1.00  0.00           O  \nATOM    471  H1x HOH X   0      15.697  16.679  26.923  1.00  0.00           H  \nATOM    472  H2x HOH X   0      16.366  18.022  27.124  1.00  0.00           H  \nTER     473      HOH X   0\nATOM    474  O1x HOH X   0      16.330  32.211  25.981  1.00  0.00           O  \nATOM    475  H1x HOH X   0      16.761  32.763  25.329  1.00  0.00           H  \nATOM    476  H2x HOH X   0      15.424  32.146  25.679  1.00  0.00           H  \nTER     477      HOH X   0\nATOM    478  O1x HOH X   0      21.924  27.541   4.479  1.00  0.00           O  \nATOM    479  H1x HOH X   0      21.090  27.071   4.495  1.00  0.00           H  \nATOM    480  H2x HOH X   0      21.852  28.183   5.185  1.00  0.00           H  \nTER     481      HOH X   0\nATOM    482  O1x HOH X   0      27.650  23.989  12.868  1.00  0.00           O  \nATOM    483  H1x HOH X   0      27.477  23.539  12.041  1.00  0.00           H  \nATOM    484  H2x HOH X   0      28.219  24.720  12.630  1.00  0.00           H  \nTER     485      HOH X   0\nATOM    486  O1x HOH X   0      16.122   1.219   0.305  1.00  0.00           O  \nATOM    487  H1x HOH X   0      16.368   2.079   0.645  1.00  0.00           H  \nATOM    488  H2x HOH X   0      16.529   0.596   0.907  1.00  0.00           H  \nTER     489      HOH X   0\nATOM    490  O1x HOH X   0      15.378  20.140  17.638  1.00  0.00           O  \nATOM    491  H1x HOH X   0      16.234  20.026  18.051  1.00  0.00           H  \nATOM    492  H2x HOH X   0      14.852  20.594  18.296  1.00  0.00           H  \nTER     493      HOH X   0\nATOM    494  O1x HOH X   0      14.156   4.089   7.420  1.00  0.00           O  \nATOM    495  H1x HOH X   0      13.955   3.158   7.329  1.00  0.00           H  \nATOM    496  H2x HOH X   0      14.076   4.262   8.358  1.00  0.00           H  \nTER     497      HOH X   0\nATOM    498  O1x HOH X   0      12.291   1.213   1.869  1.00  0.00           O  \nATOM    499  H1x HOH X   0      12.600   0.314   1.755  1.00  0.00           H  \nATOM    500  H2x HOH X   0      12.096   1.514   0.981  1.00  0.00           H  \nTER     501      HOH X   0\nATOM    502  O1x HOH X   0      19.982   9.138   4.462  1.00  0.00           O  \nATOM    503  H1x HOH X   0      19.223   8.615   4.717  1.00  0.00           H  \nATOM    504  H2x HOH X   0      19.619   9.994   4.236  1.00  0.00           H  \nTER     505      HOH X   0\nATOM    506  O1x HOH X   0       7.148  17.943  23.098  1.00  0.00           O  \nATOM    507  H1x HOH X   0       7.326  17.982  24.038  1.00  0.00           H  \nATOM    508  H2x HOH X   0       8.007  17.809  22.697  1.00  0.00           H  \nTER     509      HOH X   0\nATOM    510  O1x HOH X   0      14.734   9.190  26.264  1.00  0.00           O  \nATOM    511  H1x HOH X   0      14.238   8.626  25.671  1.00  0.00           H  \nATOM    512  H2x HOH X   0      14.360  10.062  26.135  1.00  0.00           H  \nTER     513      HOH X   0\nATOM    514  O1x HOH X   0      14.175  28.486   5.221  1.00  0.00           O  \nATOM    515  H1x HOH X   0      13.569  28.842   5.871  1.00  0.00           H  \nATOM    516  H2x HOH X   0      14.178  29.133   4.516  1.00  0.00           H  \nTER     517      HOH X   0\nATOM    518  O1x HOH X   0       6.734  21.726  26.196  1.00  0.00           O  \nATOM    519  H1x HOH X   0       6.337  21.734  25.325  1.00  0.00           H  \nATOM    520  H2x HOH X   0       6.891  22.649  26.397  1.00  0.00           H  \nTER     521      HOH X   0\nATOM    522  O1x HOH X   0      35.037   0.262  22.688  1.00  0.00           O  \nATOM    523  H1x HOH X   0      35.298   0.541  23.566  1.00  0.00           H  \nATOM    524  H2x HOH X   0      34.155   0.615  22.576  1.00  0.00           H  \nTER     525      HOH X   0\nATOM    526  O1x HOH X   0      17.622   4.390  24.905  1.00  0.00           O  \nATOM    527  H1x HOH X   0      17.371   4.176  25.803  1.00  0.00           H  \nATOM    528  H2x HOH X   0      17.870   5.314  24.939  1.00  0.00           H  \nTER     529      HOH X   0\nATOM    530  O1x HOH X   0      27.168  33.516  12.294  1.00  0.00           O  \nATOM    531  H1x HOH X   0      28.029  33.104  12.368  1.00  0.00           H  \nATOM    532  H2x HOH X   0      26.978  33.506  11.356  1.00  0.00           H  \nTER     533      HOH X   0\nATOM    534  O1x HOH X   0      20.150  25.253  27.446  1.00  0.00           O  \nATOM    535  H1x HOH X   0      20.506  25.906  26.842  1.00  0.00           H  \nATOM    536  H2x HOH X   0      20.455  25.534  28.309  1.00  0.00           H  \nTER     537      HOH X   0\nATOM    538  O1x HOH X   0      33.153  17.943  14.391  1.00  0.00           O  \nATOM    539  H1x HOH X   0      33.593  18.734  14.701  1.00  0.00           H  \nATOM    540  H2x HOH X   0      33.688  17.224  14.727  1.00  0.00           H  \nTER     541      HOH X   0\nATOM    542  O1x HOH X   0       6.269  10.534  16.564  1.00  0.00           O  \nATOM    543  H1x HOH X   0       7.102  10.947  16.793  1.00  0.00           H  \nATOM    544  H2x HOH X   0       6.120  10.786  15.652  1.00  0.00           H  \nTER     545      HOH X   0\nATOM    546  O1x HOH X   0       6.507  22.598   1.592  1.00  0.00           O  \nATOM    547  H1x HOH X   0       6.820  23.387   1.149  1.00  0.00           H  \nATOM    548  H2x HOH X   0       6.012  22.127   0.922  1.00  0.00           H  \nTER     549      HOH X   0\nATOM    550  O1x HOH X   0      18.451   0.722  15.197  1.00  0.00           O  \nATOM    551  H1x HOH X   0      17.864   0.653  14.443  1.00  0.00           H  \nATOM    552  H2x HOH X   0      17.987   0.275  15.904  1.00  0.00           H  \nTER     553      HOH X   0\nATOM    554  O1x HOH X   0       2.436  18.671  11.093  1.00  0.00           O  \nATOM    555  H1x HOH X   0       2.655  17.754  10.929  1.00  0.00           H  \nATOM    556  H2x HOH X   0       2.762  19.138  10.324  1.00  0.00           H  \nTER     557      HOH X   0\nATOM    558  O1x HOH X   0      21.857   8.998  14.615  1.00  0.00           O  \nATOM    559  H1x HOH X   0      22.256   8.221  14.225  1.00  0.00           H  \nATOM    560  H2x HOH X   0      21.230   9.302  13.958  1.00  0.00           H  \nTER     561      HOH X   0\nATOM    562  O1x HOH X   0       7.598   0.350  31.023  1.00  0.00           O  \nATOM    563  H1x HOH X   0       8.298   0.506  31.658  1.00  0.00           H  \nATOM    564  H2x HOH X   0       7.663   1.083  30.411  1.00  0.00           H  \nTER     565      HOH X   0\nATOM    566  O1x HOH X   0      18.660  25.544  17.273  1.00  0.00           O  \nATOM    567  H1x HOH X   0      18.987  26.318  17.731  1.00  0.00           H  \nATOM    568  H2x HOH X   0      19.427  24.979  17.178  1.00  0.00           H  \nTER     569      HOH X   0\nATOM    570  O1x HOH X   0      34.246  29.216   8.192  1.00  0.00           O  \nATOM    571  H1x HOH X   0      35.113  28.812   8.214  1.00  0.00           H  \nATOM    572  H2x HOH X   0      33.637  28.486   8.307  1.00  0.00           H  \nTER     573      HOH X   0\nATOM    574  O1x HOH X   0       6.769   6.027   6.045  1.00  0.00           O  \nATOM    575  H1x HOH X   0       7.470   5.961   5.397  1.00  0.00           H  \nATOM    576  H2x HOH X   0       7.017   5.407   6.731  1.00  0.00           H  \nTER     577      HOH X   0\nATOM    578  O1x HOH X   0      14.970  25.533   6.792  1.00  0.00           O  \nATOM    579  H1x HOH X   0      14.999  26.457   6.545  1.00  0.00           H  \nATOM    580  H2x HOH X   0      15.525  25.474   7.569  1.00  0.00           H  \nTER     581      HOH X   0\nATOM    582  O1x HOH X   0      10.437  14.754   9.645  1.00  0.00           O  \nATOM    583  H1x HOH X   0      10.011  14.208   8.984  1.00  0.00           H  \nATOM    584  H2x HOH X   0      11.351  14.467   9.639  1.00  0.00           H  \nTER     585      HOH X   0\nATOM    586  O1x HOH X   0      11.676  29.070   1.763  1.00  0.00           O  \nATOM    587  H1x HOH X   0      11.868  28.920   0.837  1.00  0.00           H  \nATOM    588  H2x HOH X   0      11.364  28.223   2.083  1.00  0.00           H  \nTER     589      HOH X   0\nATOM    590  O1x HOH X   0      29.738   3.821  17.896  1.00  0.00           O  \nATOM    591  H1x HOH X   0      30.388   3.920  17.200  1.00  0.00           H  \nATOM    592  H2x HOH X   0      30.042   3.067  18.402  1.00  0.00           H  \nTER     593      HOH X   0\nATOM    594  O1x HOH X   0       9.320  26.690  22.042  1.00  0.00           O  \nATOM    595  H1x HOH X   0       9.279  25.792  22.371  1.00  0.00           H  \nATOM    596  H2x HOH X   0       8.601  26.749  21.413  1.00  0.00           H  \nTER     597      HOH X   0\nATOM    598  O1x HOH X   0      20.260  10.163   0.161  1.00  0.00           O  \nATOM    599  H1x HOH X   0      20.685   9.335   0.382  1.00  0.00           H  \nATOM    600  H2x HOH X   0      20.613  10.790   0.793  1.00  0.00           H  \nTER     601      HOH X   0\nATOM    602  O1x HOH X   0      26.677  13.990  17.618  1.00  0.00           O  \nATOM    603  H1x HOH X   0      27.601  13.930  17.862  1.00  0.00           H  \nATOM    604  H2x HOH X   0      26.440  14.899  17.801  1.00  0.00           H  \nTER     605      HOH X   0\nATOM    606  O1x HOH X   0      14.464   8.771   8.246  1.00  0.00           O  \nATOM    607  H1x HOH X   0      15.088   8.558   8.940  1.00  0.00           H  \nATOM    608  H2x HOH X   0      14.318   7.942   7.791  1.00  0.00           H  \nTER     609      HOH X   0\nATOM    610  O1x HOH X   0      13.452  27.950  11.527  1.00  0.00           O  \nATOM    611  H1x HOH X   0      12.877  27.243  11.822  1.00  0.00           H  \nATOM    612  H2x HOH X   0      13.141  28.724  11.996  1.00  0.00           H  \nTER     613      HOH X   0\nATOM    614  O1x HOH X   0       9.150  31.015  31.518  1.00  0.00           O  \nATOM    615  H1x HOH X   0       8.544  30.613  30.895  1.00  0.00           H  \nATOM    616  H2x HOH X   0       8.611  31.633  32.012  1.00  0.00           H  \nTER     617      HOH X   0\nATOM    618  O1x HOH X   0       0.694  30.357  27.855  1.00  0.00           O  \nATOM    619  H1x HOH X   0       1.561  30.567  28.201  1.00  0.00           H  \nATOM    620  H2x HOH X   0       0.095  30.914  28.354  1.00  0.00           H  \nTER     621      HOH X   0\nATOM    622  O1x HOH X   0       5.664   0.387  26.330  1.00  0.00           O  \nATOM    623  H1x HOH X   0       4.840   0.855  26.462  1.00  0.00           H  \nATOM    624  H2x HOH X   0       5.859   0.501  25.400  1.00  0.00           H  \nTER     625      HOH X   0\nATOM    626  O1x HOH X   0       5.439  11.007  26.120  1.00  0.00           O  \nATOM    627  H1x HOH X   0       5.024  11.298  26.931  1.00  0.00           H  \nATOM    628  H2x HOH X   0       5.907  10.208  26.363  1.00  0.00           H  \nTER     629      HOH X   0\nATOM    630  O1x HOH X   0      19.526  30.422   8.730  1.00  0.00           O  \nATOM    631  H1x HOH X   0      19.518  29.664   9.315  1.00  0.00           H  \nATOM    632  H2x HOH X   0      19.350  30.058   7.863  1.00  0.00           H  \nTER     633      HOH X   0\nATOM    634  O1x HOH X   0      20.660  13.876   9.013  1.00  0.00           O  \nATOM    635  H1x HOH X   0      20.684  14.760   8.647  1.00  0.00           H  \nATOM    636  H2x HOH X   0      20.928  13.309   8.290  1.00  0.00           H  \nTER     637      HOH X   0\nATOM    638  O1x HOH X   0      28.625  34.600  19.013  1.00  0.00           O  \nATOM    639  H1x HOH X   0      28.635  34.298  19.921  1.00  0.00           H  \nATOM    640  H2x HOH X   0      27.988  34.032  18.579  1.00  0.00           H  \nTER     641      HOH X   0\nATOM    642  O1x HOH X   0      18.259  16.020  19.502  1.00  0.00           O  \nATOM    643  H1x HOH X   0      17.458  15.503  19.415  1.00  0.00           H  \nATOM    644  H2x HOH X   0      18.087  16.816  19.000  1.00  0.00           H  \nTER     645      HOH X   0\nATOM    646  O1x HOH X   0       4.206  21.929  32.906  1.00  0.00           O  \nATOM    647  H1x HOH X   0       5.054  21.730  33.304  1.00  0.00           H  \nATOM    648  H2x HOH X   0       4.132  22.882  32.962  1.00  0.00           H  \nTER     649      HOH X   0\nATOM    650  O1x HOH X   0       9.110  33.638  27.255  1.00  0.00           O  \nATOM    651  H1x HOH X   0       8.677  32.949  27.759  1.00  0.00           H  \nATOM    652  H2x HOH X   0       9.894  33.850  27.762  1.00  0.00           H  \nTER     653      HOH X   0\nATOM    654  O1x HOH X   0       9.476   5.099  10.082  1.00  0.00           O  \nATOM    655  H1x HOH X   0      10.089   4.913  10.793  1.00  0.00           H  \nATOM    656  H2x HOH X   0       8.943   5.824  10.407  1.00  0.00           H  \nTER     657      HOH X   0\nATOM    658  O1x HOH X   0      13.345  18.082  29.685  1.00  0.00           O  \nATOM    659  H1x HOH X   0      12.989  18.374  30.524  1.00  0.00           H  \nATOM    660  H2x HOH X   0      14.244  17.820  29.884  1.00  0.00           H  \nTER     661      HOH X   0\nATOM    662  O1x HOH X   0       0.197  30.609  10.536  1.00  0.00           O  \nATOM    663  H1x HOH X   0       0.164  30.454   9.592  1.00  0.00           H  \nATOM    664  H2x HOH X   0      -0.344  31.387  10.671  1.00  0.00           H  \nTER     665      HOH X   0\nATOM    666  O1x HOH X   0      14.067  28.377  18.413  1.00  0.00           O  \nATOM    667  H1x HOH X   0      14.259  29.307  18.528  1.00  0.00           H  \nATOM    668  H2x HOH X   0      13.536  28.145  19.176  1.00  0.00           H  \nTER     669      HOH X   0\nATOM    670  O1x HOH X   0      24.405   1.996   9.587  1.00  0.00           O  \nATOM    671  H1x HOH X   0      24.322   1.054   9.734  1.00  0.00           H  \nATOM    672  H2x HOH X   0      25.071   2.279  10.213  1.00  0.00           H  \nTER     673      HOH X   0\nATOM    674  O1x HOH X   0       0.376  29.018  -0.175  1.00  0.00           O  \nATOM    675  H1x HOH X   0       0.600  28.094  -0.285  1.00  0.00           H  \nATOM    676  H2x HOH X   0       0.851  29.288   0.611  1.00  0.00           H  \nTER     677      HOH X   0\nATOM    678  O1x HOH X   0      18.982  34.145   0.639  1.00  0.00           O  \nATOM    679  H1x HOH X   0      18.162  33.688   0.826  1.00  0.00           H  \nATOM    680  H2x HOH X   0      19.662  33.567   0.985  1.00  0.00           H  \nTER     681      HOH X   0\nATOM    682  O1x HOH X   0      22.581  11.911   0.234  1.00  0.00           O  \nATOM    683  H1x HOH X   0      23.113  12.421   0.845  1.00  0.00           H  \nATOM    684  H2x HOH X   0      23.175  11.709  -0.490  1.00  0.00           H  \nTER     685      HOH X   0\nATOM    686  O1x HOH X   0      33.243   0.672   0.860  1.00  0.00           O  \nATOM    687  H1x HOH X   0      33.144   0.538  -0.083  1.00  0.00           H  \nATOM    688  H2x HOH X   0      33.339  -0.210   1.219  1.00  0.00           H  \nTER     689      HOH X   0\nATOM    690  O1x HOH X   0      24.597  20.556   1.273  1.00  0.00           O  \nATOM    691  H1x HOH X   0      25.407  20.501   0.766  1.00  0.00           H  \nATOM    692  H2x HOH X   0      24.417  19.653   1.535  1.00  0.00           H  \nTER     693      HOH X   0\nATOM    694  O1x HOH X   0      19.430  30.875  24.762  1.00  0.00           O  \nATOM    695  H1x HOH X   0      20.210  30.469  24.383  1.00  0.00           H  \nATOM    696  H2x HOH X   0      19.137  31.497  24.097  1.00  0.00           H  \nTER     697      HOH X   0\nATOM    698  O1x HOH X   0       0.047  24.363   9.557  1.00  0.00           O  \nATOM    699  H1x HOH X   0       0.460  24.844  10.274  1.00  0.00           H  \nATOM    700  H2x HOH X   0       0.774  24.113   8.986  1.00  0.00           H  \nTER     701      HOH X   0\nATOM    702  O1x HOH X   0       5.448  28.429  15.953  1.00  0.00           O  \nATOM    703  H1x HOH X   0       5.536  29.294  15.553  1.00  0.00           H  \nATOM    704  H2x HOH X   0       5.743  27.821  15.275  1.00  0.00           H  \nTER     705      HOH X   0\nATOM    706  O1x HOH X   0       4.881   0.697  21.043  1.00  0.00           O  \nATOM    707  H1x HOH X   0       4.227   0.313  21.625  1.00  0.00           H  \nATOM    708  H2x HOH X   0       4.378   1.021  20.296  1.00  0.00           H  \nTER     709      HOH X   0\nATOM    710  O1x HOH X   0      29.690  12.387  26.093  1.00  0.00           O  \nATOM    711  H1x HOH X   0      29.306  13.087  25.565  1.00  0.00           H  \nATOM    712  H2x HOH X   0      30.634  12.540  26.044  1.00  0.00           H  \nTER     713      HOH X   0\nATOM    714  O1x HOH X   0       5.578  15.050  10.230  1.00  0.00           O  \nATOM    715  H1x HOH X   0       5.549  14.578  11.062  1.00  0.00           H  \nATOM    716  H2x HOH X   0       6.471  15.392  10.180  1.00  0.00           H  \nTER     717      HOH X   0\nATOM    718  O1x HOH X   0      16.632   1.964  18.857  1.00  0.00           O  \nATOM    719  H1x HOH X   0      15.931   1.977  18.205  1.00  0.00           H  \nATOM    720  H2x HOH X   0      17.423   2.178  18.364  1.00  0.00           H  \nTER     721      HOH X   0\nATOM    722  O1x HOH X   0       3.487  31.685  24.708  1.00  0.00           O  \nATOM    723  H1x HOH X   0       2.739  32.273  24.817  1.00  0.00           H  \nATOM    724  H2x HOH X   0       3.122  30.910  24.279  1.00  0.00           H  \nTER     725      HOH X   0\nATOM    726  O1x HOH X   0       4.923  24.933  32.344  1.00  0.00           O  \nATOM    727  H1x HOH X   0       5.804  25.185  32.067  1.00  0.00           H  \nATOM    728  H2x HOH X   0       4.461  25.764  32.458  1.00  0.00           H  \nTER     729      HOH X   0\nATOM    730  O1x HOH X   0      23.954  27.255   2.222  1.00  0.00           O  \nATOM    731  H1x HOH X   0      24.576  27.971   2.343  1.00  0.00           H  \nATOM    732  H2x HOH X   0      23.388  27.295   2.993  1.00  0.00           H  \nTER     733      HOH X   0\nATOM    734  O1x HOH X   0      17.783   8.526   6.314  1.00  0.00           O  \nATOM    735  H1x HOH X   0      17.232   7.936   6.829  1.00  0.00           H  \nATOM    736  H2x HOH X   0      17.163   9.060   5.817  1.00  0.00           H  \nTER     737      HOH X   0\nATOM    738  O1x HOH X   0      32.142  25.132   5.849  1.00  0.00           O  \nATOM    739  H1x HOH X   0      31.895  25.580   5.040  1.00  0.00           H  \nATOM    740  H2x HOH X   0      31.583  24.356   5.874  1.00  0.00           H  \nTER     741      HOH X   0\nATOM    742  O1x HOH X   0       2.179  11.116  33.366  1.00  0.00           O  \nATOM    743  H1x HOH X   0       2.619  10.911  32.541  1.00  0.00           H  \nATOM    744  H2x HOH X   0       2.822  11.624  33.861  1.00  0.00           H  \nTER     745      HOH X   0\nATOM    746  O1x HOH X   0      18.182  16.062  25.810  1.00  0.00           O  \nATOM    747  H1x HOH X   0      17.602  15.386  26.162  1.00  0.00           H  \nATOM    748  H2x HOH X   0      17.757  16.344  25.000  1.00  0.00           H  \nTER     749      HOH X   0\nATOM    750  O1x HOH X   0      24.161  17.492  29.038  1.00  0.00           O  \nATOM    751  H1x HOH X   0      23.251  17.233  28.895  1.00  0.00           H  \nATOM    752  H2x HOH X   0      24.660  16.978  28.404  1.00  0.00           H  \nTER     753      HOH X   0\nATOM    754  O1x HOH X   0      27.414  15.040  12.828  1.00  0.00           O  \nATOM    755  H1x HOH X   0      27.877  15.431  13.570  1.00  0.00           H  \nATOM    756  H2x HOH X   0      28.063  15.020  12.125  1.00  0.00           H  \nTER     757      HOH X   0\nATOM    758  O1x HOH X   0       1.978  32.361   5.760  1.00  0.00           O  \nATOM    759  H1x HOH X   0       2.869  32.024   5.675  1.00  0.00           H  \nATOM    760  H2x HOH X   0       1.901  33.015   5.065  1.00  0.00           H  \nTER     761      HOH X   0\nATOM    762  O1x HOH X   0       6.685   5.987  20.949  1.00  0.00           O  \nATOM    763  H1x HOH X   0       5.836   6.016  20.508  1.00  0.00           H  \nATOM    764  H2x HOH X   0       6.782   5.075  21.222  1.00  0.00           H  \nTER     765      HOH X   0\nATOM    766  O1x HOH X   0      12.888  12.709  32.816  1.00  0.00           O  \nATOM    767  H1x HOH X   0      12.395  13.465  33.135  1.00  0.00           H  \nATOM    768  H2x HOH X   0      12.403  12.413  32.046  1.00  0.00           H  \nTER     769      HOH X   0\nATOM    770  O1x HOH X   0       1.465  28.567   6.823  1.00  0.00           O  \nATOM    771  H1x HOH X   0       1.525  29.353   6.280  1.00  0.00           H  \nATOM    772  H2x HOH X   0       1.263  27.864   6.206  1.00  0.00           H  \nTER     773      HOH X   0\nATOM    774  O1x HOH X   0      27.666  16.690  21.894  1.00  0.00           O  \nATOM    775  H1x HOH X   0      26.851  16.252  21.648  1.00  0.00           H  \nATOM    776  H2x HOH X   0      28.112  16.064  22.464  1.00  0.00           H  \nTER     777      HOH X   0\nATOM    778  O1x HOH X   0      25.311  15.786   8.353  1.00  0.00           O  \nATOM    779  H1x HOH X   0      24.529  15.748   7.803  1.00  0.00           H  \nATOM    780  H2x HOH X   0      25.123  15.193   9.080  1.00  0.00           H  \nTER     781      HOH X   0\nATOM    782  O1x HOH X   0      26.323   2.910   4.397  1.00  0.00           O  \nATOM    783  H1x HOH X   0      26.929   2.470   3.801  1.00  0.00           H  \nATOM    784  H2x HOH X   0      26.877   3.494   4.915  1.00  0.00           H  \nTER     785      HOH X   0\nATOM    786  O1x HOH X   0       6.060   2.590  12.949  1.00  0.00           O  \nATOM    787  H1x HOH X   0       5.306   2.753  12.381  1.00  0.00           H  \nATOM    788  H2x HOH X   0       6.815   2.871  12.431  1.00  0.00           H  \nTER     789      HOH X   0\nATOM    790  O1x HOH X   0      26.423  27.990  22.613  1.00  0.00           O  \nATOM    791  H1x HOH X   0      27.361  28.098  22.454  1.00  0.00           H  \nATOM    792  H2x HOH X   0      26.135  28.841  22.941  1.00  0.00           H  \nTER     793      HOH X   0\nATOM    794  O1x HOH X   0      21.833  32.089  33.287  1.00  0.00           O  \nATOM    795  H1x HOH X   0      22.427  31.350  33.420  1.00  0.00           H  \nATOM    796  H2x HOH X   0      21.249  31.803  32.583  1.00  0.00           H  \nTER     797      HOH X   0\nATOM    798  O1x HOH X   0       2.745   3.134  14.102  1.00  0.00           O  \nATOM    799  H1x HOH X   0       3.204   2.749  14.849  1.00  0.00           H  \nATOM    800  H2x HOH X   0       2.178   2.433  13.782  1.00  0.00           H  \nTER     801      HOH X   0\nATOM    802  O1x HOH X   0       9.176   5.812   4.916  1.00  0.00           O  \nATOM    803  H1x HOH X   0      10.094   5.931   4.671  1.00  0.00           H  \nATOM    804  H2x HOH X   0       9.133   6.098   5.828  1.00  0.00           H  \nTER     805      HOH X   0\nATOM    806  O1x HOH X   0      33.323  14.772  33.691  1.00  0.00           O  \nATOM    807  H1x HOH X   0      34.202  14.507  33.964  1.00  0.00           H  \nATOM    808  H2x HOH X   0      32.752  14.473  34.398  1.00  0.00           H  \nTER     809      HOH X   0\nATOM    810  O1x HOH X   0      23.142  29.857  30.802  1.00  0.00           O  \nATOM    811  H1x HOH X   0      23.868  30.365  30.442  1.00  0.00           H  \nATOM    812  H2x HOH X   0      23.271  29.893  31.750  1.00  0.00           H  \nTER     813      HOH X   0\nATOM    814  O1x HOH X   0      14.896  31.633   0.197  1.00  0.00           O  \nATOM    815  H1x HOH X   0      15.133  30.746  -0.072  1.00  0.00           H  \nATOM    816  H2x HOH X   0      13.939  31.644   0.173  1.00  0.00           H  \nTER     817      HOH X   0\nATOM    818  O1x HOH X   0      14.110   3.390  33.697  1.00  0.00           O  \nATOM    819  H1x HOH X   0      14.708   3.420  32.950  1.00  0.00           H  \nATOM    820  H2x HOH X   0      14.640   3.044  34.415  1.00  0.00           H  \nTER     821      HOH X   0\nATOM    822  O1x HOH X   0       2.562   5.809  17.580  1.00  0.00           O  \nATOM    823  H1x HOH X   0       2.035   6.445  17.096  1.00  0.00           H  \nATOM    824  H2x HOH X   0       2.908   5.222  16.908  1.00  0.00           H  \nTER     825      HOH X   0\nATOM    826  O1x HOH X   0      30.891   5.892   8.214  1.00  0.00           O  \nATOM    827  H1x HOH X   0      30.715   5.927   7.274  1.00  0.00           H  \nATOM    828  H2x HOH X   0      31.075   4.969   8.389  1.00  0.00           H  \nTER     829      HOH X   0\nATOM    830  O1x HOH X   0       9.744  25.021  28.519  1.00  0.00           O  \nATOM    831  H1x HOH X   0       9.860  24.435  29.268  1.00  0.00           H  \nATOM    832  H2x HOH X   0       9.078  25.646  28.805  1.00  0.00           H  \nTER     833      HOH X   0\nATOM    834  O1x HOH X   0      28.747  12.332  31.091  1.00  0.00           O  \nATOM    835  H1x HOH X   0      29.464  12.899  31.377  1.00  0.00           H  \nATOM    836  H2x HOH X   0      28.293  12.093  31.899  1.00  0.00           H  \nTER     837      HOH X   0\nATOM    838  O1x HOH X   0      28.274   3.191  20.577  1.00  0.00           O  \nATOM    839  H1x HOH X   0      28.844   2.550  21.003  1.00  0.00           H  \nATOM    840  H2x HOH X   0      28.660   3.317  19.710  1.00  0.00           H  \nTER     841      HOH X   0\nATOM    842  O1x HOH X   0      30.771  31.550  26.870  1.00  0.00           O  \nATOM    843  H1x HOH X   0      31.259  31.524  26.047  1.00  0.00           H  \nATOM    844  H2x HOH X   0      31.116  32.316  27.330  1.00  0.00           H  \nTER     845      HOH X   0\nATOM    846  O1x HOH X   0      31.845  31.953  17.509  1.00  0.00           O  \nATOM    847  H1x HOH X   0      32.589  32.489  17.234  1.00  0.00           H  \nATOM    848  H2x HOH X   0      31.897  31.170  16.960  1.00  0.00           H  \nTER     849      HOH X   0\nATOM    850  O1x HOH X   0      31.913  16.250  28.344  1.00  0.00           O  \nATOM    851  H1x HOH X   0      32.190  17.062  27.920  1.00  0.00           H  \nATOM    852  H2x HOH X   0      32.725  15.859  28.666  1.00  0.00           H  \nTER     853      HOH X   0\nATOM    854  O1x HOH X   0       9.764  21.819  18.345  1.00  0.00           O  \nATOM    855  H1x HOH X   0       9.569  21.785  19.282  1.00  0.00           H  \nATOM    856  H2x HOH X   0       9.178  21.171  17.954  1.00  0.00           H  \nTER     857      HOH X   0\nATOM    858  O1x HOH X   0      20.821  29.295   1.874  1.00  0.00           O  \nATOM    859  H1x HOH X   0      21.023  28.480   2.334  1.00  0.00           H  \nATOM    860  H2x HOH X   0      20.562  29.904   2.565  1.00  0.00           H  \nTER     861      HOH X   0\nATOM    862  O1x HOH X   0       3.255  10.351  31.073  1.00  0.00           O  \nATOM    863  H1x HOH X   0       4.083  10.419  30.597  1.00  0.00           H  \nATOM    864  H2x HOH X   0       2.624  10.056  30.416  1.00  0.00           H  \nTER     865      HOH X   0\nATOM    866  O1x HOH X   0      31.718  19.393   9.226  1.00  0.00           O  \nATOM    867  H1x HOH X   0      32.203  19.534  10.039  1.00  0.00           H  \nATOM    868  H2x HOH X   0      32.367  19.045   8.616  1.00  0.00           H  \nTER     869      HOH X   0\nATOM    870  O1x HOH X   0      24.284   9.384   3.397  1.00  0.00           O  \nATOM    871  H1x HOH X   0      23.593   9.989   3.130  1.00  0.00           H  \nATOM    872  H2x HOH X   0      24.046   8.552   2.987  1.00  0.00           H  \nTER     873      HOH X   0\nATOM    874  O1x HOH X   0      22.102  31.595  11.948  1.00  0.00           O  \nATOM    875  H1x HOH X   0      22.115  31.365  12.877  1.00  0.00           H  \nATOM    876  H2x HOH X   0      21.594  32.405  11.908  1.00  0.00           H  \nTER     877      HOH X   0\nATOM    878  O1x HOH X   0      20.924  26.769  21.391  1.00  0.00           O  \nATOM    879  H1x HOH X   0      21.054  27.079  22.287  1.00  0.00           H  \nATOM    880  H2x HOH X   0      20.067  26.344  21.405  1.00  0.00           H  \nTER     881      HOH X   0\nATOM    882  O1x HOH X   0      15.981  13.371   1.284  1.00  0.00           O  \nATOM    883  H1x HOH X   0      15.687  13.365   0.373  1.00  0.00           H  \nATOM    884  H2x HOH X   0      16.922  13.539   1.231  1.00  0.00           H  \nTER     885      HOH X   0\nATOM    886  O1x HOH X   0      18.487   6.836  26.056  1.00  0.00           O  \nATOM    887  H1x HOH X   0      17.981   7.624  25.859  1.00  0.00           H  \nATOM    888  H2x HOH X   0      18.362   6.700  26.996  1.00  0.00           H  \nTER     889      HOH X   0\nATOM    890  O1x HOH X   0       8.886  27.255   3.448  1.00  0.00           O  \nATOM    891  H1x HOH X   0       9.444  26.949   2.733  1.00  0.00           H  \nATOM    892  H2x HOH X   0       8.074  27.527   3.020  1.00  0.00           H  \nTER     893      HOH X   0\nATOM    894  O1x HOH X   0       3.667  18.500  15.145  1.00  0.00           O  \nATOM    895  H1x HOH X   0       3.705  17.551  15.026  1.00  0.00           H  \nATOM    896  H2x HOH X   0       4.358  18.690  15.780  1.00  0.00           H  \nTER     897      HOH X   0\nATOM    898  O1x HOH X   0       0.111   4.269  18.305  1.00  0.00           O  \nATOM    899  H1x HOH X   0       0.874   4.682  18.711  1.00  0.00           H  \nATOM    900  H2x HOH X   0      -0.179   4.899  17.645  1.00  0.00           H  \nTER     901      HOH X   0\nATOM    902  O1x HOH X   0      25.397   5.622  19.306  1.00  0.00           O  \nATOM    903  H1x HOH X   0      26.320   5.495  19.089  1.00  0.00           H  \nATOM    904  H2x HOH X   0      25.076   4.744  19.512  1.00  0.00           H  \nTER     905      HOH X   0\nATOM    906  O1x HOH X   0      16.764   5.820   7.547  1.00  0.00           O  \nATOM    907  H1x HOH X   0      16.051   5.269   7.222  1.00  0.00           H  \nATOM    908  H2x HOH X   0      16.706   5.750   8.500  1.00  0.00           H  \nTER     909      HOH X   0\nATOM    910  O1x HOH X   0      17.090  31.394   7.981  1.00  0.00           O  \nATOM    911  H1x HOH X   0      17.735  31.104   7.336  1.00  0.00           H  \nATOM    912  H2x HOH X   0      17.476  31.165   8.827  1.00  0.00           H  \nTER     913      HOH X   0\nATOM    914  O1x HOH X   0      31.865  19.377  28.901  1.00  0.00           O  \nATOM    915  H1x HOH X   0      31.609  18.728  29.556  1.00  0.00           H  \nATOM    916  H2x HOH X   0      32.064  20.164  29.408  1.00  0.00           H  \nTER     917      HOH X   0\nATOM    918  O1x HOH X   0      20.226  12.872  30.574  1.00  0.00           O  \nATOM    919  H1x HOH X   0      19.885  13.593  31.104  1.00  0.00           H  \nATOM    920  H2x HOH X   0      20.429  13.272  29.728  1.00  0.00           H  \nTER     921      HOH X   0\nATOM    922  O1x HOH X   0      21.352  12.831  17.814  1.00  0.00           O  \nATOM    923  H1x HOH X   0      21.858  12.019  17.782  1.00  0.00           H  \nATOM    924  H2x HOH X   0      20.838  12.826  17.007  1.00  0.00           H  \nTER     925      HOH X   0\nATOM    926  O1x HOH X   0      12.855  24.144   4.952  1.00  0.00           O  \nATOM    927  H1x HOH X   0      12.288  24.688   5.498  1.00  0.00           H  \nATOM    928  H2x HOH X   0      13.720  24.220   5.354  1.00  0.00           H  \nTER     929      HOH X   0\nATOM    930  O1x HOH X   0      10.087  11.009  15.111  1.00  0.00           O  \nATOM    931  H1x HOH X   0      10.718  11.664  14.814  1.00  0.00           H  \nATOM    932  H2x HOH X   0       9.625  10.742  14.316  1.00  0.00           H  \nTER     933      HOH X   0\nATOM    934  O1x HOH X   0       7.611  31.079  28.700  1.00  0.00           O  \nATOM    935  H1x HOH X   0       7.300  31.984  28.723  1.00  0.00           H  \nATOM    936  H2x HOH X   0       7.369  30.765  27.829  1.00  0.00           H  \nTER     937      HOH X   0\nATOM    938  O1x HOH X   0       4.978  19.341  12.858  1.00  0.00           O  \nATOM    939  H1x HOH X   0       4.596  19.913  12.193  1.00  0.00           H  \nATOM    940  H2x HOH X   0       4.280  19.222  13.502  1.00  0.00           H  \nTER     941      HOH X   0\nATOM    942  O1x HOH X   0      18.112   6.706   9.972  1.00  0.00           O  \nATOM    943  H1x HOH X   0      18.395   6.465   9.090  1.00  0.00           H  \nATOM    944  H2x HOH X   0      18.591   6.112  10.549  1.00  0.00           H  \nTER     945      HOH X   0\nATOM    946  O1x HOH X   0       7.665  20.756   3.106  1.00  0.00           O  \nATOM    947  H1x HOH X   0       6.919  21.351   3.037  1.00  0.00           H  \nATOM    948  H2x HOH X   0       8.336  21.146   2.546  1.00  0.00           H  \nTER     949      HOH X   0\nATOM    950  O1x HOH X   0      14.002   0.746  10.835  1.00  0.00           O  \nATOM    951  H1x HOH X   0      14.635   1.463  10.796  1.00  0.00           H  \nATOM    952  H2x HOH X   0      14.497   0.008  11.190  1.00  0.00           H  \nTER     953      HOH X   0\nATOM    954  O1x HOH X   0      10.382   7.920  23.009  1.00  0.00           O  \nATOM    955  H1x HOH X   0      10.137   7.396  22.246  1.00  0.00           H  \nATOM    956  H2x HOH X   0       9.634   7.846  23.602  1.00  0.00           H  \nTER     957      HOH X   0\nATOM    958  O1x HOH X   0      23.321   6.087  13.930  1.00  0.00           O  \nATOM    959  H1x HOH X   0      23.276   5.444  13.223  1.00  0.00           H  \nATOM    960  H2x HOH X   0      24.258   6.217  14.078  1.00  0.00           H  \nTER     961      HOH X   0\nATOM    962  O1x HOH X   0      28.057  10.577   2.527  1.00  0.00           O  \nATOM    963  H1x HOH X   0      27.476   9.827   2.406  1.00  0.00           H  \nATOM    964  H2x HOH X   0      28.782  10.236   3.051  1.00  0.00           H  \nTER     965      HOH X   0\nATOM    966  O1x HOH X   0      21.469   5.458  23.548  1.00  0.00           O  \nATOM    967  H1x HOH X   0      21.019   6.001  24.196  1.00  0.00           H  \nATOM    968  H2x HOH X   0      20.833   4.780  23.320  1.00  0.00           H  \nTER     969      HOH X   0\nATOM    970  O1x HOH X   0      24.478  25.397  10.401  1.00  0.00           O  \nATOM    971  H1x HOH X   0      24.198  25.306  11.311  1.00  0.00           H  \nATOM    972  H2x HOH X   0      24.917  26.247  10.368  1.00  0.00           H  \nTER     973      HOH X   0\nATOM    974  O1x HOH X   0      34.521  25.911  14.715  1.00  0.00           O  \nATOM    975  H1x HOH X   0      33.610  25.823  14.997  1.00  0.00           H  \nATOM    976  H2x HOH X   0      34.550  26.751  14.256  1.00  0.00           H  \nTER     977      HOH X   0\nATOM    978  O1x HOH X   0      31.324  11.332   6.037  1.00  0.00           O  \nATOM    979  H1x HOH X   0      32.001  11.771   6.553  1.00  0.00           H  \nATOM    980  H2x HOH X   0      31.454  10.401   6.213  1.00  0.00           H  \nTER     981      HOH X   0\nATOM    982  O1x HOH X   0      32.081  24.462  17.855  1.00  0.00           O  \nATOM    983  H1x HOH X   0      32.288  24.821  16.992  1.00  0.00           H  \nATOM    984  H2x HOH X   0      32.625  24.965  18.461  1.00  0.00           H  \nTER     985      HOH X   0\nATOM    986  O1x HOH X   0      28.290   6.465   8.902  1.00  0.00           O  \nATOM    987  H1x HOH X   0      29.233   6.310   8.940  1.00  0.00           H  \nATOM    988  H2x HOH X   0      28.019   6.095   8.062  1.00  0.00           H  \nTER     989      HOH X   0\nATOM    990  O1x HOH X   0       7.915  27.651  30.391  1.00  0.00           O  \nATOM    991  H1x HOH X   0       8.169  28.514  30.717  1.00  0.00           H  \nATOM    992  H2x HOH X   0       7.735  27.140  31.180  1.00  0.00           H  \nTER     993      HOH X   0\nATOM    994  O1x HOH X   0      18.297  14.906  22.817  1.00  0.00           O  \nATOM    995  H1x HOH X   0      18.895  15.594  22.527  1.00  0.00           H  \nATOM    996  H2x HOH X   0      18.812  14.101  22.760  1.00  0.00           H  \nTER     997      HOH X   0\nATOM    998  O1x HOH X   0      28.191  17.959  30.474  1.00  0.00           O  \nATOM    999  H1x HOH X   0      28.853  18.496  30.910  1.00  0.00           H  \nATOM   1000  H2x HOH X   0      28.551  17.795  29.603  1.00  0.00           H  \nTER    1001      HOH X   0\nATOM   1002  O1x HOH X   0      23.893   8.559  30.120  1.00  0.00           O  \nATOM   1003  H1x HOH X   0      24.082   9.495  30.178  1.00  0.00           H  \nATOM   1004  H2x HOH X   0      23.910   8.368  29.182  1.00  0.00           H  \nTER    1005      HOH X   0\nATOM   1006  O1x HOH X   0      31.783  31.107  24.409  1.00  0.00           O  \nATOM   1007  H1x HOH X   0      31.455  30.298  24.016  1.00  0.00           H  \nATOM   1008  H2x HOH X   0      31.930  31.693  23.667  1.00  0.00           H  \nTER    1009      HOH X   0\nATOM   1010  O1x HOH X   0      20.253  24.132  24.387  1.00  0.00           O  \nATOM   1011  H1x HOH X   0      20.530  24.951  24.797  1.00  0.00           H  \nATOM   1012  H2x HOH X   0      20.403  24.269  23.451  1.00  0.00           H  \nTER    1013      HOH X   0\nATOM   1014  O1x HOH X   0       4.304  24.776  18.493  1.00  0.00           O  \nATOM   1015  H1x HOH X   0       3.539  24.628  17.938  1.00  0.00           H  \nATOM   1016  H2x HOH X   0       5.047  24.743  17.890  1.00  0.00           H  \nTER    1017      HOH X   0\nATOM   1018  O1x HOH X   0       6.179  19.332  16.995  1.00  0.00           O  \nATOM   1019  H1x HOH X   0       6.070  19.234  17.941  1.00  0.00           H  \nATOM   1020  H2x HOH X   0       7.106  19.154  16.840  1.00  0.00           H  \nTER    1021      HOH X   0\nATOM   1022  O1x HOH X   0       8.961  10.048  29.649  1.00  0.00           O  \nATOM   1023  H1x HOH X   0       9.166   9.229  29.199  1.00  0.00           H  \nATOM   1024  H2x HOH X   0       9.737  10.594  29.520  1.00  0.00           H  \nTER    1025      HOH X   0\nATOM   1026  O1x HOH X   0       0.753   0.637  14.665  1.00  0.00           O  \nATOM   1027  H1x HOH X   0       0.167   0.769  15.411  1.00  0.00           H  \nATOM   1028  H2x HOH X   0       0.689  -0.298  14.472  1.00  0.00           H  \nTER    1029      HOH X   0\nATOM   1030  O1x HOH X   0      17.525  26.133  32.384  1.00  0.00           O  \nATOM   1031  H1x HOH X   0      17.987  26.932  32.131  1.00  0.00           H  \nATOM   1032  H2x HOH X   0      17.207  25.768  31.558  1.00  0.00           H  \nTER    1033      HOH X   0\nATOM   1034  O1x HOH X   0       2.179  24.202   8.092  1.00  0.00           O  \nATOM   1035  H1x HOH X   0       2.221  23.821   7.214  1.00  0.00           H  \nATOM   1036  H2x HOH X   0       2.855  24.879   8.092  1.00  0.00           H  \nTER    1037      HOH X   0\nATOM   1038  O1x HOH X   0      16.865   1.646  22.663  1.00  0.00           O  \nATOM   1039  H1x HOH X   0      17.277   2.345  23.170  1.00  0.00           H  \nATOM   1040  H2x HOH X   0      16.299   2.104  22.040  1.00  0.00           H  \nTER    1041      HOH X   0\nATOM   1042  O1x HOH X   0       2.538  27.989  14.729  1.00  0.00           O  \nATOM   1043  H1x HOH X   0       2.945  27.123  14.742  1.00  0.00           H  \nATOM   1044  H2x HOH X   0       3.228  28.583  15.024  1.00  0.00           H  \nTER    1045      HOH X   0\nATOM   1046  O1x HOH X   0      31.764  20.554  26.549  1.00  0.00           O  \nATOM   1047  H1x HOH X   0      31.444  19.935  25.893  1.00  0.00           H  \nATOM   1048  H2x HOH X   0      31.762  20.058  27.368  1.00  0.00           H  \nTER    1049      HOH X   0\nATOM   1050  O1x HOH X   0      20.708   6.170  29.909  1.00  0.00           O  \nATOM   1051  H1x HOH X   0      19.935   6.604  30.270  1.00  0.00           H  \nATOM   1052  H2x HOH X   0      21.355   6.869  29.816  1.00  0.00           H  \nTER    1053      HOH X   0\nATOM   1054  O1x HOH X   0      25.784  13.806  14.809  1.00  0.00           O  \nATOM   1055  H1x HOH X   0      26.674  13.565  14.554  1.00  0.00           H  \nATOM   1056  H2x HOH X   0      25.851  14.023  15.739  1.00  0.00           H  \nTER    1057      HOH X   0\nATOM   1058  O1x HOH X   0      10.638  33.946   3.134  1.00  0.00           O  \nATOM   1059  H1x HOH X   0      11.571  33.985   3.345  1.00  0.00           H  \nATOM   1060  H2x HOH X   0      10.601  34.071   2.186  1.00  0.00           H  \nTER    1061      HOH X   0\nATOM   1062  O1x HOH X   0      21.686  25.960   0.918  1.00  0.00           O  \nATOM   1063  H1x HOH X   0      22.482  26.464   1.085  1.00  0.00           H  \nATOM   1064  H2x HOH X   0      21.510  26.092  -0.014  1.00  0.00           H  \nTER    1065      HOH X   0\nATOM   1066  O1x HOH X   0      32.406  15.484   4.490  1.00  0.00           O  \nATOM   1067  H1x HOH X   0      32.946  14.931   5.054  1.00  0.00           H  \nATOM   1068  H2x HOH X   0      31.757  14.886   4.119  1.00  0.00           H  \nTER    1069      HOH X   0\nATOM   1070  O1x HOH X   0      14.087  30.424  30.673  1.00  0.00           O  \nATOM   1071  H1x HOH X   0      14.966  30.760  30.849  1.00  0.00           H  \nATOM   1072  H2x HOH X   0      14.233  29.617  30.179  1.00  0.00           H  \nTER    1073      HOH X   0\nATOM   1074  O1x HOH X   0      32.852  13.961   1.498  1.00  0.00           O  \nATOM   1075  H1x HOH X   0      33.594  13.935   2.101  1.00  0.00           H  \nATOM   1076  H2x HOH X   0      32.156  13.486   1.952  1.00  0.00           H  \nTER    1077      HOH X   0\nATOM   1078  O1x HOH X   0      10.308  30.583  22.909  1.00  0.00           O  \nATOM   1079  H1x HOH X   0       9.738  31.322  23.126  1.00  0.00           H  \nATOM   1080  H2x HOH X   0       9.719  29.930  22.531  1.00  0.00           H  \nTER    1081      HOH X   0\nATOM   1082  O1x HOH X   0       9.029  14.787  32.078  1.00  0.00           O  \nATOM   1083  H1x HOH X   0       8.985  13.833  32.020  1.00  0.00           H  \nATOM   1084  H2x HOH X   0       9.955  14.993  31.950  1.00  0.00           H  \nTER    1085      HOH X   0\nATOM   1086  O1x HOH X   0      26.662  24.028  16.862  1.00  0.00           O  \nATOM   1087  H1x HOH X   0      26.524  23.674  17.741  1.00  0.00           H  \nATOM   1088  H2x HOH X   0      26.913  23.269  16.335  1.00  0.00           H  \nTER    1089      HOH X   0\nATOM   1090  O1x HOH X   0      28.649   9.602  25.867  1.00  0.00           O  \nATOM   1091  H1x HOH X   0      29.014  10.237  26.483  1.00  0.00           H  \nATOM   1092  H2x HOH X   0      28.210  10.135  25.204  1.00  0.00           H  \nTER    1093      HOH X   0\nATOM   1094  O1x HOH X   0       1.034  32.327  25.525  1.00  0.00           O  \nATOM   1095  H1x HOH X   0       0.246  31.970  25.116  1.00  0.00           H  \nATOM   1096  H2x HOH X   0       1.084  31.888  26.374  1.00  0.00           H  \nTER    1097      HOH X   0\nATOM   1098  O1x HOH X   0      13.425  26.291  22.593  1.00  0.00           O  \nATOM   1099  H1x HOH X   0      13.011  26.653  23.377  1.00  0.00           H  \nATOM   1100  H2x HOH X   0      13.614  25.380  22.820  1.00  0.00           H  \nTER    1101      HOH X   0\nATOM   1102  O1x HOH X   0      13.502   1.275   7.537  1.00  0.00           O  \nATOM   1103  H1x HOH X   0      12.873   0.856   8.125  1.00  0.00           H  \nATOM   1104  H2x HOH X   0      13.413   0.798   6.712  1.00  0.00           H  \nTER    1105      HOH X   0\nATOM   1106  O1x HOH X   0      19.374  13.141   6.497  1.00  0.00           O  \nATOM   1107  H1x HOH X   0      19.774  12.282   6.630  1.00  0.00           H  \nATOM   1108  H2x HOH X   0      18.631  13.155   7.100  1.00  0.00           H  \nTER    1109      HOH X   0\nATOM   1110  O1x HOH X   0       4.577   9.492  34.064  1.00  0.00           O  \nATOM   1111  H1x HOH X   0       4.391   8.915  34.806  1.00  0.00           H  \nATOM   1112  H2x HOH X   0       4.299  10.359  34.359  1.00  0.00           H  \nTER    1113      HOH X   0\nATOM   1114  O1x HOH X   0       9.089   2.331  23.472  1.00  0.00           O  \nATOM   1115  H1x HOH X   0       8.963   2.111  24.395  1.00  0.00           H  \nATOM   1116  H2x HOH X   0       9.684   3.080  23.483  1.00  0.00           H  \nTER    1117      HOH X   0\nATOM   1118  O1x HOH X   0       8.051   5.881  15.274  1.00  0.00           O  \nATOM   1119  H1x HOH X   0       8.442   6.741  15.428  1.00  0.00           H  \nATOM   1120  H2x HOH X   0       7.704   5.620  16.127  1.00  0.00           H  \nTER    1121      HOH X   0\nATOM   1122  O1x HOH X   0      24.521   8.343  35.166  1.00  0.00           O  \nATOM   1123  H1x HOH X   0      24.713   9.267  35.328  1.00  0.00           H  \nATOM   1124  H2x HOH X   0      24.075   8.335  34.319  1.00  0.00           H  \nTER    1125      HOH X   0\nATOM   1126  O1x HOH X   0      27.262   7.742  34.171  1.00  0.00           O  \nATOM   1127  H1x HOH X   0      26.523   7.958  34.740  1.00  0.00           H  \nATOM   1128  H2x HOH X   0      27.973   7.524  34.773  1.00  0.00           H  \nTER    1129      HOH X   0\nATOM   1130  O1x HOH X   0      10.893  21.651  10.524  1.00  0.00           O  \nATOM   1131  H1x HOH X   0      11.517  22.193  11.007  1.00  0.00           H  \nATOM   1132  H2x HOH X   0      10.709  20.917  11.111  1.00  0.00           H  \nTER    1133      HOH X   0\nATOM   1134  O1x HOH X   0      19.950   3.859  21.278  1.00  0.00           O  \nATOM   1135  H1x HOH X   0      20.218   2.972  21.517  1.00  0.00           H  \nATOM   1136  H2x HOH X   0      19.403   3.743  20.501  1.00  0.00           H  \nTER    1137      HOH X   0\nATOM   1138  O1x HOH X   0      33.692   5.052  10.473  1.00  0.00           O  \nATOM   1139  H1x HOH X   0      33.999   4.215  10.820  1.00  0.00           H  \nATOM   1140  H2x HOH X   0      34.266   5.704  10.875  1.00  0.00           H  \nTER    1141      HOH X   0\nATOM   1142  O1x HOH X   0      16.494  26.135   4.271  1.00  0.00           O  \nATOM   1143  H1x HOH X   0      16.706  26.508   3.416  1.00  0.00           H  \nATOM   1144  H2x HOH X   0      15.693  26.586   4.539  1.00  0.00           H  \nTER    1145      HOH X   0\nATOM   1146  O1x HOH X   0       0.369  26.303   5.182  1.00  0.00           O  \nATOM   1147  H1x HOH X   0      -0.262  25.791   5.690  1.00  0.00           H  \nATOM   1148  H2x HOH X   0       1.066  25.682   4.971  1.00  0.00           H  \nTER    1149      HOH X   0\nATOM   1150  O1x HOH X   0      25.383  31.210  21.603  1.00  0.00           O  \nATOM   1151  H1x HOH X   0      25.327  30.674  22.394  1.00  0.00           H  \nATOM   1152  H2x HOH X   0      25.979  30.728  21.029  1.00  0.00           H  \nTER    1153      HOH X   0\nATOM   1154  O1x HOH X   0      28.446  33.762  15.723  1.00  0.00           O  \nATOM   1155  H1x HOH X   0      29.103  33.430  15.111  1.00  0.00           H  \nATOM   1156  H2x HOH X   0      28.916  33.858  16.551  1.00  0.00           H  \nTER    1157      HOH X   0\nATOM   1158  O1x HOH X   0      33.666   0.446   9.012  1.00  0.00           O  \nATOM   1159  H1x HOH X   0      33.146  -0.355   9.084  1.00  0.00           H  \nATOM   1160  H2x HOH X   0      34.403   0.204   8.450  1.00  0.00           H  \nTER    1161      HOH X   0\nATOM   1162  O1x HOH X   0      14.913  20.328  28.906  1.00  0.00           O  \nATOM   1163  H1x HOH X   0      14.965  20.321  29.862  1.00  0.00           H  \nATOM   1164  H2x HOH X   0      14.263  19.658  28.696  1.00  0.00           H  \nTER    1165      HOH X   0\nATOM   1166  O1x HOH X   0      20.514  17.832   7.399  1.00  0.00           O  \nATOM   1167  H1x HOH X   0      20.746  17.704   8.318  1.00  0.00           H  \nATOM   1168  H2x HOH X   0      19.794  18.462   7.418  1.00  0.00           H  \nTER    1169      HOH X   0\nATOM   1170  O1x HOH X   0       4.749   5.191  14.700  1.00  0.00           O  \nATOM   1171  H1x HOH X   0       5.524   4.629  14.714  1.00  0.00           H  \nATOM   1172  H2x HOH X   0       4.013   4.586  14.795  1.00  0.00           H  \nTER    1173      HOH X   0\nATOM   1174  O1x HOH X   0       3.952  13.295  14.420  1.00  0.00           O  \nATOM   1175  H1x HOH X   0       3.265  13.813  14.000  1.00  0.00           H  \nATOM   1176  H2x HOH X   0       3.479  12.625  14.913  1.00  0.00           H  \nTER    1177      HOH X   0\nATOM   1178  O1x HOH X   0      15.689  26.779  20.776  1.00  0.00           O  \nATOM   1179  H1x HOH X   0      14.939  26.233  21.014  1.00  0.00           H  \nATOM   1180  H2x HOH X   0      15.465  27.131  19.915  1.00  0.00           H  \nTER    1181      HOH X   0\nATOM   1182  O1x HOH X   0      19.208   4.047  16.013  1.00  0.00           O  \nATOM   1183  H1x HOH X   0      19.679   3.618  15.299  1.00  0.00           H  \nATOM   1184  H2x HOH X   0      18.918   4.881  15.643  1.00  0.00           H  \nTER    1185      HOH X   0\nATOM   1186  O1x HOH X   0      15.131  32.977  22.631  1.00  0.00           O  \nATOM   1187  H1x HOH X   0      14.525  32.406  23.103  1.00  0.00           H  \nATOM   1188  H2x HOH X   0      14.689  33.826  22.605  1.00  0.00           H  \nTER    1189      HOH X   0\nATOM   1190  O1x HOH X   0      31.756  19.946  17.121  1.00  0.00           O  \nATOM   1191  H1x HOH X   0      31.208  19.824  16.346  1.00  0.00           H  \nATOM   1192  H2x HOH X   0      32.217  20.769  16.962  1.00  0.00           H  \nTER    1193      HOH X   0\nATOM   1194  O1x HOH X   0      15.898  12.578   4.117  1.00  0.00           O  \nATOM   1195  H1x HOH X   0      16.668  12.074   3.852  1.00  0.00           H  \nATOM   1196  H2x HOH X   0      15.462  12.800   3.295  1.00  0.00           H  \nTER    1197      HOH X   0\nATOM   1198  O1x HOH X   0      18.240  22.013  23.555  1.00  0.00           O  \nATOM   1199  H1x HOH X   0      17.771  22.817  23.778  1.00  0.00           H  \nATOM   1200  H2x HOH X   0      19.061  22.071  24.043  1.00  0.00           H  \nTER    1201      HOH X   0\nATOM   1202  O1x HOH X   0      20.502  15.844  15.540  1.00  0.00           O  \nATOM   1203  H1x HOH X   0      20.067  16.175  14.755  1.00  0.00           H  \nATOM   1204  H2x HOH X   0      20.061  15.016  15.729  1.00  0.00           H  \nTER    1205      HOH X   0\nATOM   1206  O1x HOH X   0       8.690  23.165   9.534  1.00  0.00           O  \nATOM   1207  H1x HOH X   0       9.114  23.806   8.964  1.00  0.00           H  \nATOM   1208  H2x HOH X   0       9.400  22.590   9.818  1.00  0.00           H  \nTER    1209      HOH X   0\nATOM   1210  O1x HOH X   0      28.938  19.213   9.542  1.00  0.00           O  \nATOM   1211  H1x HOH X   0      29.880  19.381   9.506  1.00  0.00           H  \nATOM   1212  H2x HOH X   0      28.788  18.880  10.427  1.00  0.00           H  \nTER    1213      HOH X   0\nATOM   1214  O1x HOH X   0      19.285  18.840   3.298  1.00  0.00           O  \nATOM   1215  H1x HOH X   0      19.935  19.534   3.410  1.00  0.00           H  \nATOM   1216  H2x HOH X   0      19.132  18.509   4.183  1.00  0.00           H  \nTER    1217      HOH X   0\nATOM   1218  O1x HOH X   0      29.892  11.755  19.953  1.00  0.00           O  \nATOM   1219  H1x HOH X   0      30.595  11.354  19.444  1.00  0.00           H  \nATOM   1220  H2x HOH X   0      30.341  12.210  20.666  1.00  0.00           H  \nTER    1221      HOH X   0\nATOM   1222  O1x HOH X   0       5.267  15.452  22.527  1.00  0.00           O  \nATOM   1223  H1x HOH X   0       5.953  15.553  23.187  1.00  0.00           H  \nATOM   1224  H2x HOH X   0       5.144  14.506  22.450  1.00  0.00           H  \nTER    1225      HOH X   0\nATOM   1226  O1x HOH X   0      24.423  22.992   8.449  1.00  0.00           O  \nATOM   1227  H1x HOH X   0      23.504  22.841   8.229  1.00  0.00           H  \nATOM   1228  H2x HOH X   0      24.435  23.865   8.843  1.00  0.00           H  \nTER    1229      HOH X   0\nATOM   1230  O1x HOH X   0      30.374  25.470  30.876  1.00  0.00           O  \nATOM   1231  H1x HOH X   0      29.951  24.895  30.238  1.00  0.00           H  \nATOM   1232  H2x HOH X   0      29.887  26.292  30.818  1.00  0.00           H  \nTER    1233      HOH X   0\nATOM   1234  O1x HOH X   0       6.989  25.235  16.033  1.00  0.00           O  \nATOM   1235  H1x HOH X   0       6.592  26.022  16.408  1.00  0.00           H  \nATOM   1236  H2x HOH X   0       6.692  25.227  15.123  1.00  0.00           H  \nTER    1237      HOH X   0\nATOM   1238  O1x HOH X   0      11.136   4.469  22.985  1.00  0.00           O  \nATOM   1239  H1x HOH X   0      12.015   4.092  22.982  1.00  0.00           H  \nATOM   1240  H2x HOH X   0      11.237   5.311  23.430  1.00  0.00           H  \nTER    1241      HOH X   0\nATOM   1242  O1x HOH X   0      24.114  -0.039  19.917  1.00  0.00           O  \nATOM   1243  H1x HOH X   0      23.372  -0.642  19.886  1.00  0.00           H  \nATOM   1244  H2x HOH X   0      23.717   0.828  20.004  1.00  0.00           H  \nTER    1245      HOH X   0\nATOM   1246  O1x HOH X   0      12.217  24.266   2.094  1.00  0.00           O  \nATOM   1247  H1x HOH X   0      11.796  23.416   1.966  1.00  0.00           H  \nATOM   1248  H2x HOH X   0      12.593  24.218   2.973  1.00  0.00           H  \nTER    1249      HOH X   0\nATOM   1250  O1x HOH X   0       5.322  19.298   5.229  1.00  0.00           O  \nATOM   1251  H1x HOH X   0       5.698  18.580   5.739  1.00  0.00           H  \nATOM   1252  H2x HOH X   0       5.697  20.089   5.617  1.00  0.00           H  \nTER    1253      HOH X   0\nATOM   1254  O1x HOH X   0      12.259  25.076   7.502  1.00  0.00           O  \nATOM   1255  H1x HOH X   0      13.041  25.348   7.983  1.00  0.00           H  \nATOM   1256  H2x HOH X   0      11.545  25.172   8.132  1.00  0.00           H  \nTER    1257      HOH X   0\nATOM   1258  O1x HOH X   0       2.441  18.718   5.567  1.00  0.00           O  \nATOM   1259  H1x HOH X   0       2.783  17.880   5.878  1.00  0.00           H  \nATOM   1260  H2x HOH X   0       3.208  19.289   5.524  1.00  0.00           H  \nTER    1261      HOH X   0\nATOM   1262  O1x HOH X   0      32.208   2.952  28.110  1.00  0.00           O  \nATOM   1263  H1x HOH X   0      31.523   3.586  27.898  1.00  0.00           H  \nATOM   1264  H2x HOH X   0      32.401   3.108  29.034  1.00  0.00           H  \nTER    1265      HOH X   0\nATOM   1266  O1x HOH X   0      21.297  11.495   7.405  1.00  0.00           O  \nATOM   1267  H1x HOH X   0      21.840  10.910   7.934  1.00  0.00           H  \nATOM   1268  H2x HOH X   0      21.813  11.652   6.614  1.00  0.00           H  \nTER    1269      HOH X   0\nATOM   1270  O1x HOH X   0      28.771   5.362  34.349  1.00  0.00           O  \nATOM   1271  H1x HOH X   0      28.202   4.701  34.744  1.00  0.00           H  \nATOM   1272  H2x HOH X   0      28.264   5.706  33.613  1.00  0.00           H  \nTER    1273      HOH X   0\nATOM   1274  O1x HOH X   0      13.175  25.957   0.237  1.00  0.00           O  \nATOM   1275  H1x HOH X   0      13.152  25.436  -0.565  1.00  0.00           H  \nATOM   1276  H2x HOH X   0      13.150  25.311   0.943  1.00  0.00           H  \nTER    1277      HOH X   0\nATOM   1278  O1x HOH X   0      19.522  13.328  11.627  1.00  0.00           O  \nATOM   1279  H1x HOH X   0      19.240  14.054  12.183  1.00  0.00           H  \nATOM   1280  H2x HOH X   0      19.743  13.737  10.790  1.00  0.00           H  \nTER    1281      HOH X   0\nATOM   1282  O1x HOH X   0      12.619   2.013  18.479  1.00  0.00           O  \nATOM   1283  H1x HOH X   0      12.224   2.724  18.982  1.00  0.00           H  \nATOM   1284  H2x HOH X   0      13.372   2.415  18.046  1.00  0.00           H  \nTER    1285      HOH X   0\nATOM   1286  O1x HOH X   0       7.418  26.776  32.986  1.00  0.00           O  \nATOM   1287  H1x HOH X   0       6.527  26.814  33.333  1.00  0.00           H  \nATOM   1288  H2x HOH X   0       7.749  25.922  33.265  1.00  0.00           H  \nTER    1289      HOH X   0\nATOM   1290  O1x HOH X   0      34.142   6.867  26.991  1.00  0.00           O  \nATOM   1291  H1x HOH X   0      33.845   7.776  27.042  1.00  0.00           H  \nATOM   1292  H2x HOH X   0      33.579   6.397  27.606  1.00  0.00           H  \nTER    1293      HOH X   0\nATOM   1294  O1x HOH X   0      25.293  22.087  31.658  1.00  0.00           O  \nATOM   1295  H1x HOH X   0      26.093  22.279  31.168  1.00  0.00           H  \nATOM   1296  H2x HOH X   0      25.595  21.897  32.546  1.00  0.00           H  \nTER    1297      HOH X   0\nATOM   1298  O1x HOH X   0       8.861  30.509  17.689  1.00  0.00           O  \nATOM   1299  H1x HOH X   0       9.026  29.714  18.195  1.00  0.00           H  \nATOM   1300  H2x HOH X   0       7.913  30.634  17.740  1.00  0.00           H  \nTER    1301      HOH X   0\nATOM   1302  O1x HOH X   0      24.140  30.777  17.097  1.00  0.00           O  \nATOM   1303  H1x HOH X   0      23.593  31.236  17.734  1.00  0.00           H  \nATOM   1304  H2x HOH X   0      24.919  31.326  17.010  1.00  0.00           H  \nTER    1305      HOH X   0\nATOM   1306  O1x HOH X   0      17.774  21.597  29.267  1.00  0.00           O  \nATOM   1307  H1x HOH X   0      17.212  21.064  28.705  1.00  0.00           H  \nATOM   1308  H2x HOH X   0      17.230  21.802  30.027  1.00  0.00           H  \nTER    1309      HOH X   0\nATOM   1310  O1x HOH X   0      27.489  23.125  10.304  1.00  0.00           O  \nATOM   1311  H1x HOH X   0      26.800  23.301   9.664  1.00  0.00           H  \nATOM   1312  H2x HOH X   0      28.024  22.443   9.900  1.00  0.00           H  \nTER    1313      HOH X   0\nATOM   1314  O1x HOH X   0       1.738   4.656  10.682  1.00  0.00           O  \nATOM   1315  H1x HOH X   0       1.902   5.464  10.195  1.00  0.00           H  \nATOM   1316  H2x HOH X   0       2.291   4.002  10.256  1.00  0.00           H  \nTER    1317      HOH X   0\nATOM   1318  O1x HOH X   0       8.699  19.165  16.279  1.00  0.00           O  \nATOM   1319  H1x HOH X   0       8.302  19.018  15.420  1.00  0.00           H  \nATOM   1320  H2x HOH X   0       9.641  19.098  16.123  1.00  0.00           H  \nTER    1321      HOH X   0\nATOM   1322  O1x HOH X   0      15.965   8.392  10.407  1.00  0.00           O  \nATOM   1323  H1x HOH X   0      16.558   7.642  10.462  1.00  0.00           H  \nATOM   1324  H2x HOH X   0      16.091   8.858  11.233  1.00  0.00           H  \nTER    1325      HOH X   0\nATOM   1326  O1x HOH X   0       1.959  24.937  28.065  1.00  0.00           O  \nATOM   1327  H1x HOH X   0       2.863  25.116  27.808  1.00  0.00           H  \nATOM   1328  H2x HOH X   0       1.548  25.800  28.116  1.00  0.00           H  \nTER    1329      HOH X   0\nATOM   1330  O1x HOH X   0      29.364  13.005  16.944  1.00  0.00           O  \nATOM   1331  H1x HOH X   0      29.197  13.399  17.800  1.00  0.00           H  \nATOM   1332  H2x HOH X   0      30.075  12.383  17.101  1.00  0.00           H  \nTER    1333      HOH X   0\nATOM   1334  O1x HOH X   0      15.102   5.912  25.814  1.00  0.00           O  \nATOM   1335  H1x HOH X   0      14.145   5.889  25.788  1.00  0.00           H  \nATOM   1336  H2x HOH X   0      15.350   5.087  26.231  1.00  0.00           H  \nTER    1337      HOH X   0\nATOM   1338  O1x HOH X   0      31.740  19.378  21.726  1.00  0.00           O  \nATOM   1339  H1x HOH X   0      31.511  20.295  21.576  1.00  0.00           H  \nATOM   1340  H2x HOH X   0      32.362  19.168  21.029  1.00  0.00           H  \nTER    1341      HOH X   0\nATOM   1342  O1x HOH X   0       5.702  21.290  14.999  1.00  0.00           O  \nATOM   1343  H1x HOH X   0       6.004  20.835  15.785  1.00  0.00           H  \nATOM   1344  H2x HOH X   0       5.552  20.593  14.361  1.00  0.00           H  \nTER    1345      HOH X   0\nATOM   1346  O1x HOH X   0      18.162  17.632   0.706  1.00  0.00           O  \nATOM   1347  H1x HOH X   0      17.481  18.282   0.879  1.00  0.00           H  \nATOM   1348  H2x HOH X   0      18.681  17.608   1.510  1.00  0.00           H  \nTER    1349      HOH X   0\nATOM   1350  O1x HOH X   0       0.505   4.792   6.832  1.00  0.00           O  \nATOM   1351  H1x HOH X   0       0.101   3.959   7.075  1.00  0.00           H  \nATOM   1352  H2x HOH X   0      -0.105   5.457   7.152  1.00  0.00           H  \nTER    1353      HOH X   0\nATOM   1354  O1x HOH X   0      18.118  30.259  18.880  1.00  0.00           O  \nATOM   1355  H1x HOH X   0      18.178  29.524  18.269  1.00  0.00           H  \nATOM   1356  H2x HOH X   0      18.018  29.849  19.739  1.00  0.00           H  \nTER    1357      HOH X   0\nATOM   1358  O1x HOH X   0      31.725   3.026   8.290  1.00  0.00           O  \nATOM   1359  H1x HOH X   0      31.627   2.096   8.086  1.00  0.00           H  \nATOM   1360  H2x HOH X   0      32.589   3.092   8.697  1.00  0.00           H  \nTER    1361      HOH X   0\nATOM   1362  O1x HOH X   0      23.850  27.098  26.540  1.00  0.00           O  \nATOM   1363  H1x HOH X   0      23.386  27.897  26.794  1.00  0.00           H  \nATOM   1364  H2x HOH X   0      23.360  26.392  26.961  1.00  0.00           H  \nTER    1365      HOH X   0\nATOM   1366  O1x HOH X   0      21.342  28.114  29.407  1.00  0.00           O  \nATOM   1367  H1x HOH X   0      21.780  28.626  30.087  1.00  0.00           H  \nATOM   1368  H2x HOH X   0      20.712  28.720  29.017  1.00  0.00           H  \nTER    1369      HOH X   0\nATOM   1370  O1x HOH X   0      18.524  14.597   0.409  1.00  0.00           O  \nATOM   1371  H1x HOH X   0      18.550  15.528   0.187  1.00  0.00           H  \nATOM   1372  H2x HOH X   0      19.414  14.286   0.246  1.00  0.00           H  \nTER    1373      HOH X   0\nATOM   1374  O1x HOH X   0      25.486  28.247  11.066  1.00  0.00           O  \nATOM   1375  H1x HOH X   0      24.691  28.111  11.580  1.00  0.00           H  \nATOM   1376  H2x HOH X   0      25.666  29.184  11.143  1.00  0.00           H  \nTER    1377      HOH X   0\nATOM   1378  O1x HOH X   0       8.616  33.073  10.336  1.00  0.00           O  \nATOM   1379  H1x HOH X   0       8.926  32.892  11.224  1.00  0.00           H  \nATOM   1380  H2x HOH X   0       7.848  33.631  10.460  1.00  0.00           H  \nTER    1381      HOH X   0\nATOM   1382  O1x HOH X   0      19.033  29.754  13.437  1.00  0.00           O  \nATOM   1383  H1x HOH X   0      19.128  29.024  14.048  1.00  0.00           H  \nATOM   1384  H2x HOH X   0      19.102  29.352  12.571  1.00  0.00           H  \nTER    1385      HOH X   0\nATOM   1386  O1x HOH X   0      17.887  10.775   8.462  1.00  0.00           O  \nATOM   1387  H1x HOH X   0      18.382  11.548   8.735  1.00  0.00           H  \nATOM   1388  H2x HOH X   0      17.103  10.786   9.011  1.00  0.00           H  \nTER    1389      HOH X   0\nATOM   1390  O1x HOH X   0       6.524  15.811  13.279  1.00  0.00           O  \nATOM   1391  H1x HOH X   0       6.621  14.923  12.936  1.00  0.00           H  \nATOM   1392  H2x HOH X   0       5.664  15.814  13.699  1.00  0.00           H  \nTER    1393      HOH X   0\nATOM   1394  O1x HOH X   0      29.488  14.778   4.775  1.00  0.00           O  \nATOM   1395  H1x HOH X   0      28.874  14.290   5.323  1.00  0.00           H  \nATOM   1396  H2x HOH X   0      29.499  14.302   3.944  1.00  0.00           H  \nTER    1397      HOH X   0\nATOM   1398  O1x HOH X   0      32.760  18.121  18.844  1.00  0.00           O  \nATOM   1399  H1x HOH X   0      32.269  17.585  18.222  1.00  0.00           H  \nATOM   1400  H2x HOH X   0      32.936  18.935  18.373  1.00  0.00           H  \nTER    1401      HOH X   0\nATOM   1402  O1x HOH X   0      22.182   3.492   1.069  1.00  0.00           O  \nATOM   1403  H1x HOH X   0      22.097   2.775   0.441  1.00  0.00           H  \nATOM   1404  H2x HOH X   0      22.449   4.244   0.541  1.00  0.00           H  \nTER    1405      HOH X   0\nATOM   1406  O1x HOH X   0      26.336  30.335  23.889  1.00  0.00           O  \nATOM   1407  H1x HOH X   0      26.950  30.018  24.551  1.00  0.00           H  \nATOM   1408  H2x HOH X   0      26.576  31.253  23.759  1.00  0.00           H  \nTER    1409      HOH X   0\nATOM   1410  O1x HOH X   0      15.719  22.831  31.522  1.00  0.00           O  \nATOM   1411  H1x HOH X   0      16.205  23.533  31.953  1.00  0.00           H  \nATOM   1412  H2x HOH X   0      14.805  22.995  31.754  1.00  0.00           H  \nTER    1413      HOH X   0\nATOM   1414  O1x HOH X   0      26.064  28.552  18.282  1.00  0.00           O  \nATOM   1415  H1x HOH X   0      27.007  28.448  18.416  1.00  0.00           H  \nATOM   1416  H2x HOH X   0      25.991  29.035  17.459  1.00  0.00           H  \nTER    1417      HOH X   0\nATOM   1418  O1x HOH X   0      20.635  22.356  30.967  1.00  0.00           O  \nATOM   1419  H1x HOH X   0      20.829  21.458  31.237  1.00  0.00           H  \nATOM   1420  H2x HOH X   0      19.718  22.486  31.208  1.00  0.00           H  \nTER    1421      HOH X   0\nATOM   1422  O1x HOH X   0      10.680   4.144  35.051  1.00  0.00           O  \nATOM   1423  H1x HOH X   0      11.299   4.329  34.345  1.00  0.00           H  \nATOM   1424  H2x HOH X   0      10.494   5.000  35.437  1.00  0.00           H  \nTER    1425      HOH X   0\nATOM   1426  O1x HOH X   0      24.627  15.352  24.802  1.00  0.00           O  \nATOM   1427  H1x HOH X   0      24.309  15.337  25.705  1.00  0.00           H  \nATOM   1428  H2x HOH X   0      23.916  15.754  24.303  1.00  0.00           H  \nTER    1429      HOH X   0\nATOM   1430  O1x HOH X   0      27.437   2.795  26.185  1.00  0.00           O  \nATOM   1431  H1x HOH X   0      27.087   2.703  25.299  1.00  0.00           H  \nATOM   1432  H2x HOH X   0      26.780   3.311  26.651  1.00  0.00           H  \nTER    1433      HOH X   0\nATOM   1434  O1x HOH X   0      16.352  28.586  22.748  1.00  0.00           O  \nATOM   1435  H1x HOH X   0      16.407  27.867  22.117  1.00  0.00           H  \nATOM   1436  H2x HOH X   0      16.079  29.341  22.227  1.00  0.00           H  \nTER    1437      HOH X   0\nATOM   1438  O1x HOH X   0       3.237  10.055  13.749  1.00  0.00           O  \nATOM   1439  H1x HOH X   0       3.760   9.343  14.118  1.00  0.00           H  \nATOM   1440  H2x HOH X   0       3.596  10.187  12.872  1.00  0.00           H  \nTER    1441      HOH X   0\nATOM   1442  O1x HOH X   0      31.567   4.906  34.670  1.00  0.00           O  \nATOM   1443  H1x HOH X   0      30.771   5.430  34.577  1.00  0.00           H  \nATOM   1444  H2x HOH X   0      32.123   5.416  35.259  1.00  0.00           H  \nTER    1445      HOH X   0\nATOM   1446  O1x HOH X   0      17.119  22.425   1.028  1.00  0.00           O  \nATOM   1447  H1x HOH X   0      16.830  22.941   1.781  1.00  0.00           H  \nATOM   1448  H2x HOH X   0      18.051  22.625   0.944  1.00  0.00           H  \nTER    1449      HOH X   0\nATOM   1450  O1x HOH X   0       0.382  16.221   9.227  1.00  0.00           O  \nATOM   1451  H1x HOH X   0      -0.406  16.612   8.850  1.00  0.00           H  \nATOM   1452  H2x HOH X   0       0.859  16.959   9.606  1.00  0.00           H  \nTER    1453      HOH X   0\nATOM   1454  O1x HOH X   0       3.265  -0.152   0.778  1.00  0.00           O  \nATOM   1455  H1x HOH X   0       2.825   0.066   1.599  1.00  0.00           H  \nATOM   1456  H2x HOH X   0       4.015   0.441   0.743  1.00  0.00           H  \nTER    1457      HOH X   0\nATOM   1458  O1x HOH X   0      15.753   0.565  32.425  1.00  0.00           O  \nATOM   1459  H1x HOH X   0      15.312  -0.276  32.307  1.00  0.00           H  \nATOM   1460  H2x HOH X   0      16.141   0.512  33.299  1.00  0.00           H  \nTER    1461      HOH X   0\nATOM   1462  O1x HOH X   0       4.531  16.747   8.151  1.00  0.00           O  \nATOM   1463  H1x HOH X   0       4.973  16.318   8.883  1.00  0.00           H  \nATOM   1464  H2x HOH X   0       4.429  17.656   8.431  1.00  0.00           H  \nTER    1465      HOH X   0\nATOM   1466  O1x HOH X   0       7.383  12.286  24.403  1.00  0.00           O  \nATOM   1467  H1x HOH X   0       7.169  12.627  23.535  1.00  0.00           H  \nATOM   1468  H2x HOH X   0       6.611  11.783  24.661  1.00  0.00           H  \nTER    1469      HOH X   0\nATOM   1470  O1x HOH X   0      25.904  32.564  15.012  1.00  0.00           O  \nATOM   1471  H1x HOH X   0      26.526  33.214  14.684  1.00  0.00           H  \nATOM   1472  H2x HOH X   0      25.244  33.077  15.477  1.00  0.00           H  \nTER    1473      HOH X   0\nATOM   1474  O1x HOH X   0      34.296  17.248  34.052  1.00  0.00           O  \nATOM   1475  H1x HOH X   0      33.978  17.434  34.935  1.00  0.00           H  \nATOM   1476  H2x HOH X   0      34.067  16.331  33.902  1.00  0.00           H  \nTER    1477      HOH X   0\nATOM   1478  O1x HOH X   0      13.303  14.606   9.071  1.00  0.00           O  \nATOM   1479  H1x HOH X   0      13.496  14.968   8.207  1.00  0.00           H  \nATOM   1480  H2x HOH X   0      13.926  15.037   9.656  1.00  0.00           H  \nTER    1481      HOH X   0\nATOM   1482  O1x HOH X   0      21.096  25.575  12.494  1.00  0.00           O  \nATOM   1483  H1x HOH X   0      21.441  25.839  13.347  1.00  0.00           H  \nATOM   1484  H2x HOH X   0      21.578  24.778  12.277  1.00  0.00           H  \nTER    1485      HOH X   0\nATOM   1486  O1x HOH X   0      22.467  32.752  19.334  1.00  0.00           O  \nATOM   1487  H1x HOH X   0      21.652  32.552  18.874  1.00  0.00           H  \nATOM   1488  H2x HOH X   0      22.548  32.061  19.991  1.00  0.00           H  \nTER    1489      HOH X   0\nATOM   1490  O1x HOH X   0       0.798  23.723  13.548  1.00  0.00           O  \nATOM   1491  H1x HOH X   0       0.516  24.269  14.281  1.00  0.00           H  \nATOM   1492  H2x HOH X   0       1.216  22.966  13.959  1.00  0.00           H  \nTER    1493      HOH X   0\nATOM   1494  O1x HOH X   0      31.466  13.641  30.724  1.00  0.00           O  \nATOM   1495  H1x HOH X   0      32.411  13.782  30.785  1.00  0.00           H  \nATOM   1496  H2x HOH X   0      31.169  14.285  30.081  1.00  0.00           H  \nTER    1497      HOH X   0\nATOM   1498  O1x HOH X   0      17.913  25.747   6.704  1.00  0.00           O  \nATOM   1499  H1x HOH X   0      17.535  24.881   6.551  1.00  0.00           H  \nATOM   1500  H2x HOH X   0      17.640  25.974   7.593  1.00  0.00           H  \nTER    1501      HOH X   0\nATOM   1502  O1x HOH X   0      15.222  23.429  21.699  1.00  0.00           O  \nATOM   1503  H1x HOH X   0      15.554  22.803  21.055  1.00  0.00           H  \nATOM   1504  H2x HOH X   0      15.972  23.991  21.896  1.00  0.00           H  \nTER    1505      HOH X   0\nATOM   1506  O1x HOH X   0       9.680  29.732   8.688  1.00  0.00           O  \nATOM   1507  H1x HOH X   0       9.615  30.674   8.841  1.00  0.00           H  \nATOM   1508  H2x HOH X   0      10.571  29.506   8.954  1.00  0.00           H  \nTER    1509      HOH X   0\nATOM   1510  O1x HOH X   0      34.467  11.474  15.274  1.00  0.00           O  \nATOM   1511  H1x HOH X   0      34.949  10.691  15.007  1.00  0.00           H  \nATOM   1512  H2x HOH X   0      34.841  12.178  14.745  1.00  0.00           H  \nTER    1513      HOH X   0\nATOM   1514  O1x HOH X   0       2.064  28.856  18.118  1.00  0.00           O  \nATOM   1515  H1x HOH X   0       2.863  28.328  18.114  1.00  0.00           H  \nATOM   1516  H2x HOH X   0       2.260  29.582  18.709  1.00  0.00           H  \nTER    1517      HOH X   0\nATOM   1518  O1x HOH X   0       4.592  12.810  29.691  1.00  0.00           O  \nATOM   1519  H1x HOH X   0       4.500  13.228  30.547  1.00  0.00           H  \nATOM   1520  H2x HOH X   0       5.511  12.940  29.457  1.00  0.00           H  \nTER    1521      HOH X   0\nATOM   1522  O1x HOH X   0      27.646   2.065  11.782  1.00  0.00           O  \nATOM   1523  H1x HOH X   0      28.432   2.347  12.251  1.00  0.00           H  \nATOM   1524  H2x HOH X   0      27.934   1.315  11.261  1.00  0.00           H  \nTER    1525      HOH X   0\nATOM   1526  O1x HOH X   0      14.124  25.749   9.556  1.00  0.00           O  \nATOM   1527  H1x HOH X   0      14.010  26.552  10.064  1.00  0.00           H  \nATOM   1528  H2x HOH X   0      15.073  25.650   9.472  1.00  0.00           H  \nTER    1529      HOH X   0\nATOM   1530  O1x HOH X   0      28.580   7.263  28.345  1.00  0.00           O  \nATOM   1531  H1x HOH X   0      28.810   7.911  27.679  1.00  0.00           H  \nATOM   1532  H2x HOH X   0      27.627   7.191  28.290  1.00  0.00           H  \nTER    1533      HOH X   0\nATOM   1534  O1x HOH X   0      17.852  -0.261  30.511  1.00  0.00           O  \nATOM   1535  H1x HOH X   0      17.367   0.333  31.084  1.00  0.00           H  \nATOM   1536  H2x HOH X   0      18.357   0.316  29.939  1.00  0.00           H  \nTER    1537      HOH X   0\nATOM   1538  O1x HOH X   0      21.853  30.302  15.241  1.00  0.00           O  \nATOM   1539  H1x HOH X   0      22.642  30.777  15.501  1.00  0.00           H  \nATOM   1540  H2x HOH X   0      22.021  29.396  15.502  1.00  0.00           H  \nTER    1541      HOH X   0\nATOM   1542  O1x HOH X   0      22.603  23.727   5.755  1.00  0.00           O  \nATOM   1543  H1x HOH X   0      23.514  23.989   5.889  1.00  0.00           H  \nATOM   1544  H2x HOH X   0      22.399  24.016   4.866  1.00  0.00           H  \nTER    1545      HOH X   0\nATOM   1546  O1x HOH X   0      25.040  27.861  29.143  1.00  0.00           O  \nATOM   1547  H1x HOH X   0      25.009  27.712  30.088  1.00  0.00           H  \nATOM   1548  H2x HOH X   0      24.359  27.290  28.787  1.00  0.00           H  \nTER    1549      HOH X   0\nATOM   1550  O1x HOH X   0      11.745   8.013   4.735  1.00  0.00           O  \nATOM   1551  H1x HOH X   0      11.130   8.449   4.145  1.00  0.00           H  \nATOM   1552  H2x HOH X   0      12.596   8.108   4.309  1.00  0.00           H  \nTER    1553      HOH X   0\nATOM   1554  O1x HOH X   0      27.686   1.903  32.234  1.00  0.00           O  \nATOM   1555  H1x HOH X   0      28.235   2.107  31.477  1.00  0.00           H  \nATOM   1556  H2x HOH X   0      27.039   2.608  32.259  1.00  0.00           H  \nTER    1557      HOH X   0\nATOM   1558  O1x HOH X   0      23.027  30.020  26.516  1.00  0.00           O  \nATOM   1559  H1x HOH X   0      22.999  29.899  27.465  1.00  0.00           H  \nATOM   1560  H2x HOH X   0      23.843  30.494  26.359  1.00  0.00           H  \nTER    1561      HOH X   0\nATOM   1562  O1x HOH X   0      25.950  26.881  31.786  1.00  0.00           O  \nATOM   1563  H1x HOH X   0      26.862  26.625  31.645  1.00  0.00           H  \nATOM   1564  H2x HOH X   0      25.960  27.357  32.617  1.00  0.00           H  \nTER    1565      HOH X   0\nATOM   1566  O1x HOH X   0       7.043  24.571  30.363  1.00  0.00           O  \nATOM   1567  H1x HOH X   0       7.819  24.292  30.849  1.00  0.00           H  \nATOM   1568  H2x HOH X   0       6.514  23.778  30.279  1.00  0.00           H  \nTER    1569      HOH X   0\nATOM   1570  O1x HOH X   0       6.951  28.040   1.578  1.00  0.00           O  \nATOM   1571  H1x HOH X   0       6.219  28.649   1.675  1.00  0.00           H  \nATOM   1572  H2x HOH X   0       6.547  27.226   1.277  1.00  0.00           H  \nTER    1573      HOH X   0\nATOM   1574  O1x HOH X   0       2.202  22.968   5.742  1.00  0.00           O  \nATOM   1575  H1x HOH X   0       2.788  23.202   5.022  1.00  0.00           H  \nATOM   1576  H2x HOH X   0       1.841  22.118   5.491  1.00  0.00           H  \nTER    1577      HOH X   0\nATOM   1578  O1x HOH X   0      33.775  33.937  16.272  1.00  0.00           O  \nATOM   1579  H1x HOH X   0      34.090  34.773  16.614  1.00  0.00           H  \nATOM   1580  H2x HOH X   0      33.134  34.178  15.603  1.00  0.00           H  \nTER    1581      HOH X   0\nATOM   1582  O1x HOH X   0      26.059   6.314  22.531  1.00  0.00           O  \nATOM   1583  H1x HOH X   0      26.047   5.755  23.308  1.00  0.00           H  \nATOM   1584  H2x HOH X   0      25.292   6.042  22.027  1.00  0.00           H  \nTER    1585      HOH X   0\nATOM   1586  O1x HOH X   0       4.834  10.880   8.328  1.00  0.00           O  \nATOM   1587  H1x HOH X   0       5.120  10.071   7.905  1.00  0.00           H  \nATOM   1588  H2x HOH X   0       4.183  11.247   7.730  1.00  0.00           H  \nTER    1589      HOH X   0\nATOM   1590  O1x HOH X   0       3.646  19.371   8.449  1.00  0.00           O  \nATOM   1591  H1x HOH X   0       3.944  20.243   8.707  1.00  0.00           H  \nATOM   1592  H2x HOH X   0       3.031  19.530   7.732  1.00  0.00           H  \nTER    1593      HOH X   0\nATOM   1594  O1x HOH X   0      19.926  27.413  18.815  1.00  0.00           O  \nATOM   1595  H1x HOH X   0      20.114  27.520  19.747  1.00  0.00           H  \nATOM   1596  H2x HOH X   0      20.539  28.003  18.376  1.00  0.00           H  \nTER    1597      HOH X   0\nATOM   1598  O1x HOH X   0      21.989   7.946   6.365  1.00  0.00           O  \nATOM   1599  H1x HOH X   0      21.202   8.362   6.717  1.00  0.00           H  \nATOM   1600  H2x HOH X   0      22.101   8.338   5.499  1.00  0.00           H  \nTER    1601      HOH X   0\nATOM   1602  O1x HOH X   0      22.637  25.981  29.092  1.00  0.00           O  \nATOM   1603  H1x HOH X   0      22.076  26.713  29.349  1.00  0.00           H  \nATOM   1604  H2x HOH X   0      22.962  25.626  29.920  1.00  0.00           H  \nTER    1605      HOH X   0\nATOM   1606  O1x HOH X   0       8.777  19.087   5.233  1.00  0.00           O  \nATOM   1607  H1x HOH X   0       8.434  19.516   6.017  1.00  0.00           H  \nATOM   1608  H2x HOH X   0       8.385  19.570   4.505  1.00  0.00           H  \nTER    1609      HOH X   0\nATOM   1610  O1x HOH X   0      30.919   1.541  18.708  1.00  0.00           O  \nATOM   1611  H1x HOH X   0      31.734   1.081  18.506  1.00  0.00           H  \nATOM   1612  H2x HOH X   0      30.252   0.854  18.719  1.00  0.00           H  \nTER    1613      HOH X   0\nATOM   1614  O1x HOH X   0       5.407   8.670   6.842  1.00  0.00           O  \nATOM   1615  H1x HOH X   0       5.563   7.778   6.531  1.00  0.00           H  \nATOM   1616  H2x HOH X   0       5.958   9.219   6.283  1.00  0.00           H  \nTER    1617      HOH X   0\nATOM   1618  O1x HOH X   0       9.723  19.156  33.206  1.00  0.00           O  \nATOM   1619  H1x HOH X   0       9.617  18.396  33.777  1.00  0.00           H  \nATOM   1620  H2x HOH X   0      10.250  18.836  32.474  1.00  0.00           H  \nTER    1621      HOH X   0\nATOM   1622  O1x HOH X   0      30.061  29.659  18.398  1.00  0.00           O  \nATOM   1623  H1x HOH X   0      30.643  28.913  18.252  1.00  0.00           H  \nATOM   1624  H2x HOH X   0      30.540  30.409  18.045  1.00  0.00           H  \nTER    1625      HOH X   0\nATOM   1626  O1x HOH X   0      22.586   7.275  17.167  1.00  0.00           O  \nATOM   1627  H1x HOH X   0      22.512   7.439  16.226  1.00  0.00           H  \nATOM   1628  H2x HOH X   0      23.527   7.289  17.339  1.00  0.00           H  \nTER    1629      HOH X   0\nATOM   1630  O1x HOH X   0       1.188   4.957  25.962  1.00  0.00           O  \nATOM   1631  H1x HOH X   0       0.969   4.026  25.986  1.00  0.00           H  \nATOM   1632  H2x HOH X   0       0.553   5.368  26.549  1.00  0.00           H  \nTER    1633      HOH X   0\nATOM   1634  O1x HOH X   0      17.539   4.000  33.169  1.00  0.00           O  \nATOM   1635  H1x HOH X   0      17.973   3.368  32.596  1.00  0.00           H  \nATOM   1636  H2x HOH X   0      17.418   3.532  33.995  1.00  0.00           H  \nTER    1637      HOH X   0\nATOM   1638  O1x HOH X   0      15.704   3.419  20.864  1.00  0.00           O  \nATOM   1639  H1x HOH X   0      16.163   2.864  20.234  1.00  0.00           H  \nATOM   1640  H2x HOH X   0      15.754   4.298  20.491  1.00  0.00           H  \nTER    1641      HOH X   0\nATOM   1642  O1x HOH X   0       1.643  16.381   4.169  1.00  0.00           O  \nATOM   1643  H1x HOH X   0       0.723  16.336   4.429  1.00  0.00           H  \nATOM   1644  H2x HOH X   0       1.813  17.315   4.048  1.00  0.00           H  \nTER    1645      HOH X   0\nATOM   1646  O1x HOH X   0       4.052  11.766   3.361  1.00  0.00           O  \nATOM   1647  H1x HOH X   0       3.603  12.536   3.709  1.00  0.00           H  \nATOM   1648  H2x HOH X   0       3.388  11.077   3.371  1.00  0.00           H  \nTER    1649      HOH X   0\nATOM   1650  O1x HOH X   0      27.363  32.943   3.635  1.00  0.00           O  \nATOM   1651  H1x HOH X   0      27.719  32.265   3.062  1.00  0.00           H  \nATOM   1652  H2x HOH X   0      27.193  33.684   3.053  1.00  0.00           H  \nTER    1653      HOH X   0\nATOM   1654  O1x HOH X   0      18.153  34.431   7.453  1.00  0.00           O  \nATOM   1655  H1x HOH X   0      18.826  33.832   7.129  1.00  0.00           H  \nATOM   1656  H2x HOH X   0      17.562  33.875   7.961  1.00  0.00           H  \nTER    1657      HOH X   0\nATOM   1658  O1x HOH X   0       7.869  10.573   7.885  1.00  0.00           O  \nATOM   1659  H1x HOH X   0       8.408   9.829   7.618  1.00  0.00           H  \nATOM   1660  H2x HOH X   0       6.975  10.313   7.664  1.00  0.00           H  \nTER    1661      HOH X   0\nATOM   1662  O1x HOH X   0      16.422  29.632  27.966  1.00  0.00           O  \nATOM   1663  H1x HOH X   0      16.469  29.979  27.075  1.00  0.00           H  \nATOM   1664  H2x HOH X   0      16.793  30.324  28.513  1.00  0.00           H  \nTER    1665      HOH X   0\nATOM   1666  O1x HOH X   0      13.017   0.682  26.238  1.00  0.00           O  \nATOM   1667  H1x HOH X   0      12.509   1.465  26.447  1.00  0.00           H  \nATOM   1668  H2x HOH X   0      12.469   0.197  25.621  1.00  0.00           H  \nTER    1669      HOH X   0\nATOM   1670  O1x HOH X   0       6.098  31.118   9.921  1.00  0.00           O  \nATOM   1671  H1x HOH X   0       6.052  30.844  10.837  1.00  0.00           H  \nATOM   1672  H2x HOH X   0       6.911  30.732   9.595  1.00  0.00           H  \nTER    1673      HOH X   0\nATOM   1674  O1x HOH X   0      29.717  15.363  14.935  1.00  0.00           O  \nATOM   1675  H1x HOH X   0      29.362  14.685  15.509  1.00  0.00           H  \nATOM   1676  H2x HOH X   0      29.776  16.141  15.490  1.00  0.00           H  \nTER    1677      HOH X   0\nATOM   1678  O1x HOH X   0      20.124  11.437  25.318  1.00  0.00           O  \nATOM   1679  H1x HOH X   0      21.058  11.535  25.505  1.00  0.00           H  \nATOM   1680  H2x HOH X   0      19.796  10.877  26.021  1.00  0.00           H  \nTER    1681      HOH X   0\nATOM   1682  O1x HOH X   0      27.595  13.993   7.470  1.00  0.00           O  \nATOM   1683  H1x HOH X   0      26.822  14.227   6.958  1.00  0.00           H  \nATOM   1684  H2x HOH X   0      27.529  14.527   8.262  1.00  0.00           H  \nTER    1685      HOH X   0\nATOM   1686  O1x HOH X   0      18.766  14.164  17.219  1.00  0.00           O  \nATOM   1687  H1x HOH X   0      19.121  13.423  17.710  1.00  0.00           H  \nATOM   1688  H2x HOH X   0      18.157  13.769  16.596  1.00  0.00           H  \nTER    1689      HOH X   0\nATOM   1690  O1x HOH X   0      28.603  13.519   2.479  1.00  0.00           O  \nATOM   1691  H1x HOH X   0      27.916  12.923   2.777  1.00  0.00           H  \nATOM   1692  H2x HOH X   0      28.168  14.369   2.406  1.00  0.00           H  \nTER    1693      HOH X   0\nATOM   1694  O1x HOH X   0      27.782   7.088  16.010  1.00  0.00           O  \nATOM   1695  H1x HOH X   0      28.260   6.568  15.364  1.00  0.00           H  \nATOM   1696  H2x HOH X   0      26.895   7.153  15.658  1.00  0.00           H  \nTER    1697      HOH X   0\nATOM   1698  O1x HOH X   0       2.413  32.292  14.628  1.00  0.00           O  \nATOM   1699  H1x HOH X   0       2.716  32.336  13.721  1.00  0.00           H  \nATOM   1700  H2x HOH X   0       3.025  32.846  15.112  1.00  0.00           H  \nTER    1701      HOH X   0\nATOM   1702  O1x HOH X   0      32.455  26.886  10.155  1.00  0.00           O  \nATOM   1703  H1x HOH X   0      32.710  25.980  10.327  1.00  0.00           H  \nATOM   1704  H2x HOH X   0      32.556  26.989   9.209  1.00  0.00           H  \nTER    1705      HOH X   0\nATOM   1706  O1x HOH X   0      25.721  11.259   0.349  1.00  0.00           O  \nATOM   1707  H1x HOH X   0      26.397  11.532   0.968  1.00  0.00           H  \nATOM   1708  H2x HOH X   0      24.907  11.610   0.711  1.00  0.00           H  \nTER    1709      HOH X   0\nATOM   1710  O1x HOH X   0      21.677   1.058  17.471  1.00  0.00           O  \nATOM   1711  H1x HOH X   0      21.976   1.908  17.795  1.00  0.00           H  \nATOM   1712  H2x HOH X   0      20.736   1.052  17.644  1.00  0.00           H  \nTER    1713      HOH X   0\nATOM   1714  O1x HOH X   0      12.054  31.241  34.623  1.00  0.00           O  \nATOM   1715  H1x HOH X   0      11.164  31.304  34.968  1.00  0.00           H  \nATOM   1716  H2x HOH X   0      11.993  31.591  33.735  1.00  0.00           H  \nTER    1717      HOH X   0\nATOM   1718  O1x HOH X   0      24.150  13.072   1.846  1.00  0.00           O  \nATOM   1719  H1x HOH X   0      23.815  13.900   2.192  1.00  0.00           H  \nATOM   1720  H2x HOH X   0      24.773  12.770   2.507  1.00  0.00           H  \nTER    1721      HOH X   0\nATOM   1722  O1x HOH X   0      21.058   1.204  21.975  1.00  0.00           O  \nATOM   1723  H1x HOH X   0      21.408   1.737  22.689  1.00  0.00           H  \nATOM   1724  H2x HOH X   0      21.770   0.606  21.751  1.00  0.00           H  \nTER    1725      HOH X   0\nATOM   1726  O1x HOH X   0       5.463  25.673   0.489  1.00  0.00           O  \nATOM   1727  H1x HOH X   0       4.739  25.636   1.114  1.00  0.00           H  \nATOM   1728  H2x HOH X   0       5.059  25.965  -0.329  1.00  0.00           H  \nTER    1729      HOH X   0\nATOM   1730  O1x HOH X   0      11.381  21.245   7.822  1.00  0.00           O  \nATOM   1731  H1x HOH X   0      11.595  21.479   8.725  1.00  0.00           H  \nATOM   1732  H2x HOH X   0      12.230  21.110   7.401  1.00  0.00           H  \nTER    1733      HOH X   0\nATOM   1734  O1x HOH X   0      28.744  16.941   6.961  1.00  0.00           O  \nATOM   1735  H1x HOH X   0      29.208  17.721   6.656  1.00  0.00           H  \nATOM   1736  H2x HOH X   0      28.662  16.390   6.182  1.00  0.00           H  \nTER    1737      HOH X   0\nATOM   1738  O1x HOH X   0      32.444   3.287  30.861  1.00  0.00           O  \nATOM   1739  H1x HOH X   0      32.776   4.106  31.230  1.00  0.00           H  \nATOM   1740  H2x HOH X   0      31.777   2.997  31.483  1.00  0.00           H  \nTER    1741      HOH X   0\nATOM   1742  O1x HOH X   0      19.212  29.121  16.506  1.00  0.00           O  \nATOM   1743  H1x HOH X   0      18.395  29.407  16.096  1.00  0.00           H  \nATOM   1744  H2x HOH X   0      19.899  29.556  16.000  1.00  0.00           H  \nTER    1745      HOH X   0\nATOM   1746  O1x HOH X   0      31.996  33.156   9.796  1.00  0.00           O  \nATOM   1747  H1x HOH X   0      32.284  32.375  10.268  1.00  0.00           H  \nATOM   1748  H2x HOH X   0      31.775  32.840   8.920  1.00  0.00           H  \nTER    1749      HOH X   0\nATOM   1750  O1x HOH X   0       3.857   4.633   2.178  1.00  0.00           O  \nATOM   1751  H1x HOH X   0       4.587   4.014   2.153  1.00  0.00           H  \nATOM   1752  H2x HOH X   0       4.111   5.328   1.572  1.00  0.00           H  \nTER    1753      HOH X   0\nATOM   1754  O1x HOH X   0      13.153  11.697  26.148  1.00  0.00           O  \nATOM   1755  H1x HOH X   0      12.654  11.096  26.700  1.00  0.00           H  \nATOM   1756  H2x HOH X   0      13.010  12.559  26.540  1.00  0.00           H  \nTER    1757      HOH X   0\nATOM   1758  O1x HOH X   0      12.274  33.600   1.006  1.00  0.00           O  \nATOM   1759  H1x HOH X   0      12.456  33.036   0.255  1.00  0.00           H  \nATOM   1760  H2x HOH X   0      12.623  33.119   1.757  1.00  0.00           H  \nTER    1761      HOH X   0\nATOM   1762  O1x HOH X   0      13.386   4.346  10.016  1.00  0.00           O  \nATOM   1763  H1x HOH X   0      13.873   3.635  10.432  1.00  0.00           H  \nATOM   1764  H2x HOH X   0      12.768   4.638  10.686  1.00  0.00           H  \nTER    1765      HOH X   0\nATOM   1766  O1x HOH X   0       5.265   6.760  33.737  1.00  0.00           O  \nATOM   1767  H1x HOH X   0       5.164   7.688  33.525  1.00  0.00           H  \nATOM   1768  H2x HOH X   0       6.206   6.601  33.671  1.00  0.00           H  \nTER    1769      HOH X   0\nATOM   1770  O1x HOH X   0       9.136  17.591   0.223  1.00  0.00           O  \nATOM   1771  H1x HOH X   0       9.152  18.182   0.976  1.00  0.00           H  \nATOM   1772  H2x HOH X   0       8.484  16.929   0.451  1.00  0.00           H  \nTER    1773      HOH X   0\nATOM   1774  O1x HOH X   0      25.770  17.761  10.124  1.00  0.00           O  \nATOM   1775  H1x HOH X   0      25.969  17.205  10.878  1.00  0.00           H  \nATOM   1776  H2x HOH X   0      25.862  17.182   9.368  1.00  0.00           H  \nTER    1777      HOH X   0\nATOM   1778  O1x HOH X   0       9.074  34.084   7.429  1.00  0.00           O  \nATOM   1779  H1x HOH X   0       9.257  33.167   7.223  1.00  0.00           H  \nATOM   1780  H2x HOH X   0       9.143  34.135   8.382  1.00  0.00           H  \nTER    1781      HOH X   0\nATOM   1782  O1x HOH X   0       5.932  25.270  13.642  1.00  0.00           O  \nATOM   1783  H1x HOH X   0       6.376  24.428  13.536  1.00  0.00           H  \nATOM   1784  H2x HOH X   0       5.057  25.127  13.281  1.00  0.00           H  \nTER    1785      HOH X   0\nATOM   1786  O1x HOH X   0      27.850  28.750  27.145  1.00  0.00           O  \nATOM   1787  H1x HOH X   0      27.436  27.895  27.259  1.00  0.00           H  \nATOM   1788  H2x HOH X   0      28.587  28.743  27.756  1.00  0.00           H  \nTER    1789      HOH X   0\nATOM   1790  O1x HOH X   0       7.132  15.514   5.680  1.00  0.00           O  \nATOM   1791  H1x HOH X   0       7.694  14.884   6.131  1.00  0.00           H  \nATOM   1792  H2x HOH X   0       6.409  15.670   6.288  1.00  0.00           H  \nTER    1793      HOH X   0\nATOM   1794  O1x HOH X   0      13.281  18.863  25.601  1.00  0.00           O  \nATOM   1795  H1x HOH X   0      13.341  18.288  24.837  1.00  0.00           H  \nATOM   1796  H2x HOH X   0      14.127  18.771  26.038  1.00  0.00           H  \nTER    1797      HOH X   0\nATOM   1798  O1x HOH X   0       6.565  18.766   7.723  1.00  0.00           O  \nATOM   1799  H1x HOH X   0       7.067  18.816   8.536  1.00  0.00           H  \nATOM   1800  H2x HOH X   0       5.953  18.043   7.863  1.00  0.00           H  \nTER    1801      HOH X   0\nATOM   1802  O1x HOH X   0      19.916   9.280  20.553  1.00  0.00           O  \nATOM   1803  H1x HOH X   0      20.314   9.197  19.687  1.00  0.00           H  \nATOM   1804  H2x HOH X   0      20.631   9.568  21.120  1.00  0.00           H  \nTER    1805      HOH X   0\nATOM   1806  O1x HOH X   0      15.297  15.126   6.532  1.00  0.00           O  \nATOM   1807  H1x HOH X   0      15.396  14.913   5.604  1.00  0.00           H  \nATOM   1808  H2x HOH X   0      15.954  15.803   6.694  1.00  0.00           H  \nTER    1809      HOH X   0\nATOM   1810  O1x HOH X   0       3.230  26.819  20.055  1.00  0.00           O  \nATOM   1811  H1x HOH X   0       2.778  26.427  20.802  1.00  0.00           H  \nATOM   1812  H2x HOH X   0       3.302  26.109  19.417  1.00  0.00           H  \nTER    1813      HOH X   0\nATOM   1814  O1x HOH X   0      18.242  25.936  13.201  1.00  0.00           O  \nATOM   1815  H1x HOH X   0      19.111  25.547  13.109  1.00  0.00           H  \nATOM   1816  H2x HOH X   0      17.896  25.563  14.012  1.00  0.00           H  \nTER    1817      HOH X   0\nATOM   1818  O1x HOH X   0      11.794  24.387  32.821  1.00  0.00           O  \nATOM   1819  H1x HOH X   0      11.023  24.734  33.269  1.00  0.00           H  \nATOM   1820  H2x HOH X   0      11.958  25.008  32.111  1.00  0.00           H  \nTER    1821      HOH X   0\nATOM   1822  O1x HOH X   0      34.644  14.563  19.445  1.00  0.00           O  \nATOM   1823  H1x HOH X   0      34.461  15.131  18.696  1.00  0.00           H  \nATOM   1824  H2x HOH X   0      34.357  13.695  19.163  1.00  0.00           H  \nTER    1825      HOH X   0\nATOM   1826  O1x HOH X   0      15.148   8.190   3.990  1.00  0.00           O  \nATOM   1827  H1x HOH X   0      15.102   7.495   3.333  1.00  0.00           H  \nATOM   1828  H2x HOH X   0      14.556   7.903   4.685  1.00  0.00           H  \nTER    1829      HOH X   0\nATOM   1830  O1x HOH X   0      26.079   9.278  16.039  1.00  0.00           O  \nATOM   1831  H1x HOH X   0      26.488   9.520  15.207  1.00  0.00           H  \nATOM   1832  H2x HOH X   0      26.814   9.074  16.617  1.00  0.00           H  \nTER    1833      HOH X   0\nATOM   1834  O1x HOH X   0      30.089   4.753  27.555  1.00  0.00           O  \nATOM   1835  H1x HOH X   0      29.889   5.547  28.051  1.00  0.00           H  \nATOM   1836  H2x HOH X   0      29.238   4.341  27.407  1.00  0.00           H  \nTER    1837      HOH X   0\nATOM   1838  O1x HOH X   0      26.649  15.882  27.249  1.00  0.00           O  \nATOM   1839  H1x HOH X   0      27.288  15.173  27.318  1.00  0.00           H  \nATOM   1840  H2x HOH X   0      26.228  15.745  26.401  1.00  0.00           H  \nTER    1841      HOH X   0\nATOM   1842  O1x HOH X   0       3.631   9.067  20.442  1.00  0.00           O  \nATOM   1843  H1x HOH X   0       3.269   9.631  19.759  1.00  0.00           H  \nATOM   1844  H2x HOH X   0       3.489   9.552  21.255  1.00  0.00           H  \nTER    1845      HOH X   0\nATOM   1846  O1x HOH X   0      11.991  22.795  24.670  1.00  0.00           O  \nATOM   1847  H1x HOH X   0      11.938  22.927  25.616  1.00  0.00           H  \nATOM   1848  H2x HOH X   0      11.695  21.894  24.536  1.00  0.00           H  \nTER    1849      HOH X   0\nATOM   1850  O1x HOH X   0      29.678  28.811  23.363  1.00  0.00           O  \nATOM   1851  H1x HOH X   0      29.021  29.224  23.923  1.00  0.00           H  \nATOM   1852  H2x HOH X   0      30.012  28.080  23.884  1.00  0.00           H  \nTER    1853      HOH X   0\nATOM   1854  O1x HOH X   0      26.226   8.293  27.043  1.00  0.00           O  \nATOM   1855  H1x HOH X   0      25.554   8.952  26.871  1.00  0.00           H  \nATOM   1856  H2x HOH X   0      27.008   8.628  26.605  1.00  0.00           H  \nTER    1857      HOH X   0\nATOM   1858  O1x HOH X   0      21.015  27.326  25.694  1.00  0.00           O  \nATOM   1859  H1x HOH X   0      20.094  27.587  25.717  1.00  0.00           H  \nATOM   1860  H2x HOH X   0      21.377  27.787  24.938  1.00  0.00           H  \nTER    1861      HOH X   0\nATOM   1862  O1x HOH X   0      16.740  34.119  16.816  1.00  0.00           O  \nATOM   1863  H1x HOH X   0      16.410  34.049  17.712  1.00  0.00           H  \nATOM   1864  H2x HOH X   0      17.169  33.280  16.652  1.00  0.00           H  \nTER    1865      HOH X   0\nATOM   1866  O1x HOH X   0      28.324  20.949   7.327  1.00  0.00           O  \nATOM   1867  H1x HOH X   0      28.707  20.353   6.684  1.00  0.00           H  \nATOM   1868  H2x HOH X   0      28.540  20.559   8.174  1.00  0.00           H  \nTER    1869      HOH X   0\nATOM   1870  O1x HOH X   0      26.606   6.507  11.684  1.00  0.00           O  \nATOM   1871  H1x HOH X   0      25.845   6.055  11.320  1.00  0.00           H  \nATOM   1872  H2x HOH X   0      27.285   6.412  11.016  1.00  0.00           H  \nTER    1873      HOH X   0\nATOM   1874  O1x HOH X   0       6.506  20.711  33.449  1.00  0.00           O  \nATOM   1875  H1x HOH X   0       5.838  20.367  32.855  1.00  0.00           H  \nATOM   1876  H2x HOH X   0       6.863  19.936  33.883  1.00  0.00           H  \nTER    1877      HOH X   0\nATOM   1878  O1x HOH X   0      31.989  27.239   7.513  1.00  0.00           O  \nATOM   1879  H1x HOH X   0      31.663  28.009   7.047  1.00  0.00           H  \nATOM   1880  H2x HOH X   0      31.915  26.526   6.879  1.00  0.00           H  \nTER    1881      HOH X   0\nATOM   1882  O1x HOH X   0      22.441   6.641   9.490  1.00  0.00           O  \nATOM   1883  H1x HOH X   0      22.923   7.156   8.843  1.00  0.00           H  \nATOM   1884  H2x HOH X   0      21.852   7.270   9.908  1.00  0.00           H  \nTER    1885      HOH X   0\nATOM   1886  O1x HOH X   0       9.007   2.865  12.077  1.00  0.00           O  \nATOM   1887  H1x HOH X   0       9.590   3.349  12.662  1.00  0.00           H  \nATOM   1888  H2x HOH X   0       9.592   2.318  11.554  1.00  0.00           H  \nTER    1889      HOH X   0\nATOM   1890  O1x HOH X   0      28.739   9.282  18.449  1.00  0.00           O  \nATOM   1891  H1x HOH X   0      29.161  10.139  18.512  1.00  0.00           H  \nATOM   1892  H2x HOH X   0      27.945   9.366  18.977  1.00  0.00           H  \nTER    1893      HOH X   0\nATOM   1894  O1x HOH X   0      14.270   9.230  20.877  1.00  0.00           O  \nATOM   1895  H1x HOH X   0      14.639   9.463  21.729  1.00  0.00           H  \nATOM   1896  H2x HOH X   0      13.745   9.991  20.627  1.00  0.00           H  \nTER    1897      HOH X   0\nATOM   1898  O1x HOH X   0      12.265  14.770  22.828  1.00  0.00           O  \nATOM   1899  H1x HOH X   0      12.745  15.557  22.570  1.00  0.00           H  \nATOM   1900  H2x HOH X   0      12.096  14.887  23.762  1.00  0.00           H  \nTER    1901      HOH X   0\nATOM   1902  O1x HOH X   0      13.941   1.516  30.519  1.00  0.00           O  \nATOM   1903  H1x HOH X   0      14.184   1.136  29.675  1.00  0.00           H  \nATOM   1904  H2x HOH X   0      14.718   1.403  31.066  1.00  0.00           H  \nTER    1905      HOH X   0\nATOM   1906  O1x HOH X   0      19.359   1.126  28.417  1.00  0.00           O  \nATOM   1907  H1x HOH X   0      19.879   1.870  28.114  1.00  0.00           H  \nATOM   1908  H2x HOH X   0      19.986   0.405  28.480  1.00  0.00           H  \nTER    1909      HOH X   0\nATOM   1910  O1x HOH X   0      24.406   4.970  10.835  1.00  0.00           O  \nATOM   1911  H1x HOH X   0      23.831   5.718  10.675  1.00  0.00           H  \nATOM   1912  H2x HOH X   0      23.956   4.229  10.429  1.00  0.00           H  \nTER    1913      HOH X   0\nATOM   1914  O1x HOH X   0      14.371   0.304  16.616  1.00  0.00           O  \nATOM   1915  H1x HOH X   0      15.181  -0.187  16.478  1.00  0.00           H  \nATOM   1916  H2x HOH X   0      14.045   0.481  15.734  1.00  0.00           H  \nTER    1917      HOH X   0\nATOM   1918  O1x HOH X   0       9.484  21.077  35.288  1.00  0.00           O  \nATOM   1919  H1x HOH X   0       9.638  20.465  34.568  1.00  0.00           H  \nATOM   1920  H2x HOH X   0       8.601  21.412  35.134  1.00  0.00           H  \nTER    1921      HOH X   0\nATOM   1922  O1x HOH X   0      30.946   4.557  10.735  1.00  0.00           O  \nATOM   1923  H1x HOH X   0      31.861   4.438  10.479  1.00  0.00           H  \nATOM   1924  H2x HOH X   0      30.744   5.460  10.489  1.00  0.00           H  \nTER    1925      HOH X   0\nATOM   1926  O1x HOH X   0      18.970   8.268  13.692  1.00  0.00           O  \nATOM   1927  H1x HOH X   0      18.717   9.100  13.292  1.00  0.00           H  \nATOM   1928  H2x HOH X   0      18.963   7.641  12.969  1.00  0.00           H  \nTER    1929      HOH X   0\nATOM   1930  O1x HOH X   0      29.623   1.063  21.990  1.00  0.00           O  \nATOM   1931  H1x HOH X   0      29.097   0.271  21.889  1.00  0.00           H  \nATOM   1932  H2x HOH X   0      30.257   1.023  21.274  1.00  0.00           H  \nTER    1933      HOH X   0\nATOM   1934  O1x HOH X   0       0.090  21.097  33.841  1.00  0.00           O  \nATOM   1935  H1x HOH X   0       0.254  20.172  33.658  1.00  0.00           H  \nATOM   1936  H2x HOH X   0       0.932  21.433  34.150  1.00  0.00           H  \nTER    1937      HOH X   0\nATOM   1938  O1x HOH X   0      24.145  11.050  15.651  1.00  0.00           O  \nATOM   1939  H1x HOH X   0      24.519  11.583  16.353  1.00  0.00           H  \nATOM   1940  H2x HOH X   0      24.654  10.240  15.668  1.00  0.00           H  \nTER    1941      HOH X   0\nATOM   1942  O1x HOH X   0      33.093  22.439  16.089  1.00  0.00           O  \nATOM   1943  H1x HOH X   0      33.423  22.837  15.284  1.00  0.00           H  \nATOM   1944  H2x HOH X   0      32.865  23.181  16.649  1.00  0.00           H  \nTER    1945      HOH X   0\nATOM   1946  O1x HOH X   0      29.661  15.504  26.193  1.00  0.00           O  \nATOM   1947  H1x HOH X   0      29.679  16.417  26.478  1.00  0.00           H  \nATOM   1948  H2x HOH X   0      30.271  15.057  26.780  1.00  0.00           H  \nTER    1949      HOH X   0\nATOM   1950  O1x HOH X   0      22.713  31.713   5.385  1.00  0.00           O  \nATOM   1951  H1x HOH X   0      23.393  32.277   5.755  1.00  0.00           H  \nATOM   1952  H2x HOH X   0      22.583  32.045   4.497  1.00  0.00           H  \nTER    1953      HOH X   0\nATOM   1954  O1x HOH X   0       9.409  28.270  34.858  1.00  0.00           O  \nATOM   1955  H1x HOH X   0       8.931  28.345  34.032  1.00  0.00           H  \nATOM   1956  H2x HOH X   0       8.733  28.329  35.533  1.00  0.00           H  \nTER    1957      HOH X   0\nATOM   1958  O1x HOH X   0      32.936  23.419  23.161  1.00  0.00           O  \nATOM   1959  H1x HOH X   0      32.282  23.733  23.786  1.00  0.00           H  \nATOM   1960  H2x HOH X   0      33.303  22.636  23.570  1.00  0.00           H  \nTER    1961      HOH X   0\nATOM   1962  O1x HOH X   0      24.687  12.860   4.609  1.00  0.00           O  \nATOM   1963  H1x HOH X   0      24.631  11.968   4.951  1.00  0.00           H  \nATOM   1964  H2x HOH X   0      23.785  13.181   4.627  1.00  0.00           H  \nTER    1965      HOH X   0\nATOM   1966  O1x HOH X   0      32.199   1.369  23.609  1.00  0.00           O  \nATOM   1967  H1x HOH X   0      31.419   1.204  23.080  1.00  0.00           H  \nATOM   1968  H2x HOH X   0      31.872   1.831  24.381  1.00  0.00           H  \nTER    1969      HOH X   0\nATOM   1970  O1x HOH X   0      29.938  20.231   2.938  1.00  0.00           O  \nATOM   1971  H1x HOH X   0      29.554  21.045   2.613  1.00  0.00           H  \nATOM   1972  H2x HOH X   0      30.845  20.255   2.635  1.00  0.00           H  \nTER    1973      HOH X   0\nATOM   1974  O1x HOH X   0       6.202  20.278  28.662  1.00  0.00           O  \nATOM   1975  H1x HOH X   0       6.518  19.404  28.432  1.00  0.00           H  \nATOM   1976  H2x HOH X   0       6.541  20.846  27.970  1.00  0.00           H  \nTER    1977      HOH X   0\nATOM   1978  O1x HOH X   0      28.762  25.714  15.622  1.00  0.00           O  \nATOM   1979  H1x HOH X   0      27.825  25.541  15.540  1.00  0.00           H  \nATOM   1980  H2x HOH X   0      28.828  26.669  15.650  1.00  0.00           H  \nTER    1981      HOH X   0\nATOM   1982  O1x HOH X   0      24.605   1.069   5.182  1.00  0.00           O  \nATOM   1983  H1x HOH X   0      25.256   0.546   4.715  1.00  0.00           H  \nATOM   1984  H2x HOH X   0      24.924   1.969   5.111  1.00  0.00           H  \nTER    1985      HOH X   0\nATOM   1986  O1x HOH X   0      30.393  33.353  33.704  1.00  0.00           O  \nATOM   1987  H1x HOH X   0      30.185  32.420  33.758  1.00  0.00           H  \nATOM   1988  H2x HOH X   0      30.450  33.639  34.616  1.00  0.00           H  \nTER    1989      HOH X   0\nATOM   1990  O1x HOH X   0      28.393  20.985  24.805  1.00  0.00           O  \nATOM   1991  H1x HOH X   0      27.926  20.999  25.640  1.00  0.00           H  \nATOM   1992  H2x HOH X   0      28.564  21.907  24.611  1.00  0.00           H  \nTER    1993      HOH X   0\nATOM   1994  O1x HOH X   0      19.519  11.933  21.767  1.00  0.00           O  \nATOM   1995  H1x HOH X   0      19.150  11.518  20.988  1.00  0.00           H  \nATOM   1996  H2x HOH X   0      19.226  11.382  22.494  1.00  0.00           H  \nTER    1997      HOH X   0\nATOM   1998  O1x HOH X   0      11.602  10.209  27.647  1.00  0.00           O  \nATOM   1999  H1x HOH X   0      11.412   9.274  27.568  1.00  0.00           H  \nATOM   2000  H2x HOH X   0      10.882  10.640  27.188  1.00  0.00           H  \nTER    2001      HOH X   0\nATOM   2002  O1x HOH X   0       5.436  24.037  21.343  1.00  0.00           O  \nATOM   2003  H1x HOH X   0       5.198  24.347  20.469  1.00  0.00           H  \nATOM   2004  H2x HOH X   0       4.904  24.565  21.938  1.00  0.00           H  \nTER    2005      HOH X   0\nATOM   2006  O1x HOH X   0      24.649  14.745  12.480  1.00  0.00           O  \nATOM   2007  H1x HOH X   0      25.551  15.026  12.326  1.00  0.00           H  \nATOM   2008  H2x HOH X   0      24.711  14.132  13.213  1.00  0.00           H  \nTER    2009      HOH X   0\nATOM   2010  O1x HOH X   0      16.494  23.826   8.895  1.00  0.00           O  \nATOM   2011  H1x HOH X   0      16.876  22.962   8.744  1.00  0.00           H  \nATOM   2012  H2x HOH X   0      17.063  24.230   9.550  1.00  0.00           H  \nTER    2013      HOH X   0\nATOM   2014  O1x HOH X   0      14.126  17.261  16.630  1.00  0.00           O  \nATOM   2015  H1x HOH X   0      13.876  17.115  17.542  1.00  0.00           H  \nATOM   2016  H2x HOH X   0      14.814  17.925  16.673  1.00  0.00           H  \nTER    2017      HOH X   0\nATOM   2018  O1x HOH X   0      11.256  34.839   5.788  1.00  0.00           O  \nATOM   2019  H1x HOH X   0      11.002  34.266   5.065  1.00  0.00           H  \nATOM   2020  H2x HOH X   0      10.440  35.006   6.260  1.00  0.00           H  \nTER    2021      HOH X   0\nATOM   2022  O1x HOH X   0      18.377  17.868  27.866  1.00  0.00           O  \nATOM   2023  H1x HOH X   0      19.031  17.506  28.465  1.00  0.00           H  \nATOM   2024  H2x HOH X   0      18.613  17.512  27.010  1.00  0.00           H  \nTER    2025      HOH X   0\nATOM   2026  O1x HOH X   0       3.286  16.142  13.027  1.00  0.00           O  \nATOM   2027  H1x HOH X   0       3.805  16.684  12.433  1.00  0.00           H  \nATOM   2028  H2x HOH X   0       2.947  15.438  12.476  1.00  0.00           H  \nTER    2029      HOH X   0\nATOM   2030  O1x HOH X   0      19.177  28.784  27.715  1.00  0.00           O  \nATOM   2031  H1x HOH X   0      18.285  28.684  28.050  1.00  0.00           H  \nATOM   2032  H2x HOH X   0      19.070  28.863  26.767  1.00  0.00           H  \nTER    2033      HOH X   0\nATOM   2034  O1x HOH X   0      21.357  20.759   0.851  1.00  0.00           O  \nATOM   2035  H1x HOH X   0      21.390  19.918   1.307  1.00  0.00           H  \nATOM   2036  H2x HOH X   0      21.046  20.544  -0.028  1.00  0.00           H  \nTER    2037      HOH X   0\nATOM   2038  O1x HOH X   0       1.646   8.482   7.446  1.00  0.00           O  \nATOM   2039  H1x HOH X   0       2.180   7.699   7.585  1.00  0.00           H  \nATOM   2040  H2x HOH X   0       2.260   9.135   7.110  1.00  0.00           H  \nTER    2041      HOH X   0\nATOM   2042  O1x HOH X   0      10.763  17.516  25.904  1.00  0.00           O  \nATOM   2043  H1x HOH X   0      11.584  18.006  25.880  1.00  0.00           H  \nATOM   2044  H2x HOH X   0      10.133  18.079  25.454  1.00  0.00           H  \nTER    2045      HOH X   0\nATOM   2046  O1x HOH X   0      21.922  21.874  10.095  1.00  0.00           O  \nATOM   2047  H1x HOH X   0      20.972  21.758  10.092  1.00  0.00           H  \nATOM   2048  H2x HOH X   0      22.268  21.034   9.792  1.00  0.00           H  \nTER    2049      HOH X   0\nATOM   2050  O1x HOH X   0      17.010  26.810   1.749  1.00  0.00           O  \nATOM   2051  H1x HOH X   0      17.923  26.713   1.480  1.00  0.00           H  \nATOM   2052  H2x HOH X   0      16.510  26.737   0.936  1.00  0.00           H  \nTER    2053      HOH X   0\nATOM   2054  O1x HOH X   0       1.078  15.083  33.988  1.00  0.00           O  \nATOM   2055  H1x HOH X   0       1.329  15.342  34.875  1.00  0.00           H  \nATOM   2056  H2x HOH X   0       1.002  15.909  33.510  1.00  0.00           H  \nTER    2057      HOH X   0\nATOM   2058  O1x HOH X   0       4.173  19.854   2.264  1.00  0.00           O  \nATOM   2059  H1x HOH X   0       4.163  18.965   1.910  1.00  0.00           H  \nATOM   2060  H2x HOH X   0       4.507  19.753   3.156  1.00  0.00           H  \nTER    2061      HOH X   0\nATOM   2062  O1x HOH X   0       0.195   8.601   5.384  1.00  0.00           O  \nATOM   2063  H1x HOH X   0       0.828   9.101   4.868  1.00  0.00           H  \nATOM   2064  H2x HOH X   0       0.547   8.615   6.274  1.00  0.00           H  \nTER    2065      HOH X   0\nATOM   2066  O1x HOH X   0       5.154  25.244   6.932  1.00  0.00           O  \nATOM   2067  H1x HOH X   0       4.830  25.106   6.042  1.00  0.00           H  \nATOM   2068  H2x HOH X   0       5.928  24.683   6.995  1.00  0.00           H  \nTER    2069      HOH X   0\nATOM   2070  O1x HOH X   0       6.642   3.381  21.075  1.00  0.00           O  \nATOM   2071  H1x HOH X   0       6.541   3.349  20.123  1.00  0.00           H  \nATOM   2072  H2x HOH X   0       7.072   2.555  21.298  1.00  0.00           H  \nTER    2073      HOH X   0\nATOM   2074  O1x HOH X   0       6.787  33.594  12.588  1.00  0.00           O  \nATOM   2075  H1x HOH X   0       6.041  33.929  12.091  1.00  0.00           H  \nATOM   2076  H2x HOH X   0       6.419  32.900  13.134  1.00  0.00           H  \nTER    2077      HOH X   0\nATOM   2078  O1x HOH X   0      24.099  25.009  31.311  1.00  0.00           O  \nATOM   2079  H1x HOH X   0      24.982  25.365  31.405  1.00  0.00           H  \nATOM   2080  H2x HOH X   0      24.189  24.081  31.530  1.00  0.00           H  \nTER    2081      HOH X   0\nATOM   2082  O1x HOH X   0       5.795   9.925   4.271  1.00  0.00           O  \nATOM   2083  H1x HOH X   0       5.235  10.685   4.110  1.00  0.00           H  \nATOM   2084  H2x HOH X   0       5.865   9.493   3.420  1.00  0.00           H  \nTER    2085      HOH X   0\nATOM   2086  O1x HOH X   0      24.934  32.172  30.890  1.00  0.00           O  \nATOM   2087  H1x HOH X   0      24.095  32.322  31.326  1.00  0.00           H  \nATOM   2088  H2x HOH X   0      25.299  33.048  30.764  1.00  0.00           H  \nTER    2089      HOH X   0\nATOM   2090  O1x HOH X   0      34.476  13.806  31.092  1.00  0.00           O  \nATOM   2091  H1x HOH X   0      34.154  13.516  31.945  1.00  0.00           H  \nATOM   2092  H2x HOH X   0      35.371  14.103  31.261  1.00  0.00           H  \nTER    2093      HOH X   0\nATOM   2094  O1x HOH X   0      25.613   4.145  32.074  1.00  0.00           O  \nATOM   2095  H1x HOH X   0      24.850   4.683  31.860  1.00  0.00           H  \nATOM   2096  H2x HOH X   0      25.897   4.462  32.931  1.00  0.00           H  \nTER    2097      HOH X   0\nATOM   2098  O1x HOH X   0      28.386  26.793  29.391  1.00  0.00           O  \nATOM   2099  H1x HOH X   0      27.984  26.360  28.638  1.00  0.00           H  \nATOM   2100  H2x HOH X   0      27.684  27.328  29.763  1.00  0.00           H  \nTER    2101      HOH X   0\nATOM   2102  O1x HOH X   0      23.847  30.280  33.265  1.00  0.00           O  \nATOM   2103  H1x HOH X   0      23.865  29.412  33.667  1.00  0.00           H  \nATOM   2104  H2x HOH X   0      24.612  30.727  33.628  1.00  0.00           H  \nTER    2105      HOH X   0\nATOM   2106  O1x HOH X   0       7.905  10.575   1.015  1.00  0.00           O  \nATOM   2107  H1x HOH X   0       7.915   9.921   1.714  1.00  0.00           H  \nATOM   2108  H2x HOH X   0       7.643  11.387   1.450  1.00  0.00           H  \nTER    2109      HOH X   0\nATOM   2110  O1x HOH X   0      26.932   1.096  14.810  1.00  0.00           O  \nATOM   2111  H1x HOH X   0      26.823   1.077  15.760  1.00  0.00           H  \nATOM   2112  H2x HOH X   0      27.424   0.300  14.609  1.00  0.00           H  \nTER    2113      HOH X   0\nATOM   2114  O1x HOH X   0      15.945  15.137  13.774  1.00  0.00           O  \nATOM   2115  H1x HOH X   0      15.718  14.231  13.564  1.00  0.00           H  \nATOM   2116  H2x HOH X   0      15.119  15.615  13.697  1.00  0.00           H  \nTER    2117      HOH X   0\nATOM   2118  O1x HOH X   0       7.118  10.257  33.243  1.00  0.00           O  \nATOM   2119  H1x HOH X   0       7.688  10.195  34.010  1.00  0.00           H  \nATOM   2120  H2x HOH X   0       6.234  10.148  33.592  1.00  0.00           H  \nTER    2121      HOH X   0\nATOM   2122  O1x HOH X   0      17.275  12.052  12.213  1.00  0.00           O  \nATOM   2123  H1x HOH X   0      18.223  12.174  12.167  1.00  0.00           H  \nATOM   2124  H2x HOH X   0      17.016  11.839  11.317  1.00  0.00           H  \nTER    2125      HOH X   0\nATOM   2126  O1x HOH X   0      34.568  30.760  23.262  1.00  0.00           O  \nATOM   2127  H1x HOH X   0      33.929  31.379  22.908  1.00  0.00           H  \nATOM   2128  H2x HOH X   0      34.963  30.355  22.489  1.00  0.00           H  \nTER    2129      HOH X   0\nATOM   2130  O1x HOH X   0      27.422  23.692  23.220  1.00  0.00           O  \nATOM   2131  H1x HOH X   0      27.934  23.826  22.422  1.00  0.00           H  \nATOM   2132  H2x HOH X   0      26.529  23.936  22.976  1.00  0.00           H  \nTER    2133      HOH X   0\nATOM   2134  O1x HOH X   0      28.914   5.344  23.010  1.00  0.00           O  \nATOM   2135  H1x HOH X   0      28.381   5.866  23.610  1.00  0.00           H  \nATOM   2136  H2x HOH X   0      28.607   5.593  22.138  1.00  0.00           H  \nTER    2137      HOH X   0\nATOM   2138  O1x HOH X   0      21.058   0.557  14.801  1.00  0.00           O  \nATOM   2139  H1x HOH X   0      21.351   0.856  15.662  1.00  0.00           H  \nATOM   2140  H2x HOH X   0      20.103   0.525  14.869  1.00  0.00           H  \nTER    2141      HOH X   0\nATOM   2142  O1x HOH X   0      12.798  21.653  30.832  1.00  0.00           O  \nATOM   2143  H1x HOH X   0      12.613  21.165  30.030  1.00  0.00           H  \nATOM   2144  H2x HOH X   0      12.221  21.262  31.489  1.00  0.00           H  \nTER    2145      HOH X   0\nATOM   2146  O1x HOH X   0      19.047   0.509  19.586  1.00  0.00           O  \nATOM   2147  H1x HOH X   0      18.252   0.970  19.853  1.00  0.00           H  \nATOM   2148  H2x HOH X   0      19.383   0.122  20.394  1.00  0.00           H  \nTER    2149      HOH X   0\nATOM   2150  O1x HOH X   0      31.073   9.194  13.775  1.00  0.00           O  \nATOM   2151  H1x HOH X   0      30.266   9.521  13.378  1.00  0.00           H  \nATOM   2152  H2x HOH X   0      30.821   8.950  14.665  1.00  0.00           H  \nTER    2153      HOH X   0\nATOM   2154  O1x HOH X   0      21.693  16.479  22.778  1.00  0.00           O  \nATOM   2155  H1x HOH X   0      22.328  16.885  22.188  1.00  0.00           H  \nATOM   2156  H2x HOH X   0      21.814  15.538  22.649  1.00  0.00           H  \nTER    2157      HOH X   0\nATOM   2158  O1x HOH X   0      12.021   0.732  23.359  1.00  0.00           O  \nATOM   2159  H1x HOH X   0      12.959   0.830  23.197  1.00  0.00           H  \nATOM   2160  H2x HOH X   0      11.626   1.506  22.957  1.00  0.00           H  \nTER    2161      HOH X   0\nATOM   2162  O1x HOH X   0      31.818  17.736  31.381  1.00  0.00           O  \nATOM   2163  H1x HOH X   0      31.397  16.877  31.347  1.00  0.00           H  \nATOM   2164  H2x HOH X   0      32.751  17.542  31.470  1.00  0.00           H  \nTER    2165      HOH X   0\nATOM   2166  O1x HOH X   0      14.834  21.515  26.629  1.00  0.00           O  \nATOM   2167  H1x HOH X   0      14.641  20.780  26.047  1.00  0.00           H  \nATOM   2168  H2x HOH X   0      15.006  21.110  27.479  1.00  0.00           H  \nTER    2169      HOH X   0\nATOM   2170  O1x HOH X   0      11.752  31.006  32.155  1.00  0.00           O  \nATOM   2171  H1x HOH X   0      10.967  30.812  31.644  1.00  0.00           H  \nATOM   2172  H2x HOH X   0      12.475  30.683  31.616  1.00  0.00           H  \nTER    2173      HOH X   0\nATOM   2174  O1x HOH X   0      10.942  33.715  29.478  1.00  0.00           O  \nATOM   2175  H1x HOH X   0      10.777  34.272  30.239  1.00  0.00           H  \nATOM   2176  H2x HOH X   0      11.875  33.828  29.296  1.00  0.00           H  \nTER    2177      HOH X   0\nATOM   2178  O1x HOH X   0      13.600  34.413   3.824  1.00  0.00           O  \nATOM   2179  H1x HOH X   0      14.540  34.597   3.846  1.00  0.00           H  \nATOM   2180  H2x HOH X   0      13.210  35.095   4.371  1.00  0.00           H  \nTER    2181      HOH X   0\nATOM   2182  O1x HOH X   0       1.774  12.421   7.127  1.00  0.00           O  \nATOM   2183  H1x HOH X   0       2.004  13.252   7.543  1.00  0.00           H  \nATOM   2184  H2x HOH X   0       1.499  11.859   7.852  1.00  0.00           H  \nTER    2185      HOH X   0\nATOM   2186  O1x HOH X   0      11.904  24.199  27.279  1.00  0.00           O  \nATOM   2187  H1x HOH X   0      12.359  25.015  27.072  1.00  0.00           H  \nATOM   2188  H2x HOH X   0      11.220  24.455  27.898  1.00  0.00           H  \nTER    2189      HOH X   0\nATOM   2190  O1x HOH X   0       5.815  22.135  23.513  1.00  0.00           O  \nATOM   2191  H1x HOH X   0       5.156  21.457  23.660  1.00  0.00           H  \nATOM   2192  H2x HOH X   0       5.573  22.526  22.673  1.00  0.00           H  \nTER    2193      HOH X   0\nATOM   2194  O1x HOH X   0       6.721  18.455  19.780  1.00  0.00           O  \nATOM   2195  H1x HOH X   0       6.214  18.902  20.457  1.00  0.00           H  \nATOM   2196  H2x HOH X   0       6.141  17.763  19.463  1.00  0.00           H  \nTER    2197      HOH X   0\nATOM   2198  O1x HOH X   0      20.141  28.566   6.531  1.00  0.00           O  \nATOM   2199  H1x HOH X   0      19.422  28.749   5.926  1.00  0.00           H  \nATOM   2200  H2x HOH X   0      20.108  27.618   6.664  1.00  0.00           H  \nTER    2201      HOH X   0\nATOM   2202  O1x HOH X   0      13.948   7.852  18.089  1.00  0.00           O  \nATOM   2203  H1x HOH X   0      14.105   7.124  18.690  1.00  0.00           H  \nATOM   2204  H2x HOH X   0      13.726   8.589  18.658  1.00  0.00           H  \nTER    2205      HOH X   0\nATOM   2206  O1x HOH X   0      13.300   7.786  34.084  1.00  0.00           O  \nATOM   2207  H1x HOH X   0      13.316   7.031  33.496  1.00  0.00           H  \nATOM   2208  H2x HOH X   0      13.571   8.523  33.535  1.00  0.00           H  \nTER    2209      HOH X   0\nATOM   2210  O1x HOH X   0      28.011  32.627  23.534  1.00  0.00           O  \nATOM   2211  H1x HOH X   0      28.540  33.303  23.957  1.00  0.00           H  \nATOM   2212  H2x HOH X   0      27.591  33.075  22.800  1.00  0.00           H  \nTER    2213      HOH X   0\nATOM   2214  O1x HOH X   0       4.637  19.602  23.032  1.00  0.00           O  \nATOM   2215  H1x HOH X   0       5.400  19.038  23.159  1.00  0.00           H  \nATOM   2216  H2x HOH X   0       4.160  19.202  22.306  1.00  0.00           H  \nTER    2217      HOH X   0\nATOM   2218  O1x HOH X   0      32.169   0.627  33.425  1.00  0.00           O  \nATOM   2219  H1x HOH X   0      31.582  -0.129  33.400  1.00  0.00           H  \nATOM   2220  H2x HOH X   0      31.587   1.385  33.366  1.00  0.00           H  \nTER    2221      HOH X   0\nATOM   2222  O1x HOH X   0      33.442  13.749   7.462  1.00  0.00           O  \nATOM   2223  H1x HOH X   0      33.122  14.564   7.849  1.00  0.00           H  \nATOM   2224  H2x HOH X   0      33.471  13.132   8.193  1.00  0.00           H  \nTER    2225      HOH X   0\nATOM   2226  O1x HOH X   0      10.266   8.843  34.480  1.00  0.00           O  \nATOM   2227  H1x HOH X   0      10.235   9.340  35.297  1.00  0.00           H  \nATOM   2228  H2x HOH X   0      11.180   8.572  34.397  1.00  0.00           H  \nTER    2229      HOH X   0\nATOM   2230  O1x HOH X   0       7.247  17.808  27.514  1.00  0.00           O  \nATOM   2231  H1x HOH X   0       8.062  17.812  27.012  1.00  0.00           H  \nATOM   2232  H2x HOH X   0       6.569  17.606  26.868  1.00  0.00           H  \nTER    2233      HOH X   0\nATOM   2234  O1x HOH X   0      19.600  18.760  17.044  1.00  0.00           O  \nATOM   2235  H1x HOH X   0      20.284  18.211  16.661  1.00  0.00           H  \nATOM   2236  H2x HOH X   0      19.589  18.519  17.970  1.00  0.00           H  \nTER    2237      HOH X   0\nATOM   2238  O1x HOH X   0      23.487   6.549  32.205  1.00  0.00           O  \nATOM   2239  H1x HOH X   0      23.111   6.979  32.973  1.00  0.00           H  \nATOM   2240  H2x HOH X   0      23.626   7.258  31.577  1.00  0.00           H  \nTER    2241      HOH X   0\nATOM   2242  O1x HOH X   0      21.254  25.179  31.843  1.00  0.00           O  \nATOM   2243  H1x HOH X   0      22.171  25.032  31.611  1.00  0.00           H  \nATOM   2244  H2x HOH X   0      20.868  24.304  31.863  1.00  0.00           H  \nTER    2245      HOH X   0\nATOM   2246  O1x HOH X   0      10.277   4.978  13.616  1.00  0.00           O  \nATOM   2247  H1x HOH X   0      10.706   5.826  13.500  1.00  0.00           H  \nATOM   2248  H2x HOH X   0       9.916   5.012  14.502  1.00  0.00           H  \nTER    2249      HOH X   0\nATOM   2250  O1x HOH X   0      17.838  10.179  26.414  1.00  0.00           O  \nATOM   2251  H1x HOH X   0      16.928  10.123  26.706  1.00  0.00           H  \nATOM   2252  H2x HOH X   0      17.871  10.975  25.883  1.00  0.00           H  \nTER    2253      HOH X   0\nATOM   2254  O1x HOH X   0      10.211  19.509  28.705  1.00  0.00           O  \nATOM   2255  H1x HOH X   0       9.563  20.213  28.724  1.00  0.00           H  \nATOM   2256  H2x HOH X   0       9.757  18.756  29.083  1.00  0.00           H  \nTER    2257      HOH X   0\nATOM   2258  O1x HOH X   0      33.891  32.193  29.511  1.00  0.00           O  \nATOM   2259  H1x HOH X   0      33.646  31.584  30.208  1.00  0.00           H  \nATOM   2260  H2x HOH X   0      34.646  32.666  29.860  1.00  0.00           H  \nTER    2261      HOH X   0\nATOM   2262  O1x HOH X   0      17.195  12.791  31.432  1.00  0.00           O  \nATOM   2263  H1x HOH X   0      17.773  12.147  31.841  1.00  0.00           H  \nATOM   2264  H2x HOH X   0      16.434  12.284  31.148  1.00  0.00           H  \nTER    2265      HOH X   0\nATOM   2266  O1x HOH X   0      18.422  27.763  25.052  1.00  0.00           O  \nATOM   2267  H1x HOH X   0      17.485  27.585  24.978  1.00  0.00           H  \nATOM   2268  H2x HOH X   0      18.531  28.634  24.671  1.00  0.00           H  \nTER    2269      HOH X   0\nATOM   2270  O1x HOH X   0       4.758  17.081   1.217  1.00  0.00           O  \nATOM   2271  H1x HOH X   0       5.174  17.150   0.358  1.00  0.00           H  \nATOM   2272  H2x HOH X   0       5.229  16.372   1.655  1.00  0.00           H  \nTER    2273      HOH X   0\nATOM   2274  O1x HOH X   0      12.155   4.938  32.714  1.00  0.00           O  \nATOM   2275  H1x HOH X   0      11.739   4.422  32.023  1.00  0.00           H  \nATOM   2276  H2x HOH X   0      12.843   4.367  33.058  1.00  0.00           H  \nTER    2277      HOH X   0\nATOM   2278  O1x HOH X   0      27.264  12.197  10.499  1.00  0.00           O  \nATOM   2279  H1x HOH X   0      26.707  11.456  10.263  1.00  0.00           H  \nATOM   2280  H2x HOH X   0      27.459  12.065  11.427  1.00  0.00           H  \nTER    2281      HOH X   0\nATOM   2282  O1x HOH X   0      11.277   7.710  27.501  1.00  0.00           O  \nATOM   2283  H1x HOH X   0      10.917   7.498  26.640  1.00  0.00           H  \nATOM   2284  H2x HOH X   0      12.037   7.134  27.592  1.00  0.00           H  \nTER    2285      HOH X   0\nATOM   2286  O1x HOH X   0       2.655   8.574  28.834  1.00  0.00           O  \nATOM   2287  H1x HOH X   0       2.854   7.907  29.491  1.00  0.00           H  \nATOM   2288  H2x HOH X   0       1.868   8.251  28.396  1.00  0.00           H  \nTER    2289      HOH X   0\nATOM   2290  O1x HOH X   0       6.465  22.153  10.679  1.00  0.00           O  \nATOM   2291  H1x HOH X   0       5.923  22.010   9.903  1.00  0.00           H  \nATOM   2292  H2x HOH X   0       7.334  22.351  10.331  1.00  0.00           H  \nTER    2293      HOH X   0\nATOM   2294  O1x HOH X   0      26.615  24.612   2.601  1.00  0.00           O  \nATOM   2295  H1x HOH X   0      25.784  24.890   2.215  1.00  0.00           H  \nATOM   2296  H2x HOH X   0      26.363  24.097   3.368  1.00  0.00           H  \nTER    2297      HOH X   0\nATOM   2298  O1x HOH X   0       4.165  26.284   2.764  1.00  0.00           O  \nATOM   2299  H1x HOH X   0       3.613  25.528   2.962  1.00  0.00           H  \nATOM   2300  H2x HOH X   0       4.288  26.720   3.608  1.00  0.00           H  \nTER    2301      HOH X   0\nATOM   2302  O1x HOH X   0      20.608   8.909  30.765  1.00  0.00           O  \nATOM   2303  H1x HOH X   0      20.249   9.742  30.458  1.00  0.00           H  \nATOM   2304  H2x HOH X   0      21.532   9.093  30.933  1.00  0.00           H  \nTER    2305      HOH X   0\nATOM   2306  O1x HOH X   0       1.973  18.748  24.037  1.00  0.00           O  \nATOM   2307  H1x HOH X   0       2.908  18.864  23.866  1.00  0.00           H  \nATOM   2308  H2x HOH X   0       1.560  19.520  23.651  1.00  0.00           H  \nTER    2309      HOH X   0\nATOM   2310  O1x HOH X   0      11.459  13.490  14.404  1.00  0.00           O  \nATOM   2311  H1x HOH X   0      11.404  14.168  13.731  1.00  0.00           H  \nATOM   2312  H2x HOH X   0      11.575  13.973  15.222  1.00  0.00           H  \nTER    2313      HOH X   0\nATOM   2314  O1x HOH X   0      22.733  24.633  20.489  1.00  0.00           O  \nATOM   2315  H1x HOH X   0      23.487  25.077  20.101  1.00  0.00           H  \nATOM   2316  H2x HOH X   0      22.086  25.327  20.619  1.00  0.00           H  \nTER    2317      HOH X   0\nATOM   2318  O1x HOH X   0      16.654  24.894  29.994  1.00  0.00           O  \nATOM   2319  H1x HOH X   0      15.787  24.616  29.698  1.00  0.00           H  \nATOM   2320  H2x HOH X   0      17.263  24.352  29.493  1.00  0.00           H  \nTER    2321      HOH X   0\nATOM   2322  O1x HOH X   0      14.513  23.799  28.579  1.00  0.00           O  \nATOM   2323  H1x HOH X   0      13.793  23.579  27.987  1.00  0.00           H  \nATOM   2324  H2x HOH X   0      14.958  22.966  28.734  1.00  0.00           H  \nTER    2325      HOH X   0\nATOM   2326  O1x HOH X   0       2.991  18.594  26.554  1.00  0.00           O  \nATOM   2327  H1x HOH X   0       2.599  18.689  25.686  1.00  0.00           H  \nATOM   2328  H2x HOH X   0       3.701  17.964  26.429  1.00  0.00           H  \nTER    2329      HOH X   0\nATOM   2330  O1x HOH X   0      21.293   3.686  29.027  1.00  0.00           O  \nATOM   2331  H1x HOH X   0      20.506   3.572  28.494  1.00  0.00           H  \nATOM   2332  H2x HOH X   0      21.028   4.293  29.719  1.00  0.00           H  \nTER    2333      HOH X   0\nATOM   2334  O1x HOH X   0       7.780  16.427   9.626  1.00  0.00           O  \nATOM   2335  H1x HOH X   0       8.609  16.661   9.208  1.00  0.00           H  \nATOM   2336  H2x HOH X   0       7.673  17.075  10.323  1.00  0.00           H  \nTER    2337      HOH X   0\nATOM   2338  O1x HOH X   0      14.019  24.982  25.194  1.00  0.00           O  \nATOM   2339  H1x HOH X   0      14.886  24.585  25.120  1.00  0.00           H  \nATOM   2340  H2x HOH X   0      13.410  24.252  25.077  1.00  0.00           H  \nTER    2341      HOH X   0\nATOM   2342  O1x HOH X   0      19.906  29.418  34.265  1.00  0.00           O  \nATOM   2343  H1x HOH X   0      20.301  29.298  35.128  1.00  0.00           H  \nATOM   2344  H2x HOH X   0      19.610  28.544  34.012  1.00  0.00           H  \nTER    2345      HOH X   0\nATOM   2346  O1x HOH X   0      28.674  22.390  28.745  1.00  0.00           O  \nATOM   2347  H1x HOH X   0      29.493  22.350  29.238  1.00  0.00           H  \nATOM   2348  H2x HOH X   0      28.201  23.131  29.123  1.00  0.00           H  \nTER    2349      HOH X   0\nATOM   2350  O1x HOH X   0      15.516   6.849  20.333  1.00  0.00           O  \nATOM   2351  H1x HOH X   0      16.068   6.594  21.073  1.00  0.00           H  \nATOM   2352  H2x HOH X   0      15.147   7.694  20.589  1.00  0.00           H  \nTER    2353      HOH X   0\nATOM   2354  O1x HOH X   0      22.121  22.941  27.628  1.00  0.00           O  \nATOM   2355  H1x HOH X   0      21.439  23.448  27.187  1.00  0.00           H  \nATOM   2356  H2x HOH X   0      21.805  22.846  28.526  1.00  0.00           H  \nTER    2357      HOH X   0\nATOM   2358  O1x HOH X   0       4.326  27.503   5.300  1.00  0.00           O  \nATOM   2359  H1x HOH X   0       3.794  27.859   6.011  1.00  0.00           H  \nATOM   2360  H2x HOH X   0       5.111  27.167   5.732  1.00  0.00           H  \nTER    2361      HOH X   0\nATOM   2362  O1x HOH X   0      22.046  35.174  29.456  1.00  0.00           O  \nATOM   2363  H1x HOH X   0      21.664  34.477  29.988  1.00  0.00           H  \nATOM   2364  H2x HOH X   0      22.962  34.919  29.347  1.00  0.00           H  \nTER    2365      HOH X   0\nATOM   2366  O1x HOH X   0       3.014   9.012   4.328  1.00  0.00           O  \nATOM   2367  H1x HOH X   0       3.319   8.180   3.968  1.00  0.00           H  \nATOM   2368  H2x HOH X   0       3.780   9.378   4.769  1.00  0.00           H  \nTER    2369      HOH X   0\nATOM   2370  O1x HOH X   0       6.957  32.897  31.876  1.00  0.00           O  \nATOM   2371  H1x HOH X   0       6.323  32.578  31.235  1.00  0.00           H  \nATOM   2372  H2x HOH X   0       7.425  33.598  31.422  1.00  0.00           H  \nTER    2373      HOH X   0\nATOM   2374  O1x HOH X   0       9.816  23.742  30.892  1.00  0.00           O  \nATOM   2375  H1x HOH X   0      10.018  22.868  30.559  1.00  0.00           H  \nATOM   2376  H2x HOH X   0      10.329  23.817  31.696  1.00  0.00           H  \nTER    2377      HOH X   0\nATOM   2378  O1x HOH X   0      32.146  34.121  19.690  1.00  0.00           O  \nATOM   2379  H1x HOH X   0      32.331  33.503  18.983  1.00  0.00           H  \nATOM   2380  H2x HOH X   0      31.201  34.267  19.638  1.00  0.00           H  \nTER    2381      HOH X   0\nATOM   2382  O1x HOH X   0       2.953   8.807  23.544  1.00  0.00           O  \nATOM   2383  H1x HOH X   0       2.134   8.626  24.005  1.00  0.00           H  \nATOM   2384  H2x HOH X   0       3.559   8.136  23.859  1.00  0.00           H  \nTER    2385      HOH X   0\nATOM   2386  O1x HOH X   0      23.885  15.681  20.748  1.00  0.00           O  \nATOM   2387  H1x HOH X   0      23.189  15.028  20.675  1.00  0.00           H  \nATOM   2388  H2x HOH X   0      23.738  16.272  20.009  1.00  0.00           H  \nTER    2389      HOH X   0\nATOM   2390  O1x HOH X   0      10.623  -0.088  17.569  1.00  0.00           O  \nATOM   2391  H1x HOH X   0      11.448   0.398  17.571  1.00  0.00           H  \nATOM   2392  H2x HOH X   0      10.184   0.181  18.376  1.00  0.00           H  \nTER    2393      HOH X   0\nATOM   2394  O1x HOH X   0      22.308   3.599   9.202  1.00  0.00           O  \nATOM   2395  H1x HOH X   0      22.767   2.762   9.122  1.00  0.00           H  \nATOM   2396  H2x HOH X   0      22.821   4.206   8.668  1.00  0.00           H  \nTER    2397      HOH X   0\nATOM   2398  O1x HOH X   0      26.787  31.721  33.958  1.00  0.00           O  \nATOM   2399  H1x HOH X   0      26.774  32.248  33.158  1.00  0.00           H  \nATOM   2400  H2x HOH X   0      26.540  32.333  34.651  1.00  0.00           H  \nTER    2401      HOH X   0\nATOM   2402  O1x HOH X   0      21.056  17.885   0.386  1.00  0.00           O  \nATOM   2403  H1x HOH X   0      21.213  17.418  -0.435  1.00  0.00           H  \nATOM   2404  H2x HOH X   0      20.105  17.989   0.424  1.00  0.00           H  \nTER    2405      HOH X   0\nATOM   2406  O1x HOH X   0      16.366  18.112  10.264  1.00  0.00           O  \nATOM   2407  H1x HOH X   0      15.445  17.855  10.211  1.00  0.00           H  \nATOM   2408  H2x HOH X   0      16.521  18.611   9.461  1.00  0.00           H  \nTER    2409      HOH X   0\nATOM   2410  O1x HOH X   0      25.773  10.979  13.394  1.00  0.00           O  \nATOM   2411  H1x HOH X   0      25.223  11.082  14.170  1.00  0.00           H  \nATOM   2412  H2x HOH X   0      25.459  11.648  12.786  1.00  0.00           H  \nTER    2413      HOH X   0\nATOM   2414  O1x HOH X   0      17.504   9.659   2.028  1.00  0.00           O  \nATOM   2415  H1x HOH X   0      17.821  10.031   1.206  1.00  0.00           H  \nATOM   2416  H2x HOH X   0      16.694   9.207   1.791  1.00  0.00           H  \nTER    2417      HOH X   0\nATOM   2418  O1x HOH X   0      32.420  15.545   9.090  1.00  0.00           O  \nATOM   2419  H1x HOH X   0      32.618  15.982   9.918  1.00  0.00           H  \nATOM   2420  H2x HOH X   0      31.509  15.775   8.909  1.00  0.00           H  \nTER    2421      HOH X   0\nATOM   2422  O1x HOH X   0      11.807  29.701  24.936  1.00  0.00           O  \nATOM   2423  H1x HOH X   0      11.022  29.808  25.473  1.00  0.00           H  \nATOM   2424  H2x HOH X   0      11.480  29.668  24.037  1.00  0.00           H  \nTER    2425      HOH X   0\nATOM   2426  O1x HOH X   0      24.955  31.051  11.879  1.00  0.00           O  \nATOM   2427  H1x HOH X   0      24.024  31.253  11.968  1.00  0.00           H  \nATOM   2428  H2x HOH X   0      25.381  31.579  12.554  1.00  0.00           H  \nTER    2429      HOH X   0\nATOM   2430  O1x HOH X   0       5.301  16.287  18.596  1.00  0.00           O  \nATOM   2431  H1x HOH X   0       5.268  16.344  17.641  1.00  0.00           H  \nATOM   2432  H2x HOH X   0       4.461  15.901  18.843  1.00  0.00           H  \nTER    2433      HOH X   0\nATOM   2434  O1x HOH X   0      23.802  22.661  25.503  1.00  0.00           O  \nATOM   2435  H1x HOH X   0      23.223  22.722  26.263  1.00  0.00           H  \nATOM   2436  H2x HOH X   0      24.660  22.929  25.833  1.00  0.00           H  \nTER    2437      HOH X   0\nATOM   2438  O1x HOH X   0      11.719  21.572   1.742  1.00  0.00           O  \nATOM   2439  H1x HOH X   0      11.019  21.138   1.253  1.00  0.00           H  \nATOM   2440  H2x HOH X   0      11.844  21.027   2.518  1.00  0.00           H  \nTER    2441      HOH X   0\nATOM   2442  O1x HOH X   0      15.131  27.834  25.133  1.00  0.00           O  \nATOM   2443  H1x HOH X   0      14.828  27.692  24.236  1.00  0.00           H  \nATOM   2444  H2x HOH X   0      14.339  27.763  25.667  1.00  0.00           H  \nTER    2445      HOH X   0\nATOM   2446  O1x HOH X   0      34.725  27.442  19.929  1.00  0.00           O  \nATOM   2447  H1x HOH X   0      35.297  27.093  19.245  1.00  0.00           H  \nATOM   2448  H2x HOH X   0      34.829  28.391  19.868  1.00  0.00           H  \nTER    2449      HOH X   0\nATOM   2450  O1x HOH X   0      30.558  24.915  23.842  1.00  0.00           O  \nATOM   2451  H1x HOH X   0      30.244  24.313  24.517  1.00  0.00           H  \nATOM   2452  H2x HOH X   0      29.900  25.610  23.816  1.00  0.00           H  \nTER    2453      HOH X   0\nATOM   2454  O1x HOH X   0      13.175  29.883  15.941  1.00  0.00           O  \nATOM   2455  H1x HOH X   0      13.533  29.089  16.339  1.00  0.00           H  \nATOM   2456  H2x HOH X   0      12.326  30.004  16.367  1.00  0.00           H  \nTER    2457      HOH X   0\nATOM   2458  O1x HOH X   0      22.667   3.336  20.341  1.00  0.00           O  \nATOM   2459  H1x HOH X   0      22.412   3.780  19.532  1.00  0.00           H  \nATOM   2460  H2x HOH X   0      22.447   3.957  21.035  1.00  0.00           H  \nTER    2461      HOH X   0\nATOM   2462  O1x HOH X   0      10.875  24.429  17.518  1.00  0.00           O  \nATOM   2463  H1x HOH X   0      10.453  23.769  18.070  1.00  0.00           H  \nATOM   2464  H2x HOH X   0      11.295  23.925  16.821  1.00  0.00           H  \nTER    2465      HOH X   0\nATOM   2466  O1x HOH X   0       6.564  33.669  28.705  1.00  0.00           O  \nATOM   2467  H1x HOH X   0       6.933  34.347  29.271  1.00  0.00           H  \nATOM   2468  H2x HOH X   0       5.994  34.146  28.101  1.00  0.00           H  \nTER    2469      HOH X   0\nATOM   2470  O1x HOH X   0       8.054   1.550  26.463  1.00  0.00           O  \nATOM   2471  H1x HOH X   0       7.175   1.572  26.843  1.00  0.00           H  \nATOM   2472  H2x HOH X   0       8.347   0.648  26.589  1.00  0.00           H  \nTER    2473      HOH X   0\nATOM   2474  O1x HOH X   0      16.618  13.656   8.491  1.00  0.00           O  \nATOM   2475  H1x HOH X   0      15.976  14.119   7.953  1.00  0.00           H  \nATOM   2476  H2x HOH X   0      16.143  12.897   8.831  1.00  0.00           H  \nTER    2477      HOH X   0\nATOM   2478  O1x HOH X   0      25.919  10.345  24.208  1.00  0.00           O  \nATOM   2479  H1x HOH X   0      26.694  10.110  23.698  1.00  0.00           H  \nATOM   2480  H2x HOH X   0      25.857  11.297  24.125  1.00  0.00           H  \nTER    2481      HOH X   0\nATOM   2482  O1x HOH X   0      13.226  14.022  19.702  1.00  0.00           O  \nATOM   2483  H1x HOH X   0      12.542  13.676  20.276  1.00  0.00           H  \nATOM   2484  H2x HOH X   0      13.780  14.547  20.279  1.00  0.00           H  \nTER    2485      HOH X   0\nATOM   2486  O1x HOH X   0       5.135  16.740  25.859  1.00  0.00           O  \nATOM   2487  H1x HOH X   0       4.224  16.621  25.590  1.00  0.00           H  \nATOM   2488  H2x HOH X   0       5.445  15.856  26.055  1.00  0.00           H  \nTER    2489      HOH X   0\nATOM   2490  O1x HOH X   0      30.887  25.882  12.417  1.00  0.00           O  \nATOM   2491  H1x HOH X   0      30.067  26.064  11.958  1.00  0.00           H  \nATOM   2492  H2x HOH X   0      31.569  26.052  11.767  1.00  0.00           H  \nTER    2493      HOH X   0\nATOM   2494  O1x HOH X   0      26.304  22.712   6.354  1.00  0.00           O  \nATOM   2495  H1x HOH X   0      25.659  22.575   7.048  1.00  0.00           H  \nATOM   2496  H2x HOH X   0      27.094  22.273   6.672  1.00  0.00           H  \nTER    2497      HOH X   0\nATOM   2498  O1x HOH X   0      20.201   8.577   8.154  1.00  0.00           O  \nATOM   2499  H1x HOH X   0      19.734   7.811   7.822  1.00  0.00           H  \nATOM   2500  H2x HOH X   0      19.526   9.252   8.237  1.00  0.00           H  \nTER    2501      HOH X   0\nATOM   2502  O1x HOH X   0       0.620  29.607  21.152  1.00  0.00           O  \nATOM   2503  H1x HOH X   0       1.457  30.053  21.028  1.00  0.00           H  \nATOM   2504  H2x HOH X   0       0.831  28.676  21.081  1.00  0.00           H  \nTER    2505      HOH X   0\nATOM   2506  O1x HOH X   0      31.769  15.178  20.142  1.00  0.00           O  \nATOM   2507  H1x HOH X   0      32.622  14.743  20.144  1.00  0.00           H  \nATOM   2508  H2x HOH X   0      31.975  16.112  20.120  1.00  0.00           H  \nTER    2509      HOH X   0\nATOM   2510  O1x HOH X   0      13.331   7.361  30.136  1.00  0.00           O  \nATOM   2511  H1x HOH X   0      12.546   7.222  30.666  1.00  0.00           H  \nATOM   2512  H2x HOH X   0      13.783   6.517  30.152  1.00  0.00           H  \nTER    2513      HOH X   0\nATOM   2514  O1x HOH X   0       7.783   7.194   2.783  1.00  0.00           O  \nATOM   2515  H1x HOH X   0       8.563   7.571   3.190  1.00  0.00           H  \nATOM   2516  H2x HOH X   0       7.849   6.256   2.962  1.00  0.00           H  \nTER    2517      HOH X   0\nATOM   2518  O1x HOH X   0       5.970  26.500  28.744  1.00  0.00           O  \nATOM   2519  H1x HOH X   0       6.534  27.260  28.887  1.00  0.00           H  \nATOM   2520  H2x HOH X   0       6.228  25.878  29.425  1.00  0.00           H  \nTER    2521      HOH X   0\nATOM   2522  O1x HOH X   0      15.546  11.333   9.767  1.00  0.00           O  \nATOM   2523  H1x HOH X   0      15.020  11.445  10.559  1.00  0.00           H  \nATOM   2524  H2x HOH X   0      15.106  10.634   9.283  1.00  0.00           H  \nTER    2525      HOH X   0\nATOM   2526  O1x HOH X   0      31.368   8.550  28.649  1.00  0.00           O  \nATOM   2527  H1x HOH X   0      30.942   8.477  27.795  1.00  0.00           H  \nATOM   2528  H2x HOH X   0      30.734   8.183  29.265  1.00  0.00           H  \nTER    2529      HOH X   0\nATOM   2530  O1x HOH X   0      27.107  30.926  16.575  1.00  0.00           O  \nATOM   2531  H1x HOH X   0      26.899  31.766  16.167  1.00  0.00           H  \nATOM   2532  H2x HOH X   0      26.893  30.275  15.907  1.00  0.00           H  \nTER    2533      HOH X   0\nATOM   2534  O1x HOH X   0      31.098   0.691  15.429  1.00  0.00           O  \nATOM   2535  H1x HOH X   0      31.436   1.547  15.165  1.00  0.00           H  \nATOM   2536  H2x HOH X   0      30.483   0.884  16.137  1.00  0.00           H  \nTER    2537      HOH X   0\nATOM   2538  O1x HOH X   0      32.813  22.742  33.525  1.00  0.00           O  \nATOM   2539  H1x HOH X   0      32.374  21.966  33.177  1.00  0.00           H  \nATOM   2540  H2x HOH X   0      33.744  22.518  33.509  1.00  0.00           H  \nTER    2541      HOH X   0\nATOM   2542  O1x HOH X   0       0.878  26.005  32.969  1.00  0.00           O  \nATOM   2543  H1x HOH X   0       0.565  26.261  32.101  1.00  0.00           H  \nATOM   2544  H2x HOH X   0       1.001  25.058  32.910  1.00  0.00           H  \nTER    2545      HOH X   0\nATOM   2546  O1x HOH X   0       9.452  11.625  11.318  1.00  0.00           O  \nATOM   2547  H1x HOH X   0       9.530  12.370  10.722  1.00  0.00           H  \nATOM   2548  H2x HOH X   0       8.909  10.995  10.844  1.00  0.00           H  \nTER    2549      HOH X   0\nATOM   2550  O1x HOH X   0      12.381  30.704   9.624  1.00  0.00           O  \nATOM   2551  H1x HOH X   0      12.986  30.699   8.882  1.00  0.00           H  \nATOM   2552  H2x HOH X   0      12.598  31.502  10.106  1.00  0.00           H  \nTER    2553      HOH X   0\nATOM   2554  O1x HOH X   0      23.028  26.783  23.559  1.00  0.00           O  \nATOM   2555  H1x HOH X   0      23.426  27.056  24.385  1.00  0.00           H  \nATOM   2556  H2x HOH X   0      23.720  26.299  23.108  1.00  0.00           H  \nTER    2557      HOH X   0\nATOM   2558  O1x HOH X   0      29.068  28.843   0.935  1.00  0.00           O  \nATOM   2559  H1x HOH X   0      28.761  29.297   0.149  1.00  0.00           H  \nATOM   2560  H2x HOH X   0      29.355  27.986   0.620  1.00  0.00           H  \nTER    2561      HOH X   0\nATOM   2562  O1x HOH X   0      24.763  26.251  19.237  1.00  0.00           O  \nATOM   2563  H1x HOH X   0      25.493  26.130  19.844  1.00  0.00           H  \nATOM   2564  H2x HOH X   0      25.045  26.962  18.661  1.00  0.00           H  \nTER    2565      HOH X   0\nATOM   2566  O1x HOH X   0      31.242  22.423  29.571  1.00  0.00           O  \nATOM   2567  H1x HOH X   0      32.110  22.581  29.200  1.00  0.00           H  \nATOM   2568  H2x HOH X   0      31.414  22.050  30.435  1.00  0.00           H  \nTER    2569      HOH X   0\nATOM   2570  O1x HOH X   0      20.091  18.773  30.140  1.00  0.00           O  \nATOM   2571  H1x HOH X   0      20.475  18.670  29.269  1.00  0.00           H  \nATOM   2572  H2x HOH X   0      19.387  19.410  30.017  1.00  0.00           H  \nTER    2573      HOH X   0\nATOM   2574  O1x HOH X   0      16.956  32.364  29.064  1.00  0.00           O  \nATOM   2575  H1x HOH X   0      16.582  32.735  28.265  1.00  0.00           H  \nATOM   2576  H2x HOH X   0      17.220  33.124  29.582  1.00  0.00           H  \nTER    2577      HOH X   0\nATOM   2578  O1x HOH X   0       4.820   8.238  12.375  1.00  0.00           O  \nATOM   2579  H1x HOH X   0       4.681   7.451  12.902  1.00  0.00           H  \nATOM   2580  H2x HOH X   0       5.771   8.297  12.279  1.00  0.00           H  \nTER    2581      HOH X   0\nATOM   2582  O1x HOH X   0      29.778  17.479  16.484  1.00  0.00           O  \nATOM   2583  H1x HOH X   0      29.304  18.142  15.982  1.00  0.00           H  \nATOM   2584  H2x HOH X   0      29.595  17.695  17.399  1.00  0.00           H  \nTER    2585      HOH X   0\nATOM   2586  O1x HOH X   0      22.599   2.998  23.957  1.00  0.00           O  \nATOM   2587  H1x HOH X   0      22.685   3.874  23.582  1.00  0.00           H  \nATOM   2588  H2x HOH X   0      22.891   3.095  24.863  1.00  0.00           H  \nTER    2589      HOH X   0\nATOM   2590  O1x HOH X   0      33.591  30.580   1.933  1.00  0.00           O  \nATOM   2591  H1x HOH X   0      33.812  30.043   2.694  1.00  0.00           H  \nATOM   2592  H2x HOH X   0      34.437  30.836   1.567  1.00  0.00           H  \nTER    2593      HOH X   0\nATOM   2594  O1x HOH X   0      32.915  25.438  20.791  1.00  0.00           O  \nATOM   2595  H1x HOH X   0      33.609  25.856  21.302  1.00  0.00           H  \nATOM   2596  H2x HOH X   0      32.553  24.774  21.378  1.00  0.00           H  \nTER    2597      HOH X   0\nATOM   2598  O1x HOH X   0      14.842   4.532   4.007  1.00  0.00           O  \nATOM   2599  H1x HOH X   0      14.900   3.584   4.131  1.00  0.00           H  \nATOM   2600  H2x HOH X   0      15.523   4.890   4.577  1.00  0.00           H  \nTER    2601      HOH X   0\nATOM   2602  O1x HOH X   0      26.068  21.547  15.576  1.00  0.00           O  \nATOM   2603  H1x HOH X   0      25.573  21.119  14.877  1.00  0.00           H  \nATOM   2604  H2x HOH X   0      25.903  21.008  16.350  1.00  0.00           H  \nTER    2605      HOH X   0\nATOM   2606  O1x HOH X   0       2.541  19.138  18.005  1.00  0.00           O  \nATOM   2607  H1x HOH X   0       2.142  18.286  18.181  1.00  0.00           H  \nATOM   2608  H2x HOH X   0       3.230  19.221  18.664  1.00  0.00           H  \nTER    2609      HOH X   0\nATOM   2610  O1x HOH X   0      31.836  29.941  21.796  1.00  0.00           O  \nATOM   2611  H1x HOH X   0      32.157  29.815  20.903  1.00  0.00           H  \nATOM   2612  H2x HOH X   0      31.009  29.461  21.825  1.00  0.00           H  \nTER    2613      HOH X   0\nATOM   2614  O1x HOH X   0      30.070  30.561  33.752  1.00  0.00           O  \nATOM   2615  H1x HOH X   0      30.314  30.227  32.890  1.00  0.00           H  \nATOM   2616  H2x HOH X   0      30.529  29.992  34.370  1.00  0.00           H  \nTER    2617      HOH X   0\nATOM   2618  O1x HOH X   0      24.519  24.380  23.067  1.00  0.00           O  \nATOM   2619  H1x HOH X   0      23.709  24.444  22.561  1.00  0.00           H  \nATOM   2620  H2x HOH X   0      24.266  23.917  23.866  1.00  0.00           H  \nTER    2621      HOH X   0\nATOM   2622  O1x HOH X   0      32.697  34.173   5.864  1.00  0.00           O  \nATOM   2623  H1x HOH X   0      31.777  34.419   5.958  1.00  0.00           H  \nATOM   2624  H2x HOH X   0      32.836  33.501   6.531  1.00  0.00           H  \nTER    2625      HOH X   0\nATOM   2626  O1x HOH X   0      19.595  26.477   4.457  1.00  0.00           O  \nATOM   2627  H1x HOH X   0      19.354  25.674   4.919  1.00  0.00           H  \nATOM   2628  H2x HOH X   0      18.768  26.807   4.103  1.00  0.00           H  \nTER    2629      HOH X   0\nATOM   2630  O1x HOH X   0      13.681  11.316   0.343  1.00  0.00           O  \nATOM   2631  H1x HOH X   0      13.255  11.785  -0.375  1.00  0.00           H  \nATOM   2632  H2x HOH X   0      14.268  11.961   0.736  1.00  0.00           H  \nTER    2633      HOH X   0\nATOM   2634  O1x HOH X   0      34.024   0.520  31.374  1.00  0.00           O  \nATOM   2635  H1x HOH X   0      33.684   1.194  30.784  1.00  0.00           H  \nATOM   2636  H2x HOH X   0      33.527   0.638  32.184  1.00  0.00           H  \nTER    2637      HOH X   0\nATOM   2638  O1x HOH X   0      35.296   2.211  26.537  1.00  0.00           O  \nATOM   2639  H1x HOH X   0      35.217   1.421  26.001  1.00  0.00           H  \nATOM   2640  H2x HOH X   0      34.468   2.262  27.013  1.00  0.00           H  \nTER    2641      HOH X   0\nATOM   2642  O1x HOH X   0       5.606  14.734   2.603  1.00  0.00           O  \nATOM   2643  H1x HOH X   0       5.393  14.684   3.535  1.00  0.00           H  \nATOM   2644  H2x HOH X   0       6.327  14.115   2.488  1.00  0.00           H  \nTER    2645      HOH X   0\nATOM   2646  O1x HOH X   0       3.676  21.374  19.527  1.00  0.00           O  \nATOM   2647  H1x HOH X   0       3.690  22.295  19.785  1.00  0.00           H  \nATOM   2648  H2x HOH X   0       3.889  21.383  18.594  1.00  0.00           H  \nTER    2649      HOH X   0\nATOM   2650  O1x HOH X   0      29.011  16.028  10.126  1.00  0.00           O  \nATOM   2651  H1x HOH X   0      28.775  15.657   9.275  1.00  0.00           H  \nATOM   2652  H2x HOH X   0      29.340  16.904   9.924  1.00  0.00           H  \nTER    2653      HOH X   0\nATOM   2654  O1x HOH X   0      24.255   1.284  14.307  1.00  0.00           O  \nATOM   2655  H1x HOH X   0      24.324   2.231  14.429  1.00  0.00           H  \nATOM   2656  H2x HOH X   0      25.150   0.963  14.418  1.00  0.00           H  \nTER    2657      HOH X   0\nATOM   2658  O1x HOH X   0      26.167  17.998   6.222  1.00  0.00           O  \nATOM   2659  H1x HOH X   0      27.086  18.235   6.346  1.00  0.00           H  \nATOM   2660  H2x HOH X   0      25.733  18.291   7.024  1.00  0.00           H  \nTER    2661      HOH X   0\nATOM   2662  O1x HOH X   0       1.003  27.453  28.533  1.00  0.00           O  \nATOM   2663  H1x HOH X   0       0.352  27.681  29.196  1.00  0.00           H  \nATOM   2664  H2x HOH X   0       1.272  28.294  28.162  1.00  0.00           H  \nTER    2665      HOH X   0\nATOM   2666  O1x HOH X   0       1.467   7.355  15.921  1.00  0.00           O  \nATOM   2667  H1x HOH X   0       1.127   7.336  15.026  1.00  0.00           H  \nATOM   2668  H2x HOH X   0       1.450   8.280  16.164  1.00  0.00           H  \nTER    2669      HOH X   0\nATOM   2670  O1x HOH X   0       8.814  24.968  11.592  1.00  0.00           O  \nATOM   2671  H1x HOH X   0       8.742  24.381  10.840  1.00  0.00           H  \nATOM   2672  H2x HOH X   0       9.318  24.471  12.237  1.00  0.00           H  \nTER    2673      HOH X   0\nATOM   2674  O1x HOH X   0      11.527  34.947  20.612  1.00  0.00           O  \nATOM   2675  H1x HOH X   0      11.536  34.023  20.865  1.00  0.00           H  \nATOM   2676  H2x HOH X   0      12.049  34.981  19.810  1.00  0.00           H  \nTER    2677      HOH X   0\nATOM   2678  O1x HOH X   0      28.875  14.707  19.610  1.00  0.00           O  \nATOM   2679  H1x HOH X   0      28.067  14.941  20.067  1.00  0.00           H  \nATOM   2680  H2x HOH X   0      29.574  15.046  20.169  1.00  0.00           H  \nTER    2681      HOH X   0\nATOM   2682  O1x HOH X   0       2.761  22.034  14.992  1.00  0.00           O  \nATOM   2683  H1x HOH X   0       3.558  22.470  14.690  1.00  0.00           H  \nATOM   2684  H2x HOH X   0       3.055  21.172  15.285  1.00  0.00           H  \nTER    2685      HOH X   0\nATOM   2686  O1x HOH X   0      27.117   0.306   1.927  1.00  0.00           O  \nATOM   2687  H1x HOH X   0      27.510   0.744   1.173  1.00  0.00           H  \nATOM   2688  H2x HOH X   0      26.289   0.765   2.067  1.00  0.00           H  \nTER    2689      HOH X   0\nATOM   2690  O1x HOH X   0      20.822  14.987  27.409  1.00  0.00           O  \nATOM   2691  H1x HOH X   0      21.460  14.627  26.792  1.00  0.00           H  \nATOM   2692  H2x HOH X   0      20.168  15.414  26.856  1.00  0.00           H  \nTER    2693      HOH X   0\nATOM   2694  O1x HOH X   0       2.184  16.319  28.060  1.00  0.00           O  \nATOM   2695  H1x HOH X   0       2.340  17.032  27.441  1.00  0.00           H  \nATOM   2696  H2x HOH X   0       3.055  16.089  28.385  1.00  0.00           H  \nTER    2697      HOH X   0\nATOM   2698  O1x HOH X   0       1.816  11.092  19.704  1.00  0.00           O  \nATOM   2699  H1x HOH X   0       1.082  10.478  19.689  1.00  0.00           H  \nATOM   2700  H2x HOH X   0       1.835  11.465  18.823  1.00  0.00           H  \nTER    2701      HOH X   0\nATOM   2702  O1x HOH X   0      14.009  26.762  14.061  1.00  0.00           O  \nATOM   2703  H1x HOH X   0      14.078  27.475  13.425  1.00  0.00           H  \nATOM   2704  H2x HOH X   0      14.869  26.730  14.480  1.00  0.00           H  \nTER    2705      HOH X   0\nATOM   2706  O1x HOH X   0      10.715   8.160  31.594  1.00  0.00           O  \nATOM   2707  H1x HOH X   0      10.373   8.845  31.019  1.00  0.00           H  \nATOM   2708  H2x HOH X   0      10.453   8.432  32.473  1.00  0.00           H  \nTER    2709      HOH X   0\nATOM   2710  O1x HOH X   0      32.009  10.898  24.588  1.00  0.00           O  \nATOM   2711  H1x HOH X   0      32.722  10.747  23.967  1.00  0.00           H  \nATOM   2712  H2x HOH X   0      31.218  10.650  24.110  1.00  0.00           H  \nTER    2713      HOH X   0\nATOM   2714  O1x HOH X   0      27.424  13.017  28.852  1.00  0.00           O  \nATOM   2715  H1x HOH X   0      27.506  13.033  29.806  1.00  0.00           H  \nATOM   2716  H2x HOH X   0      28.316  12.870  28.537  1.00  0.00           H  \nTER    2717      HOH X   0\nATOM   2718  O1x HOH X   0       3.880  12.552  34.748  1.00  0.00           O  \nATOM   2719  H1x HOH X   0       4.061  13.106  33.989  1.00  0.00           H  \nATOM   2720  H2x HOH X   0       3.410  13.123  35.356  1.00  0.00           H  \nTER    2721      HOH X   0\nATOM   2722  O1x HOH X   0      30.662  19.031  24.458  1.00  0.00           O  \nATOM   2723  H1x HOH X   0      30.782  18.609  23.607  1.00  0.00           H  \nATOM   2724  H2x HOH X   0      29.806  19.455  24.397  1.00  0.00           H  \nTER    2725      HOH X   0\nATOM   2726  O1x HOH X   0       7.677  11.852  31.476  1.00  0.00           O  \nATOM   2727  H1x HOH X   0       7.651  11.309  32.264  1.00  0.00           H  \nATOM   2728  H2x HOH X   0       8.007  11.268  30.793  1.00  0.00           H  \nTER    2729      HOH X   0\nATOM   2730  O1x HOH X   0      30.616  22.710   6.672  1.00  0.00           O  \nATOM   2731  H1x HOH X   0      31.221  22.291   7.284  1.00  0.00           H  \nATOM   2732  H2x HOH X   0      29.747  22.481   7.000  1.00  0.00           H  \nTER    2733      HOH X   0\nATOM   2734  O1x HOH X   0       4.787  33.252   4.606  1.00  0.00           O  \nATOM   2735  H1x HOH X   0       5.445  33.898   4.862  1.00  0.00           H  \nATOM   2736  H2x HOH X   0       5.248  32.414   4.639  1.00  0.00           H  \nTER    2737      HOH X   0\nATOM   2738  O1x HOH X   0      33.219  17.703  26.232  1.00  0.00           O  \nATOM   2739  H1x HOH X   0      33.171  18.639  26.036  1.00  0.00           H  \nATOM   2740  H2x HOH X   0      32.581  17.301  25.643  1.00  0.00           H  \nTER    2741      HOH X   0\nATOM   2742  O1x HOH X   0       8.032  15.687  19.922  1.00  0.00           O  \nATOM   2743  H1x HOH X   0       7.415  14.971  19.772  1.00  0.00           H  \nATOM   2744  H2x HOH X   0       7.480  16.438  20.142  1.00  0.00           H  \nTER    2745      HOH X   0\nATOM   2746  O1x HOH X   0      31.333  10.486  31.178  1.00  0.00           O  \nATOM   2747  H1x HOH X   0      31.283  11.425  30.998  1.00  0.00           H  \nATOM   2748  H2x HOH X   0      30.711  10.345  31.892  1.00  0.00           H  \nTER    2749      HOH X   0\nATOM   2750  O1x HOH X   0      17.373  15.325  29.988  1.00  0.00           O  \nATOM   2751  H1x HOH X   0      17.100  14.438  30.223  1.00  0.00           H  \nATOM   2752  H2x HOH X   0      16.604  15.708  29.565  1.00  0.00           H  \nTER    2753      HOH X   0\nATOM   2754  O1x HOH X   0      17.763  16.139   8.000  1.00  0.00           O  \nATOM   2755  H1x HOH X   0      17.791  15.217   7.746  1.00  0.00           H  \nATOM   2756  H2x HOH X   0      18.089  16.150   8.900  1.00  0.00           H  \nTER    2757      HOH X   0\nATOM   2758  O1x HOH X   0      12.591  18.976  32.266  1.00  0.00           O  \nATOM   2759  H1x HOH X   0      12.193  19.695  32.756  1.00  0.00           H  \nATOM   2760  H2x HOH X   0      13.470  18.890  32.636  1.00  0.00           H  \nTER    2761      HOH X   0\nATOM   2762  O1x HOH X   0      11.051  27.511  32.494  1.00  0.00           O  \nATOM   2763  H1x HOH X   0      10.825  28.157  33.164  1.00  0.00           H  \nATOM   2764  H2x HOH X   0      11.422  28.027  31.778  1.00  0.00           H  \nTER    2765      HOH X   0\nATOM   2766  O1x HOH X   0      31.327  29.621   6.158  1.00  0.00           O  \nATOM   2767  H1x HOH X   0      31.072  30.378   6.687  1.00  0.00           H  \nATOM   2768  H2x HOH X   0      30.835  29.722   5.343  1.00  0.00           H  \nTER    2769      HOH X   0\nATOM   2770  O1x HOH X   0       8.447   7.686  17.601  1.00  0.00           O  \nATOM   2771  H1x HOH X   0       8.101   6.856  17.927  1.00  0.00           H  \nATOM   2772  H2x HOH X   0       7.684   8.262  17.555  1.00  0.00           H  \nTER    2773      HOH X   0\nATOM   2774  O1x HOH X   0      11.155  12.624   5.617  1.00  0.00           O  \nATOM   2775  H1x HOH X   0      11.786  13.077   6.176  1.00  0.00           H  \nATOM   2776  H2x HOH X   0      11.311  12.978   4.742  1.00  0.00           H  \nTER    2777      HOH X   0\nATOM   2778  O1x HOH X   0      33.535  12.648  21.231  1.00  0.00           O  \nATOM   2779  H1x HOH X   0      33.539  11.925  21.858  1.00  0.00           H  \nATOM   2780  H2x HOH X   0      34.363  13.103  21.385  1.00  0.00           H  \nTER    2781      HOH X   0\nATOM   2782  O1x HOH X   0      28.483  32.021   1.244  1.00  0.00           O  \nATOM   2783  H1x HOH X   0      28.310  31.460   0.487  1.00  0.00           H  \nATOM   2784  H2x HOH X   0      29.282  31.663   1.630  1.00  0.00           H  \nTER    2785      HOH X   0\nATOM   2786  O1x HOH X   0       8.783  23.965  23.029  1.00  0.00           O  \nATOM   2787  H1x HOH X   0       8.458  23.088  22.823  1.00  0.00           H  \nATOM   2788  H2x HOH X   0       9.603  23.812  23.499  1.00  0.00           H  \nTER    2789      HOH X   0\nATOM   2790  O1x HOH X   0      29.139  29.657   3.835  1.00  0.00           O  \nATOM   2791  H1x HOH X   0      28.869  28.806   3.488  1.00  0.00           H  \nATOM   2792  H2x HOH X   0      29.426  30.150   3.066  1.00  0.00           H  \nTER    2793      HOH X   0\nATOM   2794  O1x HOH X   0      21.309  17.668  27.934  1.00  0.00           O  \nATOM   2795  H1x HOH X   0      21.722  17.771  27.077  1.00  0.00           H  \nATOM   2796  H2x HOH X   0      21.091  16.737  27.985  1.00  0.00           H  \nTER    2797      HOH X   0\nATOM   2798  O1x HOH X   0      32.006   7.176   1.973  1.00  0.00           O  \nATOM   2799  H1x HOH X   0      32.719   6.758   2.456  1.00  0.00           H  \nATOM   2800  H2x HOH X   0      32.445   7.775   1.369  1.00  0.00           H  \nTER    2801      HOH X   0\nATOM   2802  O1x HOH X   0      15.894  34.485  19.526  1.00  0.00           O  \nATOM   2803  H1x HOH X   0      16.406  35.293  19.569  1.00  0.00           H  \nATOM   2804  H2x HOH X   0      15.967  34.108  20.403  1.00  0.00           H  \nTER    2805      HOH X   0\nATOM   2806  O1x HOH X   0      29.705  33.108  21.218  1.00  0.00           O  \nATOM   2807  H1x HOH X   0      30.155  32.269  21.119  1.00  0.00           H  \nATOM   2808  H2x HOH X   0      29.070  32.959  21.919  1.00  0.00           H  \nTER    2809      HOH X   0\nATOM   2810  O1x HOH X   0      11.166   4.363  19.041  1.00  0.00           O  \nATOM   2811  H1x HOH X   0      10.409   4.236  19.613  1.00  0.00           H  \nATOM   2812  H2x HOH X   0      11.038   5.234  18.664  1.00  0.00           H  \nTER    2813      HOH X   0\nATOM   2814  O1x HOH X   0      21.829  11.690  32.574  1.00  0.00           O  \nATOM   2815  H1x HOH X   0      21.341  11.457  33.363  1.00  0.00           H  \nATOM   2816  H2x HOH X   0      21.158  11.959  31.946  1.00  0.00           H  \nTER    2817      HOH X   0\nATOM   2818  O1x HOH X   0      11.698   7.820  11.591  1.00  0.00           O  \nATOM   2819  H1x HOH X   0      12.604   8.121  11.667  1.00  0.00           H  \nATOM   2820  H2x HOH X   0      11.186   8.623  11.495  1.00  0.00           H  \nTER    2821      HOH X   0\nATOM   2822  O1x HOH X   0      22.667  16.539  12.948  1.00  0.00           O  \nATOM   2823  H1x HOH X   0      22.360  16.453  13.851  1.00  0.00           H  \nATOM   2824  H2x HOH X   0      23.180  15.747  12.792  1.00  0.00           H  \nTER    2825      HOH X   0\nATOM   2826  O1x HOH X   0      31.358  30.607  11.172  1.00  0.00           O  \nATOM   2827  H1x HOH X   0      30.461  30.290  11.063  1.00  0.00           H  \nATOM   2828  H2x HOH X   0      31.823  29.876  11.579  1.00  0.00           H  \nTER    2829      HOH X   0\nATOM   2830  O1x HOH X   0      20.125   5.606   8.153  1.00  0.00           O  \nATOM   2831  H1x HOH X   0      20.599   6.402   7.914  1.00  0.00           H  \nATOM   2832  H2x HOH X   0      20.764   5.085   8.641  1.00  0.00           H  \nTER    2833      HOH X   0\nATOM   2834  O1x HOH X   0      31.445  29.948  15.504  1.00  0.00           O  \nATOM   2835  H1x HOH X   0      31.960  29.485  14.843  1.00  0.00           H  \nATOM   2836  H2x HOH X   0      30.954  30.604  15.010  1.00  0.00           H  \nTER    2837      HOH X   0\nATOM   2838  O1x HOH X   0      33.922   6.295   3.756  1.00  0.00           O  \nATOM   2839  H1x HOH X   0      34.707   5.768   3.909  1.00  0.00           H  \nATOM   2840  H2x HOH X   0      34.185   7.188   3.981  1.00  0.00           H  \nTER    2841      HOH X   0\nATOM   2842  O1x HOH X   0      27.055  34.703  26.065  1.00  0.00           O  \nATOM   2843  H1x HOH X   0      27.715  34.644  25.374  1.00  0.00           H  \nATOM   2844  H2x HOH X   0      27.047  35.628  26.311  1.00  0.00           H  \nTER    2845      HOH X   0\nATOM   2846  O1x HOH X   0      31.568   4.375  22.429  1.00  0.00           O  \nATOM   2847  H1x HOH X   0      30.745   4.739  22.755  1.00  0.00           H  \nATOM   2848  H2x HOH X   0      31.339   3.497  22.126  1.00  0.00           H  \nTER    2849      HOH X   0\nATOM   2850  O1x HOH X   0      17.325   4.216  13.038  1.00  0.00           O  \nATOM   2851  H1x HOH X   0      17.791   4.172  13.873  1.00  0.00           H  \nATOM   2852  H2x HOH X   0      16.819   5.027  13.088  1.00  0.00           H  \nTER    2853      HOH X   0\nATOM   2854  O1x HOH X   0      22.716  17.206   2.676  1.00  0.00           O  \nATOM   2855  H1x HOH X   0      22.123  17.544   2.005  1.00  0.00           H  \nATOM   2856  H2x HOH X   0      22.138  16.831   3.340  1.00  0.00           H  \nTER    2857      HOH X   0\nATOM   2858  O1x HOH X   0      34.168  14.690  28.063  1.00  0.00           O  \nATOM   2859  H1x HOH X   0      34.170  15.521  27.589  1.00  0.00           H  \nATOM   2860  H2x HOH X   0      35.033  14.644  28.471  1.00  0.00           H  \nTER    2861      HOH X   0\nATOM   2862  O1x HOH X   0      19.277  14.864  32.054  1.00  0.00           O  \nATOM   2863  H1x HOH X   0      18.462  14.685  32.522  1.00  0.00           H  \nATOM   2864  H2x HOH X   0      18.996  15.207  31.206  1.00  0.00           H  \nTER    2865      HOH X   0\nATOM   2866  O1x HOH X   0       9.518  12.760   7.768  1.00  0.00           O  \nATOM   2867  H1x HOH X   0      10.141  12.403   7.135  1.00  0.00           H  \nATOM   2868  H2x HOH X   0       9.001  12.005   8.049  1.00  0.00           H  \nTER    2869      HOH X   0\nATOM   2870  O1x HOH X   0       1.109  33.697  30.838  1.00  0.00           O  \nATOM   2871  H1x HOH X   0       0.815  34.332  30.184  1.00  0.00           H  \nATOM   2872  H2x HOH X   0       0.822  34.063  31.674  1.00  0.00           H  \nTER    2873      HOH X   0\nATOM   2874  O1x HOH X   0      17.115   6.408  15.287  1.00  0.00           O  \nATOM   2875  H1x HOH X   0      16.463   7.074  15.070  1.00  0.00           H  \nATOM   2876  H2x HOH X   0      17.312   6.558  16.212  1.00  0.00           H  \nTER    2877      HOH X   0\nATOM   2878  O1x HOH X   0      21.838   7.777   1.363  1.00  0.00           O  \nATOM   2879  H1x HOH X   0      21.542   7.623   0.465  1.00  0.00           H  \nATOM   2880  H2x HOH X   0      22.690   7.345   1.412  1.00  0.00           H  \nTER    2881      HOH X   0\nATOM   2882  O1x HOH X   0      29.904  25.881  20.840  1.00  0.00           O  \nATOM   2883  H1x HOH X   0      30.752  25.589  21.174  1.00  0.00           H  \nATOM   2884  H2x HOH X   0      29.839  25.484  19.971  1.00  0.00           H  \nTER    2885      HOH X   0\nATOM   2886  O1x HOH X   0      19.252  17.596  10.264  1.00  0.00           O  \nATOM   2887  H1x HOH X   0      19.802  18.054  10.900  1.00  0.00           H  \nATOM   2888  H2x HOH X   0      18.356  17.756  10.562  1.00  0.00           H  \nTER    2889      HOH X   0\nATOM   2890  O1x HOH X   0       2.942  21.534   0.152  1.00  0.00           O  \nATOM   2891  H1x HOH X   0       3.394  21.386  -0.679  1.00  0.00           H  \nATOM   2892  H2x HOH X   0       3.483  21.085   0.802  1.00  0.00           H  \nTER    2893      HOH X   0\nATOM   2894  O1x HOH X   0       6.048  30.922  26.040  1.00  0.00           O  \nATOM   2895  H1x HOH X   0       5.254  31.346  25.716  1.00  0.00           H  \nATOM   2896  H2x HOH X   0       5.858  29.985  25.986  1.00  0.00           H  \nTER    2897      HOH X   0\nATOM   2898  O1x HOH X   0       4.120  32.207  31.842  1.00  0.00           O  \nATOM   2899  H1x HOH X   0       3.436  32.722  32.270  1.00  0.00           H  \nATOM   2900  H2x HOH X   0       4.914  32.402  32.339  1.00  0.00           H  \nTER    2901      HOH X   0\nATOM   2902  O1x HOH X   0       6.594  14.489  26.921  1.00  0.00           O  \nATOM   2903  H1x HOH X   0       7.523  14.613  27.118  1.00  0.00           H  \nATOM   2904  H2x HOH X   0       6.585  14.074  26.059  1.00  0.00           H  \nTER    2905      HOH X   0\nATOM   2906  O1x HOH X   0       3.179  11.396  16.370  1.00  0.00           O  \nATOM   2907  H1x HOH X   0       4.126  11.377  16.504  1.00  0.00           H  \nATOM   2908  H2x HOH X   0       2.994  10.611  15.853  1.00  0.00           H  \nTER    2909      HOH X   0\nATOM   2910  O1x HOH X   0      15.353  33.484  11.552  1.00  0.00           O  \nATOM   2911  H1x HOH X   0      14.670  32.834  11.720  1.00  0.00           H  \nATOM   2912  H2x HOH X   0      16.169  32.985  11.578  1.00  0.00           H  \nTER    2913      HOH X   0\nATOM   2914  O1x HOH X   0      27.846   6.354   5.783  1.00  0.00           O  \nATOM   2915  H1x HOH X   0      27.098   6.614   5.246  1.00  0.00           H  \nATOM   2916  H2x HOH X   0      28.608   6.689   5.310  1.00  0.00           H  \nTER    2917      HOH X   0\nATOM   2918  O1x HOH X   0       2.559  32.145  11.841  1.00  0.00           O  \nATOM   2919  H1x HOH X   0       1.788  31.768  11.417  1.00  0.00           H  \nATOM   2920  H2x HOH X   0       3.090  32.480  11.118  1.00  0.00           H  \nTER    2921      HOH X   0\nATOM   2922  O1x HOH X   0      34.361   2.349  11.098  1.00  0.00           O  \nATOM   2923  H1x HOH X   0      35.159   1.899  11.377  1.00  0.00           H  \nATOM   2924  H2x HOH X   0      34.005   1.798  10.402  1.00  0.00           H  \nTER    2925      HOH X   0\nATOM   2926  O1x HOH X   0      29.391  33.256   5.601  1.00  0.00           O  \nATOM   2927  H1x HOH X   0      29.446  33.584   4.703  1.00  0.00           H  \nATOM   2928  H2x HOH X   0      28.553  32.793   5.636  1.00  0.00           H  \nTER    2929      HOH X   0\nATOM   2930  O1x HOH X   0      22.503  27.245  33.091  1.00  0.00           O  \nATOM   2931  H1x HOH X   0      21.645  27.221  32.666  1.00  0.00           H  \nATOM   2932  H2x HOH X   0      22.985  26.517  32.699  1.00  0.00           H  \nTER    2933      HOH X   0\nATOM   2934  O1x HOH X   0      30.298  28.346  31.894  1.00  0.00           O  \nATOM   2935  H1x HOH X   0      31.231  28.279  31.691  1.00  0.00           H  \nATOM   2936  H2x HOH X   0      29.883  28.540  31.054  1.00  0.00           H  \nTER    2937      HOH X   0\nATOM   2938  O1x HOH X   0      29.078  18.472  33.048  1.00  0.00           O  \nATOM   2939  H1x HOH X   0      28.735  18.184  33.894  1.00  0.00           H  \nATOM   2940  H2x HOH X   0      29.234  17.660  32.564  1.00  0.00           H  \nTER    2941      HOH X   0\nATOM   2942  O1x HOH X   0      26.009  31.953   6.119  1.00  0.00           O  \nATOM   2943  H1x HOH X   0      26.659  31.325   6.435  1.00  0.00           H  \nATOM   2944  H2x HOH X   0      26.401  32.326   5.329  1.00  0.00           H  \nTER    2945      HOH X   0\nATOM   2946  O1x HOH X   0      11.266  32.027  18.046  1.00  0.00           O  \nATOM   2947  H1x HOH X   0      10.385  31.819  17.736  1.00  0.00           H  \nATOM   2948  H2x HOH X   0      11.234  32.962  18.251  1.00  0.00           H  \nTER    2949      HOH X   0\nATOM   2950  O1x HOH X   0      34.149  19.384  11.674  1.00  0.00           O  \nATOM   2951  H1x HOH X   0      33.818  19.432  12.570  1.00  0.00           H  \nATOM   2952  H2x HOH X   0      34.880  20.001  11.654  1.00  0.00           H  \nTER    2953      HOH X   0\nATOM   2954  O1x HOH X   0      23.064  28.356  12.526  1.00  0.00           O  \nATOM   2955  H1x HOH X   0      23.171  28.338  13.477  1.00  0.00           H  \nATOM   2956  H2x HOH X   0      22.197  28.738  12.389  1.00  0.00           H  \nTER    2957      HOH X   0\nATOM   2958  O1x HOH X   0      10.256  23.695  13.826  1.00  0.00           O  \nATOM   2959  H1x HOH X   0      11.089  24.004  14.182  1.00  0.00           H  \nATOM   2960  H2x HOH X   0       9.757  23.413  14.593  1.00  0.00           H  \nTER    2961      HOH X   0\nATOM   2962  O1x HOH X   0       4.670  23.149   3.784  1.00  0.00           O  \nATOM   2963  H1x HOH X   0       5.068  22.453   3.261  1.00  0.00           H  \nATOM   2964  H2x HOH X   0       5.305  23.864   3.754  1.00  0.00           H  \nTER    2965      HOH X   0\nATOM   2966  O1x HOH X   0      14.910   0.328  28.043  1.00  0.00           O  \nATOM   2967  H1x HOH X   0      15.797   0.319  27.685  1.00  0.00           H  \nATOM   2968  H2x HOH X   0      14.379  -0.114  27.380  1.00  0.00           H  \nTER    2969      HOH X   0\nATOM   2970  O1x HOH X   0      23.336  10.054  25.184  1.00  0.00           O  \nATOM   2971  H1x HOH X   0      24.187  10.081  24.745  1.00  0.00           H  \nATOM   2972  H2x HOH X   0      23.082   9.131  25.159  1.00  0.00           H  \nTER    2973      HOH X   0\nATOM   2974  O1x HOH X   0       8.452  13.149   2.348  1.00  0.00           O  \nATOM   2975  H1x HOH X   0       9.320  13.369   2.684  1.00  0.00           H  \nATOM   2976  H2x HOH X   0       8.609  12.860   1.449  1.00  0.00           H  \nTER    2977      HOH X   0\nATOM   2978  O1x HOH X   0      22.024   1.533  33.975  1.00  0.00           O  \nATOM   2979  H1x HOH X   0      21.755   0.970  34.701  1.00  0.00           H  \nATOM   2980  H2x HOH X   0      21.542   1.196  33.219  1.00  0.00           H  \nTER    2981      HOH X   0\nATOM   2982  O1x HOH X   0       6.991  26.061  19.959  1.00  0.00           O  \nATOM   2983  H1x HOH X   0       6.619  25.571  20.692  1.00  0.00           H  \nATOM   2984  H2x HOH X   0       6.559  25.699  19.185  1.00  0.00           H  \nTER    2985      HOH X   0\nATOM   2986  O1x HOH X   0      28.517  14.322  23.512  1.00  0.00           O  \nATOM   2987  H1x HOH X   0      29.135  13.627  23.286  1.00  0.00           H  \nATOM   2988  H2x HOH X   0      28.988  14.867  24.142  1.00  0.00           H  \nTER    2989      HOH X   0\nATOM   2990  O1x HOH X   0       4.744  27.662  33.104  1.00  0.00           O  \nATOM   2991  H1x HOH X   0       5.319  28.240  32.603  1.00  0.00           H  \nATOM   2992  H2x HOH X   0       4.645  28.097  33.951  1.00  0.00           H  \nTER    2993      HOH X   0\nATOM   2994  O1x HOH X   0       9.826   8.309  15.408  1.00  0.00           O  \nATOM   2995  H1x HOH X   0      10.193   9.184  15.527  1.00  0.00           H  \nATOM   2996  H2x HOH X   0       9.602   8.020  16.293  1.00  0.00           H  \nTER    2997      HOH X   0\nATOM   2998  O1x HOH X   0      12.084  21.521  33.485  1.00  0.00           O  \nATOM   2999  H1x HOH X   0      12.411  21.490  34.384  1.00  0.00           H  \nATOM   3000  H2x HOH X   0      11.874  22.443  33.338  1.00  0.00           H  \nTER    3001      HOH X   0\nATOM   3002  O1x HOH X   0      21.037   6.069  19.121  1.00  0.00           O  \nATOM   3003  H1x HOH X   0      21.279   6.651  19.842  1.00  0.00           H  \nATOM   3004  H2x HOH X   0      21.308   6.539  18.333  1.00  0.00           H  \nTER    3005      HOH X   0\nATOM   3006  O1x HOH X   0      22.426  18.192  32.184  1.00  0.00           O  \nATOM   3007  H1x HOH X   0      21.522  18.308  31.893  1.00  0.00           H  \nATOM   3008  H2x HOH X   0      22.930  18.104  31.374  1.00  0.00           H  \nTER    3009      HOH X   0\nATOM   3010  O1x HOH X   0      13.364  17.221   0.832  1.00  0.00           O  \nATOM   3011  H1x HOH X   0      12.673  17.498   1.434  1.00  0.00           H  \nATOM   3012  H2x HOH X   0      14.174  17.334   1.329  1.00  0.00           H  \nTER    3013      HOH X   0\nATOM   3014  O1x HOH X   0       5.582  13.291  12.310  1.00  0.00           O  \nATOM   3015  H1x HOH X   0       5.260  12.525  11.836  1.00  0.00           H  \nATOM   3016  H2x HOH X   0       5.209  13.205  13.187  1.00  0.00           H  \nTER    3017      HOH X   0\nATOM   3018  O1x HOH X   0      17.456  28.586   5.659  1.00  0.00           O  \nATOM   3019  H1x HOH X   0      16.525  28.767   5.791  1.00  0.00           H  \nATOM   3020  H2x HOH X   0      17.501  27.638   5.536  1.00  0.00           H  \nTER    3021      HOH X   0\nATOM   3022  O1x HOH X   0      15.312   9.134   0.436  1.00  0.00           O  \nATOM   3023  H1x HOH X   0      14.681   9.853   0.406  1.00  0.00           H  \nATOM   3024  H2x HOH X   0      14.840   8.385   0.071  1.00  0.00           H  \nTER    3025      HOH X   0\nATOM   3026  O1x HOH X   0      14.734  33.007  32.164  1.00  0.00           O  \nATOM   3027  H1x HOH X   0      14.120  32.511  31.623  1.00  0.00           H  \nATOM   3028  H2x HOH X   0      14.799  32.505  32.976  1.00  0.00           H  \nTER    3029      HOH X   0\nATOM   3030  O1x HOH X   0      17.107  33.879   4.223  1.00  0.00           O  \nATOM   3031  H1x HOH X   0      17.374  33.672   5.119  1.00  0.00           H  \nATOM   3032  H2x HOH X   0      17.699  33.367   3.672  1.00  0.00           H  \nTER    3033      HOH X   0\nATOM   3034  O1x HOH X   0      13.986  30.178   2.932  1.00  0.00           O  \nATOM   3035  H1x HOH X   0      14.096  30.975   2.413  1.00  0.00           H  \nATOM   3036  H2x HOH X   0      13.183  29.781   2.594  1.00  0.00           H  \nTER    3037      HOH X   0\nATOM   3038  O1x HOH X   0       3.255  17.441  21.585  1.00  0.00           O  \nATOM   3039  H1x HOH X   0       2.455  16.916  21.600  1.00  0.00           H  \nATOM   3040  H2x HOH X   0       3.959  16.812  21.744  1.00  0.00           H  \nTER    3041      HOH X   0\nATOM   3042  O1x HOH X   0      13.566   7.034   6.341  1.00  0.00           O  \nATOM   3043  H1x HOH X   0      12.793   7.250   5.818  1.00  0.00           H  \nATOM   3044  H2x HOH X   0      13.689   6.094   6.210  1.00  0.00           H  \nTER    3045      HOH X   0\nATOM   3046  O1x HOH X   0      21.847  13.679  21.419  1.00  0.00           O  \nATOM   3047  H1x HOH X   0      21.801  13.464  20.488  1.00  0.00           H  \nATOM   3048  H2x HOH X   0      21.064  13.278  21.797  1.00  0.00           H  \nTER    3049      HOH X   0\nATOM   3050  O1x HOH X   0      28.644  25.434   4.387  1.00  0.00           O  \nATOM   3051  H1x HOH X   0      28.516  24.728   5.020  1.00  0.00           H  \nATOM   3052  H2x HOH X   0      28.159  25.151   3.611  1.00  0.00           H  \nTER    3053      HOH X   0\nATOM   3054  O1x HOH X   0      19.743   1.973  11.891  1.00  0.00           O  \nATOM   3055  H1x HOH X   0      19.480   1.375  11.191  1.00  0.00           H  \nATOM   3056  H2x HOH X   0      20.496   1.547  12.301  1.00  0.00           H  \nTER    3057      HOH X   0\nATOM   3058  O1x HOH X   0      10.660   0.166  32.081  1.00  0.00           O  \nATOM   3059  H1x HOH X   0      11.195  -0.471  32.555  1.00  0.00           H  \nATOM   3060  H2x HOH X   0      11.231   0.926  31.972  1.00  0.00           H  \nTER    3061      HOH X   0\nATOM   3062  O1x HOH X   0      22.770  23.357  12.477  1.00  0.00           O  \nATOM   3063  H1x HOH X   0      22.391  22.580  12.067  1.00  0.00           H  \nATOM   3064  H2x HOH X   0      23.161  23.034  13.289  1.00  0.00           H  \nTER    3065      HOH X   0\nATOM   3066  O1x HOH X   0      29.778   3.070  12.859  1.00  0.00           O  \nATOM   3067  H1x HOH X   0      30.171   3.725  12.282  1.00  0.00           H  \nATOM   3068  H2x HOH X   0      30.357   2.311  12.790  1.00  0.00           H  \nTER    3069      HOH X   0\nATOM   3070  O1x HOH X   0       0.911  20.679   5.894  1.00  0.00           O  \nATOM   3071  H1x HOH X   0       0.318  20.455   6.611  1.00  0.00           H  \nATOM   3072  H2x HOH X   0       1.443  19.893   5.767  1.00  0.00           H  \nTER    3073      HOH X   0\nATOM   3074  O1x HOH X   0      16.352  17.895  30.768  1.00  0.00           O  \nATOM   3075  H1x HOH X   0      17.113  17.770  30.202  1.00  0.00           H  \nATOM   3076  H2x HOH X   0      16.690  17.775  31.655  1.00  0.00           H  \nTER    3077      HOH X   0\nATOM   3078  O1x HOH X   0      18.920   3.284   4.137  1.00  0.00           O  \nATOM   3079  H1x HOH X   0      18.448   4.101   4.300  1.00  0.00           H  \nATOM   3080  H2x HOH X   0      19.128   2.949   5.010  1.00  0.00           H  \nTER    3081      HOH X   0\nATOM   3082  O1x HOH X   0       9.304  23.845   6.230  1.00  0.00           O  \nATOM   3083  H1x HOH X   0      10.212  23.626   6.438  1.00  0.00           H  \nATOM   3084  H2x HOH X   0       9.253  24.794   6.344  1.00  0.00           H  \nTER    3085      HOH X   0\nATOM   3086  O1x HOH X   0      19.324  18.212  12.962  1.00  0.00           O  \nATOM   3087  H1x HOH X   0      19.919  17.544  13.304  1.00  0.00           H  \nATOM   3088  H2x HOH X   0      19.006  18.671  13.740  1.00  0.00           H  \nTER    3089      HOH X   0\nATOM   3090  O1x HOH X   0      13.975  18.220  22.960  1.00  0.00           O  \nATOM   3091  H1x HOH X   0      13.862  19.116  22.641  1.00  0.00           H  \nATOM   3092  H2x HOH X   0      14.709  18.274  23.572  1.00  0.00           H  \nTER    3093      HOH X   0\nATOM   3094  O1x HOH X   0      29.997  19.209   5.415  1.00  0.00           O  \nATOM   3095  H1x HOH X   0      30.858  19.366   5.801  1.00  0.00           H  \nATOM   3096  H2x HOH X   0      30.110  19.406   4.486  1.00  0.00           H  \nTER    3097      HOH X   0\nATOM   3098  O1x HOH X   0       9.691   9.367  19.085  1.00  0.00           O  \nATOM   3099  H1x HOH X   0       9.203   9.379  19.908  1.00  0.00           H  \nATOM   3100  H2x HOH X   0       9.255   8.698  18.557  1.00  0.00           H  \nTER    3101      HOH X   0\nATOM   3102  O1x HOH X   0      33.731   7.603  20.737  1.00  0.00           O  \nATOM   3103  H1x HOH X   0      32.779   7.617  20.633  1.00  0.00           H  \nATOM   3104  H2x HOH X   0      33.918   6.746  21.118  1.00  0.00           H  \nTER    3105      HOH X   0\nATOM   3106  O1x HOH X   0      33.864  10.185  22.542  1.00  0.00           O  \nATOM   3107  H1x HOH X   0      33.948   9.461  21.921  1.00  0.00           H  \nATOM   3108  H2x HOH X   0      34.730  10.593  22.553  1.00  0.00           H  \nTER    3109      HOH X   0\nATOM   3110  O1x HOH X   0      33.606  17.691   7.622  1.00  0.00           O  \nATOM   3111  H1x HOH X   0      33.407  18.031   6.750  1.00  0.00           H  \nATOM   3112  H2x HOH X   0      33.205  16.822   7.639  1.00  0.00           H  \nTER    3113      HOH X   0\nATOM   3114  O1x HOH X   0      25.722  31.050  27.351  1.00  0.00           O  \nATOM   3115  H1x HOH X   0      26.290  31.776  27.093  1.00  0.00           H  \nATOM   3116  H2x HOH X   0      26.323  30.377  27.671  1.00  0.00           H  \nTER    3117      HOH X   0\nATOM   3118  O1x HOH X   0      27.063  20.197  34.910  1.00  0.00           O  \nATOM   3119  H1x HOH X   0      26.931  19.518  34.248  1.00  0.00           H  \nATOM   3120  H2x HOH X   0      27.449  20.929  34.429  1.00  0.00           H  \nTER    3121      HOH X   0\nATOM   3122  O1x HOH X   0      33.852  21.396  24.709  1.00  0.00           O  \nATOM   3123  H1x HOH X   0      33.223  20.788  25.097  1.00  0.00           H  \nATOM   3124  H2x HOH X   0      34.323  21.764  25.457  1.00  0.00           H  \nTER    3125      HOH X   0\nATOM   3126  O1x HOH X   0      20.210  32.004  18.347  1.00  0.00           O  \nATOM   3127  H1x HOH X   0      19.663  32.311  17.624  1.00  0.00           H  \nATOM   3128  H2x HOH X   0      19.628  31.455  18.872  1.00  0.00           H  \nTER    3129      HOH X   0\nATOM   3130  O1x HOH X   0      16.664   7.267  17.903  1.00  0.00           O  \nATOM   3131  H1x HOH X   0      15.943   7.872  17.732  1.00  0.00           H  \nATOM   3132  H2x HOH X   0      16.803   7.320  18.849  1.00  0.00           H  \nTER    3133      HOH X   0\nATOM   3134  O1x HOH X   0      24.984  35.094  29.205  1.00  0.00           O  \nATOM   3135  H1x HOH X   0      25.249  34.436  28.562  1.00  0.00           H  \nATOM   3136  H2x HOH X   0      25.746  35.192  29.776  1.00  0.00           H  \nTER    3137      HOH X   0\nATOM   3138  O1x HOH X   0      23.800  20.474  23.600  1.00  0.00           O  \nATOM   3139  H1x HOH X   0      23.286  21.089  24.122  1.00  0.00           H  \nATOM   3140  H2x HOH X   0      24.683  20.527  23.966  1.00  0.00           H  \nTER    3141      HOH X   0\nATOM   3142  O1x HOH X   0       2.137  13.663   4.395  1.00  0.00           O  \nATOM   3143  H1x HOH X   0       2.134  14.620   4.362  1.00  0.00           H  \nATOM   3144  H2x HOH X   0       1.815  13.452   5.272  1.00  0.00           H  \nTER    3145      HOH X   0\nATOM   3146  O1x HOH X   0      33.596  12.212   9.506  1.00  0.00           O  \nATOM   3147  H1x HOH X   0      33.932  11.471   9.002  1.00  0.00           H  \nATOM   3148  H2x HOH X   0      33.005  11.817  10.148  1.00  0.00           H  \nTER    3149      HOH X   0\nATOM   3150  O1x HOH X   0      34.426   1.381  17.050  1.00  0.00           O  \nATOM   3151  H1x HOH X   0      34.212   2.216  16.635  1.00  0.00           H  \nATOM   3152  H2x HOH X   0      34.428   1.574  17.988  1.00  0.00           H  \nTER    3153      HOH X   0\nATOM   3154  O1x HOH X   0       9.224  29.308  26.006  1.00  0.00           O  \nATOM   3155  H1x HOH X   0       9.101  30.234  25.797  1.00  0.00           H  \nATOM   3156  H2x HOH X   0       9.583  29.308  26.894  1.00  0.00           H  \nTER    3157      HOH X   0\nATOM   3158  O1x HOH X   0      34.362   7.626  11.576  1.00  0.00           O  \nATOM   3159  H1x HOH X   0      35.031   7.807  12.236  1.00  0.00           H  \nATOM   3160  H2x HOH X   0      33.587   7.379  12.081  1.00  0.00           H  \nTER    3161      HOH X   0\nATOM   3162  O1x HOH X   0      16.316  23.303   5.362  1.00  0.00           O  \nATOM   3163  H1x HOH X   0      16.397  23.970   4.680  1.00  0.00           H  \nATOM   3164  H2x HOH X   0      15.768  23.711   6.033  1.00  0.00           H  \nTER    3165      HOH X   0\nATOM   3166  O1x HOH X   0      20.309  31.791  27.215  1.00  0.00           O  \nATOM   3167  H1x HOH X   0      19.962  30.926  27.432  1.00  0.00           H  \nATOM   3168  H2x HOH X   0      20.286  31.826  26.259  1.00  0.00           H  \nTER    3169      HOH X   0\nATOM   3170  O1x HOH X   0      28.938  24.793  18.488  1.00  0.00           O  \nATOM   3171  H1x HOH X   0      28.415  24.015  18.678  1.00  0.00           H  \nATOM   3172  H2x HOH X   0      28.977  24.829  17.532  1.00  0.00           H  \nTER    3173      HOH X   0\nATOM   3174  O1x HOH X   0      27.573  31.065  19.598  1.00  0.00           O  \nATOM   3175  H1x HOH X   0      27.541  31.176  18.648  1.00  0.00           H  \nATOM   3176  H2x HOH X   0      27.985  30.211  19.726  1.00  0.00           H  \nTER    3177      HOH X   0\nATOM   3178  O1x HOH X   0      30.636   0.150  11.063  1.00  0.00           O  \nATOM   3179  H1x HOH X   0      31.044  -0.648  10.726  1.00  0.00           H  \nATOM   3180  H2x HOH X   0      30.684   0.770  10.335  1.00  0.00           H  \nTER    3181      HOH X   0\nATOM   3182  O1x HOH X   0      22.375  10.555   9.973  1.00  0.00           O  \nATOM   3183  H1x HOH X   0      22.304  11.487  10.180  1.00  0.00           H  \nATOM   3184  H2x HOH X   0      22.982  10.209  10.626  1.00  0.00           H  \nTER    3185      HOH X   0\nATOM   3186  O1x HOH X   0      23.860   5.544  29.456  1.00  0.00           O  \nATOM   3187  H1x HOH X   0      23.664   6.003  30.273  1.00  0.00           H  \nATOM   3188  H2x HOH X   0      23.397   4.710  29.534  1.00  0.00           H  \nTER    3189      HOH X   0\nATOM   3190  O1x HOH X   0       8.434  31.797  24.526  1.00  0.00           O  \nATOM   3191  H1x HOH X   0       7.771  31.703  25.210  1.00  0.00           H  \nATOM   3192  H2x HOH X   0       8.540  32.743  24.424  1.00  0.00           H  \nTER    3193      HOH X   0\nATOM   3194  O1x HOH X   0      23.527  33.609   3.208  1.00  0.00           O  \nATOM   3195  H1x HOH X   0      23.299  33.642   2.279  1.00  0.00           H  \nATOM   3196  H2x HOH X   0      23.241  34.454   3.555  1.00  0.00           H  \nTER    3197      HOH X   0\nATOM   3198  O1x HOH X   0      21.520   0.577   1.621  1.00  0.00           O  \nATOM   3199  H1x HOH X   0      20.753   0.057   1.382  1.00  0.00           H  \nATOM   3200  H2x HOH X   0      21.178   1.256   2.203  1.00  0.00           H  \nTER    3201      HOH X   0\nATOM   3202  O1x HOH X   0      24.484   8.568   8.787  1.00  0.00           O  \nATOM   3203  H1x HOH X   0      24.470   8.129   9.637  1.00  0.00           H  \nATOM   3204  H2x HOH X   0      25.408   8.577   8.537  1.00  0.00           H  \nTER    3205      HOH X   0\nATOM   3206  O1x HOH X   0      31.257  12.220   3.295  1.00  0.00           O  \nATOM   3207  H1x HOH X   0      30.340  12.410   3.098  1.00  0.00           H  \nATOM   3208  H2x HOH X   0      31.233  11.389   3.771  1.00  0.00           H  \nTER    3209      HOH X   0\nATOM   3210  O1x HOH X   0      18.122  19.925   5.634  1.00  0.00           O  \nATOM   3211  H1x HOH X   0      18.145  20.851   5.390  1.00  0.00           H  \nATOM   3212  H2x HOH X   0      17.966  19.464   4.810  1.00  0.00           H  \nTER    3213      HOH X   0\nATOM   3214  O1x HOH X   0       6.856   5.247  26.892  1.00  0.00           O  \nATOM   3215  H1x HOH X   0       6.090   4.713  26.684  1.00  0.00           H  \nATOM   3216  H2x HOH X   0       7.425   4.666  27.397  1.00  0.00           H  \nTER    3217      HOH X   0\nATOM   3218  O1x HOH X   0      33.096  18.123   4.917  1.00  0.00           O  \nATOM   3219  H1x HOH X   0      32.935  18.580   4.092  1.00  0.00           H  \nATOM   3220  H2x HOH X   0      32.694  17.262   4.797  1.00  0.00           H  \nTER    3221      HOH X   0\nATOM   3222  O1x HOH X   0      11.639  18.973  15.539  1.00  0.00           O  \nATOM   3223  H1x HOH X   0      12.159  18.196  15.744  1.00  0.00           H  \nATOM   3224  H2x HOH X   0      12.283  19.675  15.443  1.00  0.00           H  \nTER    3225      HOH X   0\nATOM   3226  O1x HOH X   0      31.650  25.345  15.151  1.00  0.00           O  \nATOM   3227  H1x HOH X   0      31.443  25.693  14.284  1.00  0.00           H  \nATOM   3228  H2x HOH X   0      30.865  24.862  15.409  1.00  0.00           H  \nTER    3229      HOH X   0\nATOM   3230  O1x HOH X   0      33.487  31.947   7.400  1.00  0.00           O  \nATOM   3231  H1x HOH X   0      34.314  32.270   7.758  1.00  0.00           H  \nATOM   3232  H2x HOH X   0      33.585  30.995   7.392  1.00  0.00           H  \nTER    3233      HOH X   0\nATOM   3234  O1x HOH X   0      13.405  11.901  23.040  1.00  0.00           O  \nATOM   3235  H1x HOH X   0      13.424  12.721  22.547  1.00  0.00           H  \nATOM   3236  H2x HOH X   0      12.558  11.907  23.484  1.00  0.00           H  \nTER    3237      HOH X   0\nATOM   3238  O1x HOH X   0      17.561  25.912  10.087  1.00  0.00           O  \nATOM   3239  H1x HOH X   0      18.265  26.559  10.127  1.00  0.00           H  \nATOM   3240  H2x HOH X   0      17.492  25.576  10.980  1.00  0.00           H  \nTER    3241      HOH X   0\nATOM   3242  O1x HOH X   0      34.780   9.058  18.638  1.00  0.00           O  \nATOM   3243  H1x HOH X   0      34.522   8.621  19.449  1.00  0.00           H  \nATOM   3244  H2x HOH X   0      34.323   8.576  17.949  1.00  0.00           H  \nTER    3245      HOH X   0\nATOM   3246  O1x HOH X   0       2.383  15.884   1.412  1.00  0.00           O  \nATOM   3247  H1x HOH X   0       2.235  16.286   2.268  1.00  0.00           H  \nATOM   3248  H2x HOH X   0       3.265  16.162   1.165  1.00  0.00           H  \nTER    3249      HOH X   0\nATOM   3250  O1x HOH X   0      11.214  13.843   2.715  1.00  0.00           O  \nATOM   3251  H1x HOH X   0      11.706  13.457   1.990  1.00  0.00           H  \nATOM   3252  H2x HOH X   0      11.379  14.783   2.642  1.00  0.00           H  \nTER    3253      HOH X   0\nATOM   3254  O1x HOH X   0      13.786   3.758  23.265  1.00  0.00           O  \nATOM   3255  H1x HOH X   0      14.259   4.090  22.502  1.00  0.00           H  \nATOM   3256  H2x HOH X   0      14.463   3.627  23.929  1.00  0.00           H  \nTER    3257      HOH X   0\nATOM   3258  O1x HOH X   0       0.371  24.799  23.826  1.00  0.00           O  \nATOM   3259  H1x HOH X   0      -0.036  24.767  24.691  1.00  0.00           H  \nATOM   3260  H2x HOH X   0      -0.030  24.075  23.345  1.00  0.00           H  \nTER    3261      HOH X   0\nATOM   3262  O1x HOH X   0      14.706  27.081  28.586  1.00  0.00           O  \nATOM   3263  H1x HOH X   0      15.042  26.243  28.267  1.00  0.00           H  \nATOM   3264  H2x HOH X   0      15.411  27.704  28.412  1.00  0.00           H  \nTER    3265      HOH X   0\nATOM   3266  O1x HOH X   0       1.883  14.294  10.871  1.00  0.00           O  \nATOM   3267  H1x HOH X   0       1.451  13.765  10.201  1.00  0.00           H  \nATOM   3268  H2x HOH X   0       1.293  15.035  11.009  1.00  0.00           H  \nTER    3269      HOH X   0\nATOM   3270  O1x HOH X   0      12.167   9.828   1.908  1.00  0.00           O  \nATOM   3271  H1x HOH X   0      12.709   9.040   1.868  1.00  0.00           H  \nATOM   3272  H2x HOH X   0      12.725  10.521   1.555  1.00  0.00           H  \nTER    3273      HOH X   0\nATOM   3274  O1x HOH X   0      22.974  19.772   9.152  1.00  0.00           O  \nATOM   3275  H1x HOH X   0      23.501  20.264   8.523  1.00  0.00           H  \nATOM   3276  H2x HOH X   0      23.614  19.354   9.728  1.00  0.00           H  \nTER    3277      HOH X   0\nATOM   3278  O1x HOH X   0       7.796  21.746  30.618  1.00  0.00           O  \nATOM   3279  H1x HOH X   0       8.182  21.012  31.096  1.00  0.00           H  \nATOM   3280  H2x HOH X   0       7.052  21.364  30.152  1.00  0.00           H  \nTER    3281      HOH X   0\nATOM   3282  O1x HOH X   0      31.890  27.528  18.836  1.00  0.00           O  \nATOM   3283  H1x HOH X   0      32.792  27.284  19.044  1.00  0.00           H  \nATOM   3284  H2x HOH X   0      31.354  26.905  19.327  1.00  0.00           H  \nTER    3285      HOH X   0\nATOM   3286  O1x HOH X   0      32.655  22.834   1.833  1.00  0.00           O  \nATOM   3287  H1x HOH X   0      32.350  22.840   2.741  1.00  0.00           H  \nATOM   3288  H2x HOH X   0      32.514  21.934   1.539  1.00  0.00           H  \nTER    3289      HOH X   0\nATOM   3290  O1x HOH X   0      31.972  16.047  16.683  1.00  0.00           O  \nATOM   3291  H1x HOH X   0      31.213  16.591  16.474  1.00  0.00           H  \nATOM   3292  H2x HOH X   0      31.928  15.324  16.058  1.00  0.00           H  \nTER    3293      HOH X   0\nATOM   3294  O1x HOH X   0      31.830   2.858   1.795  1.00  0.00           O  \nATOM   3295  H1x HOH X   0      32.206   2.092   1.362  1.00  0.00           H  \nATOM   3296  H2x HOH X   0      31.847   3.543   1.127  1.00  0.00           H  \nTER    3297      HOH X   0\nATOM   3298  O1x HOH X   0      11.202  34.177  13.840  1.00  0.00           O  \nATOM   3299  H1x HOH X   0      11.210  34.084  14.793  1.00  0.00           H  \nATOM   3300  H2x HOH X   0      10.335  34.531  13.641  1.00  0.00           H  \nTER    3301      HOH X   0\nATOM   3302  O1x HOH X   0       8.365  21.122  22.737  1.00  0.00           O  \nATOM   3303  H1x HOH X   0       7.471  21.118  23.078  1.00  0.00           H  \nATOM   3304  H2x HOH X   0       8.259  21.091  21.786  1.00  0.00           H  \nTER    3305      HOH X   0\nATOM   3306  O1x HOH X   0      33.210  13.791  12.325  1.00  0.00           O  \nATOM   3307  H1x HOH X   0      32.299  13.863  12.613  1.00  0.00           H  \nATOM   3308  H2x HOH X   0      33.154  13.689  11.375  1.00  0.00           H  \nTER    3309      HOH X   0\nATOM   3310  O1x HOH X   0      12.727  21.196  18.500  1.00  0.00           O  \nATOM   3311  H1x HOH X   0      11.801  21.229  18.741  1.00  0.00           H  \nATOM   3312  H2x HOH X   0      12.890  22.031  18.062  1.00  0.00           H  \nTER    3313      HOH X   0\nATOM   3314  O1x HOH X   0      15.426  10.650  31.552  1.00  0.00           O  \nATOM   3315  H1x HOH X   0      14.570  10.734  31.132  1.00  0.00           H  \nATOM   3316  H2x HOH X   0      15.237  10.692  32.490  1.00  0.00           H  \nTER    3317      HOH X   0\nATOM   3318  O1x HOH X   0      22.074  29.596  23.404  1.00  0.00           O  \nATOM   3319  H1x HOH X   0      22.640  29.783  24.153  1.00  0.00           H  \nATOM   3320  H2x HOH X   0      22.569  28.965  22.880  1.00  0.00           H  \nTER    3321      HOH X   0\nATOM   3322  O1x HOH X   0      15.199  20.163  32.662  1.00  0.00           O  \nATOM   3323  H1x HOH X   0      15.182  21.055  32.316  1.00  0.00           H  \nATOM   3324  H2x HOH X   0      15.973  19.766  32.263  1.00  0.00           H  \nTER    3325      HOH X   0\nATOM   3326  O1x HOH X   0       0.672   7.272  24.202  1.00  0.00           O  \nATOM   3327  H1x HOH X   0      -0.098   7.214  23.636  1.00  0.00           H  \nATOM   3328  H2x HOH X   0       0.569   6.550  24.822  1.00  0.00           H  \nTER    3329      HOH X   0\nATOM   3330  O1x HOH X   0       6.342  29.909  32.275  1.00  0.00           O  \nATOM   3331  H1x HOH X   0       5.422  30.157  32.191  1.00  0.00           H  \nATOM   3332  H2x HOH X   0       6.824  30.729  32.165  1.00  0.00           H  \nTER    3333      HOH X   0\nATOM   3334  O1x HOH X   0      26.157  19.041  25.364  1.00  0.00           O  \nATOM   3335  H1x HOH X   0      26.640  18.326  25.778  1.00  0.00           H  \nATOM   3336  H2x HOH X   0      26.836  19.617  25.013  1.00  0.00           H  \nTER    3337      HOH X   0\nATOM   3338  O1x HOH X   0       1.344   1.862   7.313  1.00  0.00           O  \nATOM   3339  H1x HOH X   0       0.436   1.734   7.038  1.00  0.00           H  \nATOM   3340  H2x HOH X   0       1.860   1.679   6.528  1.00  0.00           H  \nTER    3341      HOH X   0\nATOM   3342  O1x HOH X   0      19.245   1.933  31.871  1.00  0.00           O  \nATOM   3343  H1x HOH X   0      19.438   1.011  32.044  1.00  0.00           H  \nATOM   3344  H2x HOH X   0      20.041   2.272  31.462  1.00  0.00           H  \nTER    3345      HOH X   0\nATOM   3346  O1x HOH X   0      27.320   9.177   9.488  1.00  0.00           O  \nATOM   3347  H1x HOH X   0      27.418   8.225   9.482  1.00  0.00           H  \nATOM   3348  H2x HOH X   0      27.894   9.481   8.784  1.00  0.00           H  \nTER    3349      HOH X   0\nATOM   3350  O1x HOH X   0       3.475   1.680  16.333  1.00  0.00           O  \nATOM   3351  H1x HOH X   0       2.671   1.171  16.236  1.00  0.00           H  \nATOM   3352  H2x HOH X   0       3.871   1.351  17.141  1.00  0.00           H  \nTER    3353      HOH X   0\nATOM   3354  O1x HOH X   0      32.162  21.667   4.631  1.00  0.00           O  \nATOM   3355  H1x HOH X   0      31.352  21.157   4.605  1.00  0.00           H  \nATOM   3356  H2x HOH X   0      32.363  21.752   5.563  1.00  0.00           H  \nTER    3357      HOH X   0\nATOM   3358  O1x HOH X   0      17.300   5.756   4.628  1.00  0.00           O  \nATOM   3359  H1x HOH X   0      17.478   6.122   5.495  1.00  0.00           H  \nATOM   3360  H2x HOH X   0      17.942   6.175   4.054  1.00  0.00           H  \nTER    3361      HOH X   0\nATOM   3362  O1x HOH X   0      18.216  32.988  23.183  1.00  0.00           O  \nATOM   3363  H1x HOH X   0      18.060  33.927  23.080  1.00  0.00           H  \nATOM   3364  H2x HOH X   0      17.374  32.581  22.975  1.00  0.00           H  \nTER    3365      HOH X   0\nATOM   3366  O1x HOH X   0      25.929  29.660   2.906  1.00  0.00           O  \nATOM   3367  H1x HOH X   0      25.449  30.381   3.314  1.00  0.00           H  \nATOM   3368  H2x HOH X   0      26.830  29.769   3.210  1.00  0.00           H  \nTER    3369      HOH X   0\nATOM   3370  O1x HOH X   0      21.174   9.520  17.868  1.00  0.00           O  \nATOM   3371  H1x HOH X   0      21.216   9.988  17.034  1.00  0.00           H  \nATOM   3372  H2x HOH X   0      21.552   8.661  17.681  1.00  0.00           H  \nTER    3373      HOH X   0\nATOM   3374  O1x HOH X   0      19.504  24.631   1.406  1.00  0.00           O  \nATOM   3375  H1x HOH X   0      19.398  24.870   2.326  1.00  0.00           H  \nATOM   3376  H2x HOH X   0      20.437  24.757   1.231  1.00  0.00           H  \nTER    3377      HOH X   0\nATOM   3378  O1x HOH X   0       1.892  24.110   3.033  1.00  0.00           O  \nATOM   3379  H1x HOH X   0       1.175  23.903   2.434  1.00  0.00           H  \nATOM   3380  H2x HOH X   0       2.514  23.392   2.920  1.00  0.00           H  \nTER    3381      HOH X   0\nATOM   3382  O1x HOH X   0      15.908   5.997  23.056  1.00  0.00           O  \nATOM   3383  H1x HOH X   0      15.673   6.333  23.922  1.00  0.00           H  \nATOM   3384  H2x HOH X   0      16.192   5.097  23.217  1.00  0.00           H  \nTER    3385      HOH X   0\nATOM   3386  O1x HOH X   0       4.422  11.201  23.288  1.00  0.00           O  \nATOM   3387  H1x HOH X   0       4.711  10.893  24.147  1.00  0.00           H  \nATOM   3388  H2x HOH X   0       3.568  10.789  23.160  1.00  0.00           H  \nTER    3389      HOH X   0\nATOM   3390  O1x HOH X   0      28.602  22.520   2.091  1.00  0.00           O  \nATOM   3391  H1x HOH X   0      27.659  22.619   2.223  1.00  0.00           H  \nATOM   3392  H2x HOH X   0      28.898  23.388   1.817  1.00  0.00           H  \nTER    3393      HOH X   0\nATOM   3394  O1x HOH X   0      12.302   4.572   2.888  1.00  0.00           O  \nATOM   3395  H1x HOH X   0      12.024   3.826   2.357  1.00  0.00           H  \nATOM   3396  H2x HOH X   0      13.058   4.248   3.378  1.00  0.00           H  \nTER    3397      HOH X   0\nATOM   3398  O1x HOH X   0      22.789   9.051  33.437  1.00  0.00           O  \nATOM   3399  H1x HOH X   0      21.958   8.622  33.641  1.00  0.00           H  \nATOM   3400  H2x HOH X   0      22.548   9.954  33.229  1.00  0.00           H  \nTER    3401      HOH X   0\nATOM   3402  O1x HOH X   0      13.381  10.297  30.092  1.00  0.00           O  \nATOM   3403  H1x HOH X   0      13.162  10.564  29.199  1.00  0.00           H  \nATOM   3404  H2x HOH X   0      13.451   9.344  30.046  1.00  0.00           H  \nTER    3405      HOH X   0\nATOM   3406  O1x HOH X   0      15.310  20.914  22.896  1.00  0.00           O  \nATOM   3407  H1x HOH X   0      15.092  21.828  22.711  1.00  0.00           H  \nATOM   3408  H2x HOH X   0      16.190  20.948  23.271  1.00  0.00           H  \nTER    3409      HOH X   0\nATOM   3410  O1x HOH X   0      32.711  20.188   0.703  1.00  0.00           O  \nATOM   3411  H1x HOH X   0      33.245  20.878   0.311  1.00  0.00           H  \nATOM   3412  H2x HOH X   0      32.387  19.682  -0.042  1.00  0.00           H  \nTER    3413      HOH X   0\nATOM   3414  O1x HOH X   0       4.059  30.774   7.241  1.00  0.00           O  \nATOM   3415  H1x HOH X   0       4.198  29.845   7.056  1.00  0.00           H  \nATOM   3416  H2x HOH X   0       4.148  30.845   8.191  1.00  0.00           H  \nTER    3417      HOH X   0\nATOM   3418  O1x HOH X   0      28.687  34.305  29.412  1.00  0.00           O  \nATOM   3419  H1x HOH X   0      28.614  33.479  28.935  1.00  0.00           H  \nATOM   3420  H2x HOH X   0      28.724  34.974  28.729  1.00  0.00           H  \nTER    3421      HOH X   0\nATOM   3422  O1x HOH X   0      33.949   4.784  21.319  1.00  0.00           O  \nATOM   3423  H1x HOH X   0      34.395   4.057  20.884  1.00  0.00           H  \nATOM   3424  H2x HOH X   0      33.256   4.368  21.831  1.00  0.00           H  \nTER    3425      HOH X   0\nATOM   3426  O1x HOH X   0       7.647  16.857   2.995  1.00  0.00           O  \nATOM   3427  H1x HOH X   0       7.332  17.760   3.013  1.00  0.00           H  \nATOM   3428  H2x HOH X   0       7.728  16.612   3.916  1.00  0.00           H  \nTER    3429      HOH X   0\nATOM   3430  O1x HOH X   0      26.664  14.311  21.350  1.00  0.00           O  \nATOM   3431  H1x HOH X   0      26.233  14.026  22.155  1.00  0.00           H  \nATOM   3432  H2x HOH X   0      25.953  14.405  20.717  1.00  0.00           H  \nTER    3433      HOH X   0\nATOM   3434  O1x HOH X   0      15.091   9.646  23.503  1.00  0.00           O  \nATOM   3435  H1x HOH X   0      14.863  10.550  23.719  1.00  0.00           H  \nATOM   3436  H2x HOH X   0      15.404   9.274  24.327  1.00  0.00           H  \nTER    3437      HOH X   0\nATOM   3438  O1x HOH X   0      32.726  29.811  33.190  1.00  0.00           O  \nATOM   3439  H1x HOH X   0      33.116  29.191  33.807  1.00  0.00           H  \nATOM   3440  H2x HOH X   0      33.323  30.559  33.192  1.00  0.00           H  \nTER    3441      HOH X   0\nATOM   3442  O1x HOH X   0      22.230  13.648   4.931  1.00  0.00           O  \nATOM   3443  H1x HOH X   0      21.315  13.415   5.086  1.00  0.00           H  \nATOM   3444  H2x HOH X   0      22.340  14.494   5.364  1.00  0.00           H  \nTER    3445      HOH X   0\nATOM   3446  O1x HOH X   0      23.052   3.572  27.003  1.00  0.00           O  \nATOM   3447  H1x HOH X   0      22.505   3.540  27.788  1.00  0.00           H  \nATOM   3448  H2x HOH X   0      23.929   3.770  27.331  1.00  0.00           H  \nTER    3449      HOH X   0\nATOM   3450  O1x HOH X   0      15.284  14.351  22.799  1.00  0.00           O  \nATOM   3451  H1x HOH X   0      16.141  14.725  22.593  1.00  0.00           H  \nATOM   3452  H2x HOH X   0      15.417  13.405  22.750  1.00  0.00           H  \nTER    3453      HOH X   0\nATOM   3454  O1x HOH X   0      11.835  18.440   5.448  1.00  0.00           O  \nATOM   3455  H1x HOH X   0      10.897  18.592   5.564  1.00  0.00           H  \nATOM   3456  H2x HOH X   0      12.253  19.202   5.849  1.00  0.00           H  \nTER    3457      HOH X   0\nATOM   3458  O1x HOH X   0      27.212  23.336  34.431  1.00  0.00           O  \nATOM   3459  H1x HOH X   0      26.951  22.711  35.107  1.00  0.00           H  \nATOM   3460  H2x HOH X   0      27.699  24.011  34.905  1.00  0.00           H  \nTER    3461      HOH X   0\nATOM   3462  O1x HOH X   0      12.588   6.783  24.406  1.00  0.00           O  \nATOM   3463  H1x HOH X   0      13.262   6.594  23.752  1.00  0.00           H  \nATOM   3464  H2x HOH X   0      12.096   7.517  24.037  1.00  0.00           H  \nTER    3465      HOH X   0\nATOM   3466  O1x HOH X   0       4.133  22.168   8.547  1.00  0.00           O  \nATOM   3467  H1x HOH X   0       4.095  23.040   8.942  1.00  0.00           H  \nATOM   3468  H2x HOH X   0       3.670  22.261   7.715  1.00  0.00           H  \nTER    3469      HOH X   0\nATOM   3470  O1x HOH X   0      29.804  20.399  12.928  1.00  0.00           O  \nATOM   3471  H1x HOH X   0      29.945  19.554  13.354  1.00  0.00           H  \nATOM   3472  H2x HOH X   0      30.003  21.045  13.606  1.00  0.00           H  \nTER    3473      HOH X   0\nATOM   3474  O1x HOH X   0      24.529  18.696  19.295  1.00  0.00           O  \nATOM   3475  H1x HOH X   0      23.782  19.276  19.148  1.00  0.00           H  \nATOM   3476  H2x HOH X   0      25.112  19.196  19.866  1.00  0.00           H  \nTER    3477      HOH X   0\nATOM   3478  O1x HOH X   0      21.734  15.506  18.468  1.00  0.00           O  \nATOM   3479  H1x HOH X   0      20.893  15.150  18.179  1.00  0.00           H  \nATOM   3480  H2x HOH X   0      22.301  15.435  17.700  1.00  0.00           H  \nTER    3481      HOH X   0\nATOM   3482  O1x HOH X   0      26.079  16.703  18.162  1.00  0.00           O  \nATOM   3483  H1x HOH X   0      26.606  17.011  18.899  1.00  0.00           H  \nATOM   3484  H2x HOH X   0      25.245  17.165  18.254  1.00  0.00           H  \nTER    3485      HOH X   0\nATOM   3486  O1x HOH X   0       9.807  25.950   9.250  1.00  0.00           O  \nATOM   3487  H1x HOH X   0       9.545  26.047  10.166  1.00  0.00           H  \nATOM   3488  H2x HOH X   0       9.602  26.796   8.851  1.00  0.00           H  \nTER    3489      HOH X   0\nATOM   3490  O1x HOH X   0      34.296  31.313  15.140  1.00  0.00           O  \nATOM   3491  H1x HOH X   0      34.214  30.528  15.681  1.00  0.00           H  \nATOM   3492  H2x HOH X   0      35.212  31.575  15.234  1.00  0.00           H  \nTER    3493      HOH X   0\nATOM   3494  O1x HOH X   0      28.971   5.680  30.605  1.00  0.00           O  \nATOM   3495  H1x HOH X   0      28.685   6.264  29.903  1.00  0.00           H  \nATOM   3496  H2x HOH X   0      28.717   4.806  30.309  1.00  0.00           H  \nTER    3497      HOH X   0\nATOM   3498  O1x HOH X   0      28.202  11.611   6.722  1.00  0.00           O  \nATOM   3499  H1x HOH X   0      29.148  11.618   6.580  1.00  0.00           H  \nATOM   3500  H2x HOH X   0      28.012  12.462   7.118  1.00  0.00           H  \nTER    3501      HOH X   0\nATOM   3502  O1x HOH X   0       8.843  19.411  25.115  1.00  0.00           O  \nATOM   3503  H1x HOH X   0       8.600  20.123  25.706  1.00  0.00           H  \nATOM   3504  H2x HOH X   0       9.076  19.848  24.296  1.00  0.00           H  \nTER    3505      HOH X   0\nATOM   3506  O1x HOH X   0       5.651  28.015  26.289  1.00  0.00           O  \nATOM   3507  H1x HOH X   0       6.231  27.262  26.179  1.00  0.00           H  \nATOM   3508  H2x HOH X   0       5.039  27.749  26.975  1.00  0.00           H  \nTER    3509      HOH X   0\nATOM   3510  O1x HOH X   0      21.804  16.544   5.584  1.00  0.00           O  \nATOM   3511  H1x HOH X   0      22.590  17.072   5.446  1.00  0.00           H  \nATOM   3512  H2x HOH X   0      21.403  16.912   6.371  1.00  0.00           H  \nTER    3513      HOH X   0\nATOM   3514  O1x HOH X   0       2.665  34.434  22.634  1.00  0.00           O  \nATOM   3515  H1x HOH X   0       1.733  34.642  22.569  1.00  0.00           H  \nATOM   3516  H2x HOH X   0       2.693  33.604  23.111  1.00  0.00           H  \nTER    3517      HOH X   0\nATOM   3518  O1x HOH X   0       5.788  28.765  19.710  1.00  0.00           O  \nATOM   3519  H1x HOH X   0       6.511  28.146  19.811  1.00  0.00           H  \nATOM   3520  H2x HOH X   0       5.028  28.216  19.516  1.00  0.00           H  \nTER    3521      HOH X   0\nATOM   3522  O1x HOH X   0      29.416   9.221   5.241  1.00  0.00           O  \nATOM   3523  H1x HOH X   0      28.905   8.514   5.636  1.00  0.00           H  \nATOM   3524  H2x HOH X   0      29.174  10.000   5.743  1.00  0.00           H  \nTER    3525      HOH X   0\nATOM   3526  O1x HOH X   0       8.209  24.441   0.083  1.00  0.00           O  \nATOM   3527  H1x HOH X   0       8.765  24.935   0.685  1.00  0.00           H  \nATOM   3528  H2x HOH X   0       7.387  24.929   0.060  1.00  0.00           H  \nTER    3529      HOH X   0\nATOM   3530  O1x HOH X   0      13.500  22.590  10.638  1.00  0.00           O  \nATOM   3531  H1x HOH X   0      13.640  21.692  10.338  1.00  0.00           H  \nATOM   3532  H2x HOH X   0      13.640  23.128   9.859  1.00  0.00           H  \nTER    3533      HOH X   0\nATOM   3534  O1x HOH X   0       2.941  21.082  28.261  1.00  0.00           O  \nATOM   3535  H1x HOH X   0       2.906  20.127  28.218  1.00  0.00           H  \nATOM   3536  H2x HOH X   0       3.736  21.316  27.782  1.00  0.00           H  \nTER    3537      HOH X   0\nATOM   3538  O1x HOH X   0      21.966   0.882   6.521  1.00  0.00           O  \nATOM   3539  H1x HOH X   0      21.850   1.831   6.552  1.00  0.00           H  \nATOM   3540  H2x HOH X   0      22.874   0.759   6.245  1.00  0.00           H  \nTER    3541      HOH X   0\nATOM   3542  O1x HOH X   0      20.651   8.573  10.899  1.00  0.00           O  \nATOM   3543  H1x HOH X   0      20.753   8.932  10.017  1.00  0.00           H  \nATOM   3544  H2x HOH X   0      20.173   7.753  10.771  1.00  0.00           H  \nTER    3545      HOH X   0\nATOM   3546  O1x HOH X   0      11.920  32.466  20.976  1.00  0.00           O  \nATOM   3547  H1x HOH X   0      12.170  31.848  20.289  1.00  0.00           H  \nATOM   3548  H2x HOH X   0      11.302  31.980  21.522  1.00  0.00           H  \nTER    3549      HOH X   0\nATOM   3550  O1x HOH X   0       9.489  16.011  22.472  1.00  0.00           O  \nATOM   3551  H1x HOH X   0       9.551  16.549  21.682  1.00  0.00           H  \nATOM   3552  H2x HOH X   0      10.197  15.372  22.383  1.00  0.00           H  \nTER    3553      HOH X   0\nATOM   3554  O1x HOH X   0      30.664  31.083   2.252  1.00  0.00           O  \nATOM   3555  H1x HOH X   0      31.109  31.732   2.798  1.00  0.00           H  \nATOM   3556  H2x HOH X   0      31.348  30.455   2.021  1.00  0.00           H  \nTER    3557      HOH X   0\nATOM   3558  O1x HOH X   0      28.446   3.957   3.066  1.00  0.00           O  \nATOM   3559  H1x HOH X   0      28.534   4.902   3.195  1.00  0.00           H  \nATOM   3560  H2x HOH X   0      29.336   3.656   2.884  1.00  0.00           H  \nTER    3561      HOH X   0\nATOM   3562  O1x HOH X   0      32.290  13.285  26.498  1.00  0.00           O  \nATOM   3563  H1x HOH X   0      32.396  13.476  27.430  1.00  0.00           H  \nATOM   3564  H2x HOH X   0      33.023  13.734  26.076  1.00  0.00           H  \nTER    3565      HOH X   0\nATOM   3566  O1x HOH X   0      14.021  31.132  24.217  1.00  0.00           O  \nATOM   3567  H1x HOH X   0      13.184  30.688  24.349  1.00  0.00           H  \nATOM   3568  H2x HOH X   0      14.666  30.426  24.185  1.00  0.00           H  \nTER    3569      HOH X   0\nATOM   3570  O1x HOH X   0      20.323  32.562   6.832  1.00  0.00           O  \nATOM   3571  H1x HOH X   0      21.189  32.355   6.482  1.00  0.00           H  \nATOM   3572  H2x HOH X   0      20.280  32.089   7.663  1.00  0.00           H  \nTER    3573      HOH X   0\nATOM   3574  O1x HOH X   0       3.781   4.565  26.653  1.00  0.00           O  \nATOM   3575  H1x HOH X   0       2.877   4.789  26.432  1.00  0.00           H  \nATOM   3576  H2x HOH X   0       3.767   3.618  26.790  1.00  0.00           H  \nTER    3577      HOH X   0\nATOM   3578  O1x HOH X   0      26.262   3.594  14.032  1.00  0.00           O  \nATOM   3579  H1x HOH X   0      26.446   3.279  13.147  1.00  0.00           H  \nATOM   3580  H2x HOH X   0      26.334   2.815  14.583  1.00  0.00           H  \nTER    3581      HOH X   0\nATOM   3582  O1x HOH X   0       2.507   2.098   9.852  1.00  0.00           O  \nATOM   3583  H1x HOH X   0       2.689   1.162   9.928  1.00  0.00           H  \nATOM   3584  H2x HOH X   0       2.032   2.184   9.026  1.00  0.00           H  \nTER    3585      HOH X   0\nATOM   3586  O1x HOH X   0       7.962   6.731  23.675  1.00  0.00           O  \nATOM   3587  H1x HOH X   0       7.551   6.777  24.538  1.00  0.00           H  \nATOM   3588  H2x HOH X   0       7.386   6.161  23.166  1.00  0.00           H  \nTER    3589      HOH X   0\nATOM   3590  O1x HOH X   0      33.175  21.920   7.169  1.00  0.00           O  \nATOM   3591  H1x HOH X   0      33.415  22.337   7.997  1.00  0.00           H  \nATOM   3592  H2x HOH X   0      33.906  22.114   6.582  1.00  0.00           H  \nTER    3593      HOH X   0\nATOM   3594  O1x HOH X   0       8.852  27.460  18.895  1.00  0.00           O  \nATOM   3595  H1x HOH X   0       8.189  26.827  19.170  1.00  0.00           H  \nATOM   3596  H2x HOH X   0       9.499  26.939  18.419  1.00  0.00           H  \nTER    3597      HOH X   0\nATOM   3598  O1x HOH X   0      21.076   6.298  33.698  1.00  0.00           O  \nATOM   3599  H1x HOH X   0      20.141   6.450  33.558  1.00  0.00           H  \nATOM   3600  H2x HOH X   0      21.411   6.056  32.834  1.00  0.00           H  \nTER    3601      HOH X   0\nATOM   3602  O1x HOH X   0       8.332  27.258  24.618  1.00  0.00           O  \nATOM   3603  H1x HOH X   0       8.409  28.112  25.042  1.00  0.00           H  \nATOM   3604  H2x HOH X   0       9.089  27.210  24.034  1.00  0.00           H  \nTER    3605      HOH X   0\nATOM   3606  O1x HOH X   0       4.607  10.947  11.328  1.00  0.00           O  \nATOM   3607  H1x HOH X   0       4.540  10.997  10.374  1.00  0.00           H  \nATOM   3608  H2x HOH X   0       4.862  10.041  11.503  1.00  0.00           H  \nTER    3609      HOH X   0\nATOM   3610  O1x HOH X   0      21.011  34.999   9.261  1.00  0.00           O  \nATOM   3611  H1x HOH X   0      21.770  34.527   9.604  1.00  0.00           H  \nATOM   3612  H2x HOH X   0      21.278  35.278   8.386  1.00  0.00           H  \nTER    3613      HOH X   0\nATOM   3614  O1x HOH X   0      34.254  21.107  18.104  1.00  0.00           O  \nATOM   3615  H1x HOH X   0      33.986  21.627  17.346  1.00  0.00           H  \nATOM   3616  H2x HOH X   0      35.183  20.929  17.957  1.00  0.00           H  \nTER    3617      HOH X   0\nATOM   3618  O1x HOH X   0       7.712  14.990  24.210  1.00  0.00           O  \nATOM   3619  H1x HOH X   0       8.351  15.472  23.685  1.00  0.00           H  \nATOM   3620  H2x HOH X   0       8.144  14.161  24.412  1.00  0.00           H  \nTER    3621      HOH X   0\nATOM   3622  O1x HOH X   0      30.292  34.152  13.578  1.00  0.00           O  \nATOM   3623  H1x HOH X   0      30.707  34.703  14.241  1.00  0.00           H  \nATOM   3624  H2x HOH X   0      30.299  34.685  12.783  1.00  0.00           H  \nTER    3625      HOH X   0\nATOM   3626  O1x HOH X   0       8.256  31.354   6.972  1.00  0.00           O  \nATOM   3627  H1x HOH X   0       7.854  31.239   6.111  1.00  0.00           H  \nATOM   3628  H2x HOH X   0       8.646  30.503   7.171  1.00  0.00           H  \nTER    3629      HOH X   0\nATOM   3630  O1x HOH X   0      22.459   6.846  26.105  1.00  0.00           O  \nATOM   3631  H1x HOH X   0      22.488   6.000  26.553  1.00  0.00           H  \nATOM   3632  H2x HOH X   0      22.445   6.623  25.174  1.00  0.00           H  \nTER    3633      HOH X   0\nATOM   3634  O1x HOH X   0       5.601   2.370   5.554  1.00  0.00           O  \nATOM   3635  H1x HOH X   0       6.522   2.204   5.751  1.00  0.00           H  \nATOM   3636  H2x HOH X   0       5.406   3.196   5.997  1.00  0.00           H  \nTER    3637      HOH X   0\nATOM   3638  O1x HOH X   0      27.416   3.344  29.430  1.00  0.00           O  \nATOM   3639  H1x HOH X   0      26.705   3.962  29.263  1.00  0.00           H  \nATOM   3640  H2x HOH X   0      27.448   2.796  28.646  1.00  0.00           H  \nTER    3641      HOH X   0\nATOM   3642  O1x HOH X   0      31.632  20.389  32.381  1.00  0.00           O  \nATOM   3643  H1x HOH X   0      30.799  20.105  32.757  1.00  0.00           H  \nATOM   3644  H2x HOH X   0      31.989  19.602  31.968  1.00  0.00           H  \nTER    3645      HOH X   0\nATOM   3646  O1x HOH X   0      23.600  13.107  26.419  1.00  0.00           O  \nATOM   3647  H1x HOH X   0      24.453  13.227  26.837  1.00  0.00           H  \nATOM   3648  H2x HOH X   0      23.566  12.175  26.205  1.00  0.00           H  \nTER    3649      HOH X   0\nATOM   3650  O1x HOH X   0       7.464  18.408  13.712  1.00  0.00           O  \nATOM   3651  H1x HOH X   0       7.494  17.472  13.514  1.00  0.00           H  \nATOM   3652  H2x HOH X   0       6.558  18.663  13.535  1.00  0.00           H  \nTER    3653      HOH X   0\nATOM   3654  O1x HOH X   0      30.511  24.183   0.509  1.00  0.00           O  \nATOM   3655  H1x HOH X   0      31.329  24.169   1.007  1.00  0.00           H  \nATOM   3656  H2x HOH X   0      30.742  23.811  -0.342  1.00  0.00           H  \nTER    3657      HOH X   0\nATOM   3658  O1x HOH X   0       4.884  -0.209  10.797  1.00  0.00           O  \nATOM   3659  H1x HOH X   0       4.084   0.003  10.317  1.00  0.00           H  \nATOM   3660  H2x HOH X   0       5.500   0.482  10.555  1.00  0.00           H  \nTER    3661      HOH X   0\nATOM   3662  O1x HOH X   0      19.157   7.069   2.732  1.00  0.00           O  \nATOM   3663  H1x HOH X   0      19.916   7.120   2.151  1.00  0.00           H  \nATOM   3664  H2x HOH X   0      18.850   7.973   2.804  1.00  0.00           H  \nTER    3665      HOH X   0\nATOM   3666  O1x HOH X   0       7.037  16.771  30.848  1.00  0.00           O  \nATOM   3667  H1x HOH X   0       7.737  16.282  31.282  1.00  0.00           H  \nATOM   3668  H2x HOH X   0       7.014  16.418  29.959  1.00  0.00           H  \nTER    3669      HOH X   0\nATOM   3670  O1x HOH X   0       2.846  31.216  29.664  1.00  0.00           O  \nATOM   3671  H1x HOH X   0       3.520  30.597  29.946  1.00  0.00           H  \nATOM   3672  H2x HOH X   0       3.067  32.031  30.114  1.00  0.00           H  \nTER    3673      HOH X   0\nATOM   3674  O1x HOH X   0       9.592  34.013  23.146  1.00  0.00           O  \nATOM   3675  H1x HOH X   0      10.535  34.117  23.271  1.00  0.00           H  \nATOM   3676  H2x HOH X   0       9.404  34.483  22.334  1.00  0.00           H  \nTER    3677      HOH X   0\nATOM   3678  O1x HOH X   0      11.399  18.726   2.608  1.00  0.00           O  \nATOM   3679  H1x HOH X   0      10.469  18.945   2.669  1.00  0.00           H  \nATOM   3680  H2x HOH X   0      11.695  18.678   3.517  1.00  0.00           H  \nTER    3681      HOH X   0\nATOM   3682  O1x HOH X   0       5.306  31.733  15.563  1.00  0.00           O  \nATOM   3683  H1x HOH X   0       6.044  32.178  15.981  1.00  0.00           H  \nATOM   3684  H2x HOH X   0       4.848  31.300  16.283  1.00  0.00           H  \nTER    3685      HOH X   0\nATOM   3686  O1x HOH X   0      30.956  13.240  22.373  1.00  0.00           O  \nATOM   3687  H1x HOH X   0      31.903  13.107  22.417  1.00  0.00           H  \nATOM   3688  H2x HOH X   0      30.846  13.994  21.794  1.00  0.00           H  \nTER    3689      HOH X   0\nATOM   3690  O1x HOH X   0      11.591  11.516  20.396  1.00  0.00           O  \nATOM   3691  H1x HOH X   0      11.617  11.512  19.439  1.00  0.00           H  \nATOM   3692  H2x HOH X   0      11.239  10.657  20.630  1.00  0.00           H  \nTER    3693      HOH X   0\nATOM   3694  O1x HOH X   0      20.917  11.764  14.876  1.00  0.00           O  \nATOM   3695  H1x HOH X   0      20.366  11.494  14.141  1.00  0.00           H  \nATOM   3696  H2x HOH X   0      21.804  11.518  14.614  1.00  0.00           H  \nTER    3697      HOH X   0\nATOM   3698  O1x HOH X   0      30.102  34.033  24.831  1.00  0.00           O  \nATOM   3699  H1x HOH X   0      30.388  33.202  24.450  1.00  0.00           H  \nATOM   3700  H2x HOH X   0      30.893  34.403  25.222  1.00  0.00           H  \nTER    3701      HOH X   0\nATOM   3702  O1x HOH X   0      11.797  14.099  27.885  1.00  0.00           O  \nATOM   3703  H1x HOH X   0      11.155  14.463  27.275  1.00  0.00           H  \nATOM   3704  H2x HOH X   0      11.958  14.804  28.512  1.00  0.00           H  \nTER    3705      HOH X   0\nATOM   3706  O1x HOH X   0       0.656  21.824  11.746  1.00  0.00           O  \nATOM   3707  H1x HOH X   0       0.754  22.453  12.462  1.00  0.00           H  \nATOM   3708  H2x HOH X   0       0.326  22.344  11.013  1.00  0.00           H  \nTER    3709      HOH X   0\nATOM   3710  O1x HOH X   0      17.741  24.011  27.447  1.00  0.00           O  \nATOM   3711  H1x HOH X   0      18.539  24.527  27.328  1.00  0.00           H  \nATOM   3712  H2x HOH X   0      18.052  23.114  27.574  1.00  0.00           H  \nTER    3713      HOH X   0\nATOM   3714  O1x HOH X   0      26.128  27.558  14.916  1.00  0.00           O  \nATOM   3715  H1x HOH X   0      26.137  28.025  14.081  1.00  0.00           H  \nATOM   3716  H2x HOH X   0      26.001  26.640  14.676  1.00  0.00           H  \nTER    3717      HOH X   0\nATOM   3718  O1x HOH X   0      26.260   1.158  18.336  1.00  0.00           O  \nATOM   3719  H1x HOH X   0      26.983   0.722  18.787  1.00  0.00           H  \nATOM   3720  H2x HOH X   0      25.676   1.443  19.038  1.00  0.00           H  \nTER    3721      HOH X   0\nATOM   3722  O1x HOH X   0      33.111   8.448  34.658  1.00  0.00           O  \nATOM   3723  H1x HOH X   0      33.822   9.087  34.715  1.00  0.00           H  \nATOM   3724  H2x HOH X   0      33.054   8.235  33.727  1.00  0.00           H  \nTER    3725      HOH X   0\nATOM   3726  O1x HOH X   0      32.206  25.264  33.006  1.00  0.00           O  \nATOM   3727  H1x HOH X   0      31.543  25.354  32.321  1.00  0.00           H  \nATOM   3728  H2x HOH X   0      32.518  24.363  32.921  1.00  0.00           H  \nTER    3729      HOH X   0\nATOM   3730  O1x HOH X   0      25.397  34.469   7.854  1.00  0.00           O  \nATOM   3731  H1x HOH X   0      25.222  34.972   7.059  1.00  0.00           H  \nATOM   3732  H2x HOH X   0      25.740  33.633   7.539  1.00  0.00           H  \nTER    3733      HOH X   0\nATOM   3734  O1x HOH X   0      29.681  34.187   1.994  1.00  0.00           O  \nATOM   3735  H1x HOH X   0      29.327  33.354   1.682  1.00  0.00           H  \nATOM   3736  H2x HOH X   0      28.909  34.728   2.159  1.00  0.00           H  \nTER    3737      HOH X   0\nATOM   3738  O1x HOH X   0      15.577   2.828  11.301  1.00  0.00           O  \nATOM   3739  H1x HOH X   0      16.017   3.348  11.974  1.00  0.00           H  \nATOM   3740  H2x HOH X   0      16.170   2.856  10.550  1.00  0.00           H  \nTER    3741      HOH X   0\nATOM   3742  O1x HOH X   0       1.602  23.922  30.836  1.00  0.00           O  \nATOM   3743  H1x HOH X   0       1.635  24.230  29.930  1.00  0.00           H  \nATOM   3744  H2x HOH X   0       2.121  23.118  30.835  1.00  0.00           H  \nTER    3745      HOH X   0\nATOM   3746  O1x HOH X   0      16.176   9.452  12.757  1.00  0.00           O  \nATOM   3747  H1x HOH X   0      16.152   8.921  13.554  1.00  0.00           H  \nATOM   3748  H2x HOH X   0      16.584  10.274  13.029  1.00  0.00           H  \nTER    3749      HOH X   0\nATOM   3750  O1x HOH X   0      11.334  12.648  30.341  1.00  0.00           O  \nATOM   3751  H1x HOH X   0      10.383  12.652  30.226  1.00  0.00           H  \nATOM   3752  H2x HOH X   0      11.664  12.149  29.594  1.00  0.00           H  \nTER    3753      HOH X   0\nATOM   3754  O1x HOH X   0       5.673  25.050  24.430  1.00  0.00           O  \nATOM   3755  H1x HOH X   0       6.153  24.250  24.642  1.00  0.00           H  \nATOM   3756  H2x HOH X   0       6.277  25.759  24.652  1.00  0.00           H  \nTER    3757      HOH X   0\nATOM   3758  O1x HOH X   0      20.807  27.896  11.084  1.00  0.00           O  \nATOM   3759  H1x HOH X   0      20.733  27.183  11.718  1.00  0.00           H  \nATOM   3760  H2x HOH X   0      21.559  27.657  10.541  1.00  0.00           H  \nTER    3761      HOH X   0\nATOM   3762  O1x HOH X   0      28.993  18.028  19.263  1.00  0.00           O  \nATOM   3763  H1x HOH X   0      29.791  18.264  19.735  1.00  0.00           H  \nATOM   3764  H2x HOH X   0      28.295  18.108  19.914  1.00  0.00           H  \nTER    3765      HOH X   0\nATOM   3766  O1x HOH X   0      32.994  29.584  13.231  1.00  0.00           O  \nATOM   3767  H1x HOH X   0      33.022  30.521  13.036  1.00  0.00           H  \nATOM   3768  H2x HOH X   0      33.711  29.446  13.849  1.00  0.00           H  \nTER    3769      HOH X   0\nATOM   3770  O1x HOH X   0       3.262   6.110   4.818  1.00  0.00           O  \nATOM   3771  H1x HOH X   0       3.249   5.645   3.981  1.00  0.00           H  \nATOM   3772  H2x HOH X   0       2.846   5.507   5.434  1.00  0.00           H  \nTER    3773      HOH X   0\nATOM   3774  O1x HOH X   0      22.367   4.246   4.151  1.00  0.00           O  \nATOM   3775  H1x HOH X   0      22.309   4.264   3.196  1.00  0.00           H  \nATOM   3776  H2x HOH X   0      21.477   4.431   4.449  1.00  0.00           H  \nTER    3777      HOH X   0\nATOM   3778  O1x HOH X   0       4.248   6.741  19.476  1.00  0.00           O  \nATOM   3779  H1x HOH X   0       4.211   7.649  19.778  1.00  0.00           H  \nATOM   3780  H2x HOH X   0       3.469   6.638  18.929  1.00  0.00           H  \nTER    3781      HOH X   0\nATOM   3782  O1x HOH X   0      23.333  27.878  15.396  1.00  0.00           O  \nATOM   3783  H1x HOH X   0      24.221  28.046  15.710  1.00  0.00           H  \nATOM   3784  H2x HOH X   0      23.113  27.015  15.748  1.00  0.00           H  \nTER    3785      HOH X   0\nATOM   3786  O1x HOH X   0      20.917  34.594  32.578  1.00  0.00           O  \nATOM   3787  H1x HOH X   0      21.057  33.944  31.890  1.00  0.00           H  \nATOM   3788  H2x HOH X   0      21.378  34.240  33.339  1.00  0.00           H  \nTER    3789      HOH X   0\nATOM   3790  O1x HOH X   0       9.760   9.496   3.502  1.00  0.00           O  \nATOM   3791  H1x HOH X   0       9.550  10.094   4.219  1.00  0.00           H  \nATOM   3792  H2x HOH X   0      10.538   9.876   3.093  1.00  0.00           H  \nTER    3793      HOH X   0\nATOM   3794  O1x HOH X   0      31.066   8.100  19.593  1.00  0.00           O  \nATOM   3795  H1x HOH X   0      31.157   7.306  19.065  1.00  0.00           H  \nATOM   3796  H2x HOH X   0      30.139   8.327  19.527  1.00  0.00           H  \nTER    3797      HOH X   0\nATOM   3798  O1x HOH X   0       6.166  33.613   8.055  1.00  0.00           O  \nATOM   3799  H1x HOH X   0       7.008  33.844   7.662  1.00  0.00           H  \nATOM   3800  H2x HOH X   0       6.320  32.764   8.469  1.00  0.00           H  \nTER    3801      HOH X   0\nATOM   3802  O1x HOH X   0      22.861  13.102  10.738  1.00  0.00           O  \nATOM   3803  H1x HOH X   0      22.067  13.561  10.462  1.00  0.00           H  \nATOM   3804  H2x HOH X   0      23.409  13.784  11.126  1.00  0.00           H  \nTER    3805      HOH X   0\nATOM   3806  O1x HOH X   0       4.705  22.564  13.055  1.00  0.00           O  \nATOM   3807  H1x HOH X   0       4.721  22.334  12.127  1.00  0.00           H  \nATOM   3808  H2x HOH X   0       5.255  21.903  13.476  1.00  0.00           H  \nTER    3809      HOH X   0\nATOM   3810  O1x HOH X   0      19.848   4.928  11.399  1.00  0.00           O  \nATOM   3811  H1x HOH X   0      19.540   4.471  12.181  1.00  0.00           H  \nATOM   3812  H2x HOH X   0      20.566   4.387  11.072  1.00  0.00           H  \nTER    3813      HOH X   0\nATOM   3814  O1x HOH X   0      32.137   6.387  17.516  1.00  0.00           O  \nATOM   3815  H1x HOH X   0      32.150   5.483  17.200  1.00  0.00           H  \nATOM   3816  H2x HOH X   0      31.289   6.728  17.234  1.00  0.00           H  \nTER    3817      HOH X   0\nATOM   3818  O1x HOH X   0      34.676  11.094  34.799  1.00  0.00           O  \nATOM   3819  H1x HOH X   0      34.610  11.784  35.458  1.00  0.00           H  \nATOM   3820  H2x HOH X   0      35.536  11.225  34.399  1.00  0.00           H  \nTER    3821      HOH X   0\nATOM   3822  O1x HOH X   0      30.454   2.395  32.915  1.00  0.00           O  \nATOM   3823  H1x HOH X   0      29.554   2.161  32.687  1.00  0.00           H  \nATOM   3824  H2x HOH X   0      30.365   3.017  33.637  1.00  0.00           H  \nTER    3825      HOH X   0\nATOM   3826  O1x HOH X   0      10.376  26.092   1.254  1.00  0.00           O  \nATOM   3827  H1x HOH X   0      11.201  25.643   1.437  1.00  0.00           H  \nATOM   3828  H2x HOH X   0      10.577  26.674   0.522  1.00  0.00           H  \nTER    3829      HOH X   0\nATOM   3830  O1x HOH X   0      17.090  21.003  10.969  1.00  0.00           O  \nATOM   3831  H1x HOH X   0      17.417  20.251  11.463  1.00  0.00           H  \nATOM   3832  H2x HOH X   0      16.966  21.687  11.627  1.00  0.00           H  \nTER    3833      HOH X   0\nATOM   3834  O1x HOH X   0      27.024  22.923  19.424  1.00  0.00           O  \nATOM   3835  H1x HOH X   0      27.883  22.734  19.802  1.00  0.00           H  \nATOM   3836  H2x HOH X   0      26.746  23.732  19.852  1.00  0.00           H  \nTER    3837      HOH X   0\nATOM   3838  O1x HOH X   0      28.604  17.654   0.846  1.00  0.00           O  \nATOM   3839  H1x HOH X   0      27.796  17.502   1.336  1.00  0.00           H  \nATOM   3840  H2x HOH X   0      29.205  18.037   1.486  1.00  0.00           H  \nTER    3841      HOH X   0\nATOM   3842  O1x HOH X   0      28.391  32.416  27.556  1.00  0.00           O  \nATOM   3843  H1x HOH X   0      28.362  32.736  26.654  1.00  0.00           H  \nATOM   3844  H2x HOH X   0      29.126  31.802  27.569  1.00  0.00           H  \nTER    3845      HOH X   0\nATOM   3846  O1x HOH X   0      32.305  10.861  18.415  1.00  0.00           O  \nATOM   3847  H1x HOH X   0      33.127  10.885  17.925  1.00  0.00           H  \nATOM   3848  H2x HOH X   0      32.486  10.290  19.161  1.00  0.00           H  \nTER    3849      HOH X   0\nATOM   3850  O1x HOH X   0      11.651  15.629  33.982  1.00  0.00           O  \nATOM   3851  H1x HOH X   0      10.748  15.911  34.130  1.00  0.00           H  \nATOM   3852  H2x HOH X   0      12.184  16.279  34.440  1.00  0.00           H  \nTER    3853      HOH X   0\nATOM   3854  O1x HOH X   0      16.189  19.667   0.537  1.00  0.00           O  \nATOM   3855  H1x HOH X   0      16.384  20.597   0.659  1.00  0.00           H  \nATOM   3856  H2x HOH X   0      15.572  19.646  -0.194  1.00  0.00           H  \nTER    3857      HOH X   0\nATOM   3858  O1x HOH X   0      25.378  24.694  14.196  1.00  0.00           O  \nATOM   3859  H1x HOH X   0      25.798  24.101  13.573  1.00  0.00           H  \nATOM   3860  H2x HOH X   0      25.745  24.448  15.046  1.00  0.00           H  \nTER    3861      HOH X   0\nATOM   3862  O1x HOH X   0      34.939  23.815   1.068  1.00  0.00           O  \nATOM   3863  H1x HOH X   0      34.829  24.055   0.148  1.00  0.00           H  \nATOM   3864  H2x HOH X   0      34.108  23.408   1.311  1.00  0.00           H  \nTER    3865      HOH X   0\nATOM   3866  O1x HOH X   0       1.118   8.552  32.930  1.00  0.00           O  \nATOM   3867  H1x HOH X   0       2.037   8.689  32.702  1.00  0.00           H  \nATOM   3868  H2x HOH X   0       0.830   9.393  33.284  1.00  0.00           H  \nTER    3869      HOH X   0\nATOM   3870  O1x HOH X   0      19.713   3.667  18.583  1.00  0.00           O  \nATOM   3871  H1x HOH X   0      19.526   3.781  17.651  1.00  0.00           H  \nATOM   3872  H2x HOH X   0      20.217   4.444  18.824  1.00  0.00           H  \nTER    3873      HOH X   0\nATOM   3874  O1x HOH X   0      10.878   2.125  27.051  1.00  0.00           O  \nATOM   3875  H1x HOH X   0      10.156   1.543  27.287  1.00  0.00           H  \nATOM   3876  H2x HOH X   0      10.469   2.817  26.531  1.00  0.00           H  \nTER    3877      HOH X   0\nATOM   3878  O1x HOH X   0      26.072  13.174  24.488  1.00  0.00           O  \nATOM   3879  H1x HOH X   0      26.780  13.807  24.372  1.00  0.00           H  \nATOM   3880  H2x HOH X   0      25.271  13.685  24.373  1.00  0.00           H  \nTER    3881      HOH X   0\nATOM   3882  O1x HOH X   0      30.102  27.067  25.603  1.00  0.00           O  \nATOM   3883  H1x HOH X   0      29.650  27.653  26.209  1.00  0.00           H  \nATOM   3884  H2x HOH X   0      30.723  26.588  26.150  1.00  0.00           H  \nTER    3885      HOH X   0\nATOM   3886  O1x HOH X   0      10.484  12.504  23.324  1.00  0.00           O  \nATOM   3887  H1x HOH X   0       9.587  12.196  23.454  1.00  0.00           H  \nATOM   3888  H2x HOH X   0      10.766  12.089  22.509  1.00  0.00           H  \nTER    3889      HOH X   0\nATOM   3890  O1x HOH X   0       0.572  16.664  23.263  1.00  0.00           O  \nATOM   3891  H1x HOH X   0      -0.210  17.066  22.885  1.00  0.00           H  \nATOM   3892  H2x HOH X   0       1.140  17.403  23.482  1.00  0.00           H  \nTER    3893      HOH X   0\nATOM   3894  O1x HOH X   0      19.584  30.993   3.537  1.00  0.00           O  \nATOM   3895  H1x HOH X   0      19.753  31.742   4.109  1.00  0.00           H  \nATOM   3896  H2x HOH X   0      18.638  31.010   3.392  1.00  0.00           H  \nTER    3897      HOH X   0\nATOM   3898  O1x HOH X   0       2.529  31.629   1.544  1.00  0.00           O  \nATOM   3899  H1x HOH X   0       3.380  31.562   1.111  1.00  0.00           H  \nATOM   3900  H2x HOH X   0       2.367  32.571   1.612  1.00  0.00           H  \nTER    3901      HOH X   0\nATOM   3902  O1x HOH X   0      16.240  21.870  14.966  1.00  0.00           O  \nATOM   3903  H1x HOH X   0      16.116  21.292  15.719  1.00  0.00           H  \nATOM   3904  H2x HOH X   0      15.876  22.710  15.245  1.00  0.00           H  \nTER    3905      HOH X   0\nATOM   3906  O1x HOH X   0       0.183  22.580  26.970  1.00  0.00           O  \nATOM   3907  H1x HOH X   0       0.770  23.336  26.948  1.00  0.00           H  \nATOM   3908  H2x HOH X   0       0.733  21.858  27.274  1.00  0.00           H  \nTER    3909      HOH X   0\nATOM   3910  O1x HOH X   0      17.713  12.667  24.933  1.00  0.00           O  \nATOM   3911  H1x HOH X   0      18.618  12.799  24.651  1.00  0.00           H  \nATOM   3912  H2x HOH X   0      17.206  13.292  24.414  1.00  0.00           H  \nTER    3913      HOH X   0\nATOM   3914  O1x HOH X   0       4.575  34.267  18.451  1.00  0.00           O  \nATOM   3915  H1x HOH X   0       5.220  33.818  18.999  1.00  0.00           H  \nATOM   3916  H2x HOH X   0       3.735  34.087  18.873  1.00  0.00           H  \nTER    3917      HOH X   0\nATOM   3918  O1x HOH X   0       2.489  33.287  33.728  1.00  0.00           O  \nATOM   3919  H1x HOH X   0       2.679  33.997  34.342  1.00  0.00           H  \nATOM   3920  H2x HOH X   0       1.976  32.660  34.237  1.00  0.00           H  \nTER    3921      HOH X   0\nATOM   3922  O1x HOH X   0      21.088  32.474   1.061  1.00  0.00           O  \nATOM   3923  H1x HOH X   0      21.567  32.439   0.233  1.00  0.00           H  \nATOM   3924  H2x HOH X   0      20.906  31.559   1.274  1.00  0.00           H  \nTER    3925      HOH X   0\nATOM   3926  O1x HOH X   0       3.281  29.959  20.616  1.00  0.00           O  \nATOM   3927  H1x HOH X   0       3.747  30.794  20.564  1.00  0.00           H  \nATOM   3928  H2x HOH X   0       3.944  29.332  20.904  1.00  0.00           H  \nTER    3929      HOH X   0\nATOM   3930  O1x HOH X   0      16.919  31.385   2.365  1.00  0.00           O  \nATOM   3931  H1x HOH X   0      16.001  31.511   2.605  1.00  0.00           H  \nATOM   3932  H2x HOH X   0      16.933  31.477   1.413  1.00  0.00           H  \nTER    3933      HOH X   0\nATOM   3934  O1x HOH X   0      17.394  10.573  20.485  1.00  0.00           O  \nATOM   3935  H1x HOH X   0      16.875  10.222  19.761  1.00  0.00           H  \nATOM   3936  H2x HOH X   0      17.812   9.805  20.874  1.00  0.00           H  \nTER    3937      HOH X   0\nATOM   3938  O1x HOH X   0      34.202  13.748  24.419  1.00  0.00           O  \nATOM   3939  H1x HOH X   0      34.676  14.569  24.286  1.00  0.00           H  \nATOM   3940  H2x HOH X   0      34.887  13.084  24.497  1.00  0.00           H  \nTER    3941      HOH X   0\nATOM   3942  O1x HOH X   0      26.290  33.972  21.501  1.00  0.00           O  \nATOM   3943  H1x HOH X   0      25.556  34.318  20.993  1.00  0.00           H  \nATOM   3944  H2x HOH X   0      26.101  33.038  21.590  1.00  0.00           H  \nTER    3945      HOH X   0\nATOM   3946  O1x HOH X   0      27.980  30.222  30.262  1.00  0.00           O  \nATOM   3947  H1x HOH X   0      27.571  30.564  31.057  1.00  0.00           H  \nATOM   3948  H2x HOH X   0      27.286  30.247  29.604  1.00  0.00           H  \nTER    3949      HOH X   0\nATOM   3950  O1x HOH X   0      13.459   2.085   4.449  1.00  0.00           O  \nATOM   3951  H1x HOH X   0      12.857   2.600   4.986  1.00  0.00           H  \nATOM   3952  H2x HOH X   0      13.049   2.062   3.584  1.00  0.00           H  \nTER    3953      HOH X   0\nATOM   3954  O1x HOH X   0      24.269  23.237   0.874  1.00  0.00           O  \nATOM   3955  H1x HOH X   0      24.330  22.316   1.129  1.00  0.00           H  \nATOM   3956  H2x HOH X   0      23.874  23.219   0.003  1.00  0.00           H  \nTER    3957      HOH X   0\nATOM   3958  O1x HOH X   0      12.103  14.108  17.105  1.00  0.00           O  \nATOM   3959  H1x HOH X   0      11.934  13.167  17.053  1.00  0.00           H  \nATOM   3960  H2x HOH X   0      12.311  14.264  18.026  1.00  0.00           H  \nTER    3961      HOH X   0\nATOM   3962  O1x HOH X   0      26.706  34.505  31.199  1.00  0.00           O  \nATOM   3963  H1x HOH X   0      27.528  34.154  30.854  1.00  0.00           H  \nATOM   3964  H2x HOH X   0      26.945  35.354  31.570  1.00  0.00           H  \nTER    3965      HOH X   0\nATOM   3966  O1x HOH X   0      17.254  31.577  16.384  1.00  0.00           O  \nATOM   3967  H1x HOH X   0      17.049  30.707  16.726  1.00  0.00           H  \nATOM   3968  H2x HOH X   0      16.450  31.860  15.949  1.00  0.00           H  \nTER    3969      HOH X   0\nATOM   3970  O1x HOH X   0       3.669  28.078   9.116  1.00  0.00           O  \nATOM   3971  H1x HOH X   0       2.948  28.639   8.830  1.00  0.00           H  \nATOM   3972  H2x HOH X   0       3.724  28.221  10.061  1.00  0.00           H  \nTER    3973      HOH X   0\nATOM   3974  O1x HOH X   0      17.056  17.364  33.184  1.00  0.00           O  \nATOM   3975  H1x HOH X   0      17.889  16.960  32.941  1.00  0.00           H  \nATOM   3976  H2x HOH X   0      17.110  17.474  34.133  1.00  0.00           H  \nTER    3977      HOH X   0\nATOM   3978  O1x HOH X   0       9.842   8.932   6.778  1.00  0.00           O  \nATOM   3979  H1x HOH X   0      10.466   8.883   6.053  1.00  0.00           H  \nATOM   3980  H2x HOH X   0      10.365   9.220   7.526  1.00  0.00           H  \nTER    3981      HOH X   0\nATOM   3982  O1x HOH X   0       4.406   6.099  23.298  1.00  0.00           O  \nATOM   3983  H1x HOH X   0       3.590   5.956  22.818  1.00  0.00           H  \nATOM   3984  H2x HOH X   0       4.941   5.332  23.096  1.00  0.00           H  \nTER    3985      HOH X   0\nATOM   3986  O1x HOH X   0      33.381   6.828  30.683  1.00  0.00           O  \nATOM   3987  H1x HOH X   0      34.154   6.997  30.146  1.00  0.00           H  \nATOM   3988  H2x HOH X   0      32.802   7.571  30.511  1.00  0.00           H  \nTER    3989      HOH X   0\nATOM   3990  O1x HOH X   0       7.340  21.989   5.845  1.00  0.00           O  \nATOM   3991  H1x HOH X   0       7.870  22.767   6.017  1.00  0.00           H  \nATOM   3992  H2x HOH X   0       7.739  21.303   6.381  1.00  0.00           H  \nTER    3993      HOH X   0\nATOM   3994  O1x HOH X   0      33.880   3.261  15.280  1.00  0.00           O  \nATOM   3995  H1x HOH X   0      34.362   3.200  14.455  1.00  0.00           H  \nATOM   3996  H2x HOH X   0      33.047   3.667  15.041  1.00  0.00           H  \nTER    3997      HOH X   0\nATOM   3998  O1x HOH X   0       0.204  20.004  14.517  1.00  0.00           O  \nATOM   3999  H1x HOH X   0       0.633  19.950  15.371  1.00  0.00           H  \nATOM   4000  H2x HOH X   0       0.836  19.624  13.906  1.00  0.00           H  \nTER    4001      HOH X   0\nATOM   4002  O1x HOH X   0      20.210  21.674   3.921  1.00  0.00           O  \nATOM   4003  H1x HOH X   0      20.391  22.114   3.090  1.00  0.00           H  \nATOM   4004  H2x HOH X   0      20.926  21.945   4.497  1.00  0.00           H  \nTER    4005      HOH X   0\nATOM   4006  O1x HOH X   0       3.871  28.368   0.723  1.00  0.00           O  \nATOM   4007  H1x HOH X   0       3.588  28.722   1.566  1.00  0.00           H  \nATOM   4008  H2x HOH X   0       3.154  27.795   0.451  1.00  0.00           H  \nTER    4009      HOH X   0\nATOM   4010  O1x HOH X   0      12.428  11.949   9.177  1.00  0.00           O  \nATOM   4011  H1x HOH X   0      13.239  11.499   8.941  1.00  0.00           H  \nATOM   4012  H2x HOH X   0      12.565  12.853   8.895  1.00  0.00           H  \nTER    4013      HOH X   0\nCONECT    1    2    7    8    9\nCONECT    2    1    3   10\nCONECT    3    2    4   11\nCONECT    4    3    5    6\nCONECT    5    4\nCONECT    6    4   12\nCONECT    7    1\nCONECT    8    1\nCONECT    9    1\nCONECT   10    2\nCONECT   11    3\nCONECT   12    6\nEND\n",
           "type": "blob"
          }
         ],
         "kwargs": {
          "defaultRepresentation": true,
          "ext": "pdb",
          "name": "nglview.adaptor.MDTrajTrajectory"
         },
         "methodName": "loadFile",
         "reconstruc_color_scheme": false,
         "target": "Stage",
         "type": "call_method"
        },
        {
         "args": [
          "licorice"
         ],
         "component_index": 0,
         "kwargs": {
          "sele": "water"
         },
         "methodName": "addRepresentation",
         "reconstruc_color_scheme": false,
         "target": "compList",
         "type": "call_method"
        }
       ],
       "_ngl_original_stage_parameters": {},
       "_ngl_repr_dict": {},
       "_ngl_serialize": false,
       "_ngl_version": "",
       "_ngl_view_id": [],
       "_player_dict": {},
       "_scene_position": {},
       "_scene_rotation": {},
       "_synced_model_ids": [],
       "_synced_repr_model_ids": [],
       "_view_count": null,
       "_view_height": "",
       "_view_module": "nglview-js-widgets",
       "_view_module_version": "3.1.4",
       "_view_name": "NGLView",
       "_view_width": "",
       "background": "white",
       "frame": 0,
       "gui_style": null,
       "layout": "IPY_MODEL_142f1b52b87d487da4be8916848066f6",
       "max_frame": 70,
       "n_components": 0,
       "picked": {},
       "tabbable": null,
       "tooltip": null
      }
     },
     "9f9f5896f1354c0395670ef95e596cb2": {
      "model_module": "@jupyter-widgets/base",
      "model_module_version": "2.0.0",
      "model_name": "LayoutModel",
      "state": {
       "_model_module": "@jupyter-widgets/base",
       "_model_module_version": "2.0.0",
       "_model_name": "LayoutModel",
       "_view_count": null,
       "_view_module": "@jupyter-widgets/base",
       "_view_module_version": "2.0.0",
       "_view_name": "LayoutView",
       "align_content": null,
       "align_items": null,
       "align_self": null,
       "border_bottom": null,
       "border_left": null,
       "border_right": null,
       "border_top": null,
       "bottom": null,
       "display": null,
       "flex": null,
       "flex_flow": null,
       "grid_area": null,
       "grid_auto_columns": null,
       "grid_auto_flow": null,
       "grid_auto_rows": null,
       "grid_column": null,
       "grid_gap": null,
       "grid_row": null,
       "grid_template_areas": null,
       "grid_template_columns": null,
       "grid_template_rows": null,
       "height": null,
       "justify_content": null,
       "justify_items": null,
       "left": null,
       "margin": null,
       "max_height": null,
       "max_width": null,
       "min_height": null,
       "min_width": null,
       "object_fit": null,
       "object_position": null,
       "order": null,
       "overflow": null,
       "padding": null,
       "right": null,
       "top": null,
       "visibility": null,
       "width": null
      }
     },
     "a4c3a149052c4703b544bbac7cae36ea": {
      "model_module": "@jupyter-widgets/base",
      "model_module_version": "2.0.0",
      "model_name": "LayoutModel",
      "state": {
       "_model_module": "@jupyter-widgets/base",
       "_model_module_version": "2.0.0",
       "_model_name": "LayoutModel",
       "_view_count": null,
       "_view_module": "@jupyter-widgets/base",
       "_view_module_version": "2.0.0",
       "_view_name": "LayoutView",
       "align_content": null,
       "align_items": null,
       "align_self": null,
       "border_bottom": null,
       "border_left": null,
       "border_right": null,
       "border_top": null,
       "bottom": null,
       "display": null,
       "flex": null,
       "flex_flow": null,
       "grid_area": null,
       "grid_auto_columns": null,
       "grid_auto_flow": null,
       "grid_auto_rows": null,
       "grid_column": null,
       "grid_gap": null,
       "grid_row": null,
       "grid_template_areas": null,
       "grid_template_columns": null,
       "grid_template_rows": null,
       "height": null,
       "justify_content": null,
       "justify_items": null,
       "left": null,
       "margin": null,
       "max_height": null,
       "max_width": null,
       "min_height": null,
       "min_width": null,
       "object_fit": null,
       "object_position": null,
       "order": null,
       "overflow": null,
       "padding": null,
       "right": null,
       "top": null,
       "visibility": null,
       "width": null
      }
     },
     "b786ef7303bb45e8a5526e0debb0745a": {
      "model_module": "@jupyter-widgets/controls",
      "model_module_version": "2.0.0",
      "model_name": "LinkModel",
      "state": {
       "_model_module": "@jupyter-widgets/controls",
       "_model_module_version": "2.0.0",
       "_model_name": "LinkModel",
       "_view_count": null,
       "_view_module": "@jupyter-widgets/controls",
       "_view_module_version": "2.0.0",
       "_view_name": null,
       "source": [
        "IPY_MODEL_0ac3586aec614c8bb1ebf0fd396f5500",
        "value"
       ],
       "target": [
        "IPY_MODEL_271bafa3975c4fad92c20a0ae49134fe",
        "value"
       ]
      }
     },
     "c3af32cfd8874e25bb31edf9a2072e3b": {
      "model_module": "@jupyter-widgets/controls",
      "model_module_version": "2.0.0",
      "model_name": "IntSliderModel",
      "state": {
       "_dom_classes": [],
       "_model_module": "@jupyter-widgets/controls",
       "_model_module_version": "2.0.0",
       "_model_name": "IntSliderModel",
       "_view_count": null,
       "_view_module": "@jupyter-widgets/controls",
       "_view_module_version": "2.0.0",
       "_view_name": "IntSliderView",
       "behavior": "drag-tap",
       "continuous_update": true,
       "description": "",
       "description_allow_html": false,
       "disabled": false,
       "layout": "IPY_MODEL_a4c3a149052c4703b544bbac7cae36ea",
       "max": 70,
       "min": 0,
       "orientation": "horizontal",
       "readout": true,
       "readout_format": "d",
       "step": 1,
       "style": "IPY_MODEL_6270a1e3d0cf4bb2be31abc967abaaca",
       "tabbable": null,
       "tooltip": null,
       "value": 0
      }
     },
     "c46054fece2c4e24b32be7f751f102f0": {
      "model_module": "@jupyter-widgets/controls",
      "model_module_version": "2.0.0",
      "model_name": "DescriptionStyleModel",
      "state": {
       "_model_module": "@jupyter-widgets/controls",
       "_model_module_version": "2.0.0",
       "_model_name": "DescriptionStyleModel",
       "_view_count": null,
       "_view_module": "@jupyter-widgets/base",
       "_view_module_version": "2.0.0",
       "_view_name": "StyleView",
       "description_width": ""
      }
     },
     "cfab51842fb640d7a634a68025466412": {
      "model_module": "@jupyter-widgets/base",
      "model_module_version": "2.0.0",
      "model_name": "LayoutModel",
      "state": {
       "_model_module": "@jupyter-widgets/base",
       "_model_module_version": "2.0.0",
       "_model_name": "LayoutModel",
       "_view_count": null,
       "_view_module": "@jupyter-widgets/base",
       "_view_module_version": "2.0.0",
       "_view_name": "LayoutView",
       "align_content": null,
       "align_items": null,
       "align_self": null,
       "border_bottom": null,
       "border_left": null,
       "border_right": null,
       "border_top": null,
       "bottom": null,
       "display": null,
       "flex": null,
       "flex_flow": null,
       "grid_area": null,
       "grid_auto_columns": null,
       "grid_auto_flow": null,
       "grid_auto_rows": null,
       "grid_column": null,
       "grid_gap": null,
       "grid_row": null,
       "grid_template_areas": null,
       "grid_template_columns": null,
       "grid_template_rows": null,
       "height": null,
       "justify_content": null,
       "justify_items": null,
       "left": null,
       "margin": null,
       "max_height": null,
       "max_width": null,
       "min_height": null,
       "min_width": null,
       "object_fit": null,
       "object_position": null,
       "order": null,
       "overflow": null,
       "padding": null,
       "right": null,
       "top": null,
       "visibility": null,
       "width": null
      }
     },
     "d216396a36144a26bcf1da093ecb1763": {
      "model_module": "@jupyter-widgets/base",
      "model_module_version": "2.0.0",
      "model_name": "LayoutModel",
      "state": {
       "_model_module": "@jupyter-widgets/base",
       "_model_module_version": "2.0.0",
       "_model_name": "LayoutModel",
       "_view_count": null,
       "_view_module": "@jupyter-widgets/base",
       "_view_module_version": "2.0.0",
       "_view_name": "LayoutView",
       "align_content": null,
       "align_items": null,
       "align_self": null,
       "border_bottom": null,
       "border_left": null,
       "border_right": null,
       "border_top": null,
       "bottom": null,
       "display": null,
       "flex": null,
       "flex_flow": null,
       "grid_area": null,
       "grid_auto_columns": null,
       "grid_auto_flow": null,
       "grid_auto_rows": null,
       "grid_column": null,
       "grid_gap": null,
       "grid_row": null,
       "grid_template_areas": null,
       "grid_template_columns": null,
       "grid_template_rows": null,
       "height": null,
       "justify_content": null,
       "justify_items": null,
       "left": null,
       "margin": null,
       "max_height": null,
       "max_width": null,
       "min_height": null,
       "min_width": null,
       "object_fit": null,
       "object_position": null,
       "order": null,
       "overflow": null,
       "padding": null,
       "right": null,
       "top": null,
       "visibility": null,
       "width": null
      }
     },
     "ddb7a5eb4cbe47af8dcdfc3359f0ec61": {
      "model_module": "@jupyter-widgets/controls",
      "model_module_version": "2.0.0",
      "model_name": "LinkModel",
      "state": {
       "_model_module": "@jupyter-widgets/controls",
       "_model_module_version": "2.0.0",
       "_model_name": "LinkModel",
       "_view_count": null,
       "_view_module": "@jupyter-widgets/controls",
       "_view_module_version": "2.0.0",
       "_view_name": null,
       "source": [
        "IPY_MODEL_0ac3586aec614c8bb1ebf0fd396f5500",
        "value"
       ],
       "target": [
        "IPY_MODEL_5dc717eb42ba471f9ae8d71714fd9c13",
        "frame"
       ]
      }
     },
     "e4742c927d5946579ce566c477badd4e": {
      "model_module": "@jupyter-widgets/base",
      "model_module_version": "2.0.0",
      "model_name": "LayoutModel",
      "state": {
       "_model_module": "@jupyter-widgets/base",
       "_model_module_version": "2.0.0",
       "_model_name": "LayoutModel",
       "_view_count": null,
       "_view_module": "@jupyter-widgets/base",
       "_view_module_version": "2.0.0",
       "_view_name": "LayoutView",
       "align_content": null,
       "align_items": null,
       "align_self": null,
       "border_bottom": null,
       "border_left": null,
       "border_right": null,
       "border_top": null,
       "bottom": null,
       "display": null,
       "flex": null,
       "flex_flow": null,
       "grid_area": null,
       "grid_auto_columns": null,
       "grid_auto_flow": null,
       "grid_auto_rows": null,
       "grid_column": null,
       "grid_gap": null,
       "grid_row": null,
       "grid_template_areas": null,
       "grid_template_columns": null,
       "grid_template_rows": null,
       "height": null,
       "justify_content": null,
       "justify_items": null,
       "left": null,
       "margin": null,
       "max_height": null,
       "max_width": null,
       "min_height": null,
       "min_width": null,
       "object_fit": null,
       "object_position": null,
       "order": null,
       "overflow": null,
       "padding": null,
       "right": null,
       "top": null,
       "visibility": null,
       "width": null
      }
     },
     "e57f36e778264028a82d7267563a6f1b": {
      "buffers": [
       {
        "data": "",
        "encoding": "base64",
        "path": [
         "value"
        ]
       }
      ],
      "model_module": "@jupyter-widgets/controls",
      "model_module_version": "2.0.0",
      "model_name": "ImageModel",
      "state": {
       "_dom_classes": [],
       "_model_module": "@jupyter-widgets/controls",
       "_model_module_version": "2.0.0",
       "_model_name": "ImageModel",
       "_view_count": null,
       "_view_module": "@jupyter-widgets/controls",
       "_view_module_version": "2.0.0",
       "_view_name": "ImageView",
       "format": "png",
       "height": "",
       "layout": "IPY_MODEL_715ffa4c225148e0a31832e1c7ff52b0",
       "tabbable": null,
       "tooltip": null,
       "width": "900.0"
      }
     },
     "e86e710986384ccf86a91a5dc64a94b5": {
      "model_module": "@jupyter-widgets/controls",
      "model_module_version": "2.0.0",
      "model_name": "LinkModel",
      "state": {
       "_model_module": "@jupyter-widgets/controls",
       "_model_module_version": "2.0.0",
       "_model_name": "LinkModel",
       "_view_count": null,
       "_view_module": "@jupyter-widgets/controls",
       "_view_module_version": "2.0.0",
       "_view_name": null,
       "source": [
        "IPY_MODEL_0ac3586aec614c8bb1ebf0fd396f5500",
        "max"
       ],
       "target": [
        "IPY_MODEL_5dc717eb42ba471f9ae8d71714fd9c13",
        "max_frame"
       ]
      }
     },
     "ef134f1413ad4333964d1dafcf711482": {
      "buffers": [
       {
        "data": "",
        "encoding": "base64",
        "path": [
         "value"
        ]
       }
      ],
      "model_module": "@jupyter-widgets/controls",
      "model_module_version": "2.0.0",
      "model_name": "ImageModel",
      "state": {
       "_dom_classes": [],
       "_model_module": "@jupyter-widgets/controls",
       "_model_module_version": "2.0.0",
       "_model_name": "ImageModel",
       "_view_count": null,
       "_view_module": "@jupyter-widgets/controls",
       "_view_module_version": "2.0.0",
       "_view_name": "ImageView",
       "format": "png",
       "height": "",
       "layout": "IPY_MODEL_d216396a36144a26bcf1da093ecb1763",
       "tabbable": null,
       "tooltip": null,
       "width": "900.0"
      }
     },
     "f56a4185cd5240acaca585bb39e5f6e6": {
      "model_module": "@jupyter-widgets/controls",
      "model_module_version": "2.0.0",
      "model_name": "ButtonModel",
      "state": {
       "_dom_classes": [],
       "_model_module": "@jupyter-widgets/controls",
       "_model_module_version": "2.0.0",
       "_model_name": "ButtonModel",
       "_view_count": null,
       "_view_module": "@jupyter-widgets/controls",
       "_view_module_version": "2.0.0",
       "_view_name": "ButtonView",
       "button_style": "",
       "description": "",
       "disabled": false,
       "icon": "compress",
       "layout": "IPY_MODEL_7715fce7ed5d4027b632b9886132e676",
       "style": "IPY_MODEL_49e5961a955b46079fd42cccfddd6235",
       "tabbable": null,
       "tooltip": null
      }
     },
     "fd598bdf07394f039ff0eff4607c33d1": {
      "model_module": "@jupyter-widgets/base",
      "model_module_version": "2.0.0",
      "model_name": "LayoutModel",
      "state": {
       "_model_module": "@jupyter-widgets/base",
       "_model_module_version": "2.0.0",
       "_model_name": "LayoutModel",
       "_view_count": null,
       "_view_module": "@jupyter-widgets/base",
       "_view_module_version": "2.0.0",
       "_view_name": "LayoutView",
       "align_content": null,
       "align_items": null,
       "align_self": null,
       "border_bottom": null,
       "border_left": null,
       "border_right": null,
       "border_top": null,
       "bottom": null,
       "display": null,
       "flex": null,
       "flex_flow": null,
       "grid_area": null,
       "grid_auto_columns": null,
       "grid_auto_flow": null,
       "grid_auto_rows": null,
       "grid_column": null,
       "grid_gap": null,
       "grid_row": null,
       "grid_template_areas": null,
       "grid_template_columns": null,
       "grid_template_rows": null,
       "height": null,
       "justify_content": null,
       "justify_items": null,
       "left": null,
       "margin": null,
       "max_height": null,
       "max_width": null,
       "min_height": null,
       "min_width": null,
       "object_fit": null,
       "object_position": null,
       "order": null,
       "overflow": null,
       "padding": null,
       "right": null,
       "top": null,
       "visibility": null,
       "width": null
      }
     }
    },
    "version_major": 2,
    "version_minor": 0
   }
  }
 },
 "nbformat": 4,
 "nbformat_minor": 5
}
